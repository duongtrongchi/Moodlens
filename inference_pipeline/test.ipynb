{
 "cells": [
  {
   "cell_type": "code",
   "execution_count": 1,
   "metadata": {},
   "outputs": [],
   "source": [
    "# from pandas import DataFrame\n",
    "# from bertopic import BERTopic\n",
    "# from inference_pipeline.services.utils import read_data_from_file, delete_none_docs, df_to_dict\n",
    "\n",
    "from inference_pipeline.config.core import config"
   ]
  },
  {
   "cell_type": "code",
   "execution_count": 3,
   "metadata": {},
   "outputs": [
    {
     "data": {
      "text/plain": [
       "str"
      ]
     },
     "execution_count": 3,
     "metadata": {},
     "output_type": "execute_result"
    }
   ],
   "source": [
    "MODEL_PATH = config.topic_model_config.trained_path\n",
    "type(MODEL_PATH)"
   ]
  },
  {
   "cell_type": "code",
   "execution_count": 3,
   "metadata": {},
   "outputs": [
    {
     "data": {
      "text/plain": [
       "{'-1_work_good_job_company': 122,\n",
       " '0_dislike_like_na_ok': 73,\n",
       " '1_culture_good_team_company': 50,\n",
       " '2_bajaj_electricals_electrical_good': 47,\n",
       " '3_salary_time_benefits_timing': 41,\n",
       " '4_work_balance_life_pressure': 41,\n",
       " '5_management_staff_term_long': 29,\n",
       " '6_appraisal_promotion_appraisals_incentives': 27,\n",
       " '7_company_good_best_companies': 24,\n",
       " '8_hr_policy_policies_employee': 22,\n",
       " '9_place_work_location_good': 12,\n",
       " '10_politics_ceos_favourism_drinkers': 12}"
      ]
     },
     "execution_count": 3,
     "metadata": {},
     "output_type": "execute_result"
    }
   ],
   "source": [
    "MODEL_PATH = config.topic_model_config.trained_path\n",
    "model = BERTopic.load(MODEL_PATH)\n",
    "\n",
    "def predict_topic(df: DataFrame):\n",
    "    docs = df.text.to_list()\n",
    "    docs = delete_none_docs(docs)[:500]\n",
    "\n",
    "    topics, probabilities = model.fit_transform(docs)\n",
    "    df = model.get_topic_info()\n",
    "\n",
    "    temp_df = df.copy()\n",
    "    results = df_to_dict(temp_df, \"Name\", \"Count\")\n",
    "\n",
    "    return results\n",
    "\n",
    "df = read_data_from_file()\n",
    "data = predict_topic(df)\n",
    "data"
   ]
  }
 ],
 "metadata": {
  "kernelspec": {
   "display_name": "ml",
   "language": "python",
   "name": "python3"
  },
  "language_info": {
   "codemirror_mode": {
    "name": "ipython",
    "version": 3
   },
   "file_extension": ".py",
   "mimetype": "text/x-python",
   "name": "python",
   "nbconvert_exporter": "python",
   "pygments_lexer": "ipython3",
   "version": "3.8.18"
  }
 },
 "nbformat": 4,
 "nbformat_minor": 2
}
