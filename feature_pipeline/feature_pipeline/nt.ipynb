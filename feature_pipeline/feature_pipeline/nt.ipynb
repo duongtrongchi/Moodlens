{
 "cells": [
  {
   "cell_type": "code",
   "execution_count": null,
   "metadata": {},
   "outputs": [],
   "source": [
    "import pandas as pd\n",
    "\n",
    "df = pd.read_parquet('/teamspace/studios/this_studio/nlp-hr-feedback/feature_pipeline/feature_pipeline/datasets/datasource.parquet')\n",
    "df.head()"
   ]
  },
  {
   "cell_type": "code",
   "execution_count": null,
   "metadata": {},
   "outputs": [],
   "source": [
    "df.info()"
   ]
  },
  {
   "cell_type": "code",
   "execution_count": null,
   "metadata": {},
   "outputs": [],
   "source": [
    "# Group 1: Job Details\n",
    "job_details_df = df[['Title', 'Place', 'Job_type', 'Department']]\n",
    "# Group 2: Job Evaluation Metrics\n",
    "job_evaluation_df = df[['Overall_rating', 'work_satisfaction', 'Likes', 'Dislikes']]\n",
    "# Group 3: Work-Life Considerations\n",
    "work_life_df = df[['work_life_balance', 'career_growth']]\n",
    "# Group 4: Skill and Financial Aspects\n",
    "financial_aspects_df = df[['skill_development', 'salary_and_benefits', 'job_security']]\n"
   ]
  },
  {
   "cell_type": "code",
   "execution_count": null,
   "metadata": {},
   "outputs": [],
   "source": [
    "# Creating timestamps for the data\n",
    "timestamps = pd.date_range(\n",
    "    end=pd.Timestamp.now(), \n",
    "    periods=len(df), \n",
    "    freq='D').to_frame(name=\"event_timestamp\", index=False)"
   ]
  },
  {
   "cell_type": "code",
   "execution_count": null,
   "metadata": {},
   "outputs": [],
   "source": [
    "# Adding the timestamp column to each DataFrame\n",
    "job_details_df = pd.concat(objs=[job_details_df, timestamps], axis=1)\n",
    "job_evaluation_df = pd.concat(objs=[job_evaluation_df, timestamps], axis=1)\n",
    "work_life_df = pd.concat(objs=[work_life_df, timestamps], axis=1)\n",
    "financial_aspects_df = pd.concat(objs=[financial_aspects_df, timestamps], axis=1)"
   ]
  },
  {
   "cell_type": "code",
   "execution_count": null,
   "metadata": {},
   "outputs": [],
   "source": [
    "patient_ids = pd.DataFrame(data=list(range(len(df))), columns=[\"id\"])\n",
    "\n",
    "job_details_df = pd.concat(objs=[job_details_df, patient_ids], axis=1)\n",
    "job_evaluation_df = pd.concat(objs=[job_evaluation_df, patient_ids], axis=1)\n",
    "work_life_df = pd.concat(objs=[work_life_df, patient_ids], axis=1)\n",
    "financial_aspects_df = pd.concat(objs=[financial_aspects_df, patient_ids], axis=1)"
   ]
  },
  {
   "cell_type": "code",
   "execution_count": null,
   "metadata": {},
   "outputs": [],
   "source": [
    "job_details_df.head()"
   ]
  },
  {
   "cell_type": "code",
   "execution_count": null,
   "metadata": {},
   "outputs": [],
   "source": [
    "data_path = \"/teamspace/studios/this_studio/nlp-hr-feedback/feature_pipeline/feature_pipeline/data_store/feature_repo/data\"\n",
    "job_details_df.to_parquet(path=f\"{data_path}/job_details.parquet\")\n",
    "job_evaluation_df.to_parquet(path=f\"{data_path}/job_evaluation.parquet\")\n",
    "work_life_df.to_parquet(path=f\"{data_path}/work_life.parquet\")\n",
    "financial_aspects_df.to_parquet(path=f\"{data_path}/financial_aspects.parquet\")"
   ]
  },
  {
   "cell_type": "code",
   "execution_count": null,
   "metadata": {},
   "outputs": [],
   "source": [
    "job_details_df.info()"
   ]
  },
  {
   "cell_type": "code",
   "execution_count": null,
   "metadata": {},
   "outputs": [],
   "source": [
    "job_evaluation_df.info()"
   ]
  },
  {
   "cell_type": "code",
   "execution_count": null,
   "metadata": {},
   "outputs": [],
   "source": [
    "work_life_df.info()"
   ]
  },
  {
   "cell_type": "code",
   "execution_count": null,
   "metadata": {},
   "outputs": [],
   "source": [
    "financial_aspects_df.info()"
   ]
  },
  {
   "cell_type": "markdown",
   "metadata": {},
   "source": [
    "# API"
   ]
  },
  {
   "cell_type": "code",
   "execution_count": null,
   "metadata": {},
   "outputs": [],
   "source": [
    "import pandas as pd\n",
    "from feast import FeatureStore\n",
    "\n",
    "# Initialize FeatureStore\n",
    "store = FeatureStore(repo_path=\"/teamspace/studios/this_studio/nlp-hr-feedback/feature_pipeline/feature_pipeline/data_store/feature_repo\")\n",
    "\n",
    "def load_data():\n",
    "    \"\"\"\n",
    "    Load the necessary columns from the Parquet file to reduce memory usage.\n",
    "    \"\"\"\n",
    "    # Specify only the required columns for your analysis\n",
    "    columns_to_load = [\"Title\", \"Place\", \"Job_type\"]\n",
    "    entity_df = pd.read_parquet(\n",
    "        path=\"/teamspace/studios/this_studio/nlp-hr-feedback/feature_pipeline/feature_pipeline/data_store/feature_repo/data/financial_aspects.parquet\",\n",
    "        # columns=\"event_timestamp\"\n",
    "    )\n",
    "    return entity_df\n",
    "\n",
    "def get_data(entity_df):\n",
    "    \"\"\"\n",
    "    Fetch historical features using Feast and return them as a DataFrame.\n",
    "    \"\"\"\n",
    "    training_data = store.get_historical_features(\n",
    "        entity_df=entity_df,\n",
    "        features=[\n",
    "            \"job_details:Title\",\n",
    "            \"job_details:Place\",\n",
    "            \"job_details:Job_type\",\n",
    "        ]\n",
    "    )\n",
    "\n",
    "    df = training_data.to_df()\n",
    "    return df\n",
    "\n",
    "def display_first_100_rows(dataframe):\n",
    "    \"\"\"\n",
    "    Display the first 100 rows of the DataFrame.\n",
    "    \"\"\"\n",
    "    print(dataframe.head(100))\n",
    "\n",
    "# Load data efficiently\n",
    "entity_df = load_data()\n",
    "\n",
    "# Get the data\n",
    "data = get_data(entity_df)\n",
    "\n",
    "# Display the first 100 rows\n",
    "display_first_100_rows(data)\n"
   ]
  },
  {
   "cell_type": "code",
   "execution_count": 8,
   "metadata": {},
   "outputs": [
    {
     "name": "stderr",
     "output_type": "stream",
     "text": [
      "WARNING:root:_list_feature_views will make breaking changes. Please use _list_batch_feature_views instead. _list_feature_views will behave like _list_all_feature_views in the future.\n"
     ]
    },
    {
     "data": {
      "text/html": [
       "<div>\n",
       "<style scoped>\n",
       "    .dataframe tbody tr th:only-of-type {\n",
       "        vertical-align: middle;\n",
       "    }\n",
       "\n",
       "    .dataframe tbody tr th {\n",
       "        vertical-align: top;\n",
       "    }\n",
       "\n",
       "    .dataframe thead th {\n",
       "        text-align: right;\n",
       "    }\n",
       "</style>\n",
       "<table border=\"1\" class=\"dataframe\">\n",
       "  <thead>\n",
       "    <tr style=\"text-align: right;\">\n",
       "      <th></th>\n",
       "      <th>event_timestamp</th>\n",
       "      <th>id</th>\n",
       "      <th>Overall_rating</th>\n",
       "      <th>work_satisfaction</th>\n",
       "      <th>Likes</th>\n",
       "      <th>Dislikes</th>\n",
       "      <th>skill_development</th>\n",
       "      <th>salary_and_benefits</th>\n",
       "      <th>job_security</th>\n",
       "    </tr>\n",
       "  </thead>\n",
       "  <tbody>\n",
       "    <tr>\n",
       "      <th>0</th>\n",
       "      <td>1959-07-17 15:50:40.751697+00:00</td>\n",
       "      <td>0.0</td>\n",
       "      <td>1.0</td>\n",
       "      <td>1.0</td>\n",
       "      <td>Only skill development is good.</td>\n",
       "      <td>working culture,behavior, work life balance,jo...</td>\n",
       "      <td>5.0</td>\n",
       "      <td>5.0</td>\n",
       "      <td>1.0</td>\n",
       "    </tr>\n",
       "    <tr>\n",
       "      <th>1</th>\n",
       "      <td>1959-07-18 15:50:40.751697+00:00</td>\n",
       "      <td>1.0</td>\n",
       "      <td>1.0</td>\n",
       "      <td>5.0</td>\n",
       "      <td>Nothing</td>\n",
       "      <td>Company is good but company owners are treatin...</td>\n",
       "      <td>1.0</td>\n",
       "      <td>5.0</td>\n",
       "      <td>1.0</td>\n",
       "    </tr>\n",
       "    <tr>\n",
       "      <th>2</th>\n",
       "      <td>1959-07-19 15:50:40.751697+00:00</td>\n",
       "      <td>2.0</td>\n",
       "      <td>1.0</td>\n",
       "      <td>1.0</td>\n",
       "      <td>Best company</td>\n",
       "      <td>Work life\\nNo business ethics \\nNot career ori...</td>\n",
       "      <td>1.0</td>\n",
       "      <td>5.0</td>\n",
       "      <td>3.0</td>\n",
       "    </tr>\n",
       "    <tr>\n",
       "      <th>3</th>\n",
       "      <td>1959-07-20 15:50:40.751697+00:00</td>\n",
       "      <td>3.0</td>\n",
       "      <td>4.0</td>\n",
       "      <td>3.0</td>\n",
       "      <td>Hr policy is very clear and skill oriented . N...</td>\n",
       "      <td>Reference basis appraisals done in current sce...</td>\n",
       "      <td>3.0</td>\n",
       "      <td>5.0</td>\n",
       "      <td>2.0</td>\n",
       "    </tr>\n",
       "    <tr>\n",
       "      <th>4</th>\n",
       "      <td>1959-07-21 15:50:40.751697+00:00</td>\n",
       "      <td>4.0</td>\n",
       "      <td>4.0</td>\n",
       "      <td>4.0</td>\n",
       "      <td>Culture\\nWork life balance\\nSalary and perks\\n...</td>\n",
       "      <td>Internal Politics\\nUnfair division of business...</td>\n",
       "      <td>4.0</td>\n",
       "      <td>5.0</td>\n",
       "      <td>4.0</td>\n",
       "    </tr>\n",
       "  </tbody>\n",
       "</table>\n",
       "</div>"
      ],
      "text/plain": [
       "                   event_timestamp   id  Overall_rating  work_satisfaction  \\\n",
       "0 1959-07-17 15:50:40.751697+00:00  0.0             1.0                1.0   \n",
       "1 1959-07-18 15:50:40.751697+00:00  1.0             1.0                5.0   \n",
       "2 1959-07-19 15:50:40.751697+00:00  2.0             1.0                1.0   \n",
       "3 1959-07-20 15:50:40.751697+00:00  3.0             4.0                3.0   \n",
       "4 1959-07-21 15:50:40.751697+00:00  4.0             4.0                4.0   \n",
       "\n",
       "                                               Likes  \\\n",
       "0                    Only skill development is good.   \n",
       "1                                            Nothing   \n",
       "2                                       Best company   \n",
       "3  Hr policy is very clear and skill oriented . N...   \n",
       "4  Culture\\nWork life balance\\nSalary and perks\\n...   \n",
       "\n",
       "                                            Dislikes  skill_development  \\\n",
       "0  working culture,behavior, work life balance,jo...                5.0   \n",
       "1  Company is good but company owners are treatin...                1.0   \n",
       "2  Work life\\nNo business ethics \\nNot career ori...                1.0   \n",
       "3  Reference basis appraisals done in current sce...                3.0   \n",
       "4  Internal Politics\\nUnfair division of business...                4.0   \n",
       "\n",
       "   salary_and_benefits  job_security  \n",
       "0                  5.0           1.0  \n",
       "1                  5.0           1.0  \n",
       "2                  5.0           3.0  \n",
       "3                  5.0           2.0  \n",
       "4                  5.0           4.0  "
      ]
     },
     "execution_count": 8,
     "metadata": {},
     "output_type": "execute_result"
    }
   ],
   "source": [
    "import pandas as pd\n",
    "from feast import FeatureStore\n",
    "\n",
    "\n",
    "store = FeatureStore(repo_path=\"/teamspace/studios/this_studio/nlp-hr-feedback/feature_pipeline/feature_pipeline/data_store/feature_repo\")\n",
    "\n",
    "entity_df = pd.read_parquet(path=\"/teamspace/studios/this_studio/nlp-hr-feedback/feature_pipeline/feature_pipeline/data_store/feature_repo/data/entity.parquet\")\n",
    "entity_df = entity_df.head(100)\n",
    "\n",
    "\n",
    "feature_service = store.get_feature_service(\"moodlens_features\")\n",
    "training_data = store.get_historical_features(features=feature_service, entity_df=entity_df)\n",
    "\n",
    "\n",
    "df = training_data.to_df()\n",
    "df.head()\n",
    "\n",
    "\n",
    "# def get_data():\n",
    "#     \"\"\"\n",
    "#     Fetch historical features using Feast and return them as a dictionary.\n",
    "#     \"\"\"\n",
    "#     training_data = store.get_historical_features(\n",
    "#         entity_df=entity_df,\n",
    "#         features=[\n",
    "#             \"job_details:Title\",\n",
    "#             \"job_details:Place\",\n",
    "#             \"job_details:Job_type\",\n",
    "#         ]\n",
    "#     )\n",
    "\n",
    "#     df = training_data.to_df()\n",
    "#     data = df.to_dict(orient=\"records\")  \n",
    "#     return data\n",
    "\n",
    "\n",
    "# data = get_data()\n",
    "# data"
   ]
  },
  {
   "cell_type": "code",
   "execution_count": 6,
   "metadata": {},
   "outputs": [
    {
     "data": {
      "text/html": [
       "<div>\n",
       "<style scoped>\n",
       "    .dataframe tbody tr th:only-of-type {\n",
       "        vertical-align: middle;\n",
       "    }\n",
       "\n",
       "    .dataframe tbody tr th {\n",
       "        vertical-align: top;\n",
       "    }\n",
       "\n",
       "    .dataframe thead th {\n",
       "        text-align: right;\n",
       "    }\n",
       "</style>\n",
       "<table border=\"1\" class=\"dataframe\">\n",
       "  <thead>\n",
       "    <tr style=\"text-align: right;\">\n",
       "      <th></th>\n",
       "      <th>event_timestamp</th>\n",
       "      <th>id</th>\n",
       "    </tr>\n",
       "  </thead>\n",
       "  <tbody>\n",
       "    <tr>\n",
       "      <th>0</th>\n",
       "      <td>1959-07-17 15:50:40.751697</td>\n",
       "      <td>0.0</td>\n",
       "    </tr>\n",
       "    <tr>\n",
       "      <th>1</th>\n",
       "      <td>1959-07-18 15:50:40.751697</td>\n",
       "      <td>1.0</td>\n",
       "    </tr>\n",
       "    <tr>\n",
       "      <th>2</th>\n",
       "      <td>1959-07-19 15:50:40.751697</td>\n",
       "      <td>2.0</td>\n",
       "    </tr>\n",
       "    <tr>\n",
       "      <th>3</th>\n",
       "      <td>1959-07-20 15:50:40.751697</td>\n",
       "      <td>3.0</td>\n",
       "    </tr>\n",
       "    <tr>\n",
       "      <th>4</th>\n",
       "      <td>1959-07-21 15:50:40.751697</td>\n",
       "      <td>4.0</td>\n",
       "    </tr>\n",
       "  </tbody>\n",
       "</table>\n",
       "</div>"
      ],
      "text/plain": [
       "             event_timestamp   id\n",
       "0 1959-07-17 15:50:40.751697  0.0\n",
       "1 1959-07-18 15:50:40.751697  1.0\n",
       "2 1959-07-19 15:50:40.751697  2.0\n",
       "3 1959-07-20 15:50:40.751697  3.0\n",
       "4 1959-07-21 15:50:40.751697  4.0"
      ]
     },
     "execution_count": 6,
     "metadata": {},
     "output_type": "execute_result"
    }
   ],
   "source": [
    "entity_df.head()"
   ]
  },
  {
   "cell_type": "code",
   "execution_count": 5,
   "metadata": {},
   "outputs": [],
   "source": [
    "d = data.to_df()\n",
    "d.head()"
   ]
  },
  {
   "cell_type": "code",
   "execution_count": null,
   "metadata": {},
   "outputs": [],
   "source": [
    "len(d)"
   ]
  },
  {
   "cell_type": "code",
   "execution_count": 3,
   "metadata": {},
   "outputs": [
    {
     "name": "stdout",
     "output_type": "stream",
     "text": [
      "b'loan_id, no_of_dependents, education, self_employed, income_annum, loan_amount, loan_term, cibil_score, residential_assets_value, commercial_assets_value, luxury_assets_value, bank_asset_value, loan_status'\n",
      "b'1,2, Graduate, No,9600000,29900000,12,778,2400000,17600000,22700000,8000000, Approved'\n",
      "b'2,0, Not Graduate, Yes,4100000,12200000,8,417,2700000,2200000,8800000,3300000, Rejected'\n",
      "b'3,3, Graduate, No,9100000,29700000,20,506,7100000,4500000,33300000,12800000, Rejected'\n",
      "b'4,3, Graduate, No,8200000,30700000,8,467,18200000,3300000,23300000,7900000, Rejected'\n",
      "b'5,5, Not Graduate, Yes,9800000,24200000,20,382,12400000,8200000,29400000,5000000, Rejected'\n",
      "b'6,0, Graduate, Yes,4800000,13500000,10,319,6800000,8300000,13700000,5100000, Rejected'\n",
      "b'7,5, Graduate, No,8700000,33000000,4,678,22500000,14800000,29200000,4300000, Approved'\n",
      "b'8,2, Graduate, Yes,5700000,15000000,20,382,13200000,5700000,11800000,6000000, Rejected'\n",
      "b'9,0, Graduate, Yes,800000,2200000,20,782,1300000,800000,2800000,600000, Approved'\n",
      "b'10,5, Not Graduate, No,1100000,4300000,10,388,3200000,1400000,3300000,1600000, Rejected'\n",
      "b'11,4, Graduate, Yes,2900000,11200000,2,547,8100000,4700000,9500000,3100000, Approved'\n",
      "b'12,2, Not Graduate, Yes,6700000,22700000,18,538,15300000,5800000,20400000,6400000, Rejected'\n",
      "b'13,3, Not Graduate, Yes,5000000,11600000,16,311,6400000,9600000,14600000,4300000, Rejected'\n",
      "b'14,2, Graduate, Yes,9100000,31500000,14,679,10800000,16600000,20900000,5000000, Approved'\n",
      "b'15,1, Not Graduate, No,1900000,7400000,6,469,1900000,1200000,5900000,1900000, Rejected'\n",
      "b'16,5, Not Graduate, No,4700000,10700000,10,794,5700000,3900000,16400000,4400000, Approved'\n",
      "b'17,2, Graduate, Yes,500000,1600000,4,663,1300000,100000,1300000,700000, Approved'\n"
     ]
    },
    {
     "ename": "KeyboardInterrupt",
     "evalue": "",
     "output_type": "error",
     "traceback": [
      "\u001b[0;31m---------------------------------------------------------------------------\u001b[0m",
      "\u001b[0;31mKeyboardInterrupt\u001b[0m                         Traceback (most recent call last)",
      "Cell \u001b[0;32mIn[3], line 6\u001b[0m\n\u001b[1;32m      3\u001b[0m response \u001b[38;5;241m=\u001b[39m requests\u001b[38;5;241m.\u001b[39mget(\u001b[38;5;124m'\u001b[39m\u001b[38;5;124mhttp://localhost:8888/test\u001b[39m\u001b[38;5;124m'\u001b[39m, stream\u001b[38;5;241m=\u001b[39m\u001b[38;5;28;01mTrue\u001b[39;00m)\n\u001b[1;32m      5\u001b[0m \u001b[38;5;28;01mfor\u001b[39;00m r \u001b[38;5;129;01min\u001b[39;00m response\u001b[38;5;241m.\u001b[39miter_lines():\n\u001b[0;32m----> 6\u001b[0m     \u001b[43mtime\u001b[49m\u001b[38;5;241;43m.\u001b[39;49m\u001b[43msleep\u001b[49m\u001b[43m(\u001b[49m\u001b[38;5;241;43m1\u001b[39;49m\u001b[43m)\u001b[49m\n\u001b[1;32m      7\u001b[0m     \u001b[38;5;28mprint\u001b[39m(r)\n",
      "\u001b[0;31mKeyboardInterrupt\u001b[0m: "
     ]
    }
   ],
   "source": [
    "import requests\n",
    "import time\n",
    "response = requests.get('http://localhost:8888/test', stream=True)\n",
    "\n",
    "for r in response.iter_lines():\n",
    "    time.sleep(1)\n",
    "    print(r)"
   ]
  }
 ],
 "metadata": {
  "language_info": {
   "name": "python"
  }
 },
 "nbformat": 4,
 "nbformat_minor": 2
}
