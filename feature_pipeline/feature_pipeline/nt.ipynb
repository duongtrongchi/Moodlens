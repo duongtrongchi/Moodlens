{
 "cells": [
  {
   "cell_type": "code",
   "execution_count": 1,
   "metadata": {},
   "outputs": [
    {
     "data": {
      "text/html": [
       "<div>\n",
       "<style scoped>\n",
       "    .dataframe tbody tr th:only-of-type {\n",
       "        vertical-align: middle;\n",
       "    }\n",
       "\n",
       "    .dataframe tbody tr th {\n",
       "        vertical-align: top;\n",
       "    }\n",
       "\n",
       "    .dataframe thead th {\n",
       "        text-align: right;\n",
       "    }\n",
       "</style>\n",
       "<table border=\"1\" class=\"dataframe\">\n",
       "  <thead>\n",
       "    <tr style=\"text-align: right;\">\n",
       "      <th></th>\n",
       "      <th>Title</th>\n",
       "      <th>Place</th>\n",
       "      <th>Job_type</th>\n",
       "      <th>Department</th>\n",
       "      <th>Date</th>\n",
       "      <th>Overall_rating</th>\n",
       "      <th>work_life_balance</th>\n",
       "      <th>skill_development</th>\n",
       "      <th>salary_and_benefits</th>\n",
       "      <th>job_security</th>\n",
       "      <th>career_growth</th>\n",
       "      <th>work_satisfaction</th>\n",
       "      <th>Likes</th>\n",
       "      <th>Dislikes</th>\n",
       "    </tr>\n",
       "  </thead>\n",
       "  <tbody>\n",
       "    <tr>\n",
       "      <th>0</th>\n",
       "      <td>Assistant Manager</td>\n",
       "      <td>Mumbai</td>\n",
       "      <td>Full Time</td>\n",
       "      <td>Stores &amp; Material Management Department</td>\n",
       "      <td>2 Sep 2023</td>\n",
       "      <td>1.0</td>\n",
       "      <td>1.0</td>\n",
       "      <td>5.0</td>\n",
       "      <td>5.0</td>\n",
       "      <td>1.0</td>\n",
       "      <td>2.0</td>\n",
       "      <td>1.0</td>\n",
       "      <td>Only skill development is good.</td>\n",
       "      <td>working culture,behavior, work life balance,jo...</td>\n",
       "    </tr>\n",
       "    <tr>\n",
       "      <th>1</th>\n",
       "      <td>Executive</td>\n",
       "      <td>Mumbai, Maharashtra</td>\n",
       "      <td>Full Time</td>\n",
       "      <td>Administration Department</td>\n",
       "      <td>1 Sep 2023</td>\n",
       "      <td>1.0</td>\n",
       "      <td>1.0</td>\n",
       "      <td>1.0</td>\n",
       "      <td>5.0</td>\n",
       "      <td>1.0</td>\n",
       "      <td>5.0</td>\n",
       "      <td>5.0</td>\n",
       "      <td>Nothing</td>\n",
       "      <td>Company is good but company owners are treatin...</td>\n",
       "    </tr>\n",
       "    <tr>\n",
       "      <th>2</th>\n",
       "      <td>Sales Manager</td>\n",
       "      <td>Kannur, Kerala</td>\n",
       "      <td>Full Time</td>\n",
       "      <td>Enterprise &amp; B2B Sales Department</td>\n",
       "      <td>8 Sep 2023</td>\n",
       "      <td>1.0</td>\n",
       "      <td>1.0</td>\n",
       "      <td>1.0</td>\n",
       "      <td>5.0</td>\n",
       "      <td>3.0</td>\n",
       "      <td>3.0</td>\n",
       "      <td>1.0</td>\n",
       "      <td>Best company</td>\n",
       "      <td>Work life\\nNo business ethics \\nNot career ori...</td>\n",
       "    </tr>\n",
       "    <tr>\n",
       "      <th>3</th>\n",
       "      <td>Assistant Manager , Pd,  Stores</td>\n",
       "      <td>Patna</td>\n",
       "      <td>Full Time</td>\n",
       "      <td>Power Supply and Distribution Department</td>\n",
       "      <td>1 Sep 2023</td>\n",
       "      <td>4.0</td>\n",
       "      <td>4.0</td>\n",
       "      <td>3.0</td>\n",
       "      <td>5.0</td>\n",
       "      <td>2.0</td>\n",
       "      <td>4.0</td>\n",
       "      <td>3.0</td>\n",
       "      <td>Hr policy is very clear and skill oriented . N...</td>\n",
       "      <td>Reference basis appraisals done in current sce...</td>\n",
       "    </tr>\n",
       "    <tr>\n",
       "      <th>4</th>\n",
       "      <td>Regional Sales Manager</td>\n",
       "      <td>Kolkata, West Bengal</td>\n",
       "      <td>Full Time</td>\n",
       "      <td>Retail &amp; B2C Sales Department</td>\n",
       "      <td>6 Aug 2023</td>\n",
       "      <td>4.0</td>\n",
       "      <td>4.0</td>\n",
       "      <td>4.0</td>\n",
       "      <td>5.0</td>\n",
       "      <td>4.0</td>\n",
       "      <td>5.0</td>\n",
       "      <td>4.0</td>\n",
       "      <td>Culture\\nWork life balance\\nSalary and perks\\n...</td>\n",
       "      <td>Internal Politics\\nUnfair division of business...</td>\n",
       "    </tr>\n",
       "  </tbody>\n",
       "</table>\n",
       "</div>"
      ],
      "text/plain": [
       "                             Title  ...                                           Dislikes\n",
       "0                Assistant Manager  ...  working culture,behavior, work life balance,jo...\n",
       "1                        Executive  ...  Company is good but company owners are treatin...\n",
       "2                    Sales Manager  ...  Work life\\nNo business ethics \\nNot career ori...\n",
       "3  Assistant Manager , Pd,  Stores  ...  Reference basis appraisals done in current sce...\n",
       "4           Regional Sales Manager  ...  Internal Politics\\nUnfair division of business...\n",
       "\n",
       "[5 rows x 14 columns]"
      ]
     },
     "execution_count": 1,
     "metadata": {},
     "output_type": "execute_result"
    }
   ],
   "source": [
    "import pandas as pd\n",
    "\n",
    "df = pd.read_parquet('/teamspace/studios/this_studio/nlp-hr-feedback/feature_pipeline/feature_pipeline/datasource.parquet')\n",
    "df.head()"
   ]
  },
  {
   "cell_type": "code",
   "execution_count": 2,
   "metadata": {},
   "outputs": [
    {
     "name": "stdout",
     "output_type": "stream",
     "text": [
      "<class 'pandas.core.frame.DataFrame'>\n",
      "Index: 23818 entries, 0 to 86096\n",
      "Data columns (total 14 columns):\n",
      " #   Column               Non-Null Count  Dtype  \n",
      "---  ------               --------------  -----  \n",
      " 0   Title                23818 non-null  object \n",
      " 1   Place                23818 non-null  object \n",
      " 2   Job_type             23818 non-null  object \n",
      " 3   Department           23818 non-null  object \n",
      " 4   Date                 23818 non-null  object \n",
      " 5   Overall_rating       23818 non-null  float64\n",
      " 6   work_life_balance    23818 non-null  float64\n",
      " 7   skill_development    23818 non-null  float64\n",
      " 8   salary_and_benefits  23818 non-null  float64\n",
      " 9   job_security         23818 non-null  float64\n",
      " 10  career_growth        23818 non-null  float64\n",
      " 11  work_satisfaction    23818 non-null  float64\n",
      " 12  Likes                23818 non-null  object \n",
      " 13  Dislikes             23818 non-null  object \n",
      "dtypes: float64(7), object(7)\n",
      "memory usage: 2.7+ MB\n"
     ]
    }
   ],
   "source": [
    "df.info()"
   ]
  },
  {
   "cell_type": "code",
   "execution_count": 3,
   "metadata": {},
   "outputs": [],
   "source": [
    "# Group 1: Job Details\n",
    "job_details_df = df[['Title', 'Place', 'Job_type', 'Department']]\n",
    "# Group 2: Job Evaluation Metrics\n",
    "job_evaluation_df = df[['Overall_rating', 'work_satisfaction', 'Likes', 'Dislikes']]\n",
    "# Group 3: Work-Life Considerations\n",
    "work_life_df = df[['work_life_balance', 'career_growth']]\n",
    "# Group 4: Skill and Financial Aspects\n",
    "financial_aspects_df = df[['skill_development', 'salary_and_benefits', 'job_security']]\n"
   ]
  },
  {
   "cell_type": "code",
   "execution_count": 4,
   "metadata": {},
   "outputs": [],
   "source": [
    "# Creating timestamps for the data\n",
    "timestamps = pd.date_range(\n",
    "    end=pd.Timestamp.now(), \n",
    "    periods=len(df), \n",
    "    freq='D').to_frame(name=\"event_timestamp\", index=False)"
   ]
  },
  {
   "cell_type": "code",
   "execution_count": 5,
   "metadata": {},
   "outputs": [],
   "source": [
    "# Adding the timestamp column to each DataFrame\n",
    "job_details_df = pd.concat(objs=[job_details_df, timestamps], axis=1)\n",
    "job_evaluation_df = pd.concat(objs=[job_evaluation_df, timestamps], axis=1)\n",
    "work_life_df = pd.concat(objs=[work_life_df, timestamps], axis=1)\n",
    "financial_aspects_df = pd.concat(objs=[financial_aspects_df, timestamps], axis=1)"
   ]
  },
  {
   "cell_type": "code",
   "execution_count": 6,
   "metadata": {},
   "outputs": [],
   "source": [
    "patient_ids = pd.DataFrame(data=list(range(len(df))), columns=[\"id\"])\n",
    "\n",
    "job_details_df = pd.concat(objs=[job_details_df, patient_ids], axis=1)\n",
    "job_evaluation_df = pd.concat(objs=[job_evaluation_df, patient_ids], axis=1)\n",
    "work_life_df = pd.concat(objs=[work_life_df, patient_ids], axis=1)\n",
    "financial_aspects_df = pd.concat(objs=[financial_aspects_df, patient_ids], axis=1)"
   ]
  },
  {
   "cell_type": "code",
   "execution_count": 7,
   "metadata": {},
   "outputs": [
    {
     "data": {
      "text/html": [
       "<div>\n",
       "<style scoped>\n",
       "    .dataframe tbody tr th:only-of-type {\n",
       "        vertical-align: middle;\n",
       "    }\n",
       "\n",
       "    .dataframe tbody tr th {\n",
       "        vertical-align: top;\n",
       "    }\n",
       "\n",
       "    .dataframe thead th {\n",
       "        text-align: right;\n",
       "    }\n",
       "</style>\n",
       "<table border=\"1\" class=\"dataframe\">\n",
       "  <thead>\n",
       "    <tr style=\"text-align: right;\">\n",
       "      <th></th>\n",
       "      <th>Title</th>\n",
       "      <th>Place</th>\n",
       "      <th>Job_type</th>\n",
       "      <th>Department</th>\n",
       "      <th>event_timestamp</th>\n",
       "      <th>id</th>\n",
       "    </tr>\n",
       "  </thead>\n",
       "  <tbody>\n",
       "    <tr>\n",
       "      <th>0</th>\n",
       "      <td>Assistant Manager</td>\n",
       "      <td>Mumbai</td>\n",
       "      <td>Full Time</td>\n",
       "      <td>Stores &amp; Material Management Department</td>\n",
       "      <td>1959-07-17 15:50:40.751697</td>\n",
       "      <td>0.0</td>\n",
       "    </tr>\n",
       "    <tr>\n",
       "      <th>1</th>\n",
       "      <td>Executive</td>\n",
       "      <td>Mumbai, Maharashtra</td>\n",
       "      <td>Full Time</td>\n",
       "      <td>Administration Department</td>\n",
       "      <td>1959-07-18 15:50:40.751697</td>\n",
       "      <td>1.0</td>\n",
       "    </tr>\n",
       "    <tr>\n",
       "      <th>2</th>\n",
       "      <td>Sales Manager</td>\n",
       "      <td>Kannur, Kerala</td>\n",
       "      <td>Full Time</td>\n",
       "      <td>Enterprise &amp; B2B Sales Department</td>\n",
       "      <td>1959-07-19 15:50:40.751697</td>\n",
       "      <td>2.0</td>\n",
       "    </tr>\n",
       "    <tr>\n",
       "      <th>3</th>\n",
       "      <td>Assistant Manager , Pd,  Stores</td>\n",
       "      <td>Patna</td>\n",
       "      <td>Full Time</td>\n",
       "      <td>Power Supply and Distribution Department</td>\n",
       "      <td>1959-07-20 15:50:40.751697</td>\n",
       "      <td>3.0</td>\n",
       "    </tr>\n",
       "    <tr>\n",
       "      <th>4</th>\n",
       "      <td>Regional Sales Manager</td>\n",
       "      <td>Kolkata, West Bengal</td>\n",
       "      <td>Full Time</td>\n",
       "      <td>Retail &amp; B2C Sales Department</td>\n",
       "      <td>1959-07-21 15:50:40.751697</td>\n",
       "      <td>4.0</td>\n",
       "    </tr>\n",
       "  </tbody>\n",
       "</table>\n",
       "</div>"
      ],
      "text/plain": [
       "                             Title  ...   id\n",
       "0                Assistant Manager  ...  0.0\n",
       "1                        Executive  ...  1.0\n",
       "2                    Sales Manager  ...  2.0\n",
       "3  Assistant Manager , Pd,  Stores  ...  3.0\n",
       "4           Regional Sales Manager  ...  4.0\n",
       "\n",
       "[5 rows x 6 columns]"
      ]
     },
     "execution_count": 7,
     "metadata": {},
     "output_type": "execute_result"
    }
   ],
   "source": [
    "job_details_df.head()"
   ]
  },
  {
   "cell_type": "code",
   "execution_count": 9,
   "metadata": {},
   "outputs": [],
   "source": [
    "data_path = \"/teamspace/studios/this_studio/nlp-hr-feedback/feature_pipeline/feature_pipeline/data_store/feature_repo/data\"\n",
    "job_details_df.to_parquet(path=f\"{data_path}/job_details.parquet\")\n",
    "job_evaluation_df.to_parquet(path=f\"{data_path}/job_evaluation.parquet\")\n",
    "work_life_df.to_parquet(path=f\"{data_path}/work_life.parquet\")\n",
    "financial_aspects_df.to_parquet(path=f\"{data_path}/financial_aspects.parquet\")"
   ]
  },
  {
   "cell_type": "code",
   "execution_count": 10,
   "metadata": {},
   "outputs": [
    {
     "name": "stdout",
     "output_type": "stream",
     "text": [
      "<class 'pandas.core.frame.DataFrame'>\n",
      "Index: 36889 entries, 0 to 23816\n",
      "Data columns (total 6 columns):\n",
      " #   Column           Non-Null Count  Dtype         \n",
      "---  ------           --------------  -----         \n",
      " 0   Title            23818 non-null  object        \n",
      " 1   Place            23818 non-null  object        \n",
      " 2   Job_type         23818 non-null  object        \n",
      " 3   Department       23818 non-null  object        \n",
      " 4   event_timestamp  23818 non-null  datetime64[ns]\n",
      " 5   id               23818 non-null  float64       \n",
      "dtypes: datetime64[ns](1), float64(1), object(4)\n",
      "memory usage: 2.0+ MB\n"
     ]
    }
   ],
   "source": [
    "job_details_df.info()"
   ]
  },
  {
   "cell_type": "code",
   "execution_count": 11,
   "metadata": {},
   "outputs": [
    {
     "name": "stdout",
     "output_type": "stream",
     "text": [
      "<class 'pandas.core.frame.DataFrame'>\n",
      "Index: 36889 entries, 0 to 23816\n",
      "Data columns (total 6 columns):\n",
      " #   Column             Non-Null Count  Dtype         \n",
      "---  ------             --------------  -----         \n",
      " 0   Overall_rating     23818 non-null  float64       \n",
      " 1   work_satisfaction  23818 non-null  float64       \n",
      " 2   Likes              23818 non-null  object        \n",
      " 3   Dislikes           23818 non-null  object        \n",
      " 4   event_timestamp    23818 non-null  datetime64[ns]\n",
      " 5   id                 23818 non-null  float64       \n",
      "dtypes: datetime64[ns](1), float64(3), object(2)\n",
      "memory usage: 2.0+ MB\n"
     ]
    }
   ],
   "source": [
    "job_evaluation_df.info()"
   ]
  },
  {
   "cell_type": "code",
   "execution_count": 12,
   "metadata": {},
   "outputs": [
    {
     "name": "stdout",
     "output_type": "stream",
     "text": [
      "<class 'pandas.core.frame.DataFrame'>\n",
      "Index: 36889 entries, 0 to 23816\n",
      "Data columns (total 4 columns):\n",
      " #   Column             Non-Null Count  Dtype         \n",
      "---  ------             --------------  -----         \n",
      " 0   work_life_balance  23818 non-null  float64       \n",
      " 1   career_growth      23818 non-null  float64       \n",
      " 2   event_timestamp    23818 non-null  datetime64[ns]\n",
      " 3   id                 23818 non-null  float64       \n",
      "dtypes: datetime64[ns](1), float64(3)\n",
      "memory usage: 1.4 MB\n"
     ]
    }
   ],
   "source": [
    "work_life_df.info()"
   ]
  },
  {
   "cell_type": "code",
   "execution_count": 13,
   "metadata": {},
   "outputs": [
    {
     "name": "stdout",
     "output_type": "stream",
     "text": [
      "<class 'pandas.core.frame.DataFrame'>\n",
      "Index: 36889 entries, 0 to 23816\n",
      "Data columns (total 5 columns):\n",
      " #   Column               Non-Null Count  Dtype         \n",
      "---  ------               --------------  -----         \n",
      " 0   skill_development    23818 non-null  float64       \n",
      " 1   salary_and_benefits  23818 non-null  float64       \n",
      " 2   job_security         23818 non-null  float64       \n",
      " 3   event_timestamp      23818 non-null  datetime64[ns]\n",
      " 4   id                   23818 non-null  float64       \n",
      "dtypes: datetime64[ns](1), float64(4)\n",
      "memory usage: 1.7 MB\n"
     ]
    }
   ],
   "source": [
    "financial_aspects_df.info()"
   ]
  }
 ],
 "metadata": {
  "language_info": {
   "name": "python"
  }
 },
 "nbformat": 4,
 "nbformat_minor": 2
}
