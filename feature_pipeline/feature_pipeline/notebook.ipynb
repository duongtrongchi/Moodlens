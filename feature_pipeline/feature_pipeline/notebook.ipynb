{
 "cells": [
  {
   "cell_type": "code",
   "execution_count": 18,
   "metadata": {},
   "outputs": [
    {
     "data": {
      "text/html": [
       "<div>\n",
       "<style scoped>\n",
       "    .dataframe tbody tr th:only-of-type {\n",
       "        vertical-align: middle;\n",
       "    }\n",
       "\n",
       "    .dataframe tbody tr th {\n",
       "        vertical-align: top;\n",
       "    }\n",
       "\n",
       "    .dataframe thead th {\n",
       "        text-align: right;\n",
       "    }\n",
       "</style>\n",
       "<table border=\"1\" class=\"dataframe\">\n",
       "  <thead>\n",
       "    <tr style=\"text-align: right;\">\n",
       "      <th></th>\n",
       "      <th>Name</th>\n",
       "      <th>Place</th>\n",
       "      <th>Job_type</th>\n",
       "      <th>Department</th>\n",
       "      <th>Date</th>\n",
       "      <th>Overall_rating</th>\n",
       "      <th>work_life_balance</th>\n",
       "      <th>skill_development</th>\n",
       "      <th>salary_and_benefits</th>\n",
       "      <th>job_security</th>\n",
       "      <th>career_growth</th>\n",
       "      <th>work_satisfaction</th>\n",
       "      <th>Likes</th>\n",
       "      <th>Dislikes</th>\n",
       "    </tr>\n",
       "  </thead>\n",
       "  <tbody>\n",
       "    <tr>\n",
       "      <th>0</th>\n",
       "      <td>Software Development Engineer</td>\n",
       "      <td>Hyderabad/Secunderabad</td>\n",
       "      <td>Full Time</td>\n",
       "      <td>Software Development Department</td>\n",
       "      <td>8 Aug 2023</td>\n",
       "      <td>2.0</td>\n",
       "      <td>1.0</td>\n",
       "      <td>2.0</td>\n",
       "      <td>5.0</td>\n",
       "      <td>1.0</td>\n",
       "      <td>3.0</td>\n",
       "      <td>3.0</td>\n",
       "      <td>The office is great and you have best in indus...</td>\n",
       "      <td>Worst work life balance.\\nThe managers have to...</td>\n",
       "    </tr>\n",
       "    <tr>\n",
       "      <th>1</th>\n",
       "      <td>Dls Case Specialist II HR Assistant</td>\n",
       "      <td>Hyderabad/Secunderabad</td>\n",
       "      <td>Full Time</td>\n",
       "      <td>HR Operations Department</td>\n",
       "      <td>8 Aug 2023</td>\n",
       "      <td>1.0</td>\n",
       "      <td>5.0</td>\n",
       "      <td>1.0</td>\n",
       "      <td>3.0</td>\n",
       "      <td>1.0</td>\n",
       "      <td>2.0</td>\n",
       "      <td>1.0</td>\n",
       "      <td>Good work life balance and team building exerc...</td>\n",
       "      <td>No job security. They will cut you out any-day...</td>\n",
       "    </tr>\n",
       "    <tr>\n",
       "      <th>2</th>\n",
       "      <td>Customer Support Associate   (working remotely)</td>\n",
       "      <td>NaN</td>\n",
       "      <td>Full Time</td>\n",
       "      <td>Customer Success Department</td>\n",
       "      <td>8 Aug 2023</td>\n",
       "      <td>1.0</td>\n",
       "      <td>2.0</td>\n",
       "      <td>1.0</td>\n",
       "      <td>2.0</td>\n",
       "      <td>1.0</td>\n",
       "      <td>2.0</td>\n",
       "      <td>3.0</td>\n",
       "      <td>good about this company, provides virtual roles</td>\n",
       "      <td>this company is really bad , no job security ,...</td>\n",
       "    </tr>\n",
       "    <tr>\n",
       "      <th>3</th>\n",
       "      <td>Sds Associate   (working remotely)</td>\n",
       "      <td>NaN</td>\n",
       "      <td>Full Time</td>\n",
       "      <td>Non Voice Department</td>\n",
       "      <td>7 Aug 2023</td>\n",
       "      <td>2.0</td>\n",
       "      <td>3.0</td>\n",
       "      <td>2.0</td>\n",
       "      <td>2.0</td>\n",
       "      <td>2.0</td>\n",
       "      <td>2.0</td>\n",
       "      <td>2.0</td>\n",
       "      <td>Leaves are there but more than policy it will ...</td>\n",
       "      <td>To be honest there are Many consumer team but ...</td>\n",
       "    </tr>\n",
       "    <tr>\n",
       "      <th>4</th>\n",
       "      <td>Software Developer</td>\n",
       "      <td>Bengaluru/Bangalore, Karnataka</td>\n",
       "      <td>Full Time</td>\n",
       "      <td>Software Development Department</td>\n",
       "      <td>7 Aug 2023</td>\n",
       "      <td>4.0</td>\n",
       "      <td>3.0</td>\n",
       "      <td>4.0</td>\n",
       "      <td>5.0</td>\n",
       "      <td>3.0</td>\n",
       "      <td>4.0</td>\n",
       "      <td>3.0</td>\n",
       "      <td>Amazon has high standard when it comes to runn...</td>\n",
       "      <td>Management layer has lot of redundancies.</td>\n",
       "    </tr>\n",
       "  </tbody>\n",
       "</table>\n",
       "</div>"
      ],
      "text/plain": [
       "                                              Name  \\\n",
       "0                    Software Development Engineer   \n",
       "1              Dls Case Specialist II HR Assistant   \n",
       "2  Customer Support Associate   (working remotely)   \n",
       "3               Sds Associate   (working remotely)   \n",
       "4                               Software Developer   \n",
       "\n",
       "                            Place   Job_type                       Department  \\\n",
       "0          Hyderabad/Secunderabad  Full Time  Software Development Department   \n",
       "1          Hyderabad/Secunderabad  Full Time         HR Operations Department   \n",
       "2                             NaN  Full Time      Customer Success Department   \n",
       "3                             NaN  Full Time             Non Voice Department   \n",
       "4  Bengaluru/Bangalore, Karnataka  Full Time  Software Development Department   \n",
       "\n",
       "         Date  Overall_rating  work_life_balance  skill_development  \\\n",
       "0  8 Aug 2023             2.0                1.0                2.0   \n",
       "1  8 Aug 2023             1.0                5.0                1.0   \n",
       "2  8 Aug 2023             1.0                2.0                1.0   \n",
       "3  7 Aug 2023             2.0                3.0                2.0   \n",
       "4  7 Aug 2023             4.0                3.0                4.0   \n",
       "\n",
       "   salary_and_benefits  job_security  career_growth  work_satisfaction  \\\n",
       "0                  5.0           1.0            3.0                3.0   \n",
       "1                  3.0           1.0            2.0                1.0   \n",
       "2                  2.0           1.0            2.0                3.0   \n",
       "3                  2.0           2.0            2.0                2.0   \n",
       "4                  5.0           3.0            4.0                3.0   \n",
       "\n",
       "                                               Likes  \\\n",
       "0  The office is great and you have best in indus...   \n",
       "1  Good work life balance and team building exerc...   \n",
       "2    good about this company, provides virtual roles   \n",
       "3  Leaves are there but more than policy it will ...   \n",
       "4  Amazon has high standard when it comes to runn...   \n",
       "\n",
       "                                            Dislikes  \n",
       "0  Worst work life balance.\\nThe managers have to...  \n",
       "1  No job security. They will cut you out any-day...  \n",
       "2  this company is really bad , no job security ,...  \n",
       "3  To be honest there are Many consumer team but ...  \n",
       "4          Management layer has lot of redundancies.  "
      ]
     },
     "execution_count": 18,
     "metadata": {},
     "output_type": "execute_result"
    }
   ],
   "source": [
    "import pandas as pd\n",
    "from datasets import Dataset\n",
    "\n",
    "\n",
    "df = pd.read_csv(\"./datasets/Amazon_Reviews.csv\")\n",
    "df.head()"
   ]
  },
  {
   "cell_type": "code",
   "execution_count": 19,
   "metadata": {},
   "outputs": [
    {
     "name": "stdout",
     "output_type": "stream",
     "text": [
      "0       False\n",
      "1       False\n",
      "2       False\n",
      "3       False\n",
      "4       False\n",
      "        ...  \n",
      "9985    False\n",
      "9986    False\n",
      "9987    False\n",
      "9988    False\n",
      "9989    False\n",
      "Name: Dislikes, Length: 9990, dtype: bool\n"
     ]
    }
   ],
   "source": [
    "check_null = df['Dislikes'].isnull()\n",
    "print(check_null)"
   ]
  },
  {
   "cell_type": "code",
   "execution_count": 20,
   "metadata": {},
   "outputs": [],
   "source": [
    "likes = df['Likes'].to_list()\n",
    "dislikes = df['Dislikes'].to_list()\n",
    "\n",
    "\n",
    "sentiment_analysis_data = []\n",
    "for i in range(0, len(likes)):\n",
    "    sentiment_analysis_data.append({\n",
    "        'text': likes[i],\n",
    "        'label': 'Positive'\n",
    "    })\n",
    "    sentiment_analysis_data.append({\n",
    "        'text': dislikes[i],\n",
    "        'label': 'Negative'\n",
    "    })\n"
   ]
  },
  {
   "cell_type": "code",
   "execution_count": 22,
   "metadata": {},
   "outputs": [
    {
     "data": {
      "text/html": [
       "<div>\n",
       "<style scoped>\n",
       "    .dataframe tbody tr th:only-of-type {\n",
       "        vertical-align: middle;\n",
       "    }\n",
       "\n",
       "    .dataframe tbody tr th {\n",
       "        vertical-align: top;\n",
       "    }\n",
       "\n",
       "    .dataframe thead th {\n",
       "        text-align: right;\n",
       "    }\n",
       "</style>\n",
       "<table border=\"1\" class=\"dataframe\">\n",
       "  <thead>\n",
       "    <tr style=\"text-align: right;\">\n",
       "      <th></th>\n",
       "      <th>text</th>\n",
       "      <th>label</th>\n",
       "    </tr>\n",
       "  </thead>\n",
       "  <tbody>\n",
       "    <tr>\n",
       "      <th>0</th>\n",
       "      <td>The office is great and you have best in indus...</td>\n",
       "      <td>Positive</td>\n",
       "    </tr>\n",
       "    <tr>\n",
       "      <th>1</th>\n",
       "      <td>Worst work life balance.\\nThe managers have to...</td>\n",
       "      <td>Negative</td>\n",
       "    </tr>\n",
       "    <tr>\n",
       "      <th>2</th>\n",
       "      <td>Good work life balance and team building exerc...</td>\n",
       "      <td>Positive</td>\n",
       "    </tr>\n",
       "    <tr>\n",
       "      <th>3</th>\n",
       "      <td>No job security. They will cut you out any-day...</td>\n",
       "      <td>Negative</td>\n",
       "    </tr>\n",
       "    <tr>\n",
       "      <th>4</th>\n",
       "      <td>good about this company, provides virtual roles</td>\n",
       "      <td>Positive</td>\n",
       "    </tr>\n",
       "  </tbody>\n",
       "</table>\n",
       "</div>"
      ],
      "text/plain": [
       "                                                text     label\n",
       "0  The office is great and you have best in indus...  Positive\n",
       "1  Worst work life balance.\\nThe managers have to...  Negative\n",
       "2  Good work life balance and team building exerc...  Positive\n",
       "3  No job security. They will cut you out any-day...  Negative\n",
       "4    good about this company, provides virtual roles  Positive"
      ]
     },
     "execution_count": 22,
     "metadata": {},
     "output_type": "execute_result"
    }
   ],
   "source": [
    "new_df = pd.DataFrame(sentiment_analysis_data)\n",
    "new_df.head()"
   ]
  },
  {
   "cell_type": "code",
   "execution_count": 24,
   "metadata": {},
   "outputs": [
    {
     "data": {
      "text/plain": [
       "19980"
      ]
     },
     "execution_count": 24,
     "metadata": {},
     "output_type": "execute_result"
    }
   ],
   "source": [
    "len(new_df)"
   ]
  },
  {
   "cell_type": "code",
   "execution_count": 26,
   "metadata": {},
   "outputs": [
    {
     "data": {
      "text/plain": [
       "20"
      ]
     },
     "execution_count": 26,
     "metadata": {},
     "output_type": "execute_result"
    }
   ],
   "source": [
    "df_deduplicated = new_df.drop_duplicates(subset=['text'])\n",
    "len(df_deduplicated)"
   ]
  },
  {
   "cell_type": "code",
   "execution_count": 23,
   "metadata": {},
   "outputs": [],
   "source": [
    "import json\n",
    "\n",
    "\n",
    "with open(\"./datasets/sentiment_analysis.jsonl\", \"a\", encoding=\"utf-8\")  as f:\n",
    "    for entry in sentiment_analysis_data:\n",
    "        json_line = json.dumps(entry, ensure_ascii=False)  # Convert dictionary to JSON string with non-ASCII characters\n",
    "        f.write(json_line + '\\n')  # Write each JSON string to a new line"
   ]
  }
 ],
 "metadata": {
  "kernelspec": {
   "display_name": "dev_env",
   "language": "python",
   "name": "python3"
  },
  "language_info": {
   "codemirror_mode": {
    "name": "ipython",
    "version": 3
   },
   "file_extension": ".py",
   "mimetype": "text/x-python",
   "name": "python",
   "nbconvert_exporter": "python",
   "pygments_lexer": "ipython3",
   "version": "3.11.5"
  }
 },
 "nbformat": 4,
 "nbformat_minor": 2
}
