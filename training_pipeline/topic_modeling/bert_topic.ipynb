{
 "cells": [
  {
   "cell_type": "markdown",
   "metadata": {},
   "source": [
    "## Save and load topic modeling\n",
    "- Links: [Medium Blog](https://medium.com/grabngoinfo/topic-modeling-with-deep-learning-using-python-bertopic-cf91f5676504)"
   ]
  },
  {
   "cell_type": "markdown",
   "metadata": {},
   "source": [
    "# Import library"
   ]
  },
  {
   "cell_type": "code",
   "execution_count": 8,
   "metadata": {},
   "outputs": [
    {
     "data": {
      "text/plain": [
       "''"
      ]
     },
     "execution_count": 8,
     "metadata": {},
     "output_type": "execute_result"
    }
   ],
   "source": [
    "from topic_modeling import __version__\n",
    "\n",
    "__version__"
   ]
  },
  {
   "cell_type": "code",
   "execution_count": 34,
   "metadata": {},
   "outputs": [],
   "source": [
    "import pandas as pd\n",
    "import os\n",
    "\n",
    "from bertopic import BERTopic\n",
    "from sentence_transformers import SentenceTransformer, util\n",
    "from umap import UMAP\n",
    "\n",
    "from topic_modeling.config.core import DATASET_DIR\n",
    "from topic_modeling.processing.data_handling import read_data_from_file"
   ]
  },
  {
   "cell_type": "markdown",
   "metadata": {},
   "source": [
    "# Processing Data"
   ]
  },
  {
   "cell_type": "code",
   "execution_count": 41,
   "metadata": {},
   "outputs": [
    {
     "data": {
      "text/html": [
       "<div>\n",
       "<style scoped>\n",
       "    .dataframe tbody tr th:only-of-type {\n",
       "        vertical-align: middle;\n",
       "    }\n",
       "\n",
       "    .dataframe tbody tr th {\n",
       "        vertical-align: top;\n",
       "    }\n",
       "\n",
       "    .dataframe thead th {\n",
       "        text-align: right;\n",
       "    }\n",
       "</style>\n",
       "<table border=\"1\" class=\"dataframe\">\n",
       "  <thead>\n",
       "    <tr style=\"text-align: right;\">\n",
       "      <th></th>\n",
       "      <th>text</th>\n",
       "      <th>label</th>\n",
       "    </tr>\n",
       "  </thead>\n",
       "  <tbody>\n",
       "    <tr>\n",
       "      <th>0</th>\n",
       "      <td>Only skill development is good.</td>\n",
       "      <td>Positive</td>\n",
       "    </tr>\n",
       "    <tr>\n",
       "      <th>1</th>\n",
       "      <td>working culture,behavior, work life balance,jo...</td>\n",
       "      <td>Negative</td>\n",
       "    </tr>\n",
       "    <tr>\n",
       "      <th>2</th>\n",
       "      <td>Nothing</td>\n",
       "      <td>Positive</td>\n",
       "    </tr>\n",
       "    <tr>\n",
       "      <th>3</th>\n",
       "      <td>Company is good but company owners are treatin...</td>\n",
       "      <td>Negative</td>\n",
       "    </tr>\n",
       "    <tr>\n",
       "      <th>4</th>\n",
       "      <td>Best company</td>\n",
       "      <td>Positive</td>\n",
       "    </tr>\n",
       "  </tbody>\n",
       "</table>\n",
       "</div>"
      ],
      "text/plain": [
       "                                                text     label\n",
       "0                    Only skill development is good.  Positive\n",
       "1  working culture,behavior, work life balance,jo...  Negative\n",
       "2                                            Nothing  Positive\n",
       "3  Company is good but company owners are treatin...  Negative\n",
       "4                                       Best company  Positive"
      ]
     },
     "execution_count": 41,
     "metadata": {},
     "output_type": "execute_result"
    }
   ],
   "source": [
    "# train_dataset_dir = str(DATASET_DIR / \"Restaurant_Reviews.tsv\")\n",
    "# df = pd.read_csv(train_dataset_dir, sep='\\t')\n",
    "\n",
    "# train_dataset_dir = str(DATASET_DIR / \"training.jsonl\")\n",
    "# df = pd.read_json(train_dataset_dir, lines=True)\\\n",
    "\n",
    "df = read_data_from_file(\"training.jsonl\")\n",
    "df.head()"
   ]
  },
  {
   "cell_type": "code",
   "execution_count": 22,
   "metadata": {},
   "outputs": [],
   "source": [
    "docs = df.text.to_list()"
   ]
  },
  {
   "cell_type": "code",
   "execution_count": 24,
   "metadata": {},
   "outputs": [
    {
     "name": "stdout",
     "output_type": "stream",
     "text": [
      "699\n"
     ]
    }
   ],
   "source": [
    "docs = [i for i in docs if i != None]\n",
    "print(len(docs))"
   ]
  },
  {
   "cell_type": "code",
   "execution_count": 25,
   "metadata": {},
   "outputs": [],
   "source": [
    "from sklearn.feature_extraction.text import CountVectorizer\n",
    "\n",
    "vectorizer_model = CountVectorizer(stop_words=\"english\")"
   ]
  },
  {
   "cell_type": "code",
   "execution_count": 26,
   "metadata": {},
   "outputs": [
    {
     "name": "stdout",
     "output_type": "stream",
     "text": [
      "CPU times: user 4.18 s, sys: 134 ms, total: 4.31 s\n",
      "Wall time: 1.92 s\n"
     ]
    }
   ],
   "source": [
    "%%time\n",
    "model_embedding = SentenceTransformer('all-MiniLM-L6-v2')\n",
    "corpus_embeddings = model_embedding.encode(docs)"
   ]
  },
  {
   "cell_type": "code",
   "execution_count": 49,
   "metadata": {},
   "outputs": [
    {
     "name": "stdout",
     "output_type": "stream",
     "text": [
      "CPU times: user 5.62 s, sys: 239 ms, total: 5.85 s\n",
      "Wall time: 3.22 s\n"
     ]
    }
   ],
   "source": [
    "%%time\n",
    "model = BERTopic(\n",
    "    language=\"english\",\n",
    "    n_gram_range=(1, 2),\n",
    "    vectorizer_model=vectorizer_model,\n",
    "    # # nr_topics='auto',\n",
    "    # min_topic_size=2,\n",
    "    # # # diversity=0.7,\n",
    "    # seed_topic_list=[\n",
    "    #     [\"experience\", \"bad\", \"good\", \"nice\"],\n",
    "    #     [\"place\", \"atmosphere\", \"toilet\", \"clean\"],\n",
    "    #     [\"staff\", \"waitress\", \"service\"],\n",
    "    #     [\"wait\", \"time\", \"long\"],\n",
    "    #     [\"food\", \"taste\"]\n",
    "    # ],\n",
    "    # calculate_probabilities=True\n",
    "    ).fit(docs, corpus_embeddings)"
   ]
  },
  {
   "cell_type": "code",
   "execution_count": 50,
   "metadata": {},
   "outputs": [],
   "source": [
    "topics, probabilities = model.transform(docs, corpus_embeddings)"
   ]
  },
  {
   "cell_type": "code",
   "execution_count": 51,
   "metadata": {},
   "outputs": [
    {
     "data": {
      "text/html": [
       "<div>\n",
       "<style scoped>\n",
       "    .dataframe tbody tr th:only-of-type {\n",
       "        vertical-align: middle;\n",
       "    }\n",
       "\n",
       "    .dataframe tbody tr th {\n",
       "        vertical-align: top;\n",
       "    }\n",
       "\n",
       "    .dataframe thead th {\n",
       "        text-align: right;\n",
       "    }\n",
       "</style>\n",
       "<table border=\"1\" class=\"dataframe\">\n",
       "  <thead>\n",
       "    <tr style=\"text-align: right;\">\n",
       "      <th></th>\n",
       "      <th>Topic</th>\n",
       "      <th>Count</th>\n",
       "    </tr>\n",
       "  </thead>\n",
       "  <tbody>\n",
       "    <tr>\n",
       "      <th>1</th>\n",
       "      <td>-1</td>\n",
       "      <td>109</td>\n",
       "    </tr>\n",
       "    <tr>\n",
       "      <th>2</th>\n",
       "      <td>0</td>\n",
       "      <td>90</td>\n",
       "    </tr>\n",
       "    <tr>\n",
       "      <th>3</th>\n",
       "      <td>1</td>\n",
       "      <td>67</td>\n",
       "    </tr>\n",
       "    <tr>\n",
       "      <th>10</th>\n",
       "      <td>2</td>\n",
       "      <td>61</td>\n",
       "    </tr>\n",
       "    <tr>\n",
       "      <th>8</th>\n",
       "      <td>3</td>\n",
       "      <td>57</td>\n",
       "    </tr>\n",
       "    <tr>\n",
       "      <th>4</th>\n",
       "      <td>4</td>\n",
       "      <td>53</td>\n",
       "    </tr>\n",
       "    <tr>\n",
       "      <th>9</th>\n",
       "      <td>5</td>\n",
       "      <td>47</td>\n",
       "    </tr>\n",
       "    <tr>\n",
       "      <th>11</th>\n",
       "      <td>6</td>\n",
       "      <td>35</td>\n",
       "    </tr>\n",
       "    <tr>\n",
       "      <th>12</th>\n",
       "      <td>7</td>\n",
       "      <td>29</td>\n",
       "    </tr>\n",
       "    <tr>\n",
       "      <th>16</th>\n",
       "      <td>8</td>\n",
       "      <td>26</td>\n",
       "    </tr>\n",
       "    <tr>\n",
       "      <th>17</th>\n",
       "      <td>9</td>\n",
       "      <td>19</td>\n",
       "    </tr>\n",
       "    <tr>\n",
       "      <th>0</th>\n",
       "      <td>10</td>\n",
       "      <td>18</td>\n",
       "    </tr>\n",
       "    <tr>\n",
       "      <th>6</th>\n",
       "      <td>11</td>\n",
       "      <td>17</td>\n",
       "    </tr>\n",
       "    <tr>\n",
       "      <th>14</th>\n",
       "      <td>12</td>\n",
       "      <td>16</td>\n",
       "    </tr>\n",
       "    <tr>\n",
       "      <th>13</th>\n",
       "      <td>13</td>\n",
       "      <td>15</td>\n",
       "    </tr>\n",
       "    <tr>\n",
       "      <th>7</th>\n",
       "      <td>14</td>\n",
       "      <td>14</td>\n",
       "    </tr>\n",
       "    <tr>\n",
       "      <th>15</th>\n",
       "      <td>15</td>\n",
       "      <td>14</td>\n",
       "    </tr>\n",
       "    <tr>\n",
       "      <th>5</th>\n",
       "      <td>16</td>\n",
       "      <td>12</td>\n",
       "    </tr>\n",
       "  </tbody>\n",
       "</table>\n",
       "</div>"
      ],
      "text/plain": [
       "    Topic  Count\n",
       "1      -1    109\n",
       "2       0     90\n",
       "3       1     67\n",
       "10      2     61\n",
       "8       3     57\n",
       "4       4     53\n",
       "9       5     47\n",
       "11      6     35\n",
       "12      7     29\n",
       "16      8     26\n",
       "17      9     19\n",
       "0      10     18\n",
       "6      11     17\n",
       "14     12     16\n",
       "13     13     15\n",
       "7      14     14\n",
       "15     15     14\n",
       "5      16     12"
      ]
     },
     "execution_count": 51,
     "metadata": {},
     "output_type": "execute_result"
    }
   ],
   "source": [
    "df_topic_freq = model.get_topic_freq()\n",
    "topics_count = len(df_topic_freq) - 1\n",
    "df_topic_freq"
   ]
  },
  {
   "cell_type": "code",
   "execution_count": 52,
   "metadata": {},
   "outputs": [
    {
     "data": {
      "text/plain": [
       "17"
      ]
     },
     "execution_count": 52,
     "metadata": {},
     "output_type": "execute_result"
    }
   ],
   "source": [
    "topics_count"
   ]
  },
  {
   "cell_type": "code",
   "execution_count": 53,
   "metadata": {},
   "outputs": [
    {
     "data": {
      "application/vnd.plotly.v1+json": {
       "config": {
        "plotlyServerURL": "https://plot.ly"
       },
       "data": [
        {
         "customdata": [
          [
           0,
           "dislike | like | ok | na | say",
           90
          ],
          [
           1,
           "culture | good | company | working | work",
           67
          ],
          [
           2,
           "bajaj | electricals | electrical | good | company",
           61
          ],
          [
           3,
           "salary | time | increment | benefits | timely",
           57
          ],
          [
           4,
           "company | brand | good | product | customer",
           53
          ],
          [
           5,
           "management | staff | lot | career | address",
           47
          ],
          [
           6,
           "atmosphere | environment | place | good | working",
           35
          ],
          [
           7,
           "balance | life | work | pressure | covid",
           29
          ],
          [
           8,
           "flexible | time | days | timing | area",
           26
          ],
          [
           9,
           "job | security | safety | proffession | secure",
           19
          ],
          [
           10,
           "learning | new | learnings | development | things",
           18
          ],
          [
           11,
           "appraisal | appraisals | process | promotions | basis",
           17
          ],
          [
           12,
           "policy | policies | company | organization | card",
           16
          ],
          [
           13,
           "promotion | incentives | increment | takes | schemes",
           15
          ],
          [
           14,
           "politics | politician | company | survive | internal",
           14
          ],
          [
           15,
           "seniors | supporting | senior | supportive | old",
           14
          ],
          [
           16,
           "hr | path | policies | policy | employee",
           12
          ]
         ],
         "hovertemplate": "<b>Topic %{customdata[0]}</b><br>%{customdata[1]}<br>Size: %{customdata[2]}",
         "legendgroup": "",
         "marker": {
          "color": "#B0BEC5",
          "line": {
           "color": "DarkSlateGrey",
           "width": 2
          },
          "size": [
           90,
           67,
           61,
           57,
           53,
           47,
           35,
           29,
           26,
           19,
           18,
           17,
           16,
           15,
           14,
           14,
           12
          ],
          "sizemode": "area",
          "sizeref": 0.05625,
          "symbol": "circle"
         },
         "mode": "markers",
         "name": "",
         "orientation": "v",
         "showlegend": false,
         "type": "scatter",
         "x": [
          1.6407054662704468,
          3.076192855834961,
          0.3980054557323456,
          3.239677667617798,
          0.7639118432998657,
          3.8229005336761475,
          2.104228973388672,
          3.4571406841278076,
          3.0745153427124023,
          4.1694817543029785,
          2.1564042568206787,
          -12.403711318969727,
          4.503824710845947,
          -12.355603218078613,
          3.400014877319336,
          3.5774757862091064,
          4.1048502922058105
         ],
         "xaxis": "x",
         "y": [
          6.663501739501953,
          1.5946210622787476,
          7.33574104309082,
          4.613771915435791,
          7.14540433883667,
          1.2656875848770142,
          6.466485977172852,
          5.1459550857543945,
          5.059422492980957,
          1.637204885482788,
          6.988668918609619,
          -14.94229793548584,
          0.6878064870834351,
          -14.894176483154297,
          0.9302242994308472,
          1.5380010604858398,
          0.6777387857437134
         ],
         "yaxis": "y"
        }
       ],
       "layout": {
        "annotations": [
         {
          "showarrow": false,
          "text": "D1",
          "x": -14.264268016815185,
          "y": -4.373770213127136,
          "yshift": 10
         },
         {
          "showarrow": false,
          "text": "D2",
          "x": -4.542434799671173,
          "xshift": 10,
          "y": 8.436102199554444
         }
        ],
        "height": 650,
        "hoverlabel": {
         "bgcolor": "white",
         "font": {
          "family": "Rockwell",
          "size": 16
         }
        },
        "legend": {
         "itemsizing": "constant",
         "tracegroupgap": 0
        },
        "margin": {
         "t": 60
        },
        "shapes": [
         {
          "line": {
           "color": "#CFD8DC",
           "width": 2
          },
          "type": "line",
          "x0": -4.542434799671173,
          "x1": -4.542434799671173,
          "y0": -17.183642625808716,
          "y1": 8.436102199554444
         },
         {
          "line": {
           "color": "#9E9E9E",
           "width": 2
          },
          "type": "line",
          "x0": -14.264268016815185,
          "x1": 5.179398417472839,
          "y0": -4.373770213127136,
          "y1": -4.373770213127136
         }
        ],
        "sliders": [
         {
          "active": 0,
          "pad": {
           "t": 50
          },
          "steps": [
           {
            "args": [
             {
              "marker.color": [
               [
                "red",
                "#B0BEC5",
                "#B0BEC5",
                "#B0BEC5",
                "#B0BEC5",
                "#B0BEC5",
                "#B0BEC5",
                "#B0BEC5",
                "#B0BEC5",
                "#B0BEC5",
                "#B0BEC5",
                "#B0BEC5",
                "#B0BEC5",
                "#B0BEC5",
                "#B0BEC5",
                "#B0BEC5",
                "#B0BEC5"
               ]
              ]
             }
            ],
            "label": "Topic 0",
            "method": "update"
           },
           {
            "args": [
             {
              "marker.color": [
               [
                "#B0BEC5",
                "red",
                "#B0BEC5",
                "#B0BEC5",
                "#B0BEC5",
                "#B0BEC5",
                "#B0BEC5",
                "#B0BEC5",
                "#B0BEC5",
                "#B0BEC5",
                "#B0BEC5",
                "#B0BEC5",
                "#B0BEC5",
                "#B0BEC5",
                "#B0BEC5",
                "#B0BEC5",
                "#B0BEC5"
               ]
              ]
             }
            ],
            "label": "Topic 1",
            "method": "update"
           },
           {
            "args": [
             {
              "marker.color": [
               [
                "#B0BEC5",
                "#B0BEC5",
                "red",
                "#B0BEC5",
                "#B0BEC5",
                "#B0BEC5",
                "#B0BEC5",
                "#B0BEC5",
                "#B0BEC5",
                "#B0BEC5",
                "#B0BEC5",
                "#B0BEC5",
                "#B0BEC5",
                "#B0BEC5",
                "#B0BEC5",
                "#B0BEC5",
                "#B0BEC5"
               ]
              ]
             }
            ],
            "label": "Topic 2",
            "method": "update"
           },
           {
            "args": [
             {
              "marker.color": [
               [
                "#B0BEC5",
                "#B0BEC5",
                "#B0BEC5",
                "red",
                "#B0BEC5",
                "#B0BEC5",
                "#B0BEC5",
                "#B0BEC5",
                "#B0BEC5",
                "#B0BEC5",
                "#B0BEC5",
                "#B0BEC5",
                "#B0BEC5",
                "#B0BEC5",
                "#B0BEC5",
                "#B0BEC5",
                "#B0BEC5"
               ]
              ]
             }
            ],
            "label": "Topic 3",
            "method": "update"
           },
           {
            "args": [
             {
              "marker.color": [
               [
                "#B0BEC5",
                "#B0BEC5",
                "#B0BEC5",
                "#B0BEC5",
                "red",
                "#B0BEC5",
                "#B0BEC5",
                "#B0BEC5",
                "#B0BEC5",
                "#B0BEC5",
                "#B0BEC5",
                "#B0BEC5",
                "#B0BEC5",
                "#B0BEC5",
                "#B0BEC5",
                "#B0BEC5",
                "#B0BEC5"
               ]
              ]
             }
            ],
            "label": "Topic 4",
            "method": "update"
           },
           {
            "args": [
             {
              "marker.color": [
               [
                "#B0BEC5",
                "#B0BEC5",
                "#B0BEC5",
                "#B0BEC5",
                "#B0BEC5",
                "red",
                "#B0BEC5",
                "#B0BEC5",
                "#B0BEC5",
                "#B0BEC5",
                "#B0BEC5",
                "#B0BEC5",
                "#B0BEC5",
                "#B0BEC5",
                "#B0BEC5",
                "#B0BEC5",
                "#B0BEC5"
               ]
              ]
             }
            ],
            "label": "Topic 5",
            "method": "update"
           },
           {
            "args": [
             {
              "marker.color": [
               [
                "#B0BEC5",
                "#B0BEC5",
                "#B0BEC5",
                "#B0BEC5",
                "#B0BEC5",
                "#B0BEC5",
                "red",
                "#B0BEC5",
                "#B0BEC5",
                "#B0BEC5",
                "#B0BEC5",
                "#B0BEC5",
                "#B0BEC5",
                "#B0BEC5",
                "#B0BEC5",
                "#B0BEC5",
                "#B0BEC5"
               ]
              ]
             }
            ],
            "label": "Topic 6",
            "method": "update"
           },
           {
            "args": [
             {
              "marker.color": [
               [
                "#B0BEC5",
                "#B0BEC5",
                "#B0BEC5",
                "#B0BEC5",
                "#B0BEC5",
                "#B0BEC5",
                "#B0BEC5",
                "red",
                "#B0BEC5",
                "#B0BEC5",
                "#B0BEC5",
                "#B0BEC5",
                "#B0BEC5",
                "#B0BEC5",
                "#B0BEC5",
                "#B0BEC5",
                "#B0BEC5"
               ]
              ]
             }
            ],
            "label": "Topic 7",
            "method": "update"
           },
           {
            "args": [
             {
              "marker.color": [
               [
                "#B0BEC5",
                "#B0BEC5",
                "#B0BEC5",
                "#B0BEC5",
                "#B0BEC5",
                "#B0BEC5",
                "#B0BEC5",
                "#B0BEC5",
                "red",
                "#B0BEC5",
                "#B0BEC5",
                "#B0BEC5",
                "#B0BEC5",
                "#B0BEC5",
                "#B0BEC5",
                "#B0BEC5",
                "#B0BEC5"
               ]
              ]
             }
            ],
            "label": "Topic 8",
            "method": "update"
           },
           {
            "args": [
             {
              "marker.color": [
               [
                "#B0BEC5",
                "#B0BEC5",
                "#B0BEC5",
                "#B0BEC5",
                "#B0BEC5",
                "#B0BEC5",
                "#B0BEC5",
                "#B0BEC5",
                "#B0BEC5",
                "red",
                "#B0BEC5",
                "#B0BEC5",
                "#B0BEC5",
                "#B0BEC5",
                "#B0BEC5",
                "#B0BEC5",
                "#B0BEC5"
               ]
              ]
             }
            ],
            "label": "Topic 9",
            "method": "update"
           },
           {
            "args": [
             {
              "marker.color": [
               [
                "#B0BEC5",
                "#B0BEC5",
                "#B0BEC5",
                "#B0BEC5",
                "#B0BEC5",
                "#B0BEC5",
                "#B0BEC5",
                "#B0BEC5",
                "#B0BEC5",
                "#B0BEC5",
                "red",
                "#B0BEC5",
                "#B0BEC5",
                "#B0BEC5",
                "#B0BEC5",
                "#B0BEC5",
                "#B0BEC5"
               ]
              ]
             }
            ],
            "label": "Topic 10",
            "method": "update"
           },
           {
            "args": [
             {
              "marker.color": [
               [
                "#B0BEC5",
                "#B0BEC5",
                "#B0BEC5",
                "#B0BEC5",
                "#B0BEC5",
                "#B0BEC5",
                "#B0BEC5",
                "#B0BEC5",
                "#B0BEC5",
                "#B0BEC5",
                "#B0BEC5",
                "red",
                "#B0BEC5",
                "#B0BEC5",
                "#B0BEC5",
                "#B0BEC5",
                "#B0BEC5"
               ]
              ]
             }
            ],
            "label": "Topic 11",
            "method": "update"
           },
           {
            "args": [
             {
              "marker.color": [
               [
                "#B0BEC5",
                "#B0BEC5",
                "#B0BEC5",
                "#B0BEC5",
                "#B0BEC5",
                "#B0BEC5",
                "#B0BEC5",
                "#B0BEC5",
                "#B0BEC5",
                "#B0BEC5",
                "#B0BEC5",
                "#B0BEC5",
                "red",
                "#B0BEC5",
                "#B0BEC5",
                "#B0BEC5",
                "#B0BEC5"
               ]
              ]
             }
            ],
            "label": "Topic 12",
            "method": "update"
           },
           {
            "args": [
             {
              "marker.color": [
               [
                "#B0BEC5",
                "#B0BEC5",
                "#B0BEC5",
                "#B0BEC5",
                "#B0BEC5",
                "#B0BEC5",
                "#B0BEC5",
                "#B0BEC5",
                "#B0BEC5",
                "#B0BEC5",
                "#B0BEC5",
                "#B0BEC5",
                "#B0BEC5",
                "red",
                "#B0BEC5",
                "#B0BEC5",
                "#B0BEC5"
               ]
              ]
             }
            ],
            "label": "Topic 13",
            "method": "update"
           },
           {
            "args": [
             {
              "marker.color": [
               [
                "#B0BEC5",
                "#B0BEC5",
                "#B0BEC5",
                "#B0BEC5",
                "#B0BEC5",
                "#B0BEC5",
                "#B0BEC5",
                "#B0BEC5",
                "#B0BEC5",
                "#B0BEC5",
                "#B0BEC5",
                "#B0BEC5",
                "#B0BEC5",
                "#B0BEC5",
                "red",
                "#B0BEC5",
                "#B0BEC5"
               ]
              ]
             }
            ],
            "label": "Topic 14",
            "method": "update"
           },
           {
            "args": [
             {
              "marker.color": [
               [
                "#B0BEC5",
                "#B0BEC5",
                "#B0BEC5",
                "#B0BEC5",
                "#B0BEC5",
                "#B0BEC5",
                "#B0BEC5",
                "#B0BEC5",
                "#B0BEC5",
                "#B0BEC5",
                "#B0BEC5",
                "#B0BEC5",
                "#B0BEC5",
                "#B0BEC5",
                "#B0BEC5",
                "red",
                "#B0BEC5"
               ]
              ]
             }
            ],
            "label": "Topic 15",
            "method": "update"
           },
           {
            "args": [
             {
              "marker.color": [
               [
                "#B0BEC5",
                "#B0BEC5",
                "#B0BEC5",
                "#B0BEC5",
                "#B0BEC5",
                "#B0BEC5",
                "#B0BEC5",
                "#B0BEC5",
                "#B0BEC5",
                "#B0BEC5",
                "#B0BEC5",
                "#B0BEC5",
                "#B0BEC5",
                "#B0BEC5",
                "#B0BEC5",
                "#B0BEC5",
                "red"
               ]
              ]
             }
            ],
            "label": "Topic 16",
            "method": "update"
           }
          ]
         }
        ],
        "template": {
         "data": {
          "bar": [
           {
            "error_x": {
             "color": "rgb(36,36,36)"
            },
            "error_y": {
             "color": "rgb(36,36,36)"
            },
            "marker": {
             "line": {
              "color": "white",
              "width": 0.5
             },
             "pattern": {
              "fillmode": "overlay",
              "size": 10,
              "solidity": 0.2
             }
            },
            "type": "bar"
           }
          ],
          "barpolar": [
           {
            "marker": {
             "line": {
              "color": "white",
              "width": 0.5
             },
             "pattern": {
              "fillmode": "overlay",
              "size": 10,
              "solidity": 0.2
             }
            },
            "type": "barpolar"
           }
          ],
          "carpet": [
           {
            "aaxis": {
             "endlinecolor": "rgb(36,36,36)",
             "gridcolor": "white",
             "linecolor": "white",
             "minorgridcolor": "white",
             "startlinecolor": "rgb(36,36,36)"
            },
            "baxis": {
             "endlinecolor": "rgb(36,36,36)",
             "gridcolor": "white",
             "linecolor": "white",
             "minorgridcolor": "white",
             "startlinecolor": "rgb(36,36,36)"
            },
            "type": "carpet"
           }
          ],
          "choropleth": [
           {
            "colorbar": {
             "outlinewidth": 1,
             "tickcolor": "rgb(36,36,36)",
             "ticks": "outside"
            },
            "type": "choropleth"
           }
          ],
          "contour": [
           {
            "colorbar": {
             "outlinewidth": 1,
             "tickcolor": "rgb(36,36,36)",
             "ticks": "outside"
            },
            "colorscale": [
             [
              0,
              "#440154"
             ],
             [
              0.1111111111111111,
              "#482878"
             ],
             [
              0.2222222222222222,
              "#3e4989"
             ],
             [
              0.3333333333333333,
              "#31688e"
             ],
             [
              0.4444444444444444,
              "#26828e"
             ],
             [
              0.5555555555555556,
              "#1f9e89"
             ],
             [
              0.6666666666666666,
              "#35b779"
             ],
             [
              0.7777777777777778,
              "#6ece58"
             ],
             [
              0.8888888888888888,
              "#b5de2b"
             ],
             [
              1,
              "#fde725"
             ]
            ],
            "type": "contour"
           }
          ],
          "contourcarpet": [
           {
            "colorbar": {
             "outlinewidth": 1,
             "tickcolor": "rgb(36,36,36)",
             "ticks": "outside"
            },
            "type": "contourcarpet"
           }
          ],
          "heatmap": [
           {
            "colorbar": {
             "outlinewidth": 1,
             "tickcolor": "rgb(36,36,36)",
             "ticks": "outside"
            },
            "colorscale": [
             [
              0,
              "#440154"
             ],
             [
              0.1111111111111111,
              "#482878"
             ],
             [
              0.2222222222222222,
              "#3e4989"
             ],
             [
              0.3333333333333333,
              "#31688e"
             ],
             [
              0.4444444444444444,
              "#26828e"
             ],
             [
              0.5555555555555556,
              "#1f9e89"
             ],
             [
              0.6666666666666666,
              "#35b779"
             ],
             [
              0.7777777777777778,
              "#6ece58"
             ],
             [
              0.8888888888888888,
              "#b5de2b"
             ],
             [
              1,
              "#fde725"
             ]
            ],
            "type": "heatmap"
           }
          ],
          "heatmapgl": [
           {
            "colorbar": {
             "outlinewidth": 1,
             "tickcolor": "rgb(36,36,36)",
             "ticks": "outside"
            },
            "colorscale": [
             [
              0,
              "#440154"
             ],
             [
              0.1111111111111111,
              "#482878"
             ],
             [
              0.2222222222222222,
              "#3e4989"
             ],
             [
              0.3333333333333333,
              "#31688e"
             ],
             [
              0.4444444444444444,
              "#26828e"
             ],
             [
              0.5555555555555556,
              "#1f9e89"
             ],
             [
              0.6666666666666666,
              "#35b779"
             ],
             [
              0.7777777777777778,
              "#6ece58"
             ],
             [
              0.8888888888888888,
              "#b5de2b"
             ],
             [
              1,
              "#fde725"
             ]
            ],
            "type": "heatmapgl"
           }
          ],
          "histogram": [
           {
            "marker": {
             "line": {
              "color": "white",
              "width": 0.6
             }
            },
            "type": "histogram"
           }
          ],
          "histogram2d": [
           {
            "colorbar": {
             "outlinewidth": 1,
             "tickcolor": "rgb(36,36,36)",
             "ticks": "outside"
            },
            "colorscale": [
             [
              0,
              "#440154"
             ],
             [
              0.1111111111111111,
              "#482878"
             ],
             [
              0.2222222222222222,
              "#3e4989"
             ],
             [
              0.3333333333333333,
              "#31688e"
             ],
             [
              0.4444444444444444,
              "#26828e"
             ],
             [
              0.5555555555555556,
              "#1f9e89"
             ],
             [
              0.6666666666666666,
              "#35b779"
             ],
             [
              0.7777777777777778,
              "#6ece58"
             ],
             [
              0.8888888888888888,
              "#b5de2b"
             ],
             [
              1,
              "#fde725"
             ]
            ],
            "type": "histogram2d"
           }
          ],
          "histogram2dcontour": [
           {
            "colorbar": {
             "outlinewidth": 1,
             "tickcolor": "rgb(36,36,36)",
             "ticks": "outside"
            },
            "colorscale": [
             [
              0,
              "#440154"
             ],
             [
              0.1111111111111111,
              "#482878"
             ],
             [
              0.2222222222222222,
              "#3e4989"
             ],
             [
              0.3333333333333333,
              "#31688e"
             ],
             [
              0.4444444444444444,
              "#26828e"
             ],
             [
              0.5555555555555556,
              "#1f9e89"
             ],
             [
              0.6666666666666666,
              "#35b779"
             ],
             [
              0.7777777777777778,
              "#6ece58"
             ],
             [
              0.8888888888888888,
              "#b5de2b"
             ],
             [
              1,
              "#fde725"
             ]
            ],
            "type": "histogram2dcontour"
           }
          ],
          "mesh3d": [
           {
            "colorbar": {
             "outlinewidth": 1,
             "tickcolor": "rgb(36,36,36)",
             "ticks": "outside"
            },
            "type": "mesh3d"
           }
          ],
          "parcoords": [
           {
            "line": {
             "colorbar": {
              "outlinewidth": 1,
              "tickcolor": "rgb(36,36,36)",
              "ticks": "outside"
             }
            },
            "type": "parcoords"
           }
          ],
          "pie": [
           {
            "automargin": true,
            "type": "pie"
           }
          ],
          "scatter": [
           {
            "fillpattern": {
             "fillmode": "overlay",
             "size": 10,
             "solidity": 0.2
            },
            "type": "scatter"
           }
          ],
          "scatter3d": [
           {
            "line": {
             "colorbar": {
              "outlinewidth": 1,
              "tickcolor": "rgb(36,36,36)",
              "ticks": "outside"
             }
            },
            "marker": {
             "colorbar": {
              "outlinewidth": 1,
              "tickcolor": "rgb(36,36,36)",
              "ticks": "outside"
             }
            },
            "type": "scatter3d"
           }
          ],
          "scattercarpet": [
           {
            "marker": {
             "colorbar": {
              "outlinewidth": 1,
              "tickcolor": "rgb(36,36,36)",
              "ticks": "outside"
             }
            },
            "type": "scattercarpet"
           }
          ],
          "scattergeo": [
           {
            "marker": {
             "colorbar": {
              "outlinewidth": 1,
              "tickcolor": "rgb(36,36,36)",
              "ticks": "outside"
             }
            },
            "type": "scattergeo"
           }
          ],
          "scattergl": [
           {
            "marker": {
             "colorbar": {
              "outlinewidth": 1,
              "tickcolor": "rgb(36,36,36)",
              "ticks": "outside"
             }
            },
            "type": "scattergl"
           }
          ],
          "scattermapbox": [
           {
            "marker": {
             "colorbar": {
              "outlinewidth": 1,
              "tickcolor": "rgb(36,36,36)",
              "ticks": "outside"
             }
            },
            "type": "scattermapbox"
           }
          ],
          "scatterpolar": [
           {
            "marker": {
             "colorbar": {
              "outlinewidth": 1,
              "tickcolor": "rgb(36,36,36)",
              "ticks": "outside"
             }
            },
            "type": "scatterpolar"
           }
          ],
          "scatterpolargl": [
           {
            "marker": {
             "colorbar": {
              "outlinewidth": 1,
              "tickcolor": "rgb(36,36,36)",
              "ticks": "outside"
             }
            },
            "type": "scatterpolargl"
           }
          ],
          "scatterternary": [
           {
            "marker": {
             "colorbar": {
              "outlinewidth": 1,
              "tickcolor": "rgb(36,36,36)",
              "ticks": "outside"
             }
            },
            "type": "scatterternary"
           }
          ],
          "surface": [
           {
            "colorbar": {
             "outlinewidth": 1,
             "tickcolor": "rgb(36,36,36)",
             "ticks": "outside"
            },
            "colorscale": [
             [
              0,
              "#440154"
             ],
             [
              0.1111111111111111,
              "#482878"
             ],
             [
              0.2222222222222222,
              "#3e4989"
             ],
             [
              0.3333333333333333,
              "#31688e"
             ],
             [
              0.4444444444444444,
              "#26828e"
             ],
             [
              0.5555555555555556,
              "#1f9e89"
             ],
             [
              0.6666666666666666,
              "#35b779"
             ],
             [
              0.7777777777777778,
              "#6ece58"
             ],
             [
              0.8888888888888888,
              "#b5de2b"
             ],
             [
              1,
              "#fde725"
             ]
            ],
            "type": "surface"
           }
          ],
          "table": [
           {
            "cells": {
             "fill": {
              "color": "rgb(237,237,237)"
             },
             "line": {
              "color": "white"
             }
            },
            "header": {
             "fill": {
              "color": "rgb(217,217,217)"
             },
             "line": {
              "color": "white"
             }
            },
            "type": "table"
           }
          ]
         },
         "layout": {
          "annotationdefaults": {
           "arrowhead": 0,
           "arrowwidth": 1
          },
          "autotypenumbers": "strict",
          "coloraxis": {
           "colorbar": {
            "outlinewidth": 1,
            "tickcolor": "rgb(36,36,36)",
            "ticks": "outside"
           }
          },
          "colorscale": {
           "diverging": [
            [
             0,
             "rgb(103,0,31)"
            ],
            [
             0.1,
             "rgb(178,24,43)"
            ],
            [
             0.2,
             "rgb(214,96,77)"
            ],
            [
             0.3,
             "rgb(244,165,130)"
            ],
            [
             0.4,
             "rgb(253,219,199)"
            ],
            [
             0.5,
             "rgb(247,247,247)"
            ],
            [
             0.6,
             "rgb(209,229,240)"
            ],
            [
             0.7,
             "rgb(146,197,222)"
            ],
            [
             0.8,
             "rgb(67,147,195)"
            ],
            [
             0.9,
             "rgb(33,102,172)"
            ],
            [
             1,
             "rgb(5,48,97)"
            ]
           ],
           "sequential": [
            [
             0,
             "#440154"
            ],
            [
             0.1111111111111111,
             "#482878"
            ],
            [
             0.2222222222222222,
             "#3e4989"
            ],
            [
             0.3333333333333333,
             "#31688e"
            ],
            [
             0.4444444444444444,
             "#26828e"
            ],
            [
             0.5555555555555556,
             "#1f9e89"
            ],
            [
             0.6666666666666666,
             "#35b779"
            ],
            [
             0.7777777777777778,
             "#6ece58"
            ],
            [
             0.8888888888888888,
             "#b5de2b"
            ],
            [
             1,
             "#fde725"
            ]
           ],
           "sequentialminus": [
            [
             0,
             "#440154"
            ],
            [
             0.1111111111111111,
             "#482878"
            ],
            [
             0.2222222222222222,
             "#3e4989"
            ],
            [
             0.3333333333333333,
             "#31688e"
            ],
            [
             0.4444444444444444,
             "#26828e"
            ],
            [
             0.5555555555555556,
             "#1f9e89"
            ],
            [
             0.6666666666666666,
             "#35b779"
            ],
            [
             0.7777777777777778,
             "#6ece58"
            ],
            [
             0.8888888888888888,
             "#b5de2b"
            ],
            [
             1,
             "#fde725"
            ]
           ]
          },
          "colorway": [
           "#1F77B4",
           "#FF7F0E",
           "#2CA02C",
           "#D62728",
           "#9467BD",
           "#8C564B",
           "#E377C2",
           "#7F7F7F",
           "#BCBD22",
           "#17BECF"
          ],
          "font": {
           "color": "rgb(36,36,36)"
          },
          "geo": {
           "bgcolor": "white",
           "lakecolor": "white",
           "landcolor": "white",
           "showlakes": true,
           "showland": true,
           "subunitcolor": "white"
          },
          "hoverlabel": {
           "align": "left"
          },
          "hovermode": "closest",
          "mapbox": {
           "style": "light"
          },
          "paper_bgcolor": "white",
          "plot_bgcolor": "white",
          "polar": {
           "angularaxis": {
            "gridcolor": "rgb(232,232,232)",
            "linecolor": "rgb(36,36,36)",
            "showgrid": false,
            "showline": true,
            "ticks": "outside"
           },
           "bgcolor": "white",
           "radialaxis": {
            "gridcolor": "rgb(232,232,232)",
            "linecolor": "rgb(36,36,36)",
            "showgrid": false,
            "showline": true,
            "ticks": "outside"
           }
          },
          "scene": {
           "xaxis": {
            "backgroundcolor": "white",
            "gridcolor": "rgb(232,232,232)",
            "gridwidth": 2,
            "linecolor": "rgb(36,36,36)",
            "showbackground": true,
            "showgrid": false,
            "showline": true,
            "ticks": "outside",
            "zeroline": false,
            "zerolinecolor": "rgb(36,36,36)"
           },
           "yaxis": {
            "backgroundcolor": "white",
            "gridcolor": "rgb(232,232,232)",
            "gridwidth": 2,
            "linecolor": "rgb(36,36,36)",
            "showbackground": true,
            "showgrid": false,
            "showline": true,
            "ticks": "outside",
            "zeroline": false,
            "zerolinecolor": "rgb(36,36,36)"
           },
           "zaxis": {
            "backgroundcolor": "white",
            "gridcolor": "rgb(232,232,232)",
            "gridwidth": 2,
            "linecolor": "rgb(36,36,36)",
            "showbackground": true,
            "showgrid": false,
            "showline": true,
            "ticks": "outside",
            "zeroline": false,
            "zerolinecolor": "rgb(36,36,36)"
           }
          },
          "shapedefaults": {
           "fillcolor": "black",
           "line": {
            "width": 0
           },
           "opacity": 0.3
          },
          "ternary": {
           "aaxis": {
            "gridcolor": "rgb(232,232,232)",
            "linecolor": "rgb(36,36,36)",
            "showgrid": false,
            "showline": true,
            "ticks": "outside"
           },
           "baxis": {
            "gridcolor": "rgb(232,232,232)",
            "linecolor": "rgb(36,36,36)",
            "showgrid": false,
            "showline": true,
            "ticks": "outside"
           },
           "bgcolor": "white",
           "caxis": {
            "gridcolor": "rgb(232,232,232)",
            "linecolor": "rgb(36,36,36)",
            "showgrid": false,
            "showline": true,
            "ticks": "outside"
           }
          },
          "title": {
           "x": 0.05
          },
          "xaxis": {
           "automargin": true,
           "gridcolor": "rgb(232,232,232)",
           "linecolor": "rgb(36,36,36)",
           "showgrid": false,
           "showline": true,
           "ticks": "outside",
           "title": {
            "standoff": 15
           },
           "zeroline": false,
           "zerolinecolor": "rgb(36,36,36)"
          },
          "yaxis": {
           "automargin": true,
           "gridcolor": "rgb(232,232,232)",
           "linecolor": "rgb(36,36,36)",
           "showgrid": false,
           "showline": true,
           "ticks": "outside",
           "title": {
            "standoff": 15
           },
           "zeroline": false,
           "zerolinecolor": "rgb(36,36,36)"
          }
         }
        },
        "title": {
         "font": {
          "color": "Black",
          "size": 22
         },
         "text": "<b>Intertopic Distance Map</b>",
         "x": 0.5,
         "xanchor": "center",
         "y": 0.95,
         "yanchor": "top"
        },
        "width": 650,
        "xaxis": {
         "anchor": "y",
         "domain": [
          0,
          1
         ],
         "range": [
          -14.264268016815185,
          5.179398417472839
         ],
         "title": {
          "text": ""
         },
         "visible": false
        },
        "yaxis": {
         "anchor": "x",
         "domain": [
          0,
          1
         ],
         "range": [
          -17.183642625808716,
          8.436102199554444
         ],
         "title": {
          "text": ""
         },
         "visible": false
        }
       }
      },
      "text/html": [
       "<div>                            <div id=\"0e52cb0b-72cb-4043-ac2d-fec1ac8af959\" class=\"plotly-graph-div\" style=\"height:650px; width:650px;\"></div>            <script type=\"text/javascript\">                require([\"plotly\"], function(Plotly) {                    window.PLOTLYENV=window.PLOTLYENV || {};                                    if (document.getElementById(\"0e52cb0b-72cb-4043-ac2d-fec1ac8af959\")) {                    Plotly.newPlot(                        \"0e52cb0b-72cb-4043-ac2d-fec1ac8af959\",                        [{\"customdata\":[[0,\"dislike | like | ok | na | say\",90],[1,\"culture | good | company | working | work\",67],[2,\"bajaj | electricals | electrical | good | company\",61],[3,\"salary | time | increment | benefits | timely\",57],[4,\"company | brand | good | product | customer\",53],[5,\"management | staff | lot | career | address\",47],[6,\"atmosphere | environment | place | good | working\",35],[7,\"balance | life | work | pressure | covid\",29],[8,\"flexible | time | days | timing | area\",26],[9,\"job | security | safety | proffession | secure\",19],[10,\"learning | new | learnings | development | things\",18],[11,\"appraisal | appraisals | process | promotions | basis\",17],[12,\"policy | policies | company | organization | card\",16],[13,\"promotion | incentives | increment | takes | schemes\",15],[14,\"politics | politician | company | survive | internal\",14],[15,\"seniors | supporting | senior | supportive | old\",14],[16,\"hr | path | policies | policy | employee\",12]],\"hovertemplate\":\"\\u003cb\\u003eTopic %{customdata[0]}\\u003c\\u002fb\\u003e\\u003cbr\\u003e%{customdata[1]}\\u003cbr\\u003eSize: %{customdata[2]}\",\"legendgroup\":\"\",\"marker\":{\"color\":\"#B0BEC5\",\"size\":[90,67,61,57,53,47,35,29,26,19,18,17,16,15,14,14,12],\"sizemode\":\"area\",\"sizeref\":0.05625,\"symbol\":\"circle\",\"line\":{\"color\":\"DarkSlateGrey\",\"width\":2}},\"mode\":\"markers\",\"name\":\"\",\"orientation\":\"v\",\"showlegend\":false,\"x\":[1.6407054662704468,3.076192855834961,0.3980054557323456,3.239677667617798,0.7639118432998657,3.8229005336761475,2.104228973388672,3.4571406841278076,3.0745153427124023,4.1694817543029785,2.1564042568206787,-12.403711318969727,4.503824710845947,-12.355603218078613,3.400014877319336,3.5774757862091064,4.1048502922058105],\"xaxis\":\"x\",\"y\":[6.663501739501953,1.5946210622787476,7.33574104309082,4.613771915435791,7.14540433883667,1.2656875848770142,6.466485977172852,5.1459550857543945,5.059422492980957,1.637204885482788,6.988668918609619,-14.94229793548584,0.6878064870834351,-14.894176483154297,0.9302242994308472,1.5380010604858398,0.6777387857437134],\"yaxis\":\"y\",\"type\":\"scatter\"}],                        {\"template\":{\"data\":{\"barpolar\":[{\"marker\":{\"line\":{\"color\":\"white\",\"width\":0.5},\"pattern\":{\"fillmode\":\"overlay\",\"size\":10,\"solidity\":0.2}},\"type\":\"barpolar\"}],\"bar\":[{\"error_x\":{\"color\":\"rgb(36,36,36)\"},\"error_y\":{\"color\":\"rgb(36,36,36)\"},\"marker\":{\"line\":{\"color\":\"white\",\"width\":0.5},\"pattern\":{\"fillmode\":\"overlay\",\"size\":10,\"solidity\":0.2}},\"type\":\"bar\"}],\"carpet\":[{\"aaxis\":{\"endlinecolor\":\"rgb(36,36,36)\",\"gridcolor\":\"white\",\"linecolor\":\"white\",\"minorgridcolor\":\"white\",\"startlinecolor\":\"rgb(36,36,36)\"},\"baxis\":{\"endlinecolor\":\"rgb(36,36,36)\",\"gridcolor\":\"white\",\"linecolor\":\"white\",\"minorgridcolor\":\"white\",\"startlinecolor\":\"rgb(36,36,36)\"},\"type\":\"carpet\"}],\"choropleth\":[{\"colorbar\":{\"outlinewidth\":1,\"tickcolor\":\"rgb(36,36,36)\",\"ticks\":\"outside\"},\"type\":\"choropleth\"}],\"contourcarpet\":[{\"colorbar\":{\"outlinewidth\":1,\"tickcolor\":\"rgb(36,36,36)\",\"ticks\":\"outside\"},\"type\":\"contourcarpet\"}],\"contour\":[{\"colorbar\":{\"outlinewidth\":1,\"tickcolor\":\"rgb(36,36,36)\",\"ticks\":\"outside\"},\"colorscale\":[[0.0,\"#440154\"],[0.1111111111111111,\"#482878\"],[0.2222222222222222,\"#3e4989\"],[0.3333333333333333,\"#31688e\"],[0.4444444444444444,\"#26828e\"],[0.5555555555555556,\"#1f9e89\"],[0.6666666666666666,\"#35b779\"],[0.7777777777777778,\"#6ece58\"],[0.8888888888888888,\"#b5de2b\"],[1.0,\"#fde725\"]],\"type\":\"contour\"}],\"heatmapgl\":[{\"colorbar\":{\"outlinewidth\":1,\"tickcolor\":\"rgb(36,36,36)\",\"ticks\":\"outside\"},\"colorscale\":[[0.0,\"#440154\"],[0.1111111111111111,\"#482878\"],[0.2222222222222222,\"#3e4989\"],[0.3333333333333333,\"#31688e\"],[0.4444444444444444,\"#26828e\"],[0.5555555555555556,\"#1f9e89\"],[0.6666666666666666,\"#35b779\"],[0.7777777777777778,\"#6ece58\"],[0.8888888888888888,\"#b5de2b\"],[1.0,\"#fde725\"]],\"type\":\"heatmapgl\"}],\"heatmap\":[{\"colorbar\":{\"outlinewidth\":1,\"tickcolor\":\"rgb(36,36,36)\",\"ticks\":\"outside\"},\"colorscale\":[[0.0,\"#440154\"],[0.1111111111111111,\"#482878\"],[0.2222222222222222,\"#3e4989\"],[0.3333333333333333,\"#31688e\"],[0.4444444444444444,\"#26828e\"],[0.5555555555555556,\"#1f9e89\"],[0.6666666666666666,\"#35b779\"],[0.7777777777777778,\"#6ece58\"],[0.8888888888888888,\"#b5de2b\"],[1.0,\"#fde725\"]],\"type\":\"heatmap\"}],\"histogram2dcontour\":[{\"colorbar\":{\"outlinewidth\":1,\"tickcolor\":\"rgb(36,36,36)\",\"ticks\":\"outside\"},\"colorscale\":[[0.0,\"#440154\"],[0.1111111111111111,\"#482878\"],[0.2222222222222222,\"#3e4989\"],[0.3333333333333333,\"#31688e\"],[0.4444444444444444,\"#26828e\"],[0.5555555555555556,\"#1f9e89\"],[0.6666666666666666,\"#35b779\"],[0.7777777777777778,\"#6ece58\"],[0.8888888888888888,\"#b5de2b\"],[1.0,\"#fde725\"]],\"type\":\"histogram2dcontour\"}],\"histogram2d\":[{\"colorbar\":{\"outlinewidth\":1,\"tickcolor\":\"rgb(36,36,36)\",\"ticks\":\"outside\"},\"colorscale\":[[0.0,\"#440154\"],[0.1111111111111111,\"#482878\"],[0.2222222222222222,\"#3e4989\"],[0.3333333333333333,\"#31688e\"],[0.4444444444444444,\"#26828e\"],[0.5555555555555556,\"#1f9e89\"],[0.6666666666666666,\"#35b779\"],[0.7777777777777778,\"#6ece58\"],[0.8888888888888888,\"#b5de2b\"],[1.0,\"#fde725\"]],\"type\":\"histogram2d\"}],\"histogram\":[{\"marker\":{\"line\":{\"color\":\"white\",\"width\":0.6}},\"type\":\"histogram\"}],\"mesh3d\":[{\"colorbar\":{\"outlinewidth\":1,\"tickcolor\":\"rgb(36,36,36)\",\"ticks\":\"outside\"},\"type\":\"mesh3d\"}],\"parcoords\":[{\"line\":{\"colorbar\":{\"outlinewidth\":1,\"tickcolor\":\"rgb(36,36,36)\",\"ticks\":\"outside\"}},\"type\":\"parcoords\"}],\"pie\":[{\"automargin\":true,\"type\":\"pie\"}],\"scatter3d\":[{\"line\":{\"colorbar\":{\"outlinewidth\":1,\"tickcolor\":\"rgb(36,36,36)\",\"ticks\":\"outside\"}},\"marker\":{\"colorbar\":{\"outlinewidth\":1,\"tickcolor\":\"rgb(36,36,36)\",\"ticks\":\"outside\"}},\"type\":\"scatter3d\"}],\"scattercarpet\":[{\"marker\":{\"colorbar\":{\"outlinewidth\":1,\"tickcolor\":\"rgb(36,36,36)\",\"ticks\":\"outside\"}},\"type\":\"scattercarpet\"}],\"scattergeo\":[{\"marker\":{\"colorbar\":{\"outlinewidth\":1,\"tickcolor\":\"rgb(36,36,36)\",\"ticks\":\"outside\"}},\"type\":\"scattergeo\"}],\"scattergl\":[{\"marker\":{\"colorbar\":{\"outlinewidth\":1,\"tickcolor\":\"rgb(36,36,36)\",\"ticks\":\"outside\"}},\"type\":\"scattergl\"}],\"scattermapbox\":[{\"marker\":{\"colorbar\":{\"outlinewidth\":1,\"tickcolor\":\"rgb(36,36,36)\",\"ticks\":\"outside\"}},\"type\":\"scattermapbox\"}],\"scatterpolargl\":[{\"marker\":{\"colorbar\":{\"outlinewidth\":1,\"tickcolor\":\"rgb(36,36,36)\",\"ticks\":\"outside\"}},\"type\":\"scatterpolargl\"}],\"scatterpolar\":[{\"marker\":{\"colorbar\":{\"outlinewidth\":1,\"tickcolor\":\"rgb(36,36,36)\",\"ticks\":\"outside\"}},\"type\":\"scatterpolar\"}],\"scatter\":[{\"fillpattern\":{\"fillmode\":\"overlay\",\"size\":10,\"solidity\":0.2},\"type\":\"scatter\"}],\"scatterternary\":[{\"marker\":{\"colorbar\":{\"outlinewidth\":1,\"tickcolor\":\"rgb(36,36,36)\",\"ticks\":\"outside\"}},\"type\":\"scatterternary\"}],\"surface\":[{\"colorbar\":{\"outlinewidth\":1,\"tickcolor\":\"rgb(36,36,36)\",\"ticks\":\"outside\"},\"colorscale\":[[0.0,\"#440154\"],[0.1111111111111111,\"#482878\"],[0.2222222222222222,\"#3e4989\"],[0.3333333333333333,\"#31688e\"],[0.4444444444444444,\"#26828e\"],[0.5555555555555556,\"#1f9e89\"],[0.6666666666666666,\"#35b779\"],[0.7777777777777778,\"#6ece58\"],[0.8888888888888888,\"#b5de2b\"],[1.0,\"#fde725\"]],\"type\":\"surface\"}],\"table\":[{\"cells\":{\"fill\":{\"color\":\"rgb(237,237,237)\"},\"line\":{\"color\":\"white\"}},\"header\":{\"fill\":{\"color\":\"rgb(217,217,217)\"},\"line\":{\"color\":\"white\"}},\"type\":\"table\"}]},\"layout\":{\"annotationdefaults\":{\"arrowhead\":0,\"arrowwidth\":1},\"autotypenumbers\":\"strict\",\"coloraxis\":{\"colorbar\":{\"outlinewidth\":1,\"tickcolor\":\"rgb(36,36,36)\",\"ticks\":\"outside\"}},\"colorscale\":{\"diverging\":[[0.0,\"rgb(103,0,31)\"],[0.1,\"rgb(178,24,43)\"],[0.2,\"rgb(214,96,77)\"],[0.3,\"rgb(244,165,130)\"],[0.4,\"rgb(253,219,199)\"],[0.5,\"rgb(247,247,247)\"],[0.6,\"rgb(209,229,240)\"],[0.7,\"rgb(146,197,222)\"],[0.8,\"rgb(67,147,195)\"],[0.9,\"rgb(33,102,172)\"],[1.0,\"rgb(5,48,97)\"]],\"sequential\":[[0.0,\"#440154\"],[0.1111111111111111,\"#482878\"],[0.2222222222222222,\"#3e4989\"],[0.3333333333333333,\"#31688e\"],[0.4444444444444444,\"#26828e\"],[0.5555555555555556,\"#1f9e89\"],[0.6666666666666666,\"#35b779\"],[0.7777777777777778,\"#6ece58\"],[0.8888888888888888,\"#b5de2b\"],[1.0,\"#fde725\"]],\"sequentialminus\":[[0.0,\"#440154\"],[0.1111111111111111,\"#482878\"],[0.2222222222222222,\"#3e4989\"],[0.3333333333333333,\"#31688e\"],[0.4444444444444444,\"#26828e\"],[0.5555555555555556,\"#1f9e89\"],[0.6666666666666666,\"#35b779\"],[0.7777777777777778,\"#6ece58\"],[0.8888888888888888,\"#b5de2b\"],[1.0,\"#fde725\"]]},\"colorway\":[\"#1F77B4\",\"#FF7F0E\",\"#2CA02C\",\"#D62728\",\"#9467BD\",\"#8C564B\",\"#E377C2\",\"#7F7F7F\",\"#BCBD22\",\"#17BECF\"],\"font\":{\"color\":\"rgb(36,36,36)\"},\"geo\":{\"bgcolor\":\"white\",\"lakecolor\":\"white\",\"landcolor\":\"white\",\"showlakes\":true,\"showland\":true,\"subunitcolor\":\"white\"},\"hoverlabel\":{\"align\":\"left\"},\"hovermode\":\"closest\",\"mapbox\":{\"style\":\"light\"},\"paper_bgcolor\":\"white\",\"plot_bgcolor\":\"white\",\"polar\":{\"angularaxis\":{\"gridcolor\":\"rgb(232,232,232)\",\"linecolor\":\"rgb(36,36,36)\",\"showgrid\":false,\"showline\":true,\"ticks\":\"outside\"},\"bgcolor\":\"white\",\"radialaxis\":{\"gridcolor\":\"rgb(232,232,232)\",\"linecolor\":\"rgb(36,36,36)\",\"showgrid\":false,\"showline\":true,\"ticks\":\"outside\"}},\"scene\":{\"xaxis\":{\"backgroundcolor\":\"white\",\"gridcolor\":\"rgb(232,232,232)\",\"gridwidth\":2,\"linecolor\":\"rgb(36,36,36)\",\"showbackground\":true,\"showgrid\":false,\"showline\":true,\"ticks\":\"outside\",\"zeroline\":false,\"zerolinecolor\":\"rgb(36,36,36)\"},\"yaxis\":{\"backgroundcolor\":\"white\",\"gridcolor\":\"rgb(232,232,232)\",\"gridwidth\":2,\"linecolor\":\"rgb(36,36,36)\",\"showbackground\":true,\"showgrid\":false,\"showline\":true,\"ticks\":\"outside\",\"zeroline\":false,\"zerolinecolor\":\"rgb(36,36,36)\"},\"zaxis\":{\"backgroundcolor\":\"white\",\"gridcolor\":\"rgb(232,232,232)\",\"gridwidth\":2,\"linecolor\":\"rgb(36,36,36)\",\"showbackground\":true,\"showgrid\":false,\"showline\":true,\"ticks\":\"outside\",\"zeroline\":false,\"zerolinecolor\":\"rgb(36,36,36)\"}},\"shapedefaults\":{\"fillcolor\":\"black\",\"line\":{\"width\":0},\"opacity\":0.3},\"ternary\":{\"aaxis\":{\"gridcolor\":\"rgb(232,232,232)\",\"linecolor\":\"rgb(36,36,36)\",\"showgrid\":false,\"showline\":true,\"ticks\":\"outside\"},\"baxis\":{\"gridcolor\":\"rgb(232,232,232)\",\"linecolor\":\"rgb(36,36,36)\",\"showgrid\":false,\"showline\":true,\"ticks\":\"outside\"},\"bgcolor\":\"white\",\"caxis\":{\"gridcolor\":\"rgb(232,232,232)\",\"linecolor\":\"rgb(36,36,36)\",\"showgrid\":false,\"showline\":true,\"ticks\":\"outside\"}},\"title\":{\"x\":0.05},\"xaxis\":{\"automargin\":true,\"gridcolor\":\"rgb(232,232,232)\",\"linecolor\":\"rgb(36,36,36)\",\"showgrid\":false,\"showline\":true,\"ticks\":\"outside\",\"title\":{\"standoff\":15},\"zeroline\":false,\"zerolinecolor\":\"rgb(36,36,36)\"},\"yaxis\":{\"automargin\":true,\"gridcolor\":\"rgb(232,232,232)\",\"linecolor\":\"rgb(36,36,36)\",\"showgrid\":false,\"showline\":true,\"ticks\":\"outside\",\"title\":{\"standoff\":15},\"zeroline\":false,\"zerolinecolor\":\"rgb(36,36,36)\"}}},\"xaxis\":{\"anchor\":\"y\",\"domain\":[0.0,1.0],\"title\":{\"text\":\"\"},\"visible\":false,\"range\":[-14.264268016815185,5.179398417472839]},\"yaxis\":{\"anchor\":\"x\",\"domain\":[0.0,1.0],\"title\":{\"text\":\"\"},\"visible\":false,\"range\":[-17.183642625808716,8.436102199554444]},\"legend\":{\"tracegroupgap\":0,\"itemsizing\":\"constant\"},\"margin\":{\"t\":60},\"title\":{\"font\":{\"size\":22,\"color\":\"Black\"},\"text\":\"\\u003cb\\u003eIntertopic Distance Map\\u003c\\u002fb\\u003e\",\"y\":0.95,\"x\":0.5,\"xanchor\":\"center\",\"yanchor\":\"top\"},\"hoverlabel\":{\"font\":{\"size\":16,\"family\":\"Rockwell\"},\"bgcolor\":\"white\"},\"width\":650,\"height\":650,\"sliders\":[{\"active\":0,\"pad\":{\"t\":50},\"steps\":[{\"args\":[{\"marker.color\":[[\"red\",\"#B0BEC5\",\"#B0BEC5\",\"#B0BEC5\",\"#B0BEC5\",\"#B0BEC5\",\"#B0BEC5\",\"#B0BEC5\",\"#B0BEC5\",\"#B0BEC5\",\"#B0BEC5\",\"#B0BEC5\",\"#B0BEC5\",\"#B0BEC5\",\"#B0BEC5\",\"#B0BEC5\",\"#B0BEC5\"]]}],\"label\":\"Topic 0\",\"method\":\"update\"},{\"args\":[{\"marker.color\":[[\"#B0BEC5\",\"red\",\"#B0BEC5\",\"#B0BEC5\",\"#B0BEC5\",\"#B0BEC5\",\"#B0BEC5\",\"#B0BEC5\",\"#B0BEC5\",\"#B0BEC5\",\"#B0BEC5\",\"#B0BEC5\",\"#B0BEC5\",\"#B0BEC5\",\"#B0BEC5\",\"#B0BEC5\",\"#B0BEC5\"]]}],\"label\":\"Topic 1\",\"method\":\"update\"},{\"args\":[{\"marker.color\":[[\"#B0BEC5\",\"#B0BEC5\",\"red\",\"#B0BEC5\",\"#B0BEC5\",\"#B0BEC5\",\"#B0BEC5\",\"#B0BEC5\",\"#B0BEC5\",\"#B0BEC5\",\"#B0BEC5\",\"#B0BEC5\",\"#B0BEC5\",\"#B0BEC5\",\"#B0BEC5\",\"#B0BEC5\",\"#B0BEC5\"]]}],\"label\":\"Topic 2\",\"method\":\"update\"},{\"args\":[{\"marker.color\":[[\"#B0BEC5\",\"#B0BEC5\",\"#B0BEC5\",\"red\",\"#B0BEC5\",\"#B0BEC5\",\"#B0BEC5\",\"#B0BEC5\",\"#B0BEC5\",\"#B0BEC5\",\"#B0BEC5\",\"#B0BEC5\",\"#B0BEC5\",\"#B0BEC5\",\"#B0BEC5\",\"#B0BEC5\",\"#B0BEC5\"]]}],\"label\":\"Topic 3\",\"method\":\"update\"},{\"args\":[{\"marker.color\":[[\"#B0BEC5\",\"#B0BEC5\",\"#B0BEC5\",\"#B0BEC5\",\"red\",\"#B0BEC5\",\"#B0BEC5\",\"#B0BEC5\",\"#B0BEC5\",\"#B0BEC5\",\"#B0BEC5\",\"#B0BEC5\",\"#B0BEC5\",\"#B0BEC5\",\"#B0BEC5\",\"#B0BEC5\",\"#B0BEC5\"]]}],\"label\":\"Topic 4\",\"method\":\"update\"},{\"args\":[{\"marker.color\":[[\"#B0BEC5\",\"#B0BEC5\",\"#B0BEC5\",\"#B0BEC5\",\"#B0BEC5\",\"red\",\"#B0BEC5\",\"#B0BEC5\",\"#B0BEC5\",\"#B0BEC5\",\"#B0BEC5\",\"#B0BEC5\",\"#B0BEC5\",\"#B0BEC5\",\"#B0BEC5\",\"#B0BEC5\",\"#B0BEC5\"]]}],\"label\":\"Topic 5\",\"method\":\"update\"},{\"args\":[{\"marker.color\":[[\"#B0BEC5\",\"#B0BEC5\",\"#B0BEC5\",\"#B0BEC5\",\"#B0BEC5\",\"#B0BEC5\",\"red\",\"#B0BEC5\",\"#B0BEC5\",\"#B0BEC5\",\"#B0BEC5\",\"#B0BEC5\",\"#B0BEC5\",\"#B0BEC5\",\"#B0BEC5\",\"#B0BEC5\",\"#B0BEC5\"]]}],\"label\":\"Topic 6\",\"method\":\"update\"},{\"args\":[{\"marker.color\":[[\"#B0BEC5\",\"#B0BEC5\",\"#B0BEC5\",\"#B0BEC5\",\"#B0BEC5\",\"#B0BEC5\",\"#B0BEC5\",\"red\",\"#B0BEC5\",\"#B0BEC5\",\"#B0BEC5\",\"#B0BEC5\",\"#B0BEC5\",\"#B0BEC5\",\"#B0BEC5\",\"#B0BEC5\",\"#B0BEC5\"]]}],\"label\":\"Topic 7\",\"method\":\"update\"},{\"args\":[{\"marker.color\":[[\"#B0BEC5\",\"#B0BEC5\",\"#B0BEC5\",\"#B0BEC5\",\"#B0BEC5\",\"#B0BEC5\",\"#B0BEC5\",\"#B0BEC5\",\"red\",\"#B0BEC5\",\"#B0BEC5\",\"#B0BEC5\",\"#B0BEC5\",\"#B0BEC5\",\"#B0BEC5\",\"#B0BEC5\",\"#B0BEC5\"]]}],\"label\":\"Topic 8\",\"method\":\"update\"},{\"args\":[{\"marker.color\":[[\"#B0BEC5\",\"#B0BEC5\",\"#B0BEC5\",\"#B0BEC5\",\"#B0BEC5\",\"#B0BEC5\",\"#B0BEC5\",\"#B0BEC5\",\"#B0BEC5\",\"red\",\"#B0BEC5\",\"#B0BEC5\",\"#B0BEC5\",\"#B0BEC5\",\"#B0BEC5\",\"#B0BEC5\",\"#B0BEC5\"]]}],\"label\":\"Topic 9\",\"method\":\"update\"},{\"args\":[{\"marker.color\":[[\"#B0BEC5\",\"#B0BEC5\",\"#B0BEC5\",\"#B0BEC5\",\"#B0BEC5\",\"#B0BEC5\",\"#B0BEC5\",\"#B0BEC5\",\"#B0BEC5\",\"#B0BEC5\",\"red\",\"#B0BEC5\",\"#B0BEC5\",\"#B0BEC5\",\"#B0BEC5\",\"#B0BEC5\",\"#B0BEC5\"]]}],\"label\":\"Topic 10\",\"method\":\"update\"},{\"args\":[{\"marker.color\":[[\"#B0BEC5\",\"#B0BEC5\",\"#B0BEC5\",\"#B0BEC5\",\"#B0BEC5\",\"#B0BEC5\",\"#B0BEC5\",\"#B0BEC5\",\"#B0BEC5\",\"#B0BEC5\",\"#B0BEC5\",\"red\",\"#B0BEC5\",\"#B0BEC5\",\"#B0BEC5\",\"#B0BEC5\",\"#B0BEC5\"]]}],\"label\":\"Topic 11\",\"method\":\"update\"},{\"args\":[{\"marker.color\":[[\"#B0BEC5\",\"#B0BEC5\",\"#B0BEC5\",\"#B0BEC5\",\"#B0BEC5\",\"#B0BEC5\",\"#B0BEC5\",\"#B0BEC5\",\"#B0BEC5\",\"#B0BEC5\",\"#B0BEC5\",\"#B0BEC5\",\"red\",\"#B0BEC5\",\"#B0BEC5\",\"#B0BEC5\",\"#B0BEC5\"]]}],\"label\":\"Topic 12\",\"method\":\"update\"},{\"args\":[{\"marker.color\":[[\"#B0BEC5\",\"#B0BEC5\",\"#B0BEC5\",\"#B0BEC5\",\"#B0BEC5\",\"#B0BEC5\",\"#B0BEC5\",\"#B0BEC5\",\"#B0BEC5\",\"#B0BEC5\",\"#B0BEC5\",\"#B0BEC5\",\"#B0BEC5\",\"red\",\"#B0BEC5\",\"#B0BEC5\",\"#B0BEC5\"]]}],\"label\":\"Topic 13\",\"method\":\"update\"},{\"args\":[{\"marker.color\":[[\"#B0BEC5\",\"#B0BEC5\",\"#B0BEC5\",\"#B0BEC5\",\"#B0BEC5\",\"#B0BEC5\",\"#B0BEC5\",\"#B0BEC5\",\"#B0BEC5\",\"#B0BEC5\",\"#B0BEC5\",\"#B0BEC5\",\"#B0BEC5\",\"#B0BEC5\",\"red\",\"#B0BEC5\",\"#B0BEC5\"]]}],\"label\":\"Topic 14\",\"method\":\"update\"},{\"args\":[{\"marker.color\":[[\"#B0BEC5\",\"#B0BEC5\",\"#B0BEC5\",\"#B0BEC5\",\"#B0BEC5\",\"#B0BEC5\",\"#B0BEC5\",\"#B0BEC5\",\"#B0BEC5\",\"#B0BEC5\",\"#B0BEC5\",\"#B0BEC5\",\"#B0BEC5\",\"#B0BEC5\",\"#B0BEC5\",\"red\",\"#B0BEC5\"]]}],\"label\":\"Topic 15\",\"method\":\"update\"},{\"args\":[{\"marker.color\":[[\"#B0BEC5\",\"#B0BEC5\",\"#B0BEC5\",\"#B0BEC5\",\"#B0BEC5\",\"#B0BEC5\",\"#B0BEC5\",\"#B0BEC5\",\"#B0BEC5\",\"#B0BEC5\",\"#B0BEC5\",\"#B0BEC5\",\"#B0BEC5\",\"#B0BEC5\",\"#B0BEC5\",\"#B0BEC5\",\"red\"]]}],\"label\":\"Topic 16\",\"method\":\"update\"}]}],\"shapes\":[{\"line\":{\"color\":\"#CFD8DC\",\"width\":2},\"type\":\"line\",\"x0\":-4.542434799671173,\"x1\":-4.542434799671173,\"y0\":-17.183642625808716,\"y1\":8.436102199554444},{\"line\":{\"color\":\"#9E9E9E\",\"width\":2},\"type\":\"line\",\"x0\":-14.264268016815185,\"x1\":5.179398417472839,\"y0\":-4.373770213127136,\"y1\":-4.373770213127136}],\"annotations\":[{\"showarrow\":false,\"text\":\"D1\",\"x\":-14.264268016815185,\"y\":-4.373770213127136,\"yshift\":10},{\"showarrow\":false,\"text\":\"D2\",\"x\":-4.542434799671173,\"xshift\":10,\"y\":8.436102199554444}]},                        {\"responsive\": true}                    ).then(function(){\n",
       "                            \n",
       "var gd = document.getElementById('0e52cb0b-72cb-4043-ac2d-fec1ac8af959');\n",
       "var x = new MutationObserver(function (mutations, observer) {{\n",
       "        var display = window.getComputedStyle(gd).display;\n",
       "        if (!display || display === 'none') {{\n",
       "            console.log([gd, 'removed!']);\n",
       "            Plotly.purge(gd);\n",
       "            observer.disconnect();\n",
       "        }}\n",
       "}});\n",
       "\n",
       "// Listen for the removal of the full notebook cells\n",
       "var notebookContainer = gd.closest('#notebook-container');\n",
       "if (notebookContainer) {{\n",
       "    x.observe(notebookContainer, {childList: true});\n",
       "}}\n",
       "\n",
       "// Listen for the clearing of the current output cell\n",
       "var outputEl = gd.closest('.output');\n",
       "if (outputEl) {{\n",
       "    x.observe(outputEl, {childList: true});\n",
       "}}\n",
       "\n",
       "                        })                };                });            </script>        </div>"
      ]
     },
     "metadata": {},
     "output_type": "display_data"
    }
   ],
   "source": [
    "model.visualize_topics()"
   ]
  },
  {
   "cell_type": "code",
   "execution_count": 54,
   "metadata": {},
   "outputs": [
    {
     "data": {
      "application/vnd.plotly.v1+json": {
       "config": {
        "plotlyServerURL": "https://plot.ly"
       },
       "data": [
        {
         "marker": {
          "color": "#D55E00"
         },
         "orientation": "h",
         "type": "bar",
         "x": [
          0.12342612356343326,
          0.14079692572953956,
          0.14079692572953956,
          0.1724639310626365,
          0.26406782984263855
         ],
         "xaxis": "x",
         "y": [
          "say  ",
          "na  ",
          "ok  ",
          "like  ",
          "dislike  "
         ],
         "yaxis": "y"
        },
        {
         "marker": {
          "color": "#0072B2"
         },
         "orientation": "h",
         "type": "bar",
         "x": [
          0.05043837878566077,
          0.051467935286813135,
          0.05374406865817678,
          0.07072300616681092,
          0.1942185602013692
         ],
         "xaxis": "x2",
         "y": [
          "work  ",
          "working  ",
          "company  ",
          "good  ",
          "culture  "
         ],
         "yaxis": "y2"
        },
        {
         "marker": {
          "color": "#CC79A7"
         },
         "orientation": "h",
         "type": "bar",
         "x": [
          0.03445536017605596,
          0.03694416728594144,
          0.07073594581134339,
          0.12114056083788899,
          0.18613672176773424
         ],
         "xaxis": "x3",
         "y": [
          "company  ",
          "good  ",
          "electrical  ",
          "electricals  ",
          "bajaj  "
         ],
         "yaxis": "y3"
        },
        {
         "marker": {
          "color": "#E69F00"
         },
         "orientation": "h",
         "type": "bar",
         "x": [
          0.07093581325624243,
          0.08653952013476149,
          0.09124985391897222,
          0.10729014042981137,
          0.2723361228429591
         ],
         "xaxis": "x4",
         "y": [
          "timely  ",
          "benefits  ",
          "increment  ",
          "time  ",
          "salary  "
         ],
         "yaxis": "y4"
        },
        {
         "marker": {
          "color": "#56B4E9"
         },
         "orientation": "h",
         "type": "bar",
         "x": [
          0.049248031053839514,
          0.0717935834490093,
          0.08435914134276466,
          0.08617590870562385,
          0.13187620208561024
         ],
         "xaxis": "x5",
         "y": [
          "customer  ",
          "product  ",
          "good  ",
          "brand  ",
          "company  "
         ],
         "yaxis": "y5"
        },
        {
         "marker": {
          "color": "#009E73"
         },
         "orientation": "h",
         "type": "bar",
         "x": [
          0.04394742736391355,
          0.05653434331052363,
          0.06773530170224926,
          0.06970169581937616,
          0.133904225289191
         ],
         "xaxis": "x6",
         "y": [
          "address  ",
          "career  ",
          "lot  ",
          "staff  ",
          "management  "
         ],
         "yaxis": "y6"
        },
        {
         "marker": {
          "color": "#F0E442"
         },
         "orientation": "h",
         "type": "bar",
         "x": [
          0.11714498876221924,
          0.1195087835689166,
          0.16277671644395614,
          0.16348963572729597,
          0.1733830786948887
         ],
         "xaxis": "x7",
         "y": [
          "working  ",
          "good  ",
          "place  ",
          "environment  ",
          "atmosphere  "
         ],
         "yaxis": "y7"
        },
        {
         "marker": {
          "color": "#D55E00"
         },
         "orientation": "h",
         "type": "bar",
         "x": [
          0.05100062831308937,
          0.13424110605086056,
          0.14611117664100143,
          0.14985874664835494,
          0.1780220477919445
         ],
         "xaxis": "x8",
         "y": [
          "covid  ",
          "pressure  ",
          "work  ",
          "life  ",
          "balance  "
         ],
         "yaxis": "y8"
        },
        {
         "marker": {
          "color": "#0072B2"
         },
         "orientation": "h",
         "type": "bar",
         "x": [
          0.08422122106748703,
          0.09664803960085379,
          0.12886405280113838,
          0.14580139496482394,
          0.16108006600142297
         ],
         "xaxis": "x9",
         "y": [
          "area  ",
          "timing  ",
          "days  ",
          "time  ",
          "flexible  "
         ],
         "yaxis": "y9"
        },
        {
         "marker": {
          "color": "#CC79A7"
         },
         "orientation": "h",
         "type": "bar",
         "x": [
          0.10742704466734423,
          0.11769375764559084,
          0.1891733053391762,
          0.3167846676683667,
          0.3445691286977029
         ],
         "xaxis": "x10",
         "y": [
          "secure  ",
          "proffession  ",
          "safety  ",
          "security  ",
          "job  "
         ],
         "yaxis": "y10"
        },
        {
         "marker": {
          "color": "#E69F00"
         },
         "orientation": "h",
         "type": "bar",
         "x": [
          0.11604981575063172,
          0.12359981847556424,
          0.12444519035722054,
          0.1276866045166478,
          0.1544997730944553
         ],
         "xaxis": "x11",
         "y": [
          "things  ",
          "development  ",
          "learnings  ",
          "new  ",
          "learning  "
         ],
         "yaxis": "y11"
        },
        {
         "marker": {
          "color": "#56B4E9"
         },
         "orientation": "h",
         "type": "bar",
         "x": [
          0.09766077762080942,
          0.11773019534406179,
          0.12852871855933456,
          0.18678433185271387,
          0.34172303512311053
         ],
         "xaxis": "x12",
         "y": [
          "basis  ",
          "promotions  ",
          "process  ",
          "appraisals  ",
          "appraisal  "
         ],
         "yaxis": "y12"
        },
        {
         "marker": {
          "color": "#009E73"
         },
         "orientation": "h",
         "type": "bar",
         "x": [
          0.07433964308775376,
          0.08508239115899613,
          0.12433046869162727,
          0.22979284210880552,
          0.25789914368249506
         ],
         "xaxis": "x13",
         "y": [
          "card  ",
          "organization  ",
          "company  ",
          "policies  ",
          "policy  "
         ],
         "yaxis": "y13"
        },
        {
         "marker": {
          "color": "#F0E442"
         },
         "orientation": "h",
         "type": "bar",
         "x": [
          0.09259850279351783,
          0.09259850279351783,
          0.0948518218368264,
          0.12321212066073757,
          0.3823479530298017
         ],
         "xaxis": "x14",
         "y": [
          "schemes  ",
          "takes  ",
          "increment  ",
          "incentives  ",
          "promotion  "
         ],
         "yaxis": "y14"
        },
        {
         "marker": {
          "color": "#D55E00"
         },
         "orientation": "h",
         "type": "bar",
         "x": [
          0.08888866154491414,
          0.10095553595244398,
          0.11817219915803931,
          0.15143330392866597,
          0.25751990109834993
         ],
         "xaxis": "x15",
         "y": [
          "internal  ",
          "survive  ",
          "company  ",
          "politician  ",
          "politics  "
         ],
         "yaxis": "y15"
        },
        {
         "marker": {
          "color": "#0072B2"
         },
         "orientation": "h",
         "type": "bar",
         "x": [
          0.07235204562230743,
          0.08390069128178784,
          0.08982678992672087,
          0.09339882078738586,
          0.23117743825985163
         ],
         "xaxis": "x16",
         "y": [
          "old  ",
          "supportive  ",
          "senior  ",
          "supporting  ",
          "seniors  "
         ],
         "yaxis": "y16"
        },
        {
         "marker": {
          "color": "#CC79A7"
         },
         "orientation": "h",
         "type": "bar",
         "x": [
          0.07496669489533131,
          0.07629516333940478,
          0.12948644277559676,
          0.1396551580675475,
          0.3051806533576191
         ],
         "xaxis": "x17",
         "y": [
          "employee  ",
          "policy  ",
          "policies  ",
          "path  ",
          "hr  "
         ],
         "yaxis": "y17"
        }
       ],
       "layout": {
        "annotations": [
         {
          "font": {
           "size": 16
          },
          "showarrow": false,
          "text": "Topic 0",
          "x": 0.0875,
          "xanchor": "center",
          "xref": "paper",
          "y": 0.9999999999999999,
          "yanchor": "bottom",
          "yref": "paper"
         },
         {
          "font": {
           "size": 16
          },
          "showarrow": false,
          "text": "Topic 1",
          "x": 0.36250000000000004,
          "xanchor": "center",
          "xref": "paper",
          "y": 0.9999999999999999,
          "yanchor": "bottom",
          "yref": "paper"
         },
         {
          "font": {
           "size": 16
          },
          "showarrow": false,
          "text": "Topic 2",
          "x": 0.6375000000000001,
          "xanchor": "center",
          "xref": "paper",
          "y": 0.9999999999999999,
          "yanchor": "bottom",
          "yref": "paper"
         },
         {
          "font": {
           "size": 16
          },
          "showarrow": false,
          "text": "Topic 3",
          "x": 0.9125,
          "xanchor": "center",
          "xref": "paper",
          "y": 0.9999999999999999,
          "yanchor": "bottom",
          "yref": "paper"
         },
         {
          "font": {
           "size": 16
          },
          "showarrow": false,
          "text": "Topic 4",
          "x": 0.0875,
          "xanchor": "center",
          "xref": "paper",
          "y": 0.7839999999999999,
          "yanchor": "bottom",
          "yref": "paper"
         },
         {
          "font": {
           "size": 16
          },
          "showarrow": false,
          "text": "Topic 5",
          "x": 0.36250000000000004,
          "xanchor": "center",
          "xref": "paper",
          "y": 0.7839999999999999,
          "yanchor": "bottom",
          "yref": "paper"
         },
         {
          "font": {
           "size": 16
          },
          "showarrow": false,
          "text": "Topic 6",
          "x": 0.6375000000000001,
          "xanchor": "center",
          "xref": "paper",
          "y": 0.7839999999999999,
          "yanchor": "bottom",
          "yref": "paper"
         },
         {
          "font": {
           "size": 16
          },
          "showarrow": false,
          "text": "Topic 7",
          "x": 0.9125,
          "xanchor": "center",
          "xref": "paper",
          "y": 0.7839999999999999,
          "yanchor": "bottom",
          "yref": "paper"
         },
         {
          "font": {
           "size": 16
          },
          "showarrow": false,
          "text": "Topic 8",
          "x": 0.0875,
          "xanchor": "center",
          "xref": "paper",
          "y": 0.568,
          "yanchor": "bottom",
          "yref": "paper"
         },
         {
          "font": {
           "size": 16
          },
          "showarrow": false,
          "text": "Topic 9",
          "x": 0.36250000000000004,
          "xanchor": "center",
          "xref": "paper",
          "y": 0.568,
          "yanchor": "bottom",
          "yref": "paper"
         },
         {
          "font": {
           "size": 16
          },
          "showarrow": false,
          "text": "Topic 10",
          "x": 0.6375000000000001,
          "xanchor": "center",
          "xref": "paper",
          "y": 0.568,
          "yanchor": "bottom",
          "yref": "paper"
         },
         {
          "font": {
           "size": 16
          },
          "showarrow": false,
          "text": "Topic 11",
          "x": 0.9125,
          "xanchor": "center",
          "xref": "paper",
          "y": 0.568,
          "yanchor": "bottom",
          "yref": "paper"
         },
         {
          "font": {
           "size": 16
          },
          "showarrow": false,
          "text": "Topic 12",
          "x": 0.0875,
          "xanchor": "center",
          "xref": "paper",
          "y": 0.352,
          "yanchor": "bottom",
          "yref": "paper"
         },
         {
          "font": {
           "size": 16
          },
          "showarrow": false,
          "text": "Topic 13",
          "x": 0.36250000000000004,
          "xanchor": "center",
          "xref": "paper",
          "y": 0.352,
          "yanchor": "bottom",
          "yref": "paper"
         },
         {
          "font": {
           "size": 16
          },
          "showarrow": false,
          "text": "Topic 14",
          "x": 0.6375000000000001,
          "xanchor": "center",
          "xref": "paper",
          "y": 0.352,
          "yanchor": "bottom",
          "yref": "paper"
         },
         {
          "font": {
           "size": 16
          },
          "showarrow": false,
          "text": "Topic 15",
          "x": 0.9125,
          "xanchor": "center",
          "xref": "paper",
          "y": 0.352,
          "yanchor": "bottom",
          "yref": "paper"
         },
         {
          "font": {
           "size": 16
          },
          "showarrow": false,
          "text": "Topic 16",
          "x": 0.0875,
          "xanchor": "center",
          "xref": "paper",
          "y": 0.13599999999999998,
          "yanchor": "bottom",
          "yref": "paper"
         }
        ],
        "height": 1250,
        "hoverlabel": {
         "bgcolor": "white",
         "font": {
          "family": "Rockwell",
          "size": 16
         }
        },
        "showlegend": false,
        "template": {
         "data": {
          "bar": [
           {
            "error_x": {
             "color": "#2a3f5f"
            },
            "error_y": {
             "color": "#2a3f5f"
            },
            "marker": {
             "line": {
              "color": "white",
              "width": 0.5
             },
             "pattern": {
              "fillmode": "overlay",
              "size": 10,
              "solidity": 0.2
             }
            },
            "type": "bar"
           }
          ],
          "barpolar": [
           {
            "marker": {
             "line": {
              "color": "white",
              "width": 0.5
             },
             "pattern": {
              "fillmode": "overlay",
              "size": 10,
              "solidity": 0.2
             }
            },
            "type": "barpolar"
           }
          ],
          "carpet": [
           {
            "aaxis": {
             "endlinecolor": "#2a3f5f",
             "gridcolor": "#C8D4E3",
             "linecolor": "#C8D4E3",
             "minorgridcolor": "#C8D4E3",
             "startlinecolor": "#2a3f5f"
            },
            "baxis": {
             "endlinecolor": "#2a3f5f",
             "gridcolor": "#C8D4E3",
             "linecolor": "#C8D4E3",
             "minorgridcolor": "#C8D4E3",
             "startlinecolor": "#2a3f5f"
            },
            "type": "carpet"
           }
          ],
          "choropleth": [
           {
            "colorbar": {
             "outlinewidth": 0,
             "ticks": ""
            },
            "type": "choropleth"
           }
          ],
          "contour": [
           {
            "colorbar": {
             "outlinewidth": 0,
             "ticks": ""
            },
            "colorscale": [
             [
              0,
              "#0d0887"
             ],
             [
              0.1111111111111111,
              "#46039f"
             ],
             [
              0.2222222222222222,
              "#7201a8"
             ],
             [
              0.3333333333333333,
              "#9c179e"
             ],
             [
              0.4444444444444444,
              "#bd3786"
             ],
             [
              0.5555555555555556,
              "#d8576b"
             ],
             [
              0.6666666666666666,
              "#ed7953"
             ],
             [
              0.7777777777777778,
              "#fb9f3a"
             ],
             [
              0.8888888888888888,
              "#fdca26"
             ],
             [
              1,
              "#f0f921"
             ]
            ],
            "type": "contour"
           }
          ],
          "contourcarpet": [
           {
            "colorbar": {
             "outlinewidth": 0,
             "ticks": ""
            },
            "type": "contourcarpet"
           }
          ],
          "heatmap": [
           {
            "colorbar": {
             "outlinewidth": 0,
             "ticks": ""
            },
            "colorscale": [
             [
              0,
              "#0d0887"
             ],
             [
              0.1111111111111111,
              "#46039f"
             ],
             [
              0.2222222222222222,
              "#7201a8"
             ],
             [
              0.3333333333333333,
              "#9c179e"
             ],
             [
              0.4444444444444444,
              "#bd3786"
             ],
             [
              0.5555555555555556,
              "#d8576b"
             ],
             [
              0.6666666666666666,
              "#ed7953"
             ],
             [
              0.7777777777777778,
              "#fb9f3a"
             ],
             [
              0.8888888888888888,
              "#fdca26"
             ],
             [
              1,
              "#f0f921"
             ]
            ],
            "type": "heatmap"
           }
          ],
          "heatmapgl": [
           {
            "colorbar": {
             "outlinewidth": 0,
             "ticks": ""
            },
            "colorscale": [
             [
              0,
              "#0d0887"
             ],
             [
              0.1111111111111111,
              "#46039f"
             ],
             [
              0.2222222222222222,
              "#7201a8"
             ],
             [
              0.3333333333333333,
              "#9c179e"
             ],
             [
              0.4444444444444444,
              "#bd3786"
             ],
             [
              0.5555555555555556,
              "#d8576b"
             ],
             [
              0.6666666666666666,
              "#ed7953"
             ],
             [
              0.7777777777777778,
              "#fb9f3a"
             ],
             [
              0.8888888888888888,
              "#fdca26"
             ],
             [
              1,
              "#f0f921"
             ]
            ],
            "type": "heatmapgl"
           }
          ],
          "histogram": [
           {
            "marker": {
             "pattern": {
              "fillmode": "overlay",
              "size": 10,
              "solidity": 0.2
             }
            },
            "type": "histogram"
           }
          ],
          "histogram2d": [
           {
            "colorbar": {
             "outlinewidth": 0,
             "ticks": ""
            },
            "colorscale": [
             [
              0,
              "#0d0887"
             ],
             [
              0.1111111111111111,
              "#46039f"
             ],
             [
              0.2222222222222222,
              "#7201a8"
             ],
             [
              0.3333333333333333,
              "#9c179e"
             ],
             [
              0.4444444444444444,
              "#bd3786"
             ],
             [
              0.5555555555555556,
              "#d8576b"
             ],
             [
              0.6666666666666666,
              "#ed7953"
             ],
             [
              0.7777777777777778,
              "#fb9f3a"
             ],
             [
              0.8888888888888888,
              "#fdca26"
             ],
             [
              1,
              "#f0f921"
             ]
            ],
            "type": "histogram2d"
           }
          ],
          "histogram2dcontour": [
           {
            "colorbar": {
             "outlinewidth": 0,
             "ticks": ""
            },
            "colorscale": [
             [
              0,
              "#0d0887"
             ],
             [
              0.1111111111111111,
              "#46039f"
             ],
             [
              0.2222222222222222,
              "#7201a8"
             ],
             [
              0.3333333333333333,
              "#9c179e"
             ],
             [
              0.4444444444444444,
              "#bd3786"
             ],
             [
              0.5555555555555556,
              "#d8576b"
             ],
             [
              0.6666666666666666,
              "#ed7953"
             ],
             [
              0.7777777777777778,
              "#fb9f3a"
             ],
             [
              0.8888888888888888,
              "#fdca26"
             ],
             [
              1,
              "#f0f921"
             ]
            ],
            "type": "histogram2dcontour"
           }
          ],
          "mesh3d": [
           {
            "colorbar": {
             "outlinewidth": 0,
             "ticks": ""
            },
            "type": "mesh3d"
           }
          ],
          "parcoords": [
           {
            "line": {
             "colorbar": {
              "outlinewidth": 0,
              "ticks": ""
             }
            },
            "type": "parcoords"
           }
          ],
          "pie": [
           {
            "automargin": true,
            "type": "pie"
           }
          ],
          "scatter": [
           {
            "fillpattern": {
             "fillmode": "overlay",
             "size": 10,
             "solidity": 0.2
            },
            "type": "scatter"
           }
          ],
          "scatter3d": [
           {
            "line": {
             "colorbar": {
              "outlinewidth": 0,
              "ticks": ""
             }
            },
            "marker": {
             "colorbar": {
              "outlinewidth": 0,
              "ticks": ""
             }
            },
            "type": "scatter3d"
           }
          ],
          "scattercarpet": [
           {
            "marker": {
             "colorbar": {
              "outlinewidth": 0,
              "ticks": ""
             }
            },
            "type": "scattercarpet"
           }
          ],
          "scattergeo": [
           {
            "marker": {
             "colorbar": {
              "outlinewidth": 0,
              "ticks": ""
             }
            },
            "type": "scattergeo"
           }
          ],
          "scattergl": [
           {
            "marker": {
             "colorbar": {
              "outlinewidth": 0,
              "ticks": ""
             }
            },
            "type": "scattergl"
           }
          ],
          "scattermapbox": [
           {
            "marker": {
             "colorbar": {
              "outlinewidth": 0,
              "ticks": ""
             }
            },
            "type": "scattermapbox"
           }
          ],
          "scatterpolar": [
           {
            "marker": {
             "colorbar": {
              "outlinewidth": 0,
              "ticks": ""
             }
            },
            "type": "scatterpolar"
           }
          ],
          "scatterpolargl": [
           {
            "marker": {
             "colorbar": {
              "outlinewidth": 0,
              "ticks": ""
             }
            },
            "type": "scatterpolargl"
           }
          ],
          "scatterternary": [
           {
            "marker": {
             "colorbar": {
              "outlinewidth": 0,
              "ticks": ""
             }
            },
            "type": "scatterternary"
           }
          ],
          "surface": [
           {
            "colorbar": {
             "outlinewidth": 0,
             "ticks": ""
            },
            "colorscale": [
             [
              0,
              "#0d0887"
             ],
             [
              0.1111111111111111,
              "#46039f"
             ],
             [
              0.2222222222222222,
              "#7201a8"
             ],
             [
              0.3333333333333333,
              "#9c179e"
             ],
             [
              0.4444444444444444,
              "#bd3786"
             ],
             [
              0.5555555555555556,
              "#d8576b"
             ],
             [
              0.6666666666666666,
              "#ed7953"
             ],
             [
              0.7777777777777778,
              "#fb9f3a"
             ],
             [
              0.8888888888888888,
              "#fdca26"
             ],
             [
              1,
              "#f0f921"
             ]
            ],
            "type": "surface"
           }
          ],
          "table": [
           {
            "cells": {
             "fill": {
              "color": "#EBF0F8"
             },
             "line": {
              "color": "white"
             }
            },
            "header": {
             "fill": {
              "color": "#C8D4E3"
             },
             "line": {
              "color": "white"
             }
            },
            "type": "table"
           }
          ]
         },
         "layout": {
          "annotationdefaults": {
           "arrowcolor": "#2a3f5f",
           "arrowhead": 0,
           "arrowwidth": 1
          },
          "autotypenumbers": "strict",
          "coloraxis": {
           "colorbar": {
            "outlinewidth": 0,
            "ticks": ""
           }
          },
          "colorscale": {
           "diverging": [
            [
             0,
             "#8e0152"
            ],
            [
             0.1,
             "#c51b7d"
            ],
            [
             0.2,
             "#de77ae"
            ],
            [
             0.3,
             "#f1b6da"
            ],
            [
             0.4,
             "#fde0ef"
            ],
            [
             0.5,
             "#f7f7f7"
            ],
            [
             0.6,
             "#e6f5d0"
            ],
            [
             0.7,
             "#b8e186"
            ],
            [
             0.8,
             "#7fbc41"
            ],
            [
             0.9,
             "#4d9221"
            ],
            [
             1,
             "#276419"
            ]
           ],
           "sequential": [
            [
             0,
             "#0d0887"
            ],
            [
             0.1111111111111111,
             "#46039f"
            ],
            [
             0.2222222222222222,
             "#7201a8"
            ],
            [
             0.3333333333333333,
             "#9c179e"
            ],
            [
             0.4444444444444444,
             "#bd3786"
            ],
            [
             0.5555555555555556,
             "#d8576b"
            ],
            [
             0.6666666666666666,
             "#ed7953"
            ],
            [
             0.7777777777777778,
             "#fb9f3a"
            ],
            [
             0.8888888888888888,
             "#fdca26"
            ],
            [
             1,
             "#f0f921"
            ]
           ],
           "sequentialminus": [
            [
             0,
             "#0d0887"
            ],
            [
             0.1111111111111111,
             "#46039f"
            ],
            [
             0.2222222222222222,
             "#7201a8"
            ],
            [
             0.3333333333333333,
             "#9c179e"
            ],
            [
             0.4444444444444444,
             "#bd3786"
            ],
            [
             0.5555555555555556,
             "#d8576b"
            ],
            [
             0.6666666666666666,
             "#ed7953"
            ],
            [
             0.7777777777777778,
             "#fb9f3a"
            ],
            [
             0.8888888888888888,
             "#fdca26"
            ],
            [
             1,
             "#f0f921"
            ]
           ]
          },
          "colorway": [
           "#636efa",
           "#EF553B",
           "#00cc96",
           "#ab63fa",
           "#FFA15A",
           "#19d3f3",
           "#FF6692",
           "#B6E880",
           "#FF97FF",
           "#FECB52"
          ],
          "font": {
           "color": "#2a3f5f"
          },
          "geo": {
           "bgcolor": "white",
           "lakecolor": "white",
           "landcolor": "white",
           "showlakes": true,
           "showland": true,
           "subunitcolor": "#C8D4E3"
          },
          "hoverlabel": {
           "align": "left"
          },
          "hovermode": "closest",
          "mapbox": {
           "style": "light"
          },
          "paper_bgcolor": "white",
          "plot_bgcolor": "white",
          "polar": {
           "angularaxis": {
            "gridcolor": "#EBF0F8",
            "linecolor": "#EBF0F8",
            "ticks": ""
           },
           "bgcolor": "white",
           "radialaxis": {
            "gridcolor": "#EBF0F8",
            "linecolor": "#EBF0F8",
            "ticks": ""
           }
          },
          "scene": {
           "xaxis": {
            "backgroundcolor": "white",
            "gridcolor": "#DFE8F3",
            "gridwidth": 2,
            "linecolor": "#EBF0F8",
            "showbackground": true,
            "ticks": "",
            "zerolinecolor": "#EBF0F8"
           },
           "yaxis": {
            "backgroundcolor": "white",
            "gridcolor": "#DFE8F3",
            "gridwidth": 2,
            "linecolor": "#EBF0F8",
            "showbackground": true,
            "ticks": "",
            "zerolinecolor": "#EBF0F8"
           },
           "zaxis": {
            "backgroundcolor": "white",
            "gridcolor": "#DFE8F3",
            "gridwidth": 2,
            "linecolor": "#EBF0F8",
            "showbackground": true,
            "ticks": "",
            "zerolinecolor": "#EBF0F8"
           }
          },
          "shapedefaults": {
           "line": {
            "color": "#2a3f5f"
           }
          },
          "ternary": {
           "aaxis": {
            "gridcolor": "#DFE8F3",
            "linecolor": "#A2B1C6",
            "ticks": ""
           },
           "baxis": {
            "gridcolor": "#DFE8F3",
            "linecolor": "#A2B1C6",
            "ticks": ""
           },
           "bgcolor": "white",
           "caxis": {
            "gridcolor": "#DFE8F3",
            "linecolor": "#A2B1C6",
            "ticks": ""
           }
          },
          "title": {
           "x": 0.05
          },
          "xaxis": {
           "automargin": true,
           "gridcolor": "#EBF0F8",
           "linecolor": "#EBF0F8",
           "ticks": "",
           "title": {
            "standoff": 15
           },
           "zerolinecolor": "#EBF0F8",
           "zerolinewidth": 2
          },
          "yaxis": {
           "automargin": true,
           "gridcolor": "#EBF0F8",
           "linecolor": "#EBF0F8",
           "ticks": "",
           "title": {
            "standoff": 15
           },
           "zerolinecolor": "#EBF0F8",
           "zerolinewidth": 2
          }
         }
        },
        "title": {
         "font": {
          "color": "Black",
          "size": 22
         },
         "text": "Topic Word Scores",
         "x": 0.5,
         "xanchor": "center",
         "yanchor": "top"
        },
        "width": 1000,
        "xaxis": {
         "anchor": "y",
         "domain": [
          0,
          0.175
         ],
         "showgrid": true
        },
        "xaxis10": {
         "anchor": "y10",
         "domain": [
          0.275,
          0.45
         ],
         "showgrid": true
        },
        "xaxis11": {
         "anchor": "y11",
         "domain": [
          0.55,
          0.7250000000000001
         ],
         "showgrid": true
        },
        "xaxis12": {
         "anchor": "y12",
         "domain": [
          0.825,
          1
         ],
         "showgrid": true
        },
        "xaxis13": {
         "anchor": "y13",
         "domain": [
          0,
          0.175
         ],
         "showgrid": true
        },
        "xaxis14": {
         "anchor": "y14",
         "domain": [
          0.275,
          0.45
         ],
         "showgrid": true
        },
        "xaxis15": {
         "anchor": "y15",
         "domain": [
          0.55,
          0.7250000000000001
         ],
         "showgrid": true
        },
        "xaxis16": {
         "anchor": "y16",
         "domain": [
          0.825,
          1
         ],
         "showgrid": true
        },
        "xaxis17": {
         "anchor": "y17",
         "domain": [
          0,
          0.175
         ],
         "showgrid": true
        },
        "xaxis18": {
         "anchor": "y18",
         "domain": [
          0.275,
          0.45
         ],
         "showgrid": true
        },
        "xaxis19": {
         "anchor": "y19",
         "domain": [
          0.55,
          0.7250000000000001
         ],
         "showgrid": true
        },
        "xaxis2": {
         "anchor": "y2",
         "domain": [
          0.275,
          0.45
         ],
         "showgrid": true
        },
        "xaxis20": {
         "anchor": "y20",
         "domain": [
          0.825,
          1
         ],
         "showgrid": true
        },
        "xaxis3": {
         "anchor": "y3",
         "domain": [
          0.55,
          0.7250000000000001
         ],
         "showgrid": true
        },
        "xaxis4": {
         "anchor": "y4",
         "domain": [
          0.825,
          1
         ],
         "showgrid": true
        },
        "xaxis5": {
         "anchor": "y5",
         "domain": [
          0,
          0.175
         ],
         "showgrid": true
        },
        "xaxis6": {
         "anchor": "y6",
         "domain": [
          0.275,
          0.45
         ],
         "showgrid": true
        },
        "xaxis7": {
         "anchor": "y7",
         "domain": [
          0.55,
          0.7250000000000001
         ],
         "showgrid": true
        },
        "xaxis8": {
         "anchor": "y8",
         "domain": [
          0.825,
          1
         ],
         "showgrid": true
        },
        "xaxis9": {
         "anchor": "y9",
         "domain": [
          0,
          0.175
         ],
         "showgrid": true
        },
        "yaxis": {
         "anchor": "x",
         "domain": [
          0.8639999999999999,
          0.9999999999999999
         ],
         "showgrid": true
        },
        "yaxis10": {
         "anchor": "x10",
         "domain": [
          0.43199999999999994,
          0.568
         ],
         "showgrid": true
        },
        "yaxis11": {
         "anchor": "x11",
         "domain": [
          0.43199999999999994,
          0.568
         ],
         "showgrid": true
        },
        "yaxis12": {
         "anchor": "x12",
         "domain": [
          0.43199999999999994,
          0.568
         ],
         "showgrid": true
        },
        "yaxis13": {
         "anchor": "x13",
         "domain": [
          0.21599999999999997,
          0.352
         ],
         "showgrid": true
        },
        "yaxis14": {
         "anchor": "x14",
         "domain": [
          0.21599999999999997,
          0.352
         ],
         "showgrid": true
        },
        "yaxis15": {
         "anchor": "x15",
         "domain": [
          0.21599999999999997,
          0.352
         ],
         "showgrid": true
        },
        "yaxis16": {
         "anchor": "x16",
         "domain": [
          0.21599999999999997,
          0.352
         ],
         "showgrid": true
        },
        "yaxis17": {
         "anchor": "x17",
         "domain": [
          0,
          0.13599999999999998
         ],
         "showgrid": true
        },
        "yaxis18": {
         "anchor": "x18",
         "domain": [
          0,
          0.13599999999999998
         ],
         "showgrid": true
        },
        "yaxis19": {
         "anchor": "x19",
         "domain": [
          0,
          0.13599999999999998
         ],
         "showgrid": true
        },
        "yaxis2": {
         "anchor": "x2",
         "domain": [
          0.8639999999999999,
          0.9999999999999999
         ],
         "showgrid": true
        },
        "yaxis20": {
         "anchor": "x20",
         "domain": [
          0,
          0.13599999999999998
         ],
         "showgrid": true
        },
        "yaxis3": {
         "anchor": "x3",
         "domain": [
          0.8639999999999999,
          0.9999999999999999
         ],
         "showgrid": true
        },
        "yaxis4": {
         "anchor": "x4",
         "domain": [
          0.8639999999999999,
          0.9999999999999999
         ],
         "showgrid": true
        },
        "yaxis5": {
         "anchor": "x5",
         "domain": [
          0.6479999999999999,
          0.7839999999999999
         ],
         "showgrid": true
        },
        "yaxis6": {
         "anchor": "x6",
         "domain": [
          0.6479999999999999,
          0.7839999999999999
         ],
         "showgrid": true
        },
        "yaxis7": {
         "anchor": "x7",
         "domain": [
          0.6479999999999999,
          0.7839999999999999
         ],
         "showgrid": true
        },
        "yaxis8": {
         "anchor": "x8",
         "domain": [
          0.6479999999999999,
          0.7839999999999999
         ],
         "showgrid": true
        },
        "yaxis9": {
         "anchor": "x9",
         "domain": [
          0.43199999999999994,
          0.568
         ],
         "showgrid": true
        }
       }
      },
      "text/html": [
       "<div>                            <div id=\"d22ab019-6307-49c9-b5b2-302b167ccdf6\" class=\"plotly-graph-div\" style=\"height:1250px; width:1000px;\"></div>            <script type=\"text/javascript\">                require([\"plotly\"], function(Plotly) {                    window.PLOTLYENV=window.PLOTLYENV || {};                                    if (document.getElementById(\"d22ab019-6307-49c9-b5b2-302b167ccdf6\")) {                    Plotly.newPlot(                        \"d22ab019-6307-49c9-b5b2-302b167ccdf6\",                        [{\"marker\":{\"color\":\"#D55E00\"},\"orientation\":\"h\",\"x\":[0.12342612356343326,0.14079692572953956,0.14079692572953956,0.1724639310626365,0.26406782984263855],\"y\":[\"say  \",\"na  \",\"ok  \",\"like  \",\"dislike  \"],\"type\":\"bar\",\"xaxis\":\"x\",\"yaxis\":\"y\"},{\"marker\":{\"color\":\"#0072B2\"},\"orientation\":\"h\",\"x\":[0.05043837878566077,0.051467935286813135,0.05374406865817678,0.07072300616681092,0.1942185602013692],\"y\":[\"work  \",\"working  \",\"company  \",\"good  \",\"culture  \"],\"type\":\"bar\",\"xaxis\":\"x2\",\"yaxis\":\"y2\"},{\"marker\":{\"color\":\"#CC79A7\"},\"orientation\":\"h\",\"x\":[0.03445536017605596,0.03694416728594144,0.07073594581134339,0.12114056083788899,0.18613672176773424],\"y\":[\"company  \",\"good  \",\"electrical  \",\"electricals  \",\"bajaj  \"],\"type\":\"bar\",\"xaxis\":\"x3\",\"yaxis\":\"y3\"},{\"marker\":{\"color\":\"#E69F00\"},\"orientation\":\"h\",\"x\":[0.07093581325624243,0.08653952013476149,0.09124985391897222,0.10729014042981137,0.2723361228429591],\"y\":[\"timely  \",\"benefits  \",\"increment  \",\"time  \",\"salary  \"],\"type\":\"bar\",\"xaxis\":\"x4\",\"yaxis\":\"y4\"},{\"marker\":{\"color\":\"#56B4E9\"},\"orientation\":\"h\",\"x\":[0.049248031053839514,0.0717935834490093,0.08435914134276466,0.08617590870562385,0.13187620208561024],\"y\":[\"customer  \",\"product  \",\"good  \",\"brand  \",\"company  \"],\"type\":\"bar\",\"xaxis\":\"x5\",\"yaxis\":\"y5\"},{\"marker\":{\"color\":\"#009E73\"},\"orientation\":\"h\",\"x\":[0.04394742736391355,0.05653434331052363,0.06773530170224926,0.06970169581937616,0.133904225289191],\"y\":[\"address  \",\"career  \",\"lot  \",\"staff  \",\"management  \"],\"type\":\"bar\",\"xaxis\":\"x6\",\"yaxis\":\"y6\"},{\"marker\":{\"color\":\"#F0E442\"},\"orientation\":\"h\",\"x\":[0.11714498876221924,0.1195087835689166,0.16277671644395614,0.16348963572729597,0.1733830786948887],\"y\":[\"working  \",\"good  \",\"place  \",\"environment  \",\"atmosphere  \"],\"type\":\"bar\",\"xaxis\":\"x7\",\"yaxis\":\"y7\"},{\"marker\":{\"color\":\"#D55E00\"},\"orientation\":\"h\",\"x\":[0.05100062831308937,0.13424110605086056,0.14611117664100143,0.14985874664835494,0.1780220477919445],\"y\":[\"covid  \",\"pressure  \",\"work  \",\"life  \",\"balance  \"],\"type\":\"bar\",\"xaxis\":\"x8\",\"yaxis\":\"y8\"},{\"marker\":{\"color\":\"#0072B2\"},\"orientation\":\"h\",\"x\":[0.08422122106748703,0.09664803960085379,0.12886405280113838,0.14580139496482394,0.16108006600142297],\"y\":[\"area  \",\"timing  \",\"days  \",\"time  \",\"flexible  \"],\"type\":\"bar\",\"xaxis\":\"x9\",\"yaxis\":\"y9\"},{\"marker\":{\"color\":\"#CC79A7\"},\"orientation\":\"h\",\"x\":[0.10742704466734423,0.11769375764559084,0.1891733053391762,0.3167846676683667,0.3445691286977029],\"y\":[\"secure  \",\"proffession  \",\"safety  \",\"security  \",\"job  \"],\"type\":\"bar\",\"xaxis\":\"x10\",\"yaxis\":\"y10\"},{\"marker\":{\"color\":\"#E69F00\"},\"orientation\":\"h\",\"x\":[0.11604981575063172,0.12359981847556424,0.12444519035722054,0.1276866045166478,0.1544997730944553],\"y\":[\"things  \",\"development  \",\"learnings  \",\"new  \",\"learning  \"],\"type\":\"bar\",\"xaxis\":\"x11\",\"yaxis\":\"y11\"},{\"marker\":{\"color\":\"#56B4E9\"},\"orientation\":\"h\",\"x\":[0.09766077762080942,0.11773019534406179,0.12852871855933456,0.18678433185271387,0.34172303512311053],\"y\":[\"basis  \",\"promotions  \",\"process  \",\"appraisals  \",\"appraisal  \"],\"type\":\"bar\",\"xaxis\":\"x12\",\"yaxis\":\"y12\"},{\"marker\":{\"color\":\"#009E73\"},\"orientation\":\"h\",\"x\":[0.07433964308775376,0.08508239115899613,0.12433046869162727,0.22979284210880552,0.25789914368249506],\"y\":[\"card  \",\"organization  \",\"company  \",\"policies  \",\"policy  \"],\"type\":\"bar\",\"xaxis\":\"x13\",\"yaxis\":\"y13\"},{\"marker\":{\"color\":\"#F0E442\"},\"orientation\":\"h\",\"x\":[0.09259850279351783,0.09259850279351783,0.0948518218368264,0.12321212066073757,0.3823479530298017],\"y\":[\"schemes  \",\"takes  \",\"increment  \",\"incentives  \",\"promotion  \"],\"type\":\"bar\",\"xaxis\":\"x14\",\"yaxis\":\"y14\"},{\"marker\":{\"color\":\"#D55E00\"},\"orientation\":\"h\",\"x\":[0.08888866154491414,0.10095553595244398,0.11817219915803931,0.15143330392866597,0.25751990109834993],\"y\":[\"internal  \",\"survive  \",\"company  \",\"politician  \",\"politics  \"],\"type\":\"bar\",\"xaxis\":\"x15\",\"yaxis\":\"y15\"},{\"marker\":{\"color\":\"#0072B2\"},\"orientation\":\"h\",\"x\":[0.07235204562230743,0.08390069128178784,0.08982678992672087,0.09339882078738586,0.23117743825985163],\"y\":[\"old  \",\"supportive  \",\"senior  \",\"supporting  \",\"seniors  \"],\"type\":\"bar\",\"xaxis\":\"x16\",\"yaxis\":\"y16\"},{\"marker\":{\"color\":\"#CC79A7\"},\"orientation\":\"h\",\"x\":[0.07496669489533131,0.07629516333940478,0.12948644277559676,0.1396551580675475,0.3051806533576191],\"y\":[\"employee  \",\"policy  \",\"policies  \",\"path  \",\"hr  \"],\"type\":\"bar\",\"xaxis\":\"x17\",\"yaxis\":\"y17\"}],                        {\"template\":{\"data\":{\"barpolar\":[{\"marker\":{\"line\":{\"color\":\"white\",\"width\":0.5},\"pattern\":{\"fillmode\":\"overlay\",\"size\":10,\"solidity\":0.2}},\"type\":\"barpolar\"}],\"bar\":[{\"error_x\":{\"color\":\"#2a3f5f\"},\"error_y\":{\"color\":\"#2a3f5f\"},\"marker\":{\"line\":{\"color\":\"white\",\"width\":0.5},\"pattern\":{\"fillmode\":\"overlay\",\"size\":10,\"solidity\":0.2}},\"type\":\"bar\"}],\"carpet\":[{\"aaxis\":{\"endlinecolor\":\"#2a3f5f\",\"gridcolor\":\"#C8D4E3\",\"linecolor\":\"#C8D4E3\",\"minorgridcolor\":\"#C8D4E3\",\"startlinecolor\":\"#2a3f5f\"},\"baxis\":{\"endlinecolor\":\"#2a3f5f\",\"gridcolor\":\"#C8D4E3\",\"linecolor\":\"#C8D4E3\",\"minorgridcolor\":\"#C8D4E3\",\"startlinecolor\":\"#2a3f5f\"},\"type\":\"carpet\"}],\"choropleth\":[{\"colorbar\":{\"outlinewidth\":0,\"ticks\":\"\"},\"type\":\"choropleth\"}],\"contourcarpet\":[{\"colorbar\":{\"outlinewidth\":0,\"ticks\":\"\"},\"type\":\"contourcarpet\"}],\"contour\":[{\"colorbar\":{\"outlinewidth\":0,\"ticks\":\"\"},\"colorscale\":[[0.0,\"#0d0887\"],[0.1111111111111111,\"#46039f\"],[0.2222222222222222,\"#7201a8\"],[0.3333333333333333,\"#9c179e\"],[0.4444444444444444,\"#bd3786\"],[0.5555555555555556,\"#d8576b\"],[0.6666666666666666,\"#ed7953\"],[0.7777777777777778,\"#fb9f3a\"],[0.8888888888888888,\"#fdca26\"],[1.0,\"#f0f921\"]],\"type\":\"contour\"}],\"heatmapgl\":[{\"colorbar\":{\"outlinewidth\":0,\"ticks\":\"\"},\"colorscale\":[[0.0,\"#0d0887\"],[0.1111111111111111,\"#46039f\"],[0.2222222222222222,\"#7201a8\"],[0.3333333333333333,\"#9c179e\"],[0.4444444444444444,\"#bd3786\"],[0.5555555555555556,\"#d8576b\"],[0.6666666666666666,\"#ed7953\"],[0.7777777777777778,\"#fb9f3a\"],[0.8888888888888888,\"#fdca26\"],[1.0,\"#f0f921\"]],\"type\":\"heatmapgl\"}],\"heatmap\":[{\"colorbar\":{\"outlinewidth\":0,\"ticks\":\"\"},\"colorscale\":[[0.0,\"#0d0887\"],[0.1111111111111111,\"#46039f\"],[0.2222222222222222,\"#7201a8\"],[0.3333333333333333,\"#9c179e\"],[0.4444444444444444,\"#bd3786\"],[0.5555555555555556,\"#d8576b\"],[0.6666666666666666,\"#ed7953\"],[0.7777777777777778,\"#fb9f3a\"],[0.8888888888888888,\"#fdca26\"],[1.0,\"#f0f921\"]],\"type\":\"heatmap\"}],\"histogram2dcontour\":[{\"colorbar\":{\"outlinewidth\":0,\"ticks\":\"\"},\"colorscale\":[[0.0,\"#0d0887\"],[0.1111111111111111,\"#46039f\"],[0.2222222222222222,\"#7201a8\"],[0.3333333333333333,\"#9c179e\"],[0.4444444444444444,\"#bd3786\"],[0.5555555555555556,\"#d8576b\"],[0.6666666666666666,\"#ed7953\"],[0.7777777777777778,\"#fb9f3a\"],[0.8888888888888888,\"#fdca26\"],[1.0,\"#f0f921\"]],\"type\":\"histogram2dcontour\"}],\"histogram2d\":[{\"colorbar\":{\"outlinewidth\":0,\"ticks\":\"\"},\"colorscale\":[[0.0,\"#0d0887\"],[0.1111111111111111,\"#46039f\"],[0.2222222222222222,\"#7201a8\"],[0.3333333333333333,\"#9c179e\"],[0.4444444444444444,\"#bd3786\"],[0.5555555555555556,\"#d8576b\"],[0.6666666666666666,\"#ed7953\"],[0.7777777777777778,\"#fb9f3a\"],[0.8888888888888888,\"#fdca26\"],[1.0,\"#f0f921\"]],\"type\":\"histogram2d\"}],\"histogram\":[{\"marker\":{\"pattern\":{\"fillmode\":\"overlay\",\"size\":10,\"solidity\":0.2}},\"type\":\"histogram\"}],\"mesh3d\":[{\"colorbar\":{\"outlinewidth\":0,\"ticks\":\"\"},\"type\":\"mesh3d\"}],\"parcoords\":[{\"line\":{\"colorbar\":{\"outlinewidth\":0,\"ticks\":\"\"}},\"type\":\"parcoords\"}],\"pie\":[{\"automargin\":true,\"type\":\"pie\"}],\"scatter3d\":[{\"line\":{\"colorbar\":{\"outlinewidth\":0,\"ticks\":\"\"}},\"marker\":{\"colorbar\":{\"outlinewidth\":0,\"ticks\":\"\"}},\"type\":\"scatter3d\"}],\"scattercarpet\":[{\"marker\":{\"colorbar\":{\"outlinewidth\":0,\"ticks\":\"\"}},\"type\":\"scattercarpet\"}],\"scattergeo\":[{\"marker\":{\"colorbar\":{\"outlinewidth\":0,\"ticks\":\"\"}},\"type\":\"scattergeo\"}],\"scattergl\":[{\"marker\":{\"colorbar\":{\"outlinewidth\":0,\"ticks\":\"\"}},\"type\":\"scattergl\"}],\"scattermapbox\":[{\"marker\":{\"colorbar\":{\"outlinewidth\":0,\"ticks\":\"\"}},\"type\":\"scattermapbox\"}],\"scatterpolargl\":[{\"marker\":{\"colorbar\":{\"outlinewidth\":0,\"ticks\":\"\"}},\"type\":\"scatterpolargl\"}],\"scatterpolar\":[{\"marker\":{\"colorbar\":{\"outlinewidth\":0,\"ticks\":\"\"}},\"type\":\"scatterpolar\"}],\"scatter\":[{\"fillpattern\":{\"fillmode\":\"overlay\",\"size\":10,\"solidity\":0.2},\"type\":\"scatter\"}],\"scatterternary\":[{\"marker\":{\"colorbar\":{\"outlinewidth\":0,\"ticks\":\"\"}},\"type\":\"scatterternary\"}],\"surface\":[{\"colorbar\":{\"outlinewidth\":0,\"ticks\":\"\"},\"colorscale\":[[0.0,\"#0d0887\"],[0.1111111111111111,\"#46039f\"],[0.2222222222222222,\"#7201a8\"],[0.3333333333333333,\"#9c179e\"],[0.4444444444444444,\"#bd3786\"],[0.5555555555555556,\"#d8576b\"],[0.6666666666666666,\"#ed7953\"],[0.7777777777777778,\"#fb9f3a\"],[0.8888888888888888,\"#fdca26\"],[1.0,\"#f0f921\"]],\"type\":\"surface\"}],\"table\":[{\"cells\":{\"fill\":{\"color\":\"#EBF0F8\"},\"line\":{\"color\":\"white\"}},\"header\":{\"fill\":{\"color\":\"#C8D4E3\"},\"line\":{\"color\":\"white\"}},\"type\":\"table\"}]},\"layout\":{\"annotationdefaults\":{\"arrowcolor\":\"#2a3f5f\",\"arrowhead\":0,\"arrowwidth\":1},\"autotypenumbers\":\"strict\",\"coloraxis\":{\"colorbar\":{\"outlinewidth\":0,\"ticks\":\"\"}},\"colorscale\":{\"diverging\":[[0,\"#8e0152\"],[0.1,\"#c51b7d\"],[0.2,\"#de77ae\"],[0.3,\"#f1b6da\"],[0.4,\"#fde0ef\"],[0.5,\"#f7f7f7\"],[0.6,\"#e6f5d0\"],[0.7,\"#b8e186\"],[0.8,\"#7fbc41\"],[0.9,\"#4d9221\"],[1,\"#276419\"]],\"sequential\":[[0.0,\"#0d0887\"],[0.1111111111111111,\"#46039f\"],[0.2222222222222222,\"#7201a8\"],[0.3333333333333333,\"#9c179e\"],[0.4444444444444444,\"#bd3786\"],[0.5555555555555556,\"#d8576b\"],[0.6666666666666666,\"#ed7953\"],[0.7777777777777778,\"#fb9f3a\"],[0.8888888888888888,\"#fdca26\"],[1.0,\"#f0f921\"]],\"sequentialminus\":[[0.0,\"#0d0887\"],[0.1111111111111111,\"#46039f\"],[0.2222222222222222,\"#7201a8\"],[0.3333333333333333,\"#9c179e\"],[0.4444444444444444,\"#bd3786\"],[0.5555555555555556,\"#d8576b\"],[0.6666666666666666,\"#ed7953\"],[0.7777777777777778,\"#fb9f3a\"],[0.8888888888888888,\"#fdca26\"],[1.0,\"#f0f921\"]]},\"colorway\":[\"#636efa\",\"#EF553B\",\"#00cc96\",\"#ab63fa\",\"#FFA15A\",\"#19d3f3\",\"#FF6692\",\"#B6E880\",\"#FF97FF\",\"#FECB52\"],\"font\":{\"color\":\"#2a3f5f\"},\"geo\":{\"bgcolor\":\"white\",\"lakecolor\":\"white\",\"landcolor\":\"white\",\"showlakes\":true,\"showland\":true,\"subunitcolor\":\"#C8D4E3\"},\"hoverlabel\":{\"align\":\"left\"},\"hovermode\":\"closest\",\"mapbox\":{\"style\":\"light\"},\"paper_bgcolor\":\"white\",\"plot_bgcolor\":\"white\",\"polar\":{\"angularaxis\":{\"gridcolor\":\"#EBF0F8\",\"linecolor\":\"#EBF0F8\",\"ticks\":\"\"},\"bgcolor\":\"white\",\"radialaxis\":{\"gridcolor\":\"#EBF0F8\",\"linecolor\":\"#EBF0F8\",\"ticks\":\"\"}},\"scene\":{\"xaxis\":{\"backgroundcolor\":\"white\",\"gridcolor\":\"#DFE8F3\",\"gridwidth\":2,\"linecolor\":\"#EBF0F8\",\"showbackground\":true,\"ticks\":\"\",\"zerolinecolor\":\"#EBF0F8\"},\"yaxis\":{\"backgroundcolor\":\"white\",\"gridcolor\":\"#DFE8F3\",\"gridwidth\":2,\"linecolor\":\"#EBF0F8\",\"showbackground\":true,\"ticks\":\"\",\"zerolinecolor\":\"#EBF0F8\"},\"zaxis\":{\"backgroundcolor\":\"white\",\"gridcolor\":\"#DFE8F3\",\"gridwidth\":2,\"linecolor\":\"#EBF0F8\",\"showbackground\":true,\"ticks\":\"\",\"zerolinecolor\":\"#EBF0F8\"}},\"shapedefaults\":{\"line\":{\"color\":\"#2a3f5f\"}},\"ternary\":{\"aaxis\":{\"gridcolor\":\"#DFE8F3\",\"linecolor\":\"#A2B1C6\",\"ticks\":\"\"},\"baxis\":{\"gridcolor\":\"#DFE8F3\",\"linecolor\":\"#A2B1C6\",\"ticks\":\"\"},\"bgcolor\":\"white\",\"caxis\":{\"gridcolor\":\"#DFE8F3\",\"linecolor\":\"#A2B1C6\",\"ticks\":\"\"}},\"title\":{\"x\":0.05},\"xaxis\":{\"automargin\":true,\"gridcolor\":\"#EBF0F8\",\"linecolor\":\"#EBF0F8\",\"ticks\":\"\",\"title\":{\"standoff\":15},\"zerolinecolor\":\"#EBF0F8\",\"zerolinewidth\":2},\"yaxis\":{\"automargin\":true,\"gridcolor\":\"#EBF0F8\",\"linecolor\":\"#EBF0F8\",\"ticks\":\"\",\"title\":{\"standoff\":15},\"zerolinecolor\":\"#EBF0F8\",\"zerolinewidth\":2}}},\"xaxis\":{\"anchor\":\"y\",\"domain\":[0.0,0.175],\"showgrid\":true},\"yaxis\":{\"anchor\":\"x\",\"domain\":[0.8639999999999999,0.9999999999999999],\"showgrid\":true},\"xaxis2\":{\"anchor\":\"y2\",\"domain\":[0.275,0.45],\"showgrid\":true},\"yaxis2\":{\"anchor\":\"x2\",\"domain\":[0.8639999999999999,0.9999999999999999],\"showgrid\":true},\"xaxis3\":{\"anchor\":\"y3\",\"domain\":[0.55,0.7250000000000001],\"showgrid\":true},\"yaxis3\":{\"anchor\":\"x3\",\"domain\":[0.8639999999999999,0.9999999999999999],\"showgrid\":true},\"xaxis4\":{\"anchor\":\"y4\",\"domain\":[0.825,1.0],\"showgrid\":true},\"yaxis4\":{\"anchor\":\"x4\",\"domain\":[0.8639999999999999,0.9999999999999999],\"showgrid\":true},\"xaxis5\":{\"anchor\":\"y5\",\"domain\":[0.0,0.175],\"showgrid\":true},\"yaxis5\":{\"anchor\":\"x5\",\"domain\":[0.6479999999999999,0.7839999999999999],\"showgrid\":true},\"xaxis6\":{\"anchor\":\"y6\",\"domain\":[0.275,0.45],\"showgrid\":true},\"yaxis6\":{\"anchor\":\"x6\",\"domain\":[0.6479999999999999,0.7839999999999999],\"showgrid\":true},\"xaxis7\":{\"anchor\":\"y7\",\"domain\":[0.55,0.7250000000000001],\"showgrid\":true},\"yaxis7\":{\"anchor\":\"x7\",\"domain\":[0.6479999999999999,0.7839999999999999],\"showgrid\":true},\"xaxis8\":{\"anchor\":\"y8\",\"domain\":[0.825,1.0],\"showgrid\":true},\"yaxis8\":{\"anchor\":\"x8\",\"domain\":[0.6479999999999999,0.7839999999999999],\"showgrid\":true},\"xaxis9\":{\"anchor\":\"y9\",\"domain\":[0.0,0.175],\"showgrid\":true},\"yaxis9\":{\"anchor\":\"x9\",\"domain\":[0.43199999999999994,0.568],\"showgrid\":true},\"xaxis10\":{\"anchor\":\"y10\",\"domain\":[0.275,0.45],\"showgrid\":true},\"yaxis10\":{\"anchor\":\"x10\",\"domain\":[0.43199999999999994,0.568],\"showgrid\":true},\"xaxis11\":{\"anchor\":\"y11\",\"domain\":[0.55,0.7250000000000001],\"showgrid\":true},\"yaxis11\":{\"anchor\":\"x11\",\"domain\":[0.43199999999999994,0.568],\"showgrid\":true},\"xaxis12\":{\"anchor\":\"y12\",\"domain\":[0.825,1.0],\"showgrid\":true},\"yaxis12\":{\"anchor\":\"x12\",\"domain\":[0.43199999999999994,0.568],\"showgrid\":true},\"xaxis13\":{\"anchor\":\"y13\",\"domain\":[0.0,0.175],\"showgrid\":true},\"yaxis13\":{\"anchor\":\"x13\",\"domain\":[0.21599999999999997,0.352],\"showgrid\":true},\"xaxis14\":{\"anchor\":\"y14\",\"domain\":[0.275,0.45],\"showgrid\":true},\"yaxis14\":{\"anchor\":\"x14\",\"domain\":[0.21599999999999997,0.352],\"showgrid\":true},\"xaxis15\":{\"anchor\":\"y15\",\"domain\":[0.55,0.7250000000000001],\"showgrid\":true},\"yaxis15\":{\"anchor\":\"x15\",\"domain\":[0.21599999999999997,0.352],\"showgrid\":true},\"xaxis16\":{\"anchor\":\"y16\",\"domain\":[0.825,1.0],\"showgrid\":true},\"yaxis16\":{\"anchor\":\"x16\",\"domain\":[0.21599999999999997,0.352],\"showgrid\":true},\"xaxis17\":{\"anchor\":\"y17\",\"domain\":[0.0,0.175],\"showgrid\":true},\"yaxis17\":{\"anchor\":\"x17\",\"domain\":[0.0,0.13599999999999998],\"showgrid\":true},\"xaxis18\":{\"anchor\":\"y18\",\"domain\":[0.275,0.45],\"showgrid\":true},\"yaxis18\":{\"anchor\":\"x18\",\"domain\":[0.0,0.13599999999999998],\"showgrid\":true},\"xaxis19\":{\"anchor\":\"y19\",\"domain\":[0.55,0.7250000000000001],\"showgrid\":true},\"yaxis19\":{\"anchor\":\"x19\",\"domain\":[0.0,0.13599999999999998],\"showgrid\":true},\"xaxis20\":{\"anchor\":\"y20\",\"domain\":[0.825,1.0],\"showgrid\":true},\"yaxis20\":{\"anchor\":\"x20\",\"domain\":[0.0,0.13599999999999998],\"showgrid\":true},\"annotations\":[{\"font\":{\"size\":16},\"showarrow\":false,\"text\":\"Topic 0\",\"x\":0.0875,\"xanchor\":\"center\",\"xref\":\"paper\",\"y\":0.9999999999999999,\"yanchor\":\"bottom\",\"yref\":\"paper\"},{\"font\":{\"size\":16},\"showarrow\":false,\"text\":\"Topic 1\",\"x\":0.36250000000000004,\"xanchor\":\"center\",\"xref\":\"paper\",\"y\":0.9999999999999999,\"yanchor\":\"bottom\",\"yref\":\"paper\"},{\"font\":{\"size\":16},\"showarrow\":false,\"text\":\"Topic 2\",\"x\":0.6375000000000001,\"xanchor\":\"center\",\"xref\":\"paper\",\"y\":0.9999999999999999,\"yanchor\":\"bottom\",\"yref\":\"paper\"},{\"font\":{\"size\":16},\"showarrow\":false,\"text\":\"Topic 3\",\"x\":0.9125,\"xanchor\":\"center\",\"xref\":\"paper\",\"y\":0.9999999999999999,\"yanchor\":\"bottom\",\"yref\":\"paper\"},{\"font\":{\"size\":16},\"showarrow\":false,\"text\":\"Topic 4\",\"x\":0.0875,\"xanchor\":\"center\",\"xref\":\"paper\",\"y\":0.7839999999999999,\"yanchor\":\"bottom\",\"yref\":\"paper\"},{\"font\":{\"size\":16},\"showarrow\":false,\"text\":\"Topic 5\",\"x\":0.36250000000000004,\"xanchor\":\"center\",\"xref\":\"paper\",\"y\":0.7839999999999999,\"yanchor\":\"bottom\",\"yref\":\"paper\"},{\"font\":{\"size\":16},\"showarrow\":false,\"text\":\"Topic 6\",\"x\":0.6375000000000001,\"xanchor\":\"center\",\"xref\":\"paper\",\"y\":0.7839999999999999,\"yanchor\":\"bottom\",\"yref\":\"paper\"},{\"font\":{\"size\":16},\"showarrow\":false,\"text\":\"Topic 7\",\"x\":0.9125,\"xanchor\":\"center\",\"xref\":\"paper\",\"y\":0.7839999999999999,\"yanchor\":\"bottom\",\"yref\":\"paper\"},{\"font\":{\"size\":16},\"showarrow\":false,\"text\":\"Topic 8\",\"x\":0.0875,\"xanchor\":\"center\",\"xref\":\"paper\",\"y\":0.568,\"yanchor\":\"bottom\",\"yref\":\"paper\"},{\"font\":{\"size\":16},\"showarrow\":false,\"text\":\"Topic 9\",\"x\":0.36250000000000004,\"xanchor\":\"center\",\"xref\":\"paper\",\"y\":0.568,\"yanchor\":\"bottom\",\"yref\":\"paper\"},{\"font\":{\"size\":16},\"showarrow\":false,\"text\":\"Topic 10\",\"x\":0.6375000000000001,\"xanchor\":\"center\",\"xref\":\"paper\",\"y\":0.568,\"yanchor\":\"bottom\",\"yref\":\"paper\"},{\"font\":{\"size\":16},\"showarrow\":false,\"text\":\"Topic 11\",\"x\":0.9125,\"xanchor\":\"center\",\"xref\":\"paper\",\"y\":0.568,\"yanchor\":\"bottom\",\"yref\":\"paper\"},{\"font\":{\"size\":16},\"showarrow\":false,\"text\":\"Topic 12\",\"x\":0.0875,\"xanchor\":\"center\",\"xref\":\"paper\",\"y\":0.352,\"yanchor\":\"bottom\",\"yref\":\"paper\"},{\"font\":{\"size\":16},\"showarrow\":false,\"text\":\"Topic 13\",\"x\":0.36250000000000004,\"xanchor\":\"center\",\"xref\":\"paper\",\"y\":0.352,\"yanchor\":\"bottom\",\"yref\":\"paper\"},{\"font\":{\"size\":16},\"showarrow\":false,\"text\":\"Topic 14\",\"x\":0.6375000000000001,\"xanchor\":\"center\",\"xref\":\"paper\",\"y\":0.352,\"yanchor\":\"bottom\",\"yref\":\"paper\"},{\"font\":{\"size\":16},\"showarrow\":false,\"text\":\"Topic 15\",\"x\":0.9125,\"xanchor\":\"center\",\"xref\":\"paper\",\"y\":0.352,\"yanchor\":\"bottom\",\"yref\":\"paper\"},{\"font\":{\"size\":16},\"showarrow\":false,\"text\":\"Topic 16\",\"x\":0.0875,\"xanchor\":\"center\",\"xref\":\"paper\",\"y\":0.13599999999999998,\"yanchor\":\"bottom\",\"yref\":\"paper\"}],\"title\":{\"font\":{\"size\":22,\"color\":\"Black\"},\"text\":\"Topic Word Scores\",\"x\":0.5,\"xanchor\":\"center\",\"yanchor\":\"top\"},\"hoverlabel\":{\"font\":{\"size\":16,\"family\":\"Rockwell\"},\"bgcolor\":\"white\"},\"showlegend\":false,\"width\":1000,\"height\":1250},                        {\"responsive\": true}                    ).then(function(){\n",
       "                            \n",
       "var gd = document.getElementById('d22ab019-6307-49c9-b5b2-302b167ccdf6');\n",
       "var x = new MutationObserver(function (mutations, observer) {{\n",
       "        var display = window.getComputedStyle(gd).display;\n",
       "        if (!display || display === 'none') {{\n",
       "            console.log([gd, 'removed!']);\n",
       "            Plotly.purge(gd);\n",
       "            observer.disconnect();\n",
       "        }}\n",
       "}});\n",
       "\n",
       "// Listen for the removal of the full notebook cells\n",
       "var notebookContainer = gd.closest('#notebook-container');\n",
       "if (notebookContainer) {{\n",
       "    x.observe(notebookContainer, {childList: true});\n",
       "}}\n",
       "\n",
       "// Listen for the clearing of the current output cell\n",
       "var outputEl = gd.closest('.output');\n",
       "if (outputEl) {{\n",
       "    x.observe(outputEl, {childList: true});\n",
       "}}\n",
       "\n",
       "                        })                };                });            </script>        </div>"
      ]
     },
     "metadata": {},
     "output_type": "display_data"
    }
   ],
   "source": [
    "model.visualize_barchart(top_n_topics=topics_count)"
   ]
  },
  {
   "cell_type": "code",
   "execution_count": 55,
   "metadata": {},
   "outputs": [
    {
     "data": {
      "application/vnd.plotly.v1+json": {
       "config": {
        "plotlyServerURL": "https://plot.ly"
       },
       "data": [
        {
         "hoverinfo": "text",
         "hovertext": [
          "Very excited to do this work there are very issue but we can handle how to do",
          "Sales and marketing with trade sale channels partners for Distribution",
          "Support me at the time of maternity",
          "Accomodation and office",
          "- No tech-innovative approach in products\n- lagging behind other competitors",
          "Company strategy not in current market",
          "Presence of Union at workplace.",
          "You feel valued and that's the most important thing. The management constantly thrives to improve your working environment. The HR also reviews its policies to make it employee friendly. Most importantly the top management is easily accessible.",
          "All type sales to service",
          "For carrier growth only performance is not enough one should have very good terms with superiors apart from boss/ Client etc.",
          "This work is easy but not easy this filling upload",
          "No personal growth. Favouritism is appraisal. HR is Zero. Currently no clear direction of long term working strategy.",
          "Food",
          "Good Experience",
          "Compensation and benefits, Welcoming new joiners with good gesture",
          "System oriented",
          "Client Billing\nOffice liabilities for all Documents/paper Mainy& Expenses,as office work.\nI have provided service as a Control of third party stoff,Suport, Arrangment,Parking, environmental problems etc.",
          "Everything is Fantastic. overall great experience…",
          "Transparency, leadership",
          "Great Management Vision",
          "RREP  CONCEPT",
          "Good communication skills I have learned from CRM",
          "Good and excellent work",
          "RREP PRODUCT SALES EACH PRIce",
          "Work life\nNo business ethics \nNot career oriented \nNo future \nNo promotions\nPoor Managers",
          "SOP follow",
          "Not Proper Planning site Work.",
          "Not clarity about work most of time and layoff of not performer and not achieving",
          "Supportive and coordination",
          "Freedom to call anyone across organisation",
          "Because all criteria is good and company profile is good ,\nWork satification",
          "Not growth 💹📈",
          "Labour registration entry as a project working contractor.",
          "Any good doing",
          "My reporting manager was so motivated that’s why I stayed 6 month",
          "Force fully taken resignation",
          "Lots of hierarchy, politics and work life balance is zero. Not paying vendors on time and no one to listen the problem. To avoid payment to vendors they made false accusation and employee will be at receiving end. No support from any one from the organization. The day you resign they create life and mental peace havoc. Avoid joining.",
          "Need to some more improvement",
          "No negative things. But not arrange the outside tour for best employees who perform best in his role.",
          "This Rating for offroll candidates.\nBut,I personally don't like offroll jobs.",
          "1980 process , all hard paper work, No paperless work, SAP utilization is completely useless,  Huge difference between physical vs system data. \nNo recreation, excess manpower, Lack of leadership motivation, Mental harassment.\nDue to above all new joinee are leaving within 1-6 months",
          "Too many changes in decisions",
          "Indecisiveness",
          "working culture,behavior, work life balance,job security,Promotion in every life is terrible.",
          "Each and every new project is urgent from the time it's started only for a specific department.\nUnrealistic time lines are given.\nPay dispersion is not fair.\nMarketing is never clear about what they exactly want. \nUnwanted pressure is created only on one department regardless of who is responsible for the delay in project.",
          "Ethical and straight forward",
          "display & Marchantdizing",
          "It's talk about employee of particular department of interest.",
          "Good communication and work is good",
          "regional head are not cooperating and his behaviour is very bad.He is not preferred working employee.",
          "Good working  with enjoy & suportable team",
          "Team Work is appreciable and fine.",
          "gfsvfsegre",
          "Less space to grow",
          "Very impacts full",
          "Side work",
          "Fill like own faimaly.",
          "Freedom for any work you want to do .",
          "Work is bad",
          "Discuss in previous box",
          "Office long distance",
          "Manual work still continue in some sector  .Required atomisation .",
          "Growth is not as desirable",
          "Senior employees never listen abt the market condition ,never work in market with team.",
          "Being a big brand and expectations, superiors in organisation have lack of technical exposure and the planning is being done purely on theoretical assumptions but not on ground reality this is leading to failure or delays in projects. \nQuality is not par having a good brand image.",
          "Less job security & work life balance, No Transperency in promotion.",
          "smoking hard working",
          "Low travelling allowance",
          "Working experience is better",
          "Company transformation is very slow",
          "Company sales and new product  lunch and help full by achive sales rarget and incentives.",
          "Everything is dislike\n1 there is not a fix date of salary credentials of offrole employees.\n2 Your HR of your consultant are not responding when you have a query he just say as Bajaj said to him.\n3 No overtime or holidays will pay to you because you are offrole employee.\n4 There have no culture here Bajaj employee treats you like a labour.",
          "Office and site work",
          "Carrier growth system not transparent.",
          "Office politics is very much involved in the work culture, Some times you have to report in the same designation. Organisation structure is less effective. Your appraisal is completely depend that how much you can do buttering. You can be fired any time without any proper reason/investigation. No job security at all",
          "Material issue and delay in response",
          "The Organization working culture very Nice and Higher management support and help to ground staff for growth his/her carrier. Company policies are good",
          "No sallery growth, appraisal ,promotion and company politics are the worst thing here",
          "Presently its good time to work their...I got nice experience...there are good senior support...& well management.but appourtunity to make carrier in growth is very low....theirs incentive parameters are not well...& policy to pay incentives is very slow... Actually this policy harraze the dso",
          "Overall experience is good.",
          "The project cannot be completed due to non - receipt of materials required for improvement from company.",
          "Partiality with employee.",
          "Work culture, appraisal process, TA/DA, no work life balance",
          "New improvement in plant infracture and in product also.",
          "2year 10 month",
          "Good working knowledge & you can work without heavy stress",
          "Working culture and no promotion and appreciation for offrole",
          "Without informing ealier. Company drive out confirmed employees within a month. Neither they are giving proper reason for termination nor consider the notice period of 3 months. Employees giving resignation are bound to complete 3 months notice period whenever they have jobs. But terminated employees are dropped out within a month without any proper reason. The employee who has completed all the assigned projects on time perfectly was rated as inadequate performance and terminated. Whenever the company has the performance improvement plan    (PIP) policy for under-rated performance, but they don't follow their own policy....disgusting.......Read More",
          "Cross functional meetings are required to understand and discuss each other which helps organisational growth",
          "This work is easy",
          "Canteen food quality",
          "Nothing like \nScope of improvement is everywhere",
          "The Organization working culture very Nice and Higher management support and help to ground staff for growth his/her carrier. Company policies are good. Appraisals are fair and company give good salary hike and bonus every year as per performance.",
          "There is lot to learn from this organisation as it gives proper platform to explore and experience different aspects of Sales ..I have learnt about smooth functioning of Distribution, Training of Subordinates, hardcore sales along with complexities of issue resolution from my seniors . I would recommend this organisation.",
          "Company System/procedure from In to Out(material conversion)",
          "Less Opportunities to get other roles",
          "I want to increase my sales experience and skills also",
          "Task  is well defined in system .\nExcellent company to work .",
          "Feeling great",
          "Excellent organisation in terms of skill development learning,process orientation\nWorking with Sop",
          "Miss communication gape and gape",
          "Proud",
          "Location of plant",
          "Community,food,no travel support",
          "Food quality is not good at cafe",
          "Working patten in secondary and primary",
          "Freedom to implement new ideas , Encouragement if you have potential, Good salary Increment if you have potential",
          "Great & proud",
          "Because i am unemployed",
          null
         ],
         "marker": {
          "color": "#CFD8DC",
          "opacity": 0.5,
          "size": 5
         },
         "mode": "markers+text",
         "name": "other",
         "showlegend": false,
         "type": "scattergl",
         "x": [
          3.604710340499878,
          5.086914539337158,
          7.704067230224609,
          6.6659770011901855,
          8.075927734375,
          8.152499198913574,
          9.36647891998291,
          6.971433162689209,
          5.0853986740112305,
          9.073062896728516,
          3.524770975112915,
          9.293166160583496,
          4.845698356628418,
          5.980533599853516,
          8.870037078857422,
          7.187755107879639,
          5.09942102432251,
          5.933745861053467,
          7.826047897338867,
          8.028282165527344,
          5.14726448059082,
          6.7142462730407715,
          4.437190532684326,
          5.066437721252441,
          8.040260314941406,
          5.828226089477539,
          8.227821350097656,
          8.400252342224121,
          6.909650802612305,
          7.340025424957275,
          7.006924152374268,
          8.916106224060059,
          8.529631614685059,
          3.0809571743011475,
          10.382670402526855,
          8.44801139831543,
          8.488218307495117,
          7.6162333488464355,
          2.046259880065918,
          11.550917625427246,
          9.063243865966797,
          9.60316276550293,
          7.782201766967773,
          8.160672187805176,
          8.199520111083984,
          7.8244452476501465,
          9.10924243927002,
          7.609922885894775,
          6.7425618171691895,
          8.99852466583252,
          6.525802135467529,
          6.5117082595825195,
          3.3943777084350586,
          8.889693260192871,
          7.336750030517578,
          7.011448860168457,
          3.470916986465454,
          7.3302412033081055,
          6.787771224975586,
          7.241896629333496,
          6.650862693786621,
          8.504692077636719,
          8.881359100341797,
          8.180862426757812,
          8.013138771057129,
          8.289412498474121,
          7.358347415924072,
          6.064239501953125,
          6.443112850189209,
          10.236747741699219,
          10.614436149597168,
          8.863704681396484,
          6.66976261138916,
          9.027740478515625,
          8.831998825073242,
          8.073331832885742,
          6.8218255043029785,
          8.307158470153809,
          9.12936019897461,
          6.063127040863037,
          8.526535034179688,
          9.310174942016602,
          6.585606575012207,
          5.931402206420898,
          10.47043514251709,
          6.807201862335205,
          8.795673370361328,
          8.503430366516113,
          7.103524208068848,
          3.6070711612701416,
          4.865551948547363,
          7.641481876373291,
          6.878139019012451,
          5.805453777313232,
          8.519124031066895,
          8.242369651794434,
          5.823361396789551,
          7.1586809158325195,
          3.9407145977020264,
          5.816002368927002,
          7.945942401885986,
          3.9256584644317627,
          6.0030975341796875,
          6.039010524749756,
          4.876720428466797,
          8.324094772338867,
          7.521726608276367,
          4.064815521240234,
          7.042840480804443,
          7.185765266418457
         ],
         "y": [
          -1.7307389974594116,
          -2.3014607429504395,
          -2.054924964904785,
          -1.4713138341903687,
          -3.546013593673706,
          -3.6022496223449707,
          -3.8798892498016357,
          -4.524844169616699,
          -2.3233542442321777,
          -2.7278478145599365,
          -1.788865089416504,
          -3.209685802459717,
          -4.800876617431641,
          -2.9763314723968506,
          -2.1117095947265625,
          -0.9459771513938904,
          -2.2816271781921387,
          -3.000398635864258,
          -3.608616590499878,
          -4.0093817710876465,
          -2.421426296234131,
          -2.5149803161621094,
          -2.583836555480957,
          -2.324906349182129,
          -2.9195046424865723,
          -3.555302381515503,
          -2.874152421951294,
          -2.1967294216156006,
          -3.644425392150879,
          -3.4276983737945557,
          -2.328122854232788,
          -2.5402467250823975,
          -1.2414896488189697,
          -1.9563952684402466,
          -2.0794663429260254,
          -2.0558266639709473,
          -2.0413005352020264,
          -3.211534023284912,
          -3.6818530559539795,
          -2.917593002319336,
          -3.1807093620300293,
          -4.088939189910889,
          -3.7084364891052246,
          -2.9535343647003174,
          -1.613415002822876,
          -3.4239585399627686,
          -2.0430119037628174,
          -3.843693494796753,
          -2.3838131427764893,
          -3.922147512435913,
          -3.884275197982788,
          -3.9334616661071777,
          -1.8406269550323486,
          -2.4976789951324463,
          -1.3988834619522095,
          -1.87467622756958,
          -1.8253087997436523,
          -3.0818893909454346,
          -1.9472167491912842,
          -3.9051406383514404,
          -1.4248205423355103,
          -2.7865030765533447,
          -2.550673484802246,
          -2.9457786083221436,
          -3.542032480239868,
          -2.9100706577301025,
          -1.7666630744934082,
          -4.803838729858398,
          -2.9627442359924316,
          -2.4508309364318848,
          -2.7486422061920166,
          -1.9978362321853638,
          -1.52704918384552,
          -2.658116340637207,
          -3.6477091312408447,
          -0.5179731249809265,
          -4.568423748016357,
          -3.0807087421417236,
          -2.8286924362182617,
          -3.0278093814849854,
          -2.7651422023773193,
          -3.9727799892425537,
          -5.71848726272583,
          -2.2999279499053955,
          -2.0885050296783447,
          -2.2582857608795166,
          -2.214381456375122,
          -2.0358738899230957,
          -3.9813129901885986,
          -1.7391338348388672,
          -4.808361530303955,
          -3.2516136169433594,
          -4.573611259460449,
          -3.716407299041748,
          -2.785413980484009,
          -2.947654962539673,
          -2.7449936866760254,
          -0.9700360298156738,
          -2.4553799629211426,
          -3.56769061088562,
          -3.682314395904541,
          -2.4529950618743896,
          -2.1738791465759277,
          -4.686857223510742,
          -4.81613826751709,
          -1.5577384233474731,
          -2.9202730655670166,
          -2.524514675140381,
          -2.0143094062805176,
          -2.837015151977539
         ]
        },
        {
         "hoverinfo": "text",
         "hovertext": [
          "Heartache",
          "No Thanks",
          "All best",
          "No anything dislike",
          "NA NA NA NA NA",
          "Not any problem",
          "Worst",
          "No dislike",
          "Nothing to dislike in the organization",
          "I giving 100%.",
          "No",
          "Good",
          "No dislikes",
          "No problem in company",
          "No specific dis like at this",
          "No, all ok and at good place",
          "No anything",
          "Nothing to say anything",
          "All good",
          "Nothing2",
          "I don't thing anybody dislike that type of organisations.",
          "Nothing is dislike",
          "Everything",
          "Nothing much",
          "No Issue",
          "I like  my name is oriyomi omonla",
          "No I am like",
          "Nothing much to say",
          "Super",
          "good",
          "Nothing.",
          "All correct",
          "EVERYTHING IS DISLIKE DONT JOIN",
          "No problem",
          "Nothing for Dislike",
          "Nothings all is good Ok",
          "All is well",
          "No reason",
          "Nothing to dislike",
          "Nothing good to say",
          "Nothing as of now",
          "Nothing to dislike about",
          "Yas",
          "No reason all best",
          "Rule is like",
          "Nothing like",
          "All Is Good",
          "All",
          "Like But Not Good",
          "i didnt like any thing in this organization",
          "Yes like, I am interested",
          "Non",
          "Nothing to say",
          "Yes I like . good behavior",
          "Hhhhhhhhhhhhhh",
          "Nothing to dislike ke",
          "Not applicable",
          "No 3fg\nOnly side",
          "No comment",
          "Nothing as such",
          "Nothing specificly bad to share",
          "No issue",
          "Nothing specifically to say here",
          "All ok only investment required",
          "No comments",
          "Ok",
          "Nothing",
          "Nothing like that",
          "Nothing specificly great to share",
          "No Comments",
          "Nothing to feel bad about",
          "NO",
          "Yes",
          "Noanh suggestion",
          "I don't like TVs",
          "Nothing to like",
          "No more",
          "Perfectly ok this working",
          "I feel there is Nothing as such currently",
          "there is nothing to dislike",
          "no problem at all the best",
          "I am interested",
          "Everything likes",
          "Not at all",
          "Not seen still.",
          "Not good for you to come",
          "None None None None None",
          "Nothing to dislike...",
          "DONT JOIN EVEYTHING IS DISLIKE",
          "Nothing to dislike about company.",
          null
         ],
         "marker": {
          "opacity": 0.5,
          "size": 5
         },
         "mode": "markers+text",
         "name": "0_dislike_like_ok",
         "text": [
          "",
          "",
          "",
          "",
          "",
          "",
          "",
          "",
          "",
          "",
          "",
          "",
          "",
          "",
          "",
          "",
          "",
          "",
          "",
          "",
          "",
          "",
          "",
          "",
          "",
          "",
          "",
          "",
          "",
          "",
          "",
          "",
          "",
          "",
          "",
          "",
          "",
          "",
          "",
          "",
          "",
          "",
          "",
          "",
          "",
          "",
          "",
          "",
          "",
          "",
          "",
          "",
          "",
          "",
          "",
          "",
          "",
          "",
          "",
          "",
          "",
          "",
          "",
          "",
          "",
          "",
          "",
          "",
          "",
          "",
          "",
          "",
          "",
          "",
          "",
          "",
          "",
          "",
          "",
          "",
          "",
          "",
          "",
          "",
          "",
          "",
          "",
          "",
          "",
          "",
          "0_dislike_like_ok"
         ],
         "textfont": {
          "size": 12
         },
         "type": "scattergl",
         "x": [
          3.8498873710632324,
          2.175189971923828,
          2.4774155616760254,
          1.6373769044876099,
          2.3970906734466553,
          2.2568283081054688,
          2.5501561164855957,
          1.662959098815918,
          1.8778074979782104,
          1.6338231563568115,
          2.259780168533325,
          2.815293073654175,
          1.5852917432785034,
          2.2493398189544678,
          1.8235065937042236,
          2.4099855422973633,
          1.8406486511230469,
          1.6018973588943481,
          2.3644156455993652,
          1.9339040517807007,
          1.9048138856887817,
          1.6436208486557007,
          2.1050148010253906,
          1.8974800109863281,
          2.248040199279785,
          2.359915256500244,
          2.1871867179870605,
          1.6015982627868652,
          2.3661887645721436,
          2.7903244495391846,
          1.9043920040130615,
          2.4925191402435303,
          1.633150339126587,
          2.25924015045166,
          1.6264997720718384,
          2.3149101734161377,
          2.4670157432556152,
          1.866331696510315,
          1.6704459190368652,
          1.563360571861267,
          1.8943843841552734,
          1.6790742874145508,
          2.852771759033203,
          1.9168132543563843,
          2.0259768962860107,
          1.8817968368530273,
          2.4221229553222656,
          2.38393235206604,
          1.9687083959579468,
          1.8393973112106323,
          2.2891175746917725,
          2.4152145385742188,
          1.5564918518066406,
          2.3813846111297607,
          2.753976345062256,
          1.6241706609725952,
          2.5284531116485596,
          2.349364995956421,
          1.6679389476776123,
          1.9128735065460205,
          1.62141752243042,
          2.2511603832244873,
          1.563991904258728,
          2.295339584350586,
          1.647015929222107,
          2.629995584487915,
          1.9091966152191162,
          1.8373185396194458,
          1.6812758445739746,
          1.658444881439209,
          1.6775327920913696,
          2.2788970470428467,
          2.3301889896392822,
          2.3565430641174316,
          1.5769072771072388,
          1.9109777212142944,
          1.993032693862915,
          2.5299079418182373,
          1.9271392822265625,
          1.647642970085144,
          2.2638776302337646,
          2.350684881210327,
          1.907109260559082,
          2.4022388458251953,
          2.4248664379119873,
          2.8056886196136475,
          2.2283124923706055,
          1.6511597633361816,
          1.6555017232894897,
          1.8545668125152588,
          2.083517074584961
         ],
         "y": [
          -2.4337549209594727,
          -2.00956654548645,
          -1.3618013858795166,
          -3.1668219566345215,
          -2.209698438644409,
          -0.9700698256492615,
          -1.6621167659759521,
          -3.1428442001342773,
          -3.5128087997436523,
          -2.2216179370880127,
          -1.9554927349090576,
          -1.9285273551940918,
          -3.170027256011963,
          -0.9556819796562195,
          -2.6628544330596924,
          -1.4097349643707275,
          -2.300847291946411,
          -2.2036526203155518,
          -1.1713744401931763,
          -2.362637519836426,
          -3.5423972606658936,
          -3.2039449214935303,
          -2.1841139793395996,
          -2.33931827545166,
          -0.9617827534675598,
          -2.9640634059906006,
          -2.720766305923462,
          -2.163188934326172,
          -1.6906492710113525,
          -1.9219741821289062,
          -2.3509602546691895,
          -1.394566535949707,
          -3.256840467453003,
          -0.9662608504295349,
          -3.1668169498443604,
          -1.4143215417861938,
          -1.4243474006652832,
          -1.9031058549880981,
          -3.132516622543335,
          -2.1739461421966553,
          -2.3279950618743896,
          -3.1280901432037354,
          -1.9870314598083496,
          -1.8172593116760254,
          -2.795546770095825,
          -2.6316702365875244,
          -1.3096808195114136,
          -1.578243374824524,
          -2.77524733543396,
          -3.4737608432769775,
          -1.8683559894561768,
          -2.0635032653808594,
          -2.199432611465454,
          -2.716595411300659,
          -1.9745509624481201,
          -3.2114176750183105,
          -1.9838742017745972,
          -1.615853190422058,
          -2.0932183265686035,
          -2.3902876377105713,
          -2.6708977222442627,
          -0.9679964184761047,
          -2.243612766265869,
          -1.2643355131149292,
          -2.1246860027313232,
          -1.771498203277588,
          -2.3253936767578125,
          -2.701352834701538,
          -2.4691648483276367,
          -2.0992493629455566,
          -2.941723585128784,
          -1.976300835609436,
          -1.9284545183181763,
          -2.436038017272949,
          -3.1912381649017334,
          -2.746800184249878,
          -2.0257577896118164,
          -1.3184216022491455,
          -2.4182844161987305,
          -3.2178938388824463,
          -0.9719804525375366,
          -1.875436544418335,
          -2.7591614723205566,
          -1.4841593503952026,
          -2.0136239528656006,
          -1.9556218385696411,
          -2.268679618835449,
          -3.169857978820801,
          -3.2058024406433105,
          -3.4757046699523926,
          -2.240539312362671
         ]
        },
        {
         "hoverinfo": "text",
         "hovertext": [
          "Work culture. Office setup",
          "Good work culture",
          "Good Working Culture",
          "Company culture is good. Aggressively working in gender diversity",
          "Working culture is good",
          "Over all good work culture",
          "Working culture",
          "Good culture",
          "Very good company for working job security work culture management and all policies are excellent",
          "I've been working a lot here, the employees make a lot of effort in learning, the culture here is supportive, I love this company",
          "Company culture",
          "First name culture",
          "- Switching to modern culture from Lala - culture\n- Salaries are good and competitive\n- Work life balance is promoted",
          "Culture, Not employee focused",
          "Work culture is too good, Management policy should be great.multiskilling environment in company",
          "Good working culture and supporting management",
          "Good culture in company",
          "Company is good but company owners are treating people like servants or slave.\nThey do casteism and specially owners wife she think everyone is chor. And she do humiliation with employees who are working with her. \nShe hate maharashtrian, Muslims and Christian. And always say pata nahi kaha se bhukhe nange AA jate hai mere yaha kaamkarne\nPlz don't join this company if you get job opportunity to work with owners specifically with owners wife....Read More",
          "Good work environment and culture.teammates are supportive and the management is transparent.\nThere is a huge cafeteria and gaming arcade for chilling.",
          "Culture is good here. People care for each other",
          "Working Culture",
          "Working Cultures ....",
          "I think we are observed every thing well",
          "Culture\nWork life balance\nSalary and perks\nAnnual Increment\nGrowth Opportunities",
          "Work culture is very good",
          "Company culture i like",
          "Really good for high performers. Culture is good in R&D.",
          "Can learn better\nWork culture \nJob security",
          "Good company ,good work culture",
          "Hight management Discrimination culture.",
          "The infrastructure and inclusive culture",
          "Company Culture .........",
          "Work culture & professional growth",
          "Work culture",
          "It is a good culture company.Improve your skills",
          "Great Working Culture and Supporting staff",
          "Culture and management",
          "Work Culture",
          "Company Culture is good.",
          "Great work culture",
          "Good environment and culture",
          "Our th is so coprative",
          "Culture, environment and policies are not condusive",
          "Work culture is not that good",
          "Culture is team dependent, owing to weak HR",
          "Holiday little bit lower than national holiday",
          "The company culture is toxic. Not progressive (even though they show they are). Petty managers, narrow minded approach, micromanagement. No scope for growth.",
          "The Culture of company.",
          "Culture",
          "Promotion and culture also the IT which is so poor",
          "To do culture in worst time",
          "Work culture\nTeam management\nEqual opportunity",
          "The work culture create by reporting managers.",
          "Company culture,work satisfaction skills development",
          "Good work environment and culture.teammates are supportive and management is transparent.thereis a huge cafeteria anad gaming arcade for chilling.compamy policies are good assraisals are fair the good salary hike and bonus every year",
          "Job secure,work culture is good ,management is good and company policies are good .",
          "Good team culture, working environment is good",
          "Company Culture is too Good.Peoples in Company too good.",
          "Good but culture is changing",
          "Distibuter behaviour and language is very bad",
          "Good traditional culture oriented company.",
          "Job responsibilities and working Culture",
          "Work culture is hectic and pressuring",
          "Culture totally changed",
          "Too much professionalism",
          "No security, Working style is good, culture is good and also present management is very cooperative,",
          "We are family - itself is mentioned in the logo which actually means in the real life. Cares for employees.",
          null
         ],
         "marker": {
          "opacity": 0.5,
          "size": 5
         },
         "mode": "markers+text",
         "name": "1_culture_good_company",
         "text": [
          "",
          "",
          "",
          "",
          "",
          "",
          "",
          "",
          "",
          "",
          "",
          "",
          "",
          "",
          "",
          "",
          "",
          "",
          "",
          "",
          "",
          "",
          "",
          "",
          "",
          "",
          "",
          "",
          "",
          "",
          "",
          "",
          "",
          "",
          "",
          "",
          "",
          "",
          "",
          "",
          "",
          "",
          "",
          "",
          "",
          "",
          "",
          "",
          "",
          "",
          "",
          "",
          "",
          "",
          "",
          "",
          "",
          "",
          "",
          "",
          "",
          "",
          "",
          "",
          "",
          "",
          "",
          "1_culture_good_company"
         ],
         "textfont": {
          "size": 12
         },
         "type": "scattergl",
         "x": [
          6.41695499420166,
          6.252581596374512,
          6.206244468688965,
          5.474206924438477,
          6.2503767013549805,
          6.299623012542725,
          6.404145240783691,
          5.892723560333252,
          6.40285062789917,
          5.675374507904053,
          5.438197135925293,
          5.68010950088501,
          6.649293422698975,
          6.226090431213379,
          6.713876724243164,
          6.455478668212891,
          5.506073951721191,
          5.569652080535889,
          6.396487712860107,
          5.83909797668457,
          6.398029327392578,
          6.379032135009766,
          5.632277488708496,
          6.696935176849365,
          6.284633159637451,
          5.3983235359191895,
          5.937662601470947,
          6.493289470672607,
          6.051877498626709,
          6.21926212310791,
          5.881331920623779,
          5.37453031539917,
          6.527577877044678,
          6.439296245574951,
          5.571554183959961,
          6.562867164611816,
          5.827247142791748,
          6.416193008422852,
          5.446348667144775,
          6.264235496520996,
          5.882341384887695,
          5.657083034515381,
          5.9839959144592285,
          6.424429416656494,
          6.3127617835998535,
          5.840756893157959,
          5.424850940704346,
          5.461641788482666,
          5.720473289489746,
          5.488313674926758,
          5.771341800689697,
          6.359798431396484,
          6.454224586486816,
          6.401587009429932,
          6.518664836883545,
          6.516007423400879,
          6.370842456817627,
          5.402023792266846,
          5.835393905639648,
          5.6538987159729,
          5.477888584136963,
          6.419927597045898,
          6.437617778778076,
          5.795314788818359,
          6.643130779266357,
          6.3931803703308105,
          5.427116870880127,
          6.054128170013428
         ],
         "y": [
          -5.697299957275391,
          -5.127462387084961,
          -5.129349231719971,
          -5.144783973693848,
          -5.150040626525879,
          -5.174699783325195,
          -5.69893741607666,
          -5.240033149719238,
          -4.516255855560303,
          -4.40918493270874,
          -5.243711948394775,
          -5.413519382476807,
          -5.628322601318359,
          -5.604045867919922,
          -4.689105033874512,
          -4.91111421585083,
          -5.13595724105835,
          -4.713796615600586,
          -4.472322463989258,
          -5.2854156494140625,
          -5.713244915008545,
          -5.712867259979248,
          -4.970635890960693,
          -5.622059345245361,
          -5.14207649230957,
          -5.178838729858398,
          -5.0165300369262695,
          -5.433614730834961,
          -4.809041500091553,
          -5.577282905578613,
          -5.50517463684082,
          -5.203250408172607,
          -5.677000999450684,
          -5.711507797241211,
          -4.769459247589111,
          -4.852933883666992,
          -5.459853172302246,
          -5.736380100250244,
          -5.110140800476074,
          -5.121799468994141,
          -5.140036106109619,
          -5.036169052124023,
          -5.424208641052246,
          -5.482449054718018,
          -5.508856773376465,
          -5.303689956665039,
          -5.193459987640381,
          -5.247214317321777,
          -5.395216464996338,
          -5.288815975189209,
          -5.38055944442749,
          -5.538630962371826,
          -5.740726947784424,
          -5.724435806274414,
          -4.569489479064941,
          -4.471157550811768,
          -4.909886837005615,
          -5.215306282043457,
          -5.312621116638184,
          -5.389416217803955,
          -4.985091209411621,
          -5.763493061065674,
          -5.763853549957275,
          -5.377060413360596,
          -5.310416221618652,
          -4.50015115737915,
          -5.264638900756836,
          -5.238001346588135
         ]
        },
        {
         "hoverinfo": "text",
         "hovertext": [
          "Good of tha bajaj electricals full",
          "I am working in Bajajelectricals in Visakhapatnam sales executive in Voltas",
          "As a company is very good.but I am not a company person.I am in Bajaj in 4 years.I have so many target achieved.But company r not allow me by direct pay roll .I think I will perfect & I hope achieve the promotion as a pay roll of Bajaj Electricals.",
          "Good experience i  think I'm good working any chance I'm come back Bajaj Electricals and finance",
          "Nothing to say negative about bajaj electricals",
          "U can't develop skills, and too much discrimination, and partiality. Job security is least, if you have any strong recommendation then only u will secure ur job in Bajaj",
          "No work in bajaj team",
          "It is very good thing making and it is name on all india.I am interested in bajaj electrical job.",
          "Worst ever experience in Bajajelectricals.",
          "Bajaj working culture very good,",
          "All working related electrical project line i like very excelent because i was allrady doing work in bajaj project.",
          "Bajaj is very good company for starting your career",
          "All electrical repairing and waring",
          "No your are good job experience for bajaj electricals",
          "Bajaj Electrical Limited provides opportunities to Candidates to take higher challenges and prove them selves irrespective of their work experiences but based on their performance.",
          "Yesh bajaj company electrical engg",
          "Work Culture at Bajaj is excellent",
          "ITI kiya hun electrician trade se kiya hun mera naam Akhilesh hai",
          "No words tell about bajaj electricals Ltd.",
          "Working ka koi time nahi hain",
          "Bajaj is good company. if your boss is good then everything is fine",
          "Bajaj electricals is best in design",
          "Bajaj appliances company is a fake brand and value of all market because every one know company just fake commitment not give a salary to employes my 2 month salary r not given i am very frusted",
          "No worked  bajaj electrical engg",
          "Rahul Dhokale",
          "Nothing to be disliked in Bajaj",
          "I have worked with Bajaj approx 3.5 years. Product quality is very poor, after sales service is very poor. My Customer is not satisfied with Bajaj. So I left Bajaj.",
          "All Bajaj staffs are good \nSajid sir\nSatish sir\nBrijesh sir",
          "Good atmosphere bajaj group .",
          "Bajaj Electricals is reputed company but some people like RH and other level management is poor very politic .",
          "I have not any question to write about dislikes for bajaj electricals.",
          "Bajaj authorise Cfa not provide good selry",
          "Its a Very Good Experience About Sales officer of Bajaj Electricals Work at Sales of all Purulia Town Town and Distic",
          "Mera naam Akhilesh hai",
          "Bajaj electricals limited is a very good Company .",
          "It was good experience with Bajaj Electrical",
          "Culture at Bajaj is excellent.",
          "Heard that bajaj culture was good but same time few employees are not satisfied because of uper management keep on changing and they are applying their rules",
          "Prementive maintenance utility mpcb motor star delta",
          "All DSO work in ground level but there salary is very poor.this is the very dislike matter of Bajaj Electricals.",
          "Bajaj working policy is best",
          "Bajaj electricals Directly not given by Dso payment and incentives",
          "In the past year its not a company it's my home but from last 3-4 after changing the management of power distribution it only just a company nothing else.",
          "I like work culture of Bajaj electricals",
          "Working at Bajaj Electrical very good",
          "Yes I am like bajaj electricals ltd",
          "Nothing wrong in Bajaj Electricals",
          "Because im a electric technio",
          "Bajaj electricals Ltd a good company",
          "SM tarchar  Anil Guggila he is doing \nUse and throw ...",
          "What attracts me the most that In Bajaj Electricals you can work here at any department if you are interested in changing the nature of you job, you can have transfer in marketing you can have transfer at any place in India suitable for you.",
          "Market value good and retailers demands all products by Bajaj electricals",
          "In Bajaj Electricals we learn more to more and work hard & get good apprisal.",
          "Bajaj Electricals is leader in market and work culture is very good.",
          "Bajaj Electrical Canteen Is Worse....",
          "Bajaj Electricals is good organisation in me and women candidates.",
          "Our distributor is so mean .he didn't give us our salary in time and didn't give food expense of our",
          "Excellent experience for Bajaj electrical",
          "Bajaj is best company hai",
          "I am not dislike Bajaj electricals Ltd",
          "Bajaj appliances is a cheter company they r never give a salary they have working simple mantra 2 or 3 month they r giving only assurity but not give a salary after 2 or 3 month again hire a new employe",
          null
         ],
         "marker": {
          "opacity": 0.5,
          "size": 5
         },
         "mode": "markers+text",
         "name": "2_bajaj_electricals_electrical",
         "text": [
          "",
          "",
          "",
          "",
          "",
          "",
          "",
          "",
          "",
          "",
          "",
          "",
          "",
          "",
          "",
          "",
          "",
          "",
          "",
          "",
          "",
          "",
          "",
          "",
          "",
          "",
          "",
          "",
          "",
          "",
          "",
          "",
          "",
          "",
          "",
          "",
          "",
          "",
          "",
          "",
          "",
          "",
          "",
          "",
          "",
          "",
          "",
          "",
          "",
          "",
          "",
          "",
          "",
          "",
          "",
          "",
          "",
          "",
          "",
          "",
          "",
          "2_bajaj_electricals_electrical"
         ],
         "textfont": {
          "size": 12
         },
         "type": "scattergl",
         "x": [
          5.412045001983643,
          5.682065963745117,
          5.781589508056641,
          5.687475204467773,
          5.374918460845947,
          5.951775074005127,
          5.955857276916504,
          5.73590087890625,
          5.327834606170654,
          6.092230319976807,
          5.736186981201172,
          6.054666519165039,
          5.543532371520996,
          5.611386299133301,
          5.473569869995117,
          5.517843246459961,
          6.058441162109375,
          6.113339900970459,
          5.280059337615967,
          6.203578472137451,
          6.068798065185547,
          5.4356865882873535,
          5.978567123413086,
          5.699042797088623,
          6.148312091827393,
          5.2120490074157715,
          6.08320951461792,
          6.064524173736572,
          5.441344261169434,
          5.539629936218262,
          5.283623218536377,
          6.027575492858887,
          5.642276287078857,
          6.179140090942383,
          5.488701820373535,
          5.439686298370361,
          6.097286224365234,
          6.096487998962402,
          5.514883041381836,
          5.7209272384643555,
          6.0879435539245605,
          5.616809844970703,
          5.454824924468994,
          5.924468994140625,
          5.706589221954346,
          5.505579948425293,
          5.417166709899902,
          5.492213249206543,
          5.48087739944458,
          6.208463191986084,
          5.750707626342773,
          5.389071941375732,
          5.582401752471924,
          5.7008490562438965,
          5.246686935424805,
          5.647759914398193,
          6.131205081939697,
          5.4605607986450195,
          6.010340690612793,
          5.229890823364258,
          6.017588138580322,
          5.718328475952148
         ],
         "y": [
          2.838505268096924,
          2.4780893325805664,
          2.581449508666992,
          2.5464465618133545,
          2.8605706691741943,
          2.362886667251587,
          2.457812786102295,
          2.481433391571045,
          2.90667462348938,
          2.1797683238983154,
          2.5903775691986084,
          2.3246665000915527,
          2.89713454246521,
          2.5947206020355225,
          2.74749493598938,
          2.533783197402954,
          2.226391315460205,
          1.635658860206604,
          2.6510214805603027,
          1.505797028541565,
          2.238431215286255,
          2.8371617794036865,
          2.4581918716430664,
          2.715322256088257,
          1.624322772026062,
          2.745985507965088,
          2.403318405151367,
          2.1881227493286133,
          2.457562208175659,
          2.5272815227508545,
          2.7808282375335693,
          2.297426223754883,
          2.5189998149871826,
          1.5647227764129639,
          2.546116828918457,
          2.840467929840088,
          2.1650142669677734,
          2.171867609024048,
          2.8341381549835205,
          2.668368339538574,
          2.3201169967651367,
          2.807241439819336,
          2.4033026695251465,
          2.27361798286438,
          2.6023428440093994,
          2.5372467041015625,
          2.8860087394714355,
          2.4151926040649414,
          2.4754912853240967,
          1.4967767000198364,
          2.439178466796875,
          2.370016574859619,
          2.6509602069854736,
          2.377883195877075,
          2.9970202445983887,
          2.4456534385681152,
          2.4265291690826416,
          2.7578561305999756,
          2.2200307846069336,
          2.6917271614074707,
          2.4786386489868164,
          2.459953784942627
         ]
        },
        {
         "hoverinfo": "text",
         "hovertext": [
          "Salary credit on time ,and also company given good skill oppertunity for learning",
          "The salary may be negotiable if you are the favoured employee of your boss, otherwise, it may be wise to have a backup plan.",
          "Salary in time.\nGrowth as per performance.",
          "Salary not increase for every year",
          "Best salary system",
          "Average increment per anual",
          "Good salary, work timing, working culture.",
          "Perks and benifit",
          "Nothing to be dislike but need to improve salary and makeup work lode divided",
          "HR policy and salary on time",
          "Salary time and other wise good",
          "Very Good salary on time",
          "Point settlement",
          "Salary and benefits",
          "Pay structure and benefits are not tax friendly to employees.",
          "Salary and Other Benefits on time .",
          "Like work culture ,salary and expense on time and other benefits",
          "Timely bounded salary and other expenses.",
          "Salary growth zero% for contractual staff",
          "Offrole employee not good salary and appriseal",
          "On time salary, easy approach, work life balance",
          "Apart from salary nothing good",
          "Timely Salary & Annual Appraisal, Supportive collegues.",
          "Salary and benifits.",
          "Only Salary on time.",
          "The system regarding salary and other activities through IT is well placed",
          "Only the salary part is good",
          "1) Salary is always on time\n2) Good office infrastructure for working",
          "Salary Credited to Late Very Month",
          "Timing salary",
          "TA bill approved on time",
          "salary on time & policy transparent.",
          "Company not providing increment for last four years. There is no job security. Skill development and learning not available for off roll employees.",
          "Work timing not set and salary not in range and without information cutting exta amount in salaries so many resons",
          "Salary And Benefits",
          "off role employee not increment",
          "Salary structure",
          "Working in delhi regional branch.....cordial team......salary on time",
          "good but salary not increase and growth also not there  . and overoll normal",
          "Increment is not proper",
          "There is no salary increment for off roll employees.",
          "Salary increment low",
          "According to me \nThere was not good salary and benefits \nfor any employee",
          "Salary in time",
          "Salary On time",
          "Salary on time.",
          "Paid Timely salary",
          "Not getting increment in salary",
          "No Salary increment & No Promotion",
          "Good salary not miss every month incentive is good mangers all good",
          "Timely provide the salary.",
          "Timely salary",
          "Unfair pay",
          "Payroll",
          "salary and other facility good",
          "Every thing other than salary.",
          "Flexible working, good employee welfare, excellent benefits, perfect work life balance",
          null
         ],
         "marker": {
          "opacity": 0.5,
          "size": 5
         },
         "mode": "markers+text",
         "name": "3_salary_time_increment",
         "text": [
          "",
          "",
          "",
          "",
          "",
          "",
          "",
          "",
          "",
          "",
          "",
          "",
          "",
          "",
          "",
          "",
          "",
          "",
          "",
          "",
          "",
          "",
          "",
          "",
          "",
          "",
          "",
          "",
          "",
          "",
          "",
          "",
          "",
          "",
          "",
          "",
          "",
          "",
          "",
          "",
          "",
          "",
          "",
          "",
          "",
          "",
          "",
          "",
          "",
          "",
          "",
          "",
          "",
          "",
          "",
          "",
          "",
          "3_salary_time_increment"
         ],
         "textfont": {
          "size": 12
         },
         "type": "scattergl",
         "x": [
          9.293120384216309,
          9.466601371765137,
          9.427129745483398,
          9.995932579040527,
          9.042736053466797,
          10.094731330871582,
          9.233342170715332,
          9.270586967468262,
          9.160937309265137,
          9.433981895446777,
          9.286125183105469,
          9.334834098815918,
          9.301190376281738,
          9.090205192565918,
          9.581693649291992,
          9.341678619384766,
          9.1264066696167,
          9.17892074584961,
          9.979076385498047,
          9.490111351013184,
          9.250577926635742,
          9.305929183959961,
          9.222620010375977,
          9.069543838500977,
          9.344576835632324,
          8.839874267578125,
          9.361898422241211,
          8.956465721130371,
          9.31135082244873,
          9.355332374572754,
          8.359536170959473,
          9.370301246643066,
          10.029146194458008,
          9.396125793457031,
          9.099580764770508,
          10.083547592163086,
          9.03222942352295,
          9.281908988952637,
          9.41347599029541,
          10.121631622314453,
          10.04935359954834,
          10.072402954101562,
          9.483439445495605,
          9.363643646240234,
          9.377232551574707,
          9.339426040649414,
          9.268040657043457,
          10.109489440917969,
          10.120532035827637,
          9.428802490234375,
          9.200884819030762,
          9.251063346862793,
          10.287493705749512,
          9.000815391540527,
          9.173704147338867,
          9.213308334350586,
          8.03251838684082,
          9.387845039367676
         ],
         "y": [
          -0.9708443880081177,
          -1.6001052856445312,
          -1.0312657356262207,
          -1.6226799488067627,
          -1.3672206401824951,
          -1.716888189315796,
          -1.3605436086654663,
          -1.9199227094650269,
          -1.7519850730895996,
          -0.861922562122345,
          -1.1912881135940552,
          -0.8802617788314819,
          -1.932510495185852,
          -1.35398268699646,
          -1.7191193103790283,
          -0.8819345235824585,
          -1.277225375175476,
          -0.641917884349823,
          -1.6576520204544067,
          -1.7861788272857666,
          -0.9995630979537964,
          -1.4032832384109497,
          -0.6640703082084656,
          -1.3767306804656982,
          -0.8519061803817749,
          -1.302198886871338,
          -1.4662437438964844,
          -1.2618649005889893,
          -0.7077807784080505,
          -0.7375515699386597,
          -0.4083031415939331,
          -0.865741491317749,
          -1.791402816772461,
          -0.8826422095298767,
          -1.3208255767822266,
          -1.7245029211044312,
          -1.3406095504760742,
          -1.006676435470581,
          -1.4991059303283691,
          -1.701906681060791,
          -1.7160422801971436,
          -1.6661697626113892,
          -1.6191723346710205,
          -0.8506109714508057,
          -0.8347170352935791,
          -0.8845409750938416,
          -0.6917563080787659,
          -1.7122920751571655,
          -1.7422246932983398,
          -1.4522074460983276,
          -0.6501784920692444,
          -0.6526432037353516,
          -2.7813665866851807,
          -0.9093413949012756,
          -1.37169349193573,
          -1.3377742767333984,
          -2.368595600128174,
          -1.299643635749817
         ]
        },
        {
         "hoverinfo": "text",
         "hovertext": [
          "Very ithical company and trust and customer satisfaction oriented.",
          "Company is good",
          "Great organisation to work with",
          "Very big brand, salary structure one of the best in industry.",
          "Product range is good.",
          "Good Company to work",
          "Everything is good , \nTake care of their employee\nAwesome experience I have got from it.",
          "Nothing to like there are much better companies",
          "Very good super exipirens very nice\nI am also happy job",
          "Sometime U can face different issues bad experience with customers",
          "Product and services are good",
          "Loved to work in this company, excellent platform to excel your skills.",
          "Liketo Learn how to handle customer service and ther satisfaction.",
          "Best quality and Service proper",
          "Today every every company wants performence and if you are performing it is good for you",
          "Good company with brand name",
          "Over all it's good company.",
          "nice experience and gud organization",
          "Vendor based not good for R&D",
          "My dream working with good company",
          "Company is really Good",
          "Brand name",
          "Over price of product .",
          "Product and quality amazing",
          "Very good company 👍",
          "Pvt company but good",
          "I want to be a part of this company.",
          "Well reputed brand with lots of opportunities and professional culture",
          "Good company",
          "Excellent  company and environment people",
          "Best company",
          "Product range",
          "Company is good to work",
          "Are you like this company menjment",
          "Quality of products development",
          "Very god company",
          "Brand presence in certain sectors of the country.",
          "It's having a good & supporting employees.",
          "Established Brands and Structured and organised working system.\nMarket leader in most of the categories.\nIf reporting boss is good, then company is a heaven to work.",
          "Good Product",
          "Company is very good, good and benefits",
          "Highly accepted Brand in India, most of senior and colleges are very friendly.",
          "overall good performance of company.",
          "Most popular branded company in India.",
          "Good brand value",
          "Company switched the cnf to lala company A one marketing that was very bad experience of my life\nVinay jalan was the owner of the company of a one marketing and he is very rude person and always abuse to everyone",
          "BEL is an good company and also treating well",
          "Don't join this company because there have not good culture for logistics.\nYou will have to work over there too much time but no holiday no weak off and if you have medical issues it's your problem no leave will provide you by company.\nI had joined in this company it's my biggest mistake in my life.",
          "Yes very good job",
          "The Good thing for this company is that here work is limited.",
          "Good for customer response",
          "If you will not join this company. I so feel bedly",
          "Best company for working",
          null
         ],
         "marker": {
          "opacity": 0.5,
          "size": 5
         },
         "mode": "markers+text",
         "name": "4_company_brand_good",
         "text": [
          "",
          "",
          "",
          "",
          "",
          "",
          "",
          "",
          "",
          "",
          "",
          "",
          "",
          "",
          "",
          "",
          "",
          "",
          "",
          "",
          "",
          "",
          "",
          "",
          "",
          "",
          "",
          "",
          "",
          "",
          "",
          "",
          "",
          "",
          "",
          "",
          "",
          "",
          "",
          "",
          "",
          "",
          "",
          "",
          "",
          "",
          "",
          "",
          "",
          "",
          "",
          "",
          "",
          "4_company_brand_good"
         ],
         "textfont": {
          "size": 12
         },
         "type": "scattergl",
         "x": [
          5.119058609008789,
          5.251848220825195,
          5.69040060043335,
          4.715660572052002,
          4.884087085723877,
          5.273651599884033,
          5.803532600402832,
          5.069016456604004,
          4.508790969848633,
          5.222991943359375,
          5.034845352172852,
          5.4149274826049805,
          5.219804286956787,
          4.997798919677734,
          5.354992866516113,
          4.670671463012695,
          5.1969733238220215,
          5.798850059509277,
          4.976620197296143,
          5.34810209274292,
          5.258884429931641,
          4.626863479614258,
          4.902758598327637,
          4.7052178382873535,
          5.007049083709717,
          5.205966472625732,
          5.445516586303711,
          4.6284637451171875,
          4.9931793212890625,
          5.31535530090332,
          5.039291858673096,
          4.881445407867432,
          5.5176568031311035,
          5.379387855529785,
          5.057646751403809,
          4.999767780303955,
          4.6233134269714355,
          5.452633857727051,
          5.2977681159973145,
          4.688286304473877,
          5.329981803894043,
          4.612271785736084,
          5.352935314178467,
          4.608847618103027,
          4.6892900466918945,
          5.241436004638672,
          5.320366382598877,
          8.298415184020996,
          4.3937201499938965,
          5.286243438720703,
          5.0662078857421875,
          5.4166259765625,
          5.228760242462158,
          5.158946990966797
         ],
         "y": [
          -2.876857042312622,
          -3.2241525650024414,
          -3.5469138622283936,
          -3.235152006149292,
          -2.6297686100006104,
          -3.145742416381836,
          -3.1214864253997803,
          -3.3620431423187256,
          -2.5484251976013184,
          -2.4637672901153564,
          -2.706641435623169,
          -3.139442205429077,
          -2.4822208881378174,
          -2.7163140773773193,
          -3.1462595462799072,
          -3.2121527194976807,
          -3.1173295974731445,
          -3.4680490493774414,
          -2.7291431427001953,
          -3.1524620056152344,
          -3.1979775428771973,
          -3.2386374473571777,
          -2.6332075595855713,
          -2.7574005126953125,
          -2.9963507652282715,
          -3.158451795578003,
          -3.1274099349975586,
          -3.2307889461517334,
          -3.0395255088806152,
          -3.0311167240142822,
          -3.2064034938812256,
          -2.6076607704162598,
          -3.052990436553955,
          -3.092482566833496,
          -2.711160182952881,
          -3.146704912185669,
          -3.3044686317443848,
          -3.1640772819519043,
          -3.4557206630706787,
          -2.7859387397766113,
          -3.1057791709899902,
          -3.302093982696533,
          -3.034350633621216,
          -3.3035709857940674,
          -3.0383787155151367,
          -2.338855266571045,
          -3.210034132003784,
          -2.0637266635894775,
          -2.5531985759735107,
          -3.2791218757629395,
          -2.7035183906555176,
          -3.1620497703552246,
          -3.3528249263763428,
          -3.007741689682007
         ]
        },
        {
         "hoverinfo": "text",
         "hovertext": [
          "Execution staff is helpful",
          "SUPPROTING ALL STAFF AND SENIOUR",
          "Supportive Boss and easy accessibility to Higher officials.",
          "Uper Management ..........",
          "Once upon a time it was very good & ethics oriented organization.but now policies has changed there is no future for the front line executive/assistant man.& deputy manager.\nNext level position company removed from hierarchy.\nFor career growth - negative \nFor for Learning - Positive\nOver all 5/10",
          "Portfolio management",
          "How to managing the employees",
          "No visions of top management.",
          "Utilization of Management tarinee",
          "No long term strategy, always panic.",
          "Wast management , my career spoiled",
          "Job satisfaction is low.....upper management is unaware of what's going on......a lot of long timers who seem to have zero accountability.....operates like a government organisation",
          "A lot of blame game keeps happening amongst departments and R&D is made the scapegoat",
          "staff of safety department is selfish, arrogant and disrespect supporting staff and employees",
          "Internal career growth opportunity is very low.",
          "Every verticals functions independently and senior managements behaves like top bureacrets with no connections.",
          "There is a lot of politics and the management dose not address our issue salary is decent but career  growth is slow there is a bond of  two years before which you cannot resing .on the job training is not given to new joinees",
          "Operational issues",
          "RM level not understand lower employee problems",
          "I like management and process",
          "Top Management not clear about his decision",
          "No uniform companies",
          "Everything is Bad no Professional system, top management is all poor experience guys. Give importance to sycophancy and hypocrisy.",
          "Doing changes without taking employees in confidence.",
          "Communication between department",
          "Managers need to understand the downline employee problem.",
          "Internal politics ,partialities with capable employees,present higher management are very bads",
          "Like but staff no like",
          "Management behaviour and helpfull",
          "Management  is not well",
          "There was no innovation and only office politics. The upper management is corrupt and only favours who treat the bosses well.",
          "There is lot to learn but labor is suffering due to old machinery. So the job Quality and cost of the job losing a lot.",
          "Everything. No way recommended to anyone. All corrupted people ans sinior management",
          "Taking care of employees",
          "There is a lot of politics and the management doesn't address our issues.",
          "Lots of opportunities on crises management",
          "There is. Lot of politics and the management doesn't address our issues. Salary is decent but career growth is alow.",
          "There has no growth in the career...poor management",
          "It's true that I don't like the management about everything.No facilities for workers.",
          "Non responsive and relaxed upper management .",
          "Compeny is good  staff not good",
          "Need realistic management",
          "Lot to change about people management.",
          "Company is doing fine at most of the fronts. Good potential and management is taking good risks to expand the business,",
          "Some of non supportive staff in management.",
          "Poor mgmt no clear communication",
          "Slow to responses . Management is unclear as far as long term strategy is concerned. Only focuses on short term gap fills.",
          null
         ],
         "marker": {
          "opacity": 0.5,
          "size": 5
         },
         "mode": "markers+text",
         "name": "5_management_staff_lot",
         "text": [
          "",
          "",
          "",
          "",
          "",
          "",
          "",
          "",
          "",
          "",
          "",
          "",
          "",
          "",
          "",
          "",
          "",
          "",
          "",
          "",
          "",
          "",
          "",
          "",
          "",
          "",
          "",
          "",
          "",
          "",
          "",
          "",
          "",
          "",
          "",
          "",
          "",
          "",
          "",
          "",
          "",
          "",
          "",
          "",
          "",
          "",
          "",
          "5_management_staff_lot"
         ],
         "textfont": {
          "size": 12
         },
         "type": "scattergl",
         "x": [
          7.595099925994873,
          7.598222255706787,
          7.534737586975098,
          8.093783378601074,
          8.408447265625,
          8.118483543395996,
          7.7736077308654785,
          8.38361930847168,
          7.926187038421631,
          8.297770500183105,
          8.403250694274902,
          8.485888481140137,
          8.21212100982666,
          7.915884971618652,
          8.540889739990234,
          8.388486862182617,
          8.666133880615234,
          8.197525024414062,
          8.616523742675781,
          8.087935447692871,
          8.236556053161621,
          8.619754791259766,
          8.436254501342773,
          7.8732008934021,
          7.432459354400635,
          7.797522068023682,
          8.515926361083984,
          7.553198337554932,
          7.830717086791992,
          8.229044914245605,
          8.573235511779785,
          8.540658950805664,
          8.509438514709473,
          7.551336765289307,
          8.56009292602539,
          8.130006790161133,
          8.570533752441406,
          8.552350044250488,
          8.488805770874023,
          8.075520515441895,
          7.597654819488525,
          8.175651550292969,
          8.250090599060059,
          8.169657707214355,
          7.840301990509033,
          8.120380401611328,
          8.239151000976562,
          8.164130210876465
         ],
         "y": [
          -4.391845703125,
          -4.377385139465332,
          -3.8664984703063965,
          -4.020676612854004,
          -3.5539703369140625,
          -4.019417762756348,
          -4.088655471801758,
          -3.886742115020752,
          -3.998446226119995,
          -3.811736822128296,
          -3.7008655071258545,
          -3.8539905548095703,
          -4.205852031707764,
          -4.3353166580200195,
          -3.147416591644287,
          -3.9713196754455566,
          -3.1334049701690674,
          -3.7661967277526855,
          -3.917788505554199,
          -3.994676113128662,
          -3.888409376144409,
          -4.429873943328857,
          -4.014768600463867,
          -4.052388668060303,
          -3.8672194480895996,
          -4.1283745765686035,
          -3.749938488006592,
          -4.408891201019287,
          -4.063703536987305,
          -3.9017581939697266,
          -3.736332893371582,
          -3.0734610557556152,
          -4.3280158042907715,
          -4.132587432861328,
          -3.8102030754089355,
          -3.985915184020996,
          -3.344374179840088,
          -3.301967144012451,
          -4.239454746246338,
          -3.9694623947143555,
          -4.382788181304932,
          -3.9875218868255615,
          -3.999579906463623,
          -3.5721077919006348,
          -4.139197826385498,
          -3.804090976715088,
          -3.69260835647583,
          -3.9158973693847656
         ]
        },
        {
         "hoverinfo": "text",
         "hovertext": [
          "I have enjoyed with my best working activity.",
          "Good working hours",
          "Transparency, value system, excellent work environment",
          "Quite comfortable",
          "Highely Terrible Work place",
          "Good envoirment of working",
          "Good working environment",
          "None at all its good working atmosphere",
          "No I like my work there",
          "Good environment\nGood collegue\nBenifits",
          "Overall Good place to work.",
          "It has wide range of product which creates large band of exposure. Be it outdoor, indoor or architectural field.",
          "Good for working",
          "Descipline and Friendly Atmosphere",
          "Nice to work...",
          "Work Clutter is good",
          "Very good working environment",
          "Working atmosphere is very good.",
          "No I am Like Working",
          "Great place to work except the office location",
          "Working place is good and i learn more from this work place thank you",
          "Work environment",
          "Its good to work here...",
          "If environment atmosphere good",
          "i don't like to talk while working",
          "Good atmosphere",
          "Average place to work",
          "Very nice and helpful atmosphere in office.",
          "Infrastructure and workspace",
          "Good environment in past that should be continue I'm future also.",
          "Initially the work seems good",
          "Health Environment.",
          "Office environment is good and upper management support is good",
          "All is good. Work atmosphere is good",
          "Great place to work",
          null
         ],
         "marker": {
          "opacity": 0.5,
          "size": 5
         },
         "mode": "markers+text",
         "name": "6_atmosphere_environment_place",
         "text": [
          "",
          "",
          "",
          "",
          "",
          "",
          "",
          "",
          "",
          "",
          "",
          "",
          "",
          "",
          "",
          "",
          "",
          "",
          "",
          "",
          "",
          "",
          "",
          "",
          "",
          "",
          "",
          "",
          "",
          "",
          "",
          "",
          "",
          "",
          "",
          "6_atmosphere_environment_place"
         ],
         "textfont": {
          "size": 12
         },
         "type": "scattergl",
         "x": [
          6.530248165130615,
          6.531269550323486,
          6.486860275268555,
          6.059953212738037,
          6.333118438720703,
          6.570746898651123,
          6.353306770324707,
          6.0183234214782715,
          6.149924278259277,
          6.181822299957275,
          6.028140544891357,
          6.148809909820557,
          6.5652875900268555,
          5.921522617340088,
          5.900087833404541,
          6.245673179626465,
          6.24353551864624,
          5.993943214416504,
          6.366892337799072,
          6.132916450500488,
          6.0605854988098145,
          6.616446495056152,
          5.909405708312988,
          5.9316205978393555,
          6.818723201751709,
          5.936919689178467,
          6.099661827087402,
          6.046170234680176,
          6.652629375457764,
          6.3231520652771,
          5.903313636779785,
          6.2521443367004395,
          6.331968784332275,
          5.963811874389648,
          6.108006000518799,
          6.220483303070068
         ],
         "y": [
          -2.0242483615875244,
          -1.9417482614517212,
          -1.6034342050552368,
          -1.6467888355255127,
          -1.9711304903030396,
          -2.0195178985595703,
          -1.6375486850738525,
          -1.4216079711914062,
          -2.032423496246338,
          -1.6319986581802368,
          -1.9350647926330566,
          -1.6515361070632935,
          -2.028947114944458,
          -1.291426658630371,
          -1.8214246034622192,
          -1.4849625825881958,
          -1.5847312211990356,
          -1.3874186277389526,
          -2.0999109745025635,
          -1.909960389137268,
          -1.9123668670654297,
          -1.5174731016159058,
          -1.837930679321289,
          -1.2951229810714722,
          -2.103203773498535,
          -1.288182258605957,
          -1.9417704343795776,
          -1.4602330923080444,
          -1.4907816648483276,
          -1.6194984912872314,
          -1.8295663595199585,
          -1.6233123540878296,
          -1.6078474521636963,
          -1.4893065690994263,
          -1.9557461738586426,
          -1.7170907258987427
         ]
        },
        {
         "hoverinfo": "text",
         "hovertext": [
          "Less Work , Less Tention . No Physical Stress",
          "Men power remove",
          "Pressure of working while a employee is on leave.",
          "Work balance",
          "Anytime you will fired\nToo much work pressure\nNo family or personal life\nCompany expecting work even after official hour...\nEvery person loded\nJob starts at 7 am and no end till u sleep\nSometimes 3 am or 4 \nGodfather ranking\nEvery person is equal judge... Apart of load distribution\nAnytime asked to change your city",
          "None good company work life balance",
          "Nothing ....as time changes and work.pressure is same for all the companies.",
          "Full of presure and no work life balance",
          "no value for work oriented persons",
          "Salary\nHeavy work pressure",
          "Less man power , more work load",
          "Due to covid situation most of the companies are fighting for survival so work pressure have increased here also which leads to lesser work life balance and job security as compared to pre covid era.",
          "Lot of pressure",
          "Poor work life balance and HR policies.",
          "Good growth opportunity\nGreat leaders\nScope for personal development\nGood work life balance",
          "Fund system at site is dull",
          "Though work pressure is high but enjoy to work",
          "Good for worklife balance",
          "Stable job",
          "There is no value for talant and hard work.  If u have strong reference in higher management then u can survive without doing any work.",
          "Work life balance is poor at site",
          "Good work life balance",
          "Work Life balance",
          "Work cluture",
          "Work life balance",
          "Highly tense work atmosphere,Never get any growth",
          "No proper system to work. lot of bureaucracy. Too much work pressure . No work life balance",
          "Work pressure is very high & no work - life balance .",
          "No proper support from Marketing team\nWork culture and work life balance is not in a good way",
          null
         ],
         "marker": {
          "opacity": 0.5,
          "size": 5
         },
         "mode": "markers+text",
         "name": "7_balance_life_work",
         "text": [
          "",
          "",
          "",
          "",
          "",
          "",
          "",
          "",
          "",
          "",
          "",
          "",
          "",
          "",
          "",
          "",
          "",
          "",
          "",
          "",
          "",
          "",
          "",
          "",
          "",
          "",
          "",
          "",
          "",
          "7_balance_life_work"
         ],
         "textfont": {
          "size": 12
         },
         "type": "scattergl",
         "x": [
          7.767276287078857,
          8.222870826721191,
          7.87299919128418,
          7.738256454467773,
          7.897401809692383,
          7.807516574859619,
          7.925761699676514,
          7.755792617797852,
          8.079933166503906,
          7.846529483795166,
          7.796998023986816,
          7.858157157897949,
          7.757302761077881,
          7.952421188354492,
          7.723229885101318,
          7.987431049346924,
          7.749569892883301,
          7.7275309562683105,
          7.332360744476318,
          8.174346923828125,
          7.803792953491211,
          7.769833564758301,
          7.808358669281006,
          8.034468650817871,
          7.827425479888916,
          7.65778112411499,
          8.031559944152832,
          7.8190460205078125,
          7.8376994132995605,
          7.847021579742432
         ],
         "y": [
          -1.9876642227172852,
          -2.287959337234497,
          -1.6600991487503052,
          -2.233656167984009,
          -1.6056886911392212,
          -2.4071414470672607,
          -1.6404478549957275,
          -2.1483235359191895,
          -2.5600340366363525,
          -1.6456063985824585,
          -1.9560314416885376,
          -1.8930916786193848,
          -1.637861728668213,
          -2.3515195846557617,
          -2.469365119934082,
          -2.088876962661743,
          -1.704769492149353,
          -2.296623468399048,
          -2.3592042922973633,
          -2.6010208129882812,
          -2.2284977436065674,
          -2.3438568115234375,
          -2.2901222705841064,
          -1.5012011528015137,
          -2.2950901985168457,
          -1.9482728242874146,
          -2.4417061805725098,
          -1.9252363443374634,
          -2.5479094982147217,
          -2.105409622192383
         ]
        },
        {
         "hoverinfo": "text",
         "hovertext": [
          "Working on Weekend. (Saturday & Sunday is off.)",
          "AREA SYNCING AND MULTIPLE BU WORKING WITH SAME TIME..",
          "Time Schedule",
          "5 days working",
          "If you want to work they will load you will work",
          "Flexible hours, 5 days working & culture of organisation",
          "Flexible time of work.",
          "Processes not yet streamline",
          "all days working,no process",
          "Timing to time works",
          "Rite now, \nSystem is not so synchronized.",
          "Manegment is week",
          "Work timeing",
          "System is not there",
          "Some time apprisal not fact according to emp. Work",
          "Flexible time for staff",
          "6 days working Not",
          "Office timing is flexible",
          "Quaterly meets in a year about new products launching & sharing details of the new products through online or offline mode.Weekend saturday meets sharing feedback and analyzing market to promote & growth our sales activity with company area sales manager and distributor manager. Weekly market visiting and taking orders from retailers.",
          "Sallary on time.",
          "No time limit for work",
          "Work time",
          "Lot of process to complete one task",
          "Over load work",
          "Flexible in time",
          "Flexi timing\nCulture is not toxic",
          null
         ],
         "marker": {
          "opacity": 0.5,
          "size": 5
         },
         "mode": "markers+text",
         "name": "8_flexible_time_days",
         "text": [
          "",
          "",
          "",
          "",
          "",
          "",
          "",
          "",
          "",
          "",
          "",
          "",
          "",
          "",
          "",
          "",
          "",
          "",
          "",
          "",
          "",
          "",
          "",
          "",
          "",
          "",
          "8_flexible_time_days"
         ],
         "textfont": {
          "size": 12
         },
         "type": "scattergl",
         "x": [
          7.645719528198242,
          7.360845565795898,
          7.887993335723877,
          7.592870235443115,
          7.201319217681885,
          7.701763153076172,
          7.737786293029785,
          7.409747123718262,
          7.450779438018799,
          7.9039435386657715,
          7.332791805267334,
          7.939888954162598,
          7.765355587005615,
          7.286398887634277,
          7.865463733673096,
          7.794198036193848,
          7.496633529663086,
          7.809076309204102,
          7.930305004119873,
          7.868356227874756,
          7.6689534187316895,
          7.699672698974609,
          7.302519798278809,
          7.282131195068359,
          7.814732551574707,
          7.955322742462158,
          7.642483234405518
         ],
         "y": [
          -0.5802674889564514,
          -0.6245311498641968,
          -0.3610365688800812,
          -0.5936264991760254,
          -1.4381369352340698,
          -0.41977718472480774,
          -0.3591792583465576,
          -0.8251966238021851,
          -0.6713333129882812,
          -0.33177557587623596,
          -0.7241067886352539,
          -0.451975017786026,
          -0.35669660568237305,
          -0.7107319831848145,
          -0.30309662222862244,
          -0.3438204228878021,
          -0.6193801760673523,
          -0.31839197874069214,
          -0.487086683511734,
          -0.3198687434196472,
          -0.467369943857193,
          -0.4541145861148834,
          -0.886467695236206,
          -1.4443330764770508,
          -0.2924725115299225,
          -0.3821853697299957,
          -0.5679599046707153
         ]
        },
        {
         "hoverinfo": "text",
         "hovertext": [
          "Working at environment health and safety proffession.",
          "Job security is not good.",
          "No job security if no projects in there hand.",
          "Job security poor",
          "I'm interested to only safety proffession.",
          "RELOCATE JOB",
          "senior behave wrongly type & job not secure",
          "No secured job",
          "less job security & low increment",
          "Work Target policy, Safety training, Good Behaviour to employee.",
          "Job security. Defensive business approach.",
          "Job safety",
          "Job security",
          "All is well but job security not wellm",
          "There is no future working security",
          "Job is not secure.",
          "No job certainty",
          "Team is good, Time to time training, Now a days no job security.",
          "It was great experience,but due to wrong company policy done by Execution head their is always threat of job security.",
          null
         ],
         "marker": {
          "opacity": 0.5,
          "size": 5
         },
         "mode": "markers+text",
         "name": "9_job_security_safety",
         "text": [
          "",
          "",
          "",
          "",
          "",
          "",
          "",
          "",
          "",
          "",
          "",
          "",
          "",
          "",
          "",
          "",
          "",
          "",
          "",
          "9_job_security_safety"
         ],
         "textfont": {
          "size": 12
         },
         "type": "scattergl",
         "x": [
          9.189051628112793,
          9.024334907531738,
          9.026618957519531,
          9.043046951293945,
          9.189740180969238,
          9.155121803283691,
          8.999262809753418,
          9.081080436706543,
          9.06049633026123,
          9.207934379577637,
          9.048996925354004,
          9.155328750610352,
          9.060836791992188,
          8.951399803161621,
          9.054990768432617,
          9.059405326843262,
          9.091789245605469,
          8.991287231445312,
          9.032546043395996,
          9.074909210205078
         ],
         "y": [
          -5.125424385070801,
          -5.476511478424072,
          -5.476179122924805,
          -5.4908623695373535,
          -5.145561695098877,
          -5.609935760498047,
          -5.470822811126709,
          -5.541447162628174,
          -5.516155242919922,
          -5.005903244018555,
          -5.473384857177734,
          -5.168143272399902,
          -5.474392890930176,
          -5.415572643280029,
          -5.530681133270264,
          -5.514072418212891,
          -5.533490180969238,
          -5.500518798828125,
          -5.477293491363525,
          -5.418229103088379
         ]
        },
        {
         "hoverinfo": "text",
         "hovertext": [
          "Provides training from development of new skills as per markets required.",
          "Learnings new things and apply",
          "Team Work, learning skill",
          "Learning & growth opportunities",
          "Opportunities to learn new things",
          "Research",
          "Only skill development is good.",
          "Experience and collect knowledge",
          "Skills development and opportunities to work on new projects",
          "Not focusing on new categories",
          "Working Environment and Learning’s",
          "Since the management team + manager puts you on fire & expect smooth project delivery and due to high work pressure an individual can learn or upgrade skills on the job or can take as opportunity to upgrade skills but no special training or efforts would be their from organization",
          "I am enjoying my work and time to time seft updates learning.",
          "Good experience working with BEL, however more training & development programs  online & offline need to be conducted for enhance learning activity",
          "You can develop your work skill and communication with different people.... How to talk and how to deal.....",
          "Learnings\nWork Freedom",
          "There has a lot of things to learn .",
          "Lot's of learning.",
          null
         ],
         "marker": {
          "opacity": 0.5,
          "size": 5
         },
         "mode": "markers+text",
         "name": "10_learning_new_learnings",
         "text": [
          "",
          "",
          "",
          "",
          "",
          "",
          "",
          "",
          "",
          "",
          "",
          "",
          "",
          "",
          "",
          "",
          "",
          "",
          "10_learning_new_learnings"
         ],
         "textfont": {
          "size": 12
         },
         "type": "scattergl",
         "x": [
          6.713239669799805,
          6.77441930770874,
          6.7632012367248535,
          6.840062141418457,
          6.752976894378662,
          6.742764949798584,
          6.808945178985596,
          6.625741004943848,
          6.785305976867676,
          6.769952774047852,
          6.60982084274292,
          6.857834339141846,
          6.527327060699463,
          6.650864601135254,
          6.7953081130981445,
          7.018014907836914,
          6.7465362548828125,
          6.731442451477051,
          6.750764846801758
         ],
         "y": [
          -3.050323724746704,
          -2.9157450199127197,
          -3.3837945461273193,
          -3.0049216747283936,
          -2.940156936645508,
          -3.3039815425872803,
          -3.0735201835632324,
          -2.956575632095337,
          -3.0164668560028076,
          -2.954747200012207,
          -2.771329641342163,
          -3.3138420581817627,
          -2.3937151432037354,
          -3.039903402328491,
          -2.3424224853515625,
          -2.9886298179626465,
          -2.951033353805542,
          -2.9175052642822266,
          -2.9621455669403076
         ]
        },
        {
         "hoverinfo": "text",
         "hovertext": [
          "Appraisal should involve HR also. \nHybrid working option. Saturday off.",
          "Timely appraisal but promotions issue",
          "Promotion in appraisal process is very bad.",
          "Appraisals and Promotion s",
          "Promotions or Appraisal process is not good",
          "Appraisal and promotions",
          "Reference basis appraisals done in current scenario. If any one links and likes available in effective management.",
          "Due to off roll employees appraisal is poor.",
          "opaque appraisals, poor HR communication and documentation",
          "Some of the legacy feature , appraisal process could be transparent",
          "Appraisal politics.  appraisal is only for who do bucketting.",
          "Personals Relation use for promotion or appraisal not for selected  as per Performance.",
          "Appraisal is required to be more transparent",
          "Appraisal process",
          "Lack of support of management\nBias system on appraisals cycle\nNo 360 degree feedback and poor HR mngt\nLast but not least favouritism works well here",
          "Appraisals & Incentives",
          "No Work Life Balance \nWorst HR experience in my 10 Year experience he never Responded \nAppraisal purely Biased basis",
          null
         ],
         "marker": {
          "opacity": 0.5,
          "size": 5
         },
         "mode": "markers+text",
         "name": "11_appraisal_appraisals_process",
         "text": [
          "",
          "",
          "",
          "",
          "",
          "",
          "",
          "",
          "",
          "",
          "",
          "",
          "",
          "",
          "",
          "",
          "",
          "11_appraisal_appraisals_process"
         ],
         "textfont": {
          "size": 12
         },
         "type": "scattergl",
         "x": [
          11.629661560058594,
          11.41555404663086,
          11.554221153259277,
          11.538942337036133,
          11.495304107666016,
          11.488455772399902,
          11.487128257751465,
          11.61100959777832,
          11.670296669006348,
          11.657880783081055,
          11.637712478637695,
          11.496072769165039,
          11.660795211791992,
          11.623641014099121,
          11.617542266845703,
          11.5620756149292,
          11.621845245361328,
          11.574596405029297
         ],
         "y": [
          -2.9504973888397217,
          -2.6720428466796875,
          -2.814028024673462,
          -2.8070321083068848,
          -2.7535061836242676,
          -2.7602906227111816,
          -3.095297336578369,
          -2.9224181175231934,
          -2.9204771518707275,
          -2.8991568088531494,
          -2.8894777297973633,
          -2.7519233226776123,
          -2.890998363494873,
          -2.862272262573242,
          -2.9447503089904785,
          -2.8329293727874756,
          -2.958925247192383,
          -2.866236448287964
         ]
        },
        {
         "hoverinfo": "text",
         "hovertext": [
          "False presentation and information passed on to company management by Execution, leads to wrong implementation of company policy.",
          "But policies are managed by Head of units",
          "Company Policies",
          "I think there is no any issues about the company policy .he gives all the training to employe",
          "Continious change in policy",
          "Company Best  policy for employer.",
          "Policies & benefits",
          "Warrenty card",
          "I have worked 4 year 8 months in the power sector but i didn't understand company policy like management, increment, apprisal. I will never join this organization in future.",
          "Company policies are reliable.",
          "All Policy.",
          "Company policy is very good in favor of employees",
          "Not much policies are changing frequently",
          "Organization policies very good",
          "Good policy",
          "Company policies",
          null
         ],
         "marker": {
          "opacity": 0.5,
          "size": 5
         },
         "mode": "markers+text",
         "name": "12_policy_policies_company",
         "text": [
          "",
          "",
          "",
          "",
          "",
          "",
          "",
          "",
          "",
          "",
          "",
          "",
          "",
          "",
          "",
          "",
          "12_policy_policies_company"
         ],
         "textfont": {
          "size": 12
         },
         "type": "scattergl",
         "x": [
          9.937267303466797,
          9.895454406738281,
          9.981034278869629,
          9.762239456176758,
          9.838794708251953,
          9.811274528503418,
          9.949079513549805,
          10.1315336227417,
          9.9550142288208,
          9.948674201965332,
          9.885274887084961,
          9.822297096252441,
          9.861108779907227,
          9.907288551330566,
          9.88187026977539,
          9.99671745300293,
          9.910306930541992
         ],
         "y": [
          -3.856009006500244,
          -3.9365475177764893,
          -3.8112568855285645,
          -3.8719289302825928,
          -4.015652656555176,
          -3.8733999729156494,
          -3.882636547088623,
          -3.4208922386169434,
          -3.825427532196045,
          -3.866255760192871,
          -3.931023359298706,
          -3.919856309890747,
          -3.997304916381836,
          -3.9212825298309326,
          -3.9380831718444824,
          -3.831303358078003,
          -3.868678569793701
         ]
        },
        {
         "hoverinfo": "text",
         "hovertext": [
          "Not much scope for promotion and increment",
          "Timely promotion not done.",
          "No encouragement and acknowledgment of hard work. They won't promote you inhouse",
          "Rate problem for market",
          "No Sales Incentive",
          "Total working 11yrs but no promotion.",
          "Company promotion is so late",
          "Incentives plan",
          "Management and promotion policy",
          "Company based incentives & schemes for our target does not transfer by the end of the current month. It takes a lot of time  around 4 /5/6monthes  to be credit on our account.",
          "Promotion is delay",
          "Promotion policy",
          "Slow promotion",
          "Promotions not after long time.",
          "Promotion & increment is good.",
          null
         ],
         "marker": {
          "opacity": 0.5,
          "size": 5
         },
         "mode": "markers+text",
         "name": "13_promotion_incentives_increment",
         "text": [
          "",
          "",
          "",
          "",
          "",
          "",
          "",
          "",
          "",
          "",
          "",
          "",
          "",
          "",
          "",
          "13_promotion_incentives_increment"
         ],
         "textfont": {
          "size": 12
         },
         "type": "scattergl",
         "x": [
          10.867161750793457,
          10.84519100189209,
          10.6785249710083,
          5.383114337921143,
          10.637972831726074,
          10.581216812133789,
          10.826879501342773,
          10.586545944213867,
          10.832098960876465,
          10.764044761657715,
          10.855835914611816,
          10.86343002319336,
          10.84076976776123,
          10.898031234741211,
          10.860649108886719,
          10.421431541442871
         ],
         "y": [
          -2.389464855194092,
          -2.3447000980377197,
          -2.2221121788024902,
          2.068756580352783,
          -2.715913772583008,
          -2.149773359298706,
          -2.327981948852539,
          -2.73764705657959,
          -2.4659698009490967,
          -2.240171194076538,
          -2.3475873470306396,
          -2.454699993133545,
          -2.360921621322632,
          -2.3776590824127197,
          -2.412402391433716,
          -2.0985500812530518
         ]
        },
        {
         "hoverinfo": "text",
         "hovertext": [
          "Lot to learn. CEO’s and COO’s vision.",
          "Politic and Face Promotion.",
          "Politics .\nI worked under drinkers and useless fellows.",
          "Nepotism",
          "politician company only for politician",
          "Internal politics is there and little bit favourism present .",
          "Politics of the company",
          "For me frankly Today it's only a company, those who have a godfather in company they only survive or stay in company. Management involvement between employees is very poor. Those who have very good skills of chaplusi they can survive  for long time😊. I am a victim of this company. So use own your brain 🧠.\n Many peoples are still in the company of PD management, their thinking is how to take  own benefits and earn  money from the company. It a pure politics company. So be ready for the politician post. Happy journey....Read More",
          "Politics",
          "Corporate Politics",
          "A company of before independence",
          "Politics, partiality",
          "Nothing full of politics n oiling atmosphere",
          "Internal Politics\nUnfair division of business units\nAlmost 7 days weekly work",
          null
         ],
         "marker": {
          "opacity": 0.5,
          "size": 5
         },
         "mode": "markers+text",
         "name": "14_politics_politician_company",
         "text": [
          "",
          "",
          "",
          "",
          "",
          "",
          "",
          "",
          "",
          "",
          "",
          "",
          "",
          "",
          "14_politics_politician_company"
         ],
         "textfont": {
          "size": 12
         },
         "type": "scattergl",
         "x": [
          8.008370399475098,
          10.830838203430176,
          7.831201076507568,
          7.834952354431152,
          7.951014518737793,
          7.983438968658447,
          7.943569660186768,
          8.015983581542969,
          7.903774261474609,
          7.90119743347168,
          7.772334575653076,
          7.978087425231934,
          7.9369683265686035,
          8.586689949035645,
          8.177030563354492
         ],
         "y": [
          -4.840389251708984,
          -2.4983670711517334,
          -5.11316442489624,
          -5.175629138946533,
          -4.935187339782715,
          -5.122001647949219,
          -4.920555591583252,
          -4.8572258949279785,
          -5.134419918060303,
          -5.047511577606201,
          -4.882624626159668,
          -5.106101989746094,
          -5.106754779815674,
          -3.758075714111328,
          -4.7498579025268555
         ]
        },
        {
         "hoverinfo": "text",
         "hovertext": [
          "Seniors  Management",
          "Teamates Never looses hope about anything,they give their 100%.",
          "For commercial and accounts dept. I had a great team with supporting seniors. I enjoyed work and learned a lot from this company. \nBike with Fuel\nInternet facility \nCorporate Ola and Uber for all employees",
          "It's an friendly environment company with supported by seniors",
          "Nice place to work, good work environment and culture. Management is very good and supportive. All seniors are good , they are very helpful and supportive. One of the most systematic organization in this sector. Also its a good place to enhance your skills and knowledge.",
          "Wonderful organisation with great culture\nSeniors are very supportive\nManagement is responsive",
          "Seniors are good teammates are very supporting .",
          "Supporting from senior",
          "There is a lot of Support by senior manager and Team mates nothing to do any hesitation ...",
          "Old employee without information out of job.",
          "Good work culture, and Environment, Seniors are Suportive and Management is transparent .",
          "seniors are always help me\nGood nice product\n& After sales service are best for than others brand",
          "My all senior sir is Nature is to good he is always motivate",
          "80 year old company working as new startup",
          null
         ],
         "marker": {
          "opacity": 0.5,
          "size": 5
         },
         "mode": "markers+text",
         "name": "15_seniors_supporting_senior",
         "text": [
          "",
          "",
          "",
          "",
          "",
          "",
          "",
          "",
          "",
          "",
          "",
          "",
          "",
          "",
          "15_seniors_supporting_senior"
         ],
         "textfont": {
          "size": 12
         },
         "type": "scattergl",
         "x": [
          6.154664039611816,
          6.468898773193359,
          6.103612422943115,
          6.1320977210998535,
          6.110562324523926,
          6.158431053161621,
          6.35281229019165,
          6.338356971740723,
          6.435659885406494,
          6.15335750579834,
          6.1888909339904785,
          6.127786636352539,
          6.296016693115234,
          6.117105484008789,
          6.224160671234131
         ],
         "y": [
          -4.023078441619873,
          -3.9647622108459473,
          -4.018154144287109,
          -4.029865741729736,
          -4.03001594543457,
          -4.053590297698975,
          -3.94560170173645,
          -3.9372141361236572,
          -3.946117639541626,
          -4.007711410522461,
          -4.082908630371094,
          -4.02363395690918,
          -3.951724052429199,
          -3.941005229949951,
          -3.9968130588531494
         ]
        },
        {
         "hoverinfo": "text",
         "hovertext": [
          "HR are least bothered for your concern",
          "HR roles - employee career path not any fixed path for growth.",
          "Hr policy is very clear and skill oriented . Need to directly associated with bottom line employee.",
          "Old company with stable growth good HR policies",
          "Hr policy is very good .time to time salary provide by company.",
          "Their HR policies",
          "Internal Politics , every day changing HR policies , compulsion of CSR, No Process & Documentation , No ,overall relocation to Navi Mumbai is costly",
          "HR is no more in system.\nThere are no path for employee.\nOnly sterio type working without future growth.",
          "HR policies and there is flat structure. Even after having experience of 18 years, company is offering Manager position.",
          "HR policies \nOffice Politics",
          "Favouritism, no HR intervention. Hire and fire. No work ethics by people and still no action even when authorities know.",
          "HR policy and IT is good",
          null
         ],
         "marker": {
          "opacity": 0.5,
          "size": 5
         },
         "mode": "markers+text",
         "name": "16_hr_path_policies",
         "text": [
          "",
          "",
          "",
          "",
          "",
          "",
          "",
          "",
          "",
          "",
          "",
          "",
          "16_hr_path_policies"
         ],
         "textfont": {
          "size": 12
         },
         "type": "scattergl",
         "x": [
          9.450971603393555,
          9.058302879333496,
          9.507248878479004,
          9.502605438232422,
          9.584331512451172,
          9.47587776184082,
          5.877626895904541,
          9.217081069946289,
          9.515804290771484,
          9.371869087219238,
          9.340860366821289,
          9.53126049041748,
          9.119486808776855
         ],
         "y": [
          -3.4212992191314697,
          -3.231175184249878,
          -3.4606549739837646,
          -3.3608815670013428,
          -3.3189120292663574,
          -3.442147731781006,
          2.625906467437744,
          -3.2483139038085938,
          -3.370216131210327,
          -3.4394521713256836,
          -3.321981430053711,
          -3.4847395420074463,
          -2.8728220462799072
         ]
        }
       ],
       "layout": {
        "annotations": [
         {
          "showarrow": false,
          "text": "D1",
          "x": 1.3230180740356445,
          "y": -1.59092915058136,
          "yshift": 10
         },
         {
          "showarrow": false,
          "text": "D2",
          "x": 7.371929621696472,
          "xshift": 10,
          "y": 3.446573281288147
         }
        ],
        "height": 750,
        "shapes": [
         {
          "line": {
           "color": "#CFD8DC",
           "width": 2
          },
          "type": "line",
          "x0": 7.371929621696472,
          "x1": 7.371929621696472,
          "y0": -6.628431582450867,
          "y1": 3.446573281288147
         },
         {
          "line": {
           "color": "#9E9E9E",
           "width": 2
          },
          "type": "line",
          "x0": 1.3230180740356445,
          "x1": 13.420841169357299,
          "y0": -1.59092915058136,
          "y1": -1.59092915058136
         }
        ],
        "template": {
         "data": {
          "bar": [
           {
            "error_x": {
             "color": "rgb(36,36,36)"
            },
            "error_y": {
             "color": "rgb(36,36,36)"
            },
            "marker": {
             "line": {
              "color": "white",
              "width": 0.5
             },
             "pattern": {
              "fillmode": "overlay",
              "size": 10,
              "solidity": 0.2
             }
            },
            "type": "bar"
           }
          ],
          "barpolar": [
           {
            "marker": {
             "line": {
              "color": "white",
              "width": 0.5
             },
             "pattern": {
              "fillmode": "overlay",
              "size": 10,
              "solidity": 0.2
             }
            },
            "type": "barpolar"
           }
          ],
          "carpet": [
           {
            "aaxis": {
             "endlinecolor": "rgb(36,36,36)",
             "gridcolor": "white",
             "linecolor": "white",
             "minorgridcolor": "white",
             "startlinecolor": "rgb(36,36,36)"
            },
            "baxis": {
             "endlinecolor": "rgb(36,36,36)",
             "gridcolor": "white",
             "linecolor": "white",
             "minorgridcolor": "white",
             "startlinecolor": "rgb(36,36,36)"
            },
            "type": "carpet"
           }
          ],
          "choropleth": [
           {
            "colorbar": {
             "outlinewidth": 1,
             "tickcolor": "rgb(36,36,36)",
             "ticks": "outside"
            },
            "type": "choropleth"
           }
          ],
          "contour": [
           {
            "colorbar": {
             "outlinewidth": 1,
             "tickcolor": "rgb(36,36,36)",
             "ticks": "outside"
            },
            "colorscale": [
             [
              0,
              "#440154"
             ],
             [
              0.1111111111111111,
              "#482878"
             ],
             [
              0.2222222222222222,
              "#3e4989"
             ],
             [
              0.3333333333333333,
              "#31688e"
             ],
             [
              0.4444444444444444,
              "#26828e"
             ],
             [
              0.5555555555555556,
              "#1f9e89"
             ],
             [
              0.6666666666666666,
              "#35b779"
             ],
             [
              0.7777777777777778,
              "#6ece58"
             ],
             [
              0.8888888888888888,
              "#b5de2b"
             ],
             [
              1,
              "#fde725"
             ]
            ],
            "type": "contour"
           }
          ],
          "contourcarpet": [
           {
            "colorbar": {
             "outlinewidth": 1,
             "tickcolor": "rgb(36,36,36)",
             "ticks": "outside"
            },
            "type": "contourcarpet"
           }
          ],
          "heatmap": [
           {
            "colorbar": {
             "outlinewidth": 1,
             "tickcolor": "rgb(36,36,36)",
             "ticks": "outside"
            },
            "colorscale": [
             [
              0,
              "#440154"
             ],
             [
              0.1111111111111111,
              "#482878"
             ],
             [
              0.2222222222222222,
              "#3e4989"
             ],
             [
              0.3333333333333333,
              "#31688e"
             ],
             [
              0.4444444444444444,
              "#26828e"
             ],
             [
              0.5555555555555556,
              "#1f9e89"
             ],
             [
              0.6666666666666666,
              "#35b779"
             ],
             [
              0.7777777777777778,
              "#6ece58"
             ],
             [
              0.8888888888888888,
              "#b5de2b"
             ],
             [
              1,
              "#fde725"
             ]
            ],
            "type": "heatmap"
           }
          ],
          "heatmapgl": [
           {
            "colorbar": {
             "outlinewidth": 1,
             "tickcolor": "rgb(36,36,36)",
             "ticks": "outside"
            },
            "colorscale": [
             [
              0,
              "#440154"
             ],
             [
              0.1111111111111111,
              "#482878"
             ],
             [
              0.2222222222222222,
              "#3e4989"
             ],
             [
              0.3333333333333333,
              "#31688e"
             ],
             [
              0.4444444444444444,
              "#26828e"
             ],
             [
              0.5555555555555556,
              "#1f9e89"
             ],
             [
              0.6666666666666666,
              "#35b779"
             ],
             [
              0.7777777777777778,
              "#6ece58"
             ],
             [
              0.8888888888888888,
              "#b5de2b"
             ],
             [
              1,
              "#fde725"
             ]
            ],
            "type": "heatmapgl"
           }
          ],
          "histogram": [
           {
            "marker": {
             "line": {
              "color": "white",
              "width": 0.6
             }
            },
            "type": "histogram"
           }
          ],
          "histogram2d": [
           {
            "colorbar": {
             "outlinewidth": 1,
             "tickcolor": "rgb(36,36,36)",
             "ticks": "outside"
            },
            "colorscale": [
             [
              0,
              "#440154"
             ],
             [
              0.1111111111111111,
              "#482878"
             ],
             [
              0.2222222222222222,
              "#3e4989"
             ],
             [
              0.3333333333333333,
              "#31688e"
             ],
             [
              0.4444444444444444,
              "#26828e"
             ],
             [
              0.5555555555555556,
              "#1f9e89"
             ],
             [
              0.6666666666666666,
              "#35b779"
             ],
             [
              0.7777777777777778,
              "#6ece58"
             ],
             [
              0.8888888888888888,
              "#b5de2b"
             ],
             [
              1,
              "#fde725"
             ]
            ],
            "type": "histogram2d"
           }
          ],
          "histogram2dcontour": [
           {
            "colorbar": {
             "outlinewidth": 1,
             "tickcolor": "rgb(36,36,36)",
             "ticks": "outside"
            },
            "colorscale": [
             [
              0,
              "#440154"
             ],
             [
              0.1111111111111111,
              "#482878"
             ],
             [
              0.2222222222222222,
              "#3e4989"
             ],
             [
              0.3333333333333333,
              "#31688e"
             ],
             [
              0.4444444444444444,
              "#26828e"
             ],
             [
              0.5555555555555556,
              "#1f9e89"
             ],
             [
              0.6666666666666666,
              "#35b779"
             ],
             [
              0.7777777777777778,
              "#6ece58"
             ],
             [
              0.8888888888888888,
              "#b5de2b"
             ],
             [
              1,
              "#fde725"
             ]
            ],
            "type": "histogram2dcontour"
           }
          ],
          "mesh3d": [
           {
            "colorbar": {
             "outlinewidth": 1,
             "tickcolor": "rgb(36,36,36)",
             "ticks": "outside"
            },
            "type": "mesh3d"
           }
          ],
          "parcoords": [
           {
            "line": {
             "colorbar": {
              "outlinewidth": 1,
              "tickcolor": "rgb(36,36,36)",
              "ticks": "outside"
             }
            },
            "type": "parcoords"
           }
          ],
          "pie": [
           {
            "automargin": true,
            "type": "pie"
           }
          ],
          "scatter": [
           {
            "fillpattern": {
             "fillmode": "overlay",
             "size": 10,
             "solidity": 0.2
            },
            "type": "scatter"
           }
          ],
          "scatter3d": [
           {
            "line": {
             "colorbar": {
              "outlinewidth": 1,
              "tickcolor": "rgb(36,36,36)",
              "ticks": "outside"
             }
            },
            "marker": {
             "colorbar": {
              "outlinewidth": 1,
              "tickcolor": "rgb(36,36,36)",
              "ticks": "outside"
             }
            },
            "type": "scatter3d"
           }
          ],
          "scattercarpet": [
           {
            "marker": {
             "colorbar": {
              "outlinewidth": 1,
              "tickcolor": "rgb(36,36,36)",
              "ticks": "outside"
             }
            },
            "type": "scattercarpet"
           }
          ],
          "scattergeo": [
           {
            "marker": {
             "colorbar": {
              "outlinewidth": 1,
              "tickcolor": "rgb(36,36,36)",
              "ticks": "outside"
             }
            },
            "type": "scattergeo"
           }
          ],
          "scattergl": [
           {
            "marker": {
             "colorbar": {
              "outlinewidth": 1,
              "tickcolor": "rgb(36,36,36)",
              "ticks": "outside"
             }
            },
            "type": "scattergl"
           }
          ],
          "scattermapbox": [
           {
            "marker": {
             "colorbar": {
              "outlinewidth": 1,
              "tickcolor": "rgb(36,36,36)",
              "ticks": "outside"
             }
            },
            "type": "scattermapbox"
           }
          ],
          "scatterpolar": [
           {
            "marker": {
             "colorbar": {
              "outlinewidth": 1,
              "tickcolor": "rgb(36,36,36)",
              "ticks": "outside"
             }
            },
            "type": "scatterpolar"
           }
          ],
          "scatterpolargl": [
           {
            "marker": {
             "colorbar": {
              "outlinewidth": 1,
              "tickcolor": "rgb(36,36,36)",
              "ticks": "outside"
             }
            },
            "type": "scatterpolargl"
           }
          ],
          "scatterternary": [
           {
            "marker": {
             "colorbar": {
              "outlinewidth": 1,
              "tickcolor": "rgb(36,36,36)",
              "ticks": "outside"
             }
            },
            "type": "scatterternary"
           }
          ],
          "surface": [
           {
            "colorbar": {
             "outlinewidth": 1,
             "tickcolor": "rgb(36,36,36)",
             "ticks": "outside"
            },
            "colorscale": [
             [
              0,
              "#440154"
             ],
             [
              0.1111111111111111,
              "#482878"
             ],
             [
              0.2222222222222222,
              "#3e4989"
             ],
             [
              0.3333333333333333,
              "#31688e"
             ],
             [
              0.4444444444444444,
              "#26828e"
             ],
             [
              0.5555555555555556,
              "#1f9e89"
             ],
             [
              0.6666666666666666,
              "#35b779"
             ],
             [
              0.7777777777777778,
              "#6ece58"
             ],
             [
              0.8888888888888888,
              "#b5de2b"
             ],
             [
              1,
              "#fde725"
             ]
            ],
            "type": "surface"
           }
          ],
          "table": [
           {
            "cells": {
             "fill": {
              "color": "rgb(237,237,237)"
             },
             "line": {
              "color": "white"
             }
            },
            "header": {
             "fill": {
              "color": "rgb(217,217,217)"
             },
             "line": {
              "color": "white"
             }
            },
            "type": "table"
           }
          ]
         },
         "layout": {
          "annotationdefaults": {
           "arrowhead": 0,
           "arrowwidth": 1
          },
          "autotypenumbers": "strict",
          "coloraxis": {
           "colorbar": {
            "outlinewidth": 1,
            "tickcolor": "rgb(36,36,36)",
            "ticks": "outside"
           }
          },
          "colorscale": {
           "diverging": [
            [
             0,
             "rgb(103,0,31)"
            ],
            [
             0.1,
             "rgb(178,24,43)"
            ],
            [
             0.2,
             "rgb(214,96,77)"
            ],
            [
             0.3,
             "rgb(244,165,130)"
            ],
            [
             0.4,
             "rgb(253,219,199)"
            ],
            [
             0.5,
             "rgb(247,247,247)"
            ],
            [
             0.6,
             "rgb(209,229,240)"
            ],
            [
             0.7,
             "rgb(146,197,222)"
            ],
            [
             0.8,
             "rgb(67,147,195)"
            ],
            [
             0.9,
             "rgb(33,102,172)"
            ],
            [
             1,
             "rgb(5,48,97)"
            ]
           ],
           "sequential": [
            [
             0,
             "#440154"
            ],
            [
             0.1111111111111111,
             "#482878"
            ],
            [
             0.2222222222222222,
             "#3e4989"
            ],
            [
             0.3333333333333333,
             "#31688e"
            ],
            [
             0.4444444444444444,
             "#26828e"
            ],
            [
             0.5555555555555556,
             "#1f9e89"
            ],
            [
             0.6666666666666666,
             "#35b779"
            ],
            [
             0.7777777777777778,
             "#6ece58"
            ],
            [
             0.8888888888888888,
             "#b5de2b"
            ],
            [
             1,
             "#fde725"
            ]
           ],
           "sequentialminus": [
            [
             0,
             "#440154"
            ],
            [
             0.1111111111111111,
             "#482878"
            ],
            [
             0.2222222222222222,
             "#3e4989"
            ],
            [
             0.3333333333333333,
             "#31688e"
            ],
            [
             0.4444444444444444,
             "#26828e"
            ],
            [
             0.5555555555555556,
             "#1f9e89"
            ],
            [
             0.6666666666666666,
             "#35b779"
            ],
            [
             0.7777777777777778,
             "#6ece58"
            ],
            [
             0.8888888888888888,
             "#b5de2b"
            ],
            [
             1,
             "#fde725"
            ]
           ]
          },
          "colorway": [
           "#1F77B4",
           "#FF7F0E",
           "#2CA02C",
           "#D62728",
           "#9467BD",
           "#8C564B",
           "#E377C2",
           "#7F7F7F",
           "#BCBD22",
           "#17BECF"
          ],
          "font": {
           "color": "rgb(36,36,36)"
          },
          "geo": {
           "bgcolor": "white",
           "lakecolor": "white",
           "landcolor": "white",
           "showlakes": true,
           "showland": true,
           "subunitcolor": "white"
          },
          "hoverlabel": {
           "align": "left"
          },
          "hovermode": "closest",
          "mapbox": {
           "style": "light"
          },
          "paper_bgcolor": "white",
          "plot_bgcolor": "white",
          "polar": {
           "angularaxis": {
            "gridcolor": "rgb(232,232,232)",
            "linecolor": "rgb(36,36,36)",
            "showgrid": false,
            "showline": true,
            "ticks": "outside"
           },
           "bgcolor": "white",
           "radialaxis": {
            "gridcolor": "rgb(232,232,232)",
            "linecolor": "rgb(36,36,36)",
            "showgrid": false,
            "showline": true,
            "ticks": "outside"
           }
          },
          "scene": {
           "xaxis": {
            "backgroundcolor": "white",
            "gridcolor": "rgb(232,232,232)",
            "gridwidth": 2,
            "linecolor": "rgb(36,36,36)",
            "showbackground": true,
            "showgrid": false,
            "showline": true,
            "ticks": "outside",
            "zeroline": false,
            "zerolinecolor": "rgb(36,36,36)"
           },
           "yaxis": {
            "backgroundcolor": "white",
            "gridcolor": "rgb(232,232,232)",
            "gridwidth": 2,
            "linecolor": "rgb(36,36,36)",
            "showbackground": true,
            "showgrid": false,
            "showline": true,
            "ticks": "outside",
            "zeroline": false,
            "zerolinecolor": "rgb(36,36,36)"
           },
           "zaxis": {
            "backgroundcolor": "white",
            "gridcolor": "rgb(232,232,232)",
            "gridwidth": 2,
            "linecolor": "rgb(36,36,36)",
            "showbackground": true,
            "showgrid": false,
            "showline": true,
            "ticks": "outside",
            "zeroline": false,
            "zerolinecolor": "rgb(36,36,36)"
           }
          },
          "shapedefaults": {
           "fillcolor": "black",
           "line": {
            "width": 0
           },
           "opacity": 0.3
          },
          "ternary": {
           "aaxis": {
            "gridcolor": "rgb(232,232,232)",
            "linecolor": "rgb(36,36,36)",
            "showgrid": false,
            "showline": true,
            "ticks": "outside"
           },
           "baxis": {
            "gridcolor": "rgb(232,232,232)",
            "linecolor": "rgb(36,36,36)",
            "showgrid": false,
            "showline": true,
            "ticks": "outside"
           },
           "bgcolor": "white",
           "caxis": {
            "gridcolor": "rgb(232,232,232)",
            "linecolor": "rgb(36,36,36)",
            "showgrid": false,
            "showline": true,
            "ticks": "outside"
           }
          },
          "title": {
           "x": 0.05
          },
          "xaxis": {
           "automargin": true,
           "gridcolor": "rgb(232,232,232)",
           "linecolor": "rgb(36,36,36)",
           "showgrid": false,
           "showline": true,
           "ticks": "outside",
           "title": {
            "standoff": 15
           },
           "zeroline": false,
           "zerolinecolor": "rgb(36,36,36)"
          },
          "yaxis": {
           "automargin": true,
           "gridcolor": "rgb(232,232,232)",
           "linecolor": "rgb(36,36,36)",
           "showgrid": false,
           "showline": true,
           "ticks": "outside",
           "title": {
            "standoff": 15
           },
           "zeroline": false,
           "zerolinecolor": "rgb(36,36,36)"
          }
         }
        },
        "title": {
         "font": {
          "color": "Black",
          "size": 22
         },
         "text": "<b>Documents and Topics</b>",
         "x": 0.5,
         "xanchor": "center",
         "yanchor": "top"
        },
        "width": 1200,
        "xaxis": {
         "visible": false
        },
        "yaxis": {
         "visible": false
        }
       }
      },
      "text/html": [
       "<div>                            <div id=\"756f88e9-aaf2-4d23-9c44-be8dafc2efb7\" class=\"plotly-graph-div\" style=\"height:750px; width:1200px;\"></div>            <script type=\"text/javascript\">                require([\"plotly\"], function(Plotly) {                    window.PLOTLYENV=window.PLOTLYENV || {};                                    if (document.getElementById(\"756f88e9-aaf2-4d23-9c44-be8dafc2efb7\")) {                    Plotly.newPlot(                        \"756f88e9-aaf2-4d23-9c44-be8dafc2efb7\",                        [{\"hoverinfo\":\"text\",\"hovertext\":[\"Very excited to do this work there are very issue but we can handle how to do\",\"Sales and marketing with trade sale channels partners for Distribution\",\"Support me at the time of maternity\",\"Accomodation and office\",\"- No tech-innovative approach in products\\n- lagging behind other competitors\",\"Company strategy not in current market\",\"Presence of Union at workplace.\",\"You feel valued and that's the most important thing. The management constantly thrives to improve your working environment. The HR also reviews its policies to make it employee friendly. Most importantly the top management is easily accessible.\",\"All type sales to service\",\"For carrier growth only performance is not enough one should have very good terms with superiors apart from boss\\u002f Client etc.\",\"This work is easy but not easy this filling upload\",\"No personal growth. Favouritism is appraisal. HR is Zero. Currently no clear direction of long term working strategy.\",\"Food\",\"Good Experience\",\"Compensation and benefits, Welcoming new joiners with good gesture\",\"System oriented\",\"Client Billing\\nOffice liabilities for all Documents\\u002fpaper Mainy& Expenses,as office work.\\nI have provided service as a Control of third party stoff,Suport, Arrangment,Parking, environmental problems etc.\",\"Everything is Fantastic. overall great experience\\u2026\",\"Transparency, leadership\",\"Great Management Vision\",\"RREP  CONCEPT\",\"Good communication skills I have learned from CRM\",\"Good and excellent work\",\"RREP PRODUCT SALES EACH PRIce\",\"Work life\\nNo business ethics \\nNot career oriented \\nNo future \\nNo promotions\\nPoor Managers\",\"SOP follow\",\"Not Proper Planning site Work.\",\"Not clarity about work most of time and layoff of not performer and not achieving\",\"Supportive and coordination\",\"Freedom to call anyone across organisation\",\"Because all criteria is good and company profile is good ,\\nWork satification\",\"Not growth \\ud83d\\udcb9\\ud83d\\udcc8\",\"Labour registration entry as a project working contractor.\",\"Any good doing\",\"My reporting manager was so motivated that\\u2019s why I stayed 6 month\",\"Force fully taken resignation\",\"Lots of hierarchy, politics and work life balance is zero. Not paying vendors on time and no one to listen the problem. To avoid payment to vendors they made false accusation and employee will be at receiving end. No support from any one from the organization. The day you resign they create life and mental peace havoc. Avoid joining.\",\"Need to some more improvement\",\"No negative things. But not arrange the outside tour for best employees who perform best in his role.\",\"This Rating for offroll candidates.\\nBut,I personally don't like offroll jobs.\",\"1980 process , all hard paper work, No paperless work, SAP utilization is completely useless,  Huge difference between physical vs system data. \\nNo recreation, excess manpower, Lack of leadership motivation, Mental harassment.\\nDue to above all new joinee are leaving within 1-6 months\",\"Too many changes in decisions\",\"Indecisiveness\",\"working culture,behavior, work life balance,job security,Promotion in every life is terrible.\",\"Each and every new project is urgent from the time it's started only for a specific department.\\nUnrealistic time lines are given.\\nPay dispersion is not fair.\\nMarketing is never clear about what they exactly want. \\nUnwanted pressure is created only on one department regardless of who is responsible for the delay in project.\",\"Ethical and straight forward\",\"display & Marchantdizing\",\"It's talk about employee of particular department of interest.\",\"Good communication and work is good\",\"regional head are not cooperating and his behaviour is very bad.He is not preferred working employee.\",\"Good working  with enjoy & suportable team\",\"Team Work is appreciable and fine.\",\"gfsvfsegre\",\"Less space to grow\",\"Very impacts full\",\"Side work\",\"Fill like own faimaly.\",\"Freedom for any work you want to do .\",\"Work is bad\",\"Discuss in previous box\",\"Office long distance\",\"Manual work still continue in some sector  .Required atomisation .\",\"Growth is not as desirable\",\"Senior employees never listen abt the market condition ,never work in market with team.\",\"Being a big brand and expectations, superiors in organisation have lack of technical exposure and the planning is being done purely on theoretical assumptions but not on ground reality this is leading to failure or delays in projects. \\nQuality is not par having a good brand image.\",\"Less job security & work life balance, No Transperency in promotion.\",\"smoking hard working\",\"Low travelling allowance\",\"Working experience is better\",\"Company transformation is very slow\",\"Company sales and new product  lunch and help full by achive sales rarget and incentives.\",\"Everything is dislike\\n1 there is not a fix date of salary credentials of offrole employees.\\n2 Your HR of your consultant are not responding when you have a query he just say as Bajaj said to him.\\n3 No overtime or holidays will pay to you because you are offrole employee.\\n4 There have no culture here Bajaj employee treats you like a labour.\",\"Office and site work\",\"Carrier growth system not transparent.\",\"Office politics is very much involved in the work culture, Some times you have to report in the same designation. Organisation structure is less effective. Your appraisal is completely depend that how much you can do buttering. You can be fired any time without any proper reason\\u002finvestigation. No job security at all\",\"Material issue and delay in response\",\"The Organization working culture very Nice and Higher management support and help to ground staff for growth his\\u002fher carrier. Company policies are good\",\"No sallery growth, appraisal ,promotion and company politics are the worst thing here\",\"Presently its good time to work their...I got nice experience...there are good senior support...& well management.but appourtunity to make carrier in growth is very low....theirs incentive parameters are not well...& policy to pay incentives is very slow... Actually this policy harraze the dso\",\"Overall experience is good.\",\"The project cannot be completed due to non - receipt of materials required for improvement from company.\",\"Partiality with employee.\",\"Work culture, appraisal process, TA\\u002fDA, no work life balance\",\"New improvement in plant infracture and in product also.\",\"2year 10 month\",\"Good working knowledge & you can work without heavy stress\",\"Working culture and no promotion and appreciation for offrole\",\"Without informing ealier. Company drive out confirmed employees within a month. Neither they are giving proper reason for termination nor consider the notice period of 3 months. Employees giving resignation are bound to complete 3 months notice period whenever they have jobs. But terminated employees are dropped out within a month without any proper reason. The employee who has completed all the assigned projects on time perfectly was rated as inadequate performance and terminated. Whenever the company has the performance improvement plan    (PIP) policy for under-rated performance, but they don't follow their own policy....disgusting.......Read More\",\"Cross functional meetings are required to understand and discuss each other which helps organisational growth\",\"This work is easy\",\"Canteen food quality\",\"Nothing like \\nScope of improvement is everywhere\",\"The Organization working culture very Nice and Higher management support and help to ground staff for growth his\\u002fher carrier. Company policies are good. Appraisals are fair and company give good salary hike and bonus every year as per performance.\",\"There is lot to learn from this organisation as it gives proper platform to explore and experience different aspects of Sales ..I have learnt about smooth functioning of Distribution, Training of Subordinates, hardcore sales along with complexities of issue resolution from my seniors . I would recommend this organisation.\",\"Company System\\u002fprocedure from In to Out(material conversion)\",\"Less Opportunities to get other roles\",\"I want to increase my sales experience and skills also\",\"Task  is well defined in system .\\nExcellent company to work .\",\"Feeling great\",\"Excellent organisation in terms of skill development learning,process orientation\\nWorking with Sop\",\"Miss communication gape and gape\",\"Proud\",\"Location of plant\",\"Community,food,no travel support\",\"Food quality is not good at cafe\",\"Working patten in secondary and primary\",\"Freedom to implement new ideas , Encouragement if you have potential, Good salary Increment if you have potential\",\"Great & proud\",\"Because i am unemployed\",null],\"marker\":{\"color\":\"#CFD8DC\",\"opacity\":0.5,\"size\":5},\"mode\":\"markers+text\",\"name\":\"other\",\"showlegend\":false,\"x\":[3.604710340499878,5.086914539337158,7.704067230224609,6.6659770011901855,8.075927734375,8.152499198913574,9.36647891998291,6.971433162689209,5.0853986740112305,9.073062896728516,3.524770975112915,9.293166160583496,4.845698356628418,5.980533599853516,8.870037078857422,7.187755107879639,5.09942102432251,5.933745861053467,7.826047897338867,8.028282165527344,5.14726448059082,6.7142462730407715,4.437190532684326,5.066437721252441,8.040260314941406,5.828226089477539,8.227821350097656,8.400252342224121,6.909650802612305,7.340025424957275,7.006924152374268,8.916106224060059,8.529631614685059,3.0809571743011475,10.382670402526855,8.44801139831543,8.488218307495117,7.6162333488464355,2.046259880065918,11.550917625427246,9.063243865966797,9.60316276550293,7.782201766967773,8.160672187805176,8.199520111083984,7.8244452476501465,9.10924243927002,7.609922885894775,6.7425618171691895,8.99852466583252,6.525802135467529,6.5117082595825195,3.3943777084350586,8.889693260192871,7.336750030517578,7.011448860168457,3.470916986465454,7.3302412033081055,6.787771224975586,7.241896629333496,6.650862693786621,8.504692077636719,8.881359100341797,8.180862426757812,8.013138771057129,8.289412498474121,7.358347415924072,6.064239501953125,6.443112850189209,10.236747741699219,10.614436149597168,8.863704681396484,6.66976261138916,9.027740478515625,8.831998825073242,8.073331832885742,6.8218255043029785,8.307158470153809,9.12936019897461,6.063127040863037,8.526535034179688,9.310174942016602,6.585606575012207,5.931402206420898,10.47043514251709,6.807201862335205,8.795673370361328,8.503430366516113,7.103524208068848,3.6070711612701416,4.865551948547363,7.641481876373291,6.878139019012451,5.805453777313232,8.519124031066895,8.242369651794434,5.823361396789551,7.1586809158325195,3.9407145977020264,5.816002368927002,7.945942401885986,3.9256584644317627,6.0030975341796875,6.039010524749756,4.876720428466797,8.324094772338867,7.521726608276367,4.064815521240234,7.042840480804443,7.185765266418457],\"y\":[-1.7307389974594116,-2.3014607429504395,-2.054924964904785,-1.4713138341903687,-3.546013593673706,-3.6022496223449707,-3.8798892498016357,-4.524844169616699,-2.3233542442321777,-2.7278478145599365,-1.788865089416504,-3.209685802459717,-4.800876617431641,-2.9763314723968506,-2.1117095947265625,-0.9459771513938904,-2.2816271781921387,-3.000398635864258,-3.608616590499878,-4.0093817710876465,-2.421426296234131,-2.5149803161621094,-2.583836555480957,-2.324906349182129,-2.9195046424865723,-3.555302381515503,-2.874152421951294,-2.1967294216156006,-3.644425392150879,-3.4276983737945557,-2.328122854232788,-2.5402467250823975,-1.2414896488189697,-1.9563952684402466,-2.0794663429260254,-2.0558266639709473,-2.0413005352020264,-3.211534023284912,-3.6818530559539795,-2.917593002319336,-3.1807093620300293,-4.088939189910889,-3.7084364891052246,-2.9535343647003174,-1.613415002822876,-3.4239585399627686,-2.0430119037628174,-3.843693494796753,-2.3838131427764893,-3.922147512435913,-3.884275197982788,-3.9334616661071777,-1.8406269550323486,-2.4976789951324463,-1.3988834619522095,-1.87467622756958,-1.8253087997436523,-3.0818893909454346,-1.9472167491912842,-3.9051406383514404,-1.4248205423355103,-2.7865030765533447,-2.550673484802246,-2.9457786083221436,-3.542032480239868,-2.9100706577301025,-1.7666630744934082,-4.803838729858398,-2.9627442359924316,-2.4508309364318848,-2.7486422061920166,-1.9978362321853638,-1.52704918384552,-2.658116340637207,-3.6477091312408447,-0.5179731249809265,-4.568423748016357,-3.0807087421417236,-2.8286924362182617,-3.0278093814849854,-2.7651422023773193,-3.9727799892425537,-5.71848726272583,-2.2999279499053955,-2.0885050296783447,-2.2582857608795166,-2.214381456375122,-2.0358738899230957,-3.9813129901885986,-1.7391338348388672,-4.808361530303955,-3.2516136169433594,-4.573611259460449,-3.716407299041748,-2.785413980484009,-2.947654962539673,-2.7449936866760254,-0.9700360298156738,-2.4553799629211426,-3.56769061088562,-3.682314395904541,-2.4529950618743896,-2.1738791465759277,-4.686857223510742,-4.81613826751709,-1.5577384233474731,-2.9202730655670166,-2.524514675140381,-2.0143094062805176,-2.837015151977539],\"type\":\"scattergl\"},{\"hoverinfo\":\"text\",\"hovertext\":[\"Heartache\",\"No Thanks\",\"All best\",\"No anything dislike\",\"NA NA NA NA NA\",\"Not any problem\",\"Worst\",\"No dislike\",\"Nothing to dislike in the organization\",\"I giving 100%.\",\"No\",\"Good\",\"No dislikes\",\"No problem in company\",\"No specific dis like at this\",\"No, all ok and at good place\",\"No anything\",\"Nothing to say anything\",\"All good\",\"Nothing2\",\"I don't thing anybody dislike that type of organisations.\",\"Nothing is dislike\",\"Everything\",\"Nothing much\",\"No Issue\",\"I like  my name is oriyomi omonla\",\"No I am like\",\"Nothing much to say\",\"Super\",\"good\",\"Nothing.\",\"All correct\",\"EVERYTHING IS DISLIKE DONT JOIN\",\"No problem\",\"Nothing for Dislike\",\"Nothings all is good Ok\",\"All is well\",\"No reason\",\"Nothing to dislike\",\"Nothing good to say\",\"Nothing as of now\",\"Nothing to dislike about\",\"Yas\",\"No reason all best\",\"Rule is like\",\"Nothing like\",\"All Is Good\",\"All\",\"Like But Not Good\",\"i didnt like any thing in this organization\",\"Yes like, I am interested\",\"Non\",\"Nothing to say\",\"Yes I like . good behavior\",\"Hhhhhhhhhhhhhh\",\"Nothing to dislike ke\",\"Not applicable\",\"No 3fg\\nOnly side\",\"No comment\",\"Nothing as such\",\"Nothing specificly bad to share\",\"No issue\",\"Nothing specifically to say here\",\"All ok only investment required\",\"No comments\",\"Ok\",\"Nothing\",\"Nothing like that\",\"Nothing specificly great to share\",\"No Comments\",\"Nothing to feel bad about\",\"NO\",\"Yes\",\"Noanh suggestion\",\"I don't like TVs\",\"Nothing to like\",\"No more\",\"Perfectly ok this working\",\"I feel there is Nothing as such currently\",\"there is nothing to dislike\",\"no problem at all the best\",\"I am interested\",\"Everything likes\",\"Not at all\",\"Not seen still.\",\"Not good for you to come\",\"None None None None None\",\"Nothing to dislike...\",\"DONT JOIN EVEYTHING IS DISLIKE\",\"Nothing to dislike about company.\",null],\"marker\":{\"opacity\":0.5,\"size\":5},\"mode\":\"markers+text\",\"name\":\"0_dislike_like_ok\",\"text\":[\"\",\"\",\"\",\"\",\"\",\"\",\"\",\"\",\"\",\"\",\"\",\"\",\"\",\"\",\"\",\"\",\"\",\"\",\"\",\"\",\"\",\"\",\"\",\"\",\"\",\"\",\"\",\"\",\"\",\"\",\"\",\"\",\"\",\"\",\"\",\"\",\"\",\"\",\"\",\"\",\"\",\"\",\"\",\"\",\"\",\"\",\"\",\"\",\"\",\"\",\"\",\"\",\"\",\"\",\"\",\"\",\"\",\"\",\"\",\"\",\"\",\"\",\"\",\"\",\"\",\"\",\"\",\"\",\"\",\"\",\"\",\"\",\"\",\"\",\"\",\"\",\"\",\"\",\"\",\"\",\"\",\"\",\"\",\"\",\"\",\"\",\"\",\"\",\"\",\"\",\"0_dislike_like_ok\"],\"textfont\":{\"size\":12},\"x\":[3.8498873710632324,2.175189971923828,2.4774155616760254,1.6373769044876099,2.3970906734466553,2.2568283081054688,2.5501561164855957,1.662959098815918,1.8778074979782104,1.6338231563568115,2.259780168533325,2.815293073654175,1.5852917432785034,2.2493398189544678,1.8235065937042236,2.4099855422973633,1.8406486511230469,1.6018973588943481,2.3644156455993652,1.9339040517807007,1.9048138856887817,1.6436208486557007,2.1050148010253906,1.8974800109863281,2.248040199279785,2.359915256500244,2.1871867179870605,1.6015982627868652,2.3661887645721436,2.7903244495391846,1.9043920040130615,2.4925191402435303,1.633150339126587,2.25924015045166,1.6264997720718384,2.3149101734161377,2.4670157432556152,1.866331696510315,1.6704459190368652,1.563360571861267,1.8943843841552734,1.6790742874145508,2.852771759033203,1.9168132543563843,2.0259768962860107,1.8817968368530273,2.4221229553222656,2.38393235206604,1.9687083959579468,1.8393973112106323,2.2891175746917725,2.4152145385742188,1.5564918518066406,2.3813846111297607,2.753976345062256,1.6241706609725952,2.5284531116485596,2.349364995956421,1.6679389476776123,1.9128735065460205,1.62141752243042,2.2511603832244873,1.563991904258728,2.295339584350586,1.647015929222107,2.629995584487915,1.9091966152191162,1.8373185396194458,1.6812758445739746,1.658444881439209,1.6775327920913696,2.2788970470428467,2.3301889896392822,2.3565430641174316,1.5769072771072388,1.9109777212142944,1.993032693862915,2.5299079418182373,1.9271392822265625,1.647642970085144,2.2638776302337646,2.350684881210327,1.907109260559082,2.4022388458251953,2.4248664379119873,2.8056886196136475,2.2283124923706055,1.6511597633361816,1.6555017232894897,1.8545668125152588,2.083517074584961],\"y\":[-2.4337549209594727,-2.00956654548645,-1.3618013858795166,-3.1668219566345215,-2.209698438644409,-0.9700698256492615,-1.6621167659759521,-3.1428442001342773,-3.5128087997436523,-2.2216179370880127,-1.9554927349090576,-1.9285273551940918,-3.170027256011963,-0.9556819796562195,-2.6628544330596924,-1.4097349643707275,-2.300847291946411,-2.2036526203155518,-1.1713744401931763,-2.362637519836426,-3.5423972606658936,-3.2039449214935303,-2.1841139793395996,-2.33931827545166,-0.9617827534675598,-2.9640634059906006,-2.720766305923462,-2.163188934326172,-1.6906492710113525,-1.9219741821289062,-2.3509602546691895,-1.394566535949707,-3.256840467453003,-0.9662608504295349,-3.1668169498443604,-1.4143215417861938,-1.4243474006652832,-1.9031058549880981,-3.132516622543335,-2.1739461421966553,-2.3279950618743896,-3.1280901432037354,-1.9870314598083496,-1.8172593116760254,-2.795546770095825,-2.6316702365875244,-1.3096808195114136,-1.578243374824524,-2.77524733543396,-3.4737608432769775,-1.8683559894561768,-2.0635032653808594,-2.199432611465454,-2.716595411300659,-1.9745509624481201,-3.2114176750183105,-1.9838742017745972,-1.615853190422058,-2.0932183265686035,-2.3902876377105713,-2.6708977222442627,-0.9679964184761047,-2.243612766265869,-1.2643355131149292,-2.1246860027313232,-1.771498203277588,-2.3253936767578125,-2.701352834701538,-2.4691648483276367,-2.0992493629455566,-2.941723585128784,-1.976300835609436,-1.9284545183181763,-2.436038017272949,-3.1912381649017334,-2.746800184249878,-2.0257577896118164,-1.3184216022491455,-2.4182844161987305,-3.2178938388824463,-0.9719804525375366,-1.875436544418335,-2.7591614723205566,-1.4841593503952026,-2.0136239528656006,-1.9556218385696411,-2.268679618835449,-3.169857978820801,-3.2058024406433105,-3.4757046699523926,-2.240539312362671],\"type\":\"scattergl\"},{\"hoverinfo\":\"text\",\"hovertext\":[\"Work culture. Office setup\",\"Good work culture\",\"Good Working Culture\",\"Company culture is good. Aggressively working in gender diversity\",\"Working culture is good\",\"Over all good work culture\",\"Working culture\",\"Good culture\",\"Very good company for working job security work culture management and all policies are excellent\",\"I've been working a lot here, the employees make a lot of effort in learning, the culture here is supportive, I love this company\",\"Company culture\",\"First name culture\",\"- Switching to modern culture from Lala - culture\\n- Salaries are good and competitive\\n- Work life balance is promoted\",\"Culture, Not employee focused\",\"Work culture is too good, Management policy should be great.multiskilling environment in company\",\"Good working culture and supporting management\",\"Good culture in company\",\"Company is good but company owners are treating people like servants or slave.\\nThey do casteism and specially owners wife she think everyone is chor. And she do humiliation with employees who are working with her. \\nShe hate maharashtrian, Muslims and Christian. And always say pata nahi kaha se bhukhe nange AA jate hai mere yaha kaamkarne\\nPlz don't join this company if you get job opportunity to work with owners specifically with owners wife....Read More\",\"Good work environment and culture.teammates are supportive and the management is transparent.\\nThere is a huge cafeteria and gaming arcade for chilling.\",\"Culture is good here. People care for each other\",\"Working Culture\",\"Working Cultures ....\",\"I think we are observed every thing well\",\"Culture\\nWork life balance\\nSalary and perks\\nAnnual Increment\\nGrowth Opportunities\",\"Work culture is very good\",\"Company culture i like\",\"Really good for high performers. Culture is good in R&D.\",\"Can learn better\\nWork culture \\nJob security\",\"Good company ,good work culture\",\"Hight management Discrimination culture.\",\"The infrastructure and inclusive culture\",\"Company Culture .........\",\"Work culture & professional growth\",\"Work culture\",\"It is a good culture company.Improve your skills\",\"Great Working Culture and Supporting staff\",\"Culture and management\",\"Work Culture\",\"Company Culture is good.\",\"Great work culture\",\"Good environment and culture\",\"Our th is so coprative\",\"Culture, environment and policies are not condusive\",\"Work culture is not that good\",\"Culture is team dependent, owing to weak HR\",\"Holiday little bit lower than national holiday\",\"The company culture is toxic. Not progressive (even though they show they are). Petty managers, narrow minded approach, micromanagement. No scope for growth.\",\"The Culture of company.\",\"Culture\",\"Promotion and culture also the IT which is so poor\",\"To do culture in worst time\",\"Work culture\\nTeam management\\nEqual opportunity\",\"The work culture create by reporting managers.\",\"Company culture,work satisfaction skills development\",\"Good work environment and culture.teammates are supportive and management is transparent.thereis a huge cafeteria anad gaming arcade for chilling.compamy policies are good assraisals are fair the good salary hike and bonus every year\",\"Job secure,work culture is good ,management is good and company policies are good .\",\"Good team culture, working environment is good\",\"Company Culture is too Good.Peoples in Company too good.\",\"Good but culture is changing\",\"Distibuter behaviour and language is very bad\",\"Good traditional culture oriented company.\",\"Job responsibilities and working Culture\",\"Work culture is hectic and pressuring\",\"Culture totally changed\",\"Too much professionalism\",\"No security, Working style is good, culture is good and also present management is very cooperative,\",\"We are family - itself is mentioned in the logo which actually means in the real life. Cares for employees.\",null],\"marker\":{\"opacity\":0.5,\"size\":5},\"mode\":\"markers+text\",\"name\":\"1_culture_good_company\",\"text\":[\"\",\"\",\"\",\"\",\"\",\"\",\"\",\"\",\"\",\"\",\"\",\"\",\"\",\"\",\"\",\"\",\"\",\"\",\"\",\"\",\"\",\"\",\"\",\"\",\"\",\"\",\"\",\"\",\"\",\"\",\"\",\"\",\"\",\"\",\"\",\"\",\"\",\"\",\"\",\"\",\"\",\"\",\"\",\"\",\"\",\"\",\"\",\"\",\"\",\"\",\"\",\"\",\"\",\"\",\"\",\"\",\"\",\"\",\"\",\"\",\"\",\"\",\"\",\"\",\"\",\"\",\"\",\"1_culture_good_company\"],\"textfont\":{\"size\":12},\"x\":[6.41695499420166,6.252581596374512,6.206244468688965,5.474206924438477,6.2503767013549805,6.299623012542725,6.404145240783691,5.892723560333252,6.40285062789917,5.675374507904053,5.438197135925293,5.68010950088501,6.649293422698975,6.226090431213379,6.713876724243164,6.455478668212891,5.506073951721191,5.569652080535889,6.396487712860107,5.83909797668457,6.398029327392578,6.379032135009766,5.632277488708496,6.696935176849365,6.284633159637451,5.3983235359191895,5.937662601470947,6.493289470672607,6.051877498626709,6.21926212310791,5.881331920623779,5.37453031539917,6.527577877044678,6.439296245574951,5.571554183959961,6.562867164611816,5.827247142791748,6.416193008422852,5.446348667144775,6.264235496520996,5.882341384887695,5.657083034515381,5.9839959144592285,6.424429416656494,6.3127617835998535,5.840756893157959,5.424850940704346,5.461641788482666,5.720473289489746,5.488313674926758,5.771341800689697,6.359798431396484,6.454224586486816,6.401587009429932,6.518664836883545,6.516007423400879,6.370842456817627,5.402023792266846,5.835393905639648,5.6538987159729,5.477888584136963,6.419927597045898,6.437617778778076,5.795314788818359,6.643130779266357,6.3931803703308105,5.427116870880127,6.054128170013428],\"y\":[-5.697299957275391,-5.127462387084961,-5.129349231719971,-5.144783973693848,-5.150040626525879,-5.174699783325195,-5.69893741607666,-5.240033149719238,-4.516255855560303,-4.40918493270874,-5.243711948394775,-5.413519382476807,-5.628322601318359,-5.604045867919922,-4.689105033874512,-4.91111421585083,-5.13595724105835,-4.713796615600586,-4.472322463989258,-5.2854156494140625,-5.713244915008545,-5.712867259979248,-4.970635890960693,-5.622059345245361,-5.14207649230957,-5.178838729858398,-5.0165300369262695,-5.433614730834961,-4.809041500091553,-5.577282905578613,-5.50517463684082,-5.203250408172607,-5.677000999450684,-5.711507797241211,-4.769459247589111,-4.852933883666992,-5.459853172302246,-5.736380100250244,-5.110140800476074,-5.121799468994141,-5.140036106109619,-5.036169052124023,-5.424208641052246,-5.482449054718018,-5.508856773376465,-5.303689956665039,-5.193459987640381,-5.247214317321777,-5.395216464996338,-5.288815975189209,-5.38055944442749,-5.538630962371826,-5.740726947784424,-5.724435806274414,-4.569489479064941,-4.471157550811768,-4.909886837005615,-5.215306282043457,-5.312621116638184,-5.389416217803955,-4.985091209411621,-5.763493061065674,-5.763853549957275,-5.377060413360596,-5.310416221618652,-4.50015115737915,-5.264638900756836,-5.238001346588135],\"type\":\"scattergl\"},{\"hoverinfo\":\"text\",\"hovertext\":[\"Good of tha bajaj electricals full\",\"I am working in Bajajelectricals in Visakhapatnam sales executive in Voltas\",\"As a company is very good.but I am not a company person.I am in Bajaj in 4 years.I have so many target achieved.But company r not allow me by direct pay roll .I think I will perfect & I hope achieve the promotion as a pay roll of Bajaj Electricals.\",\"Good experience i  think I'm good working any chance I'm come back Bajaj Electricals and finance\",\"Nothing to say negative about bajaj electricals\",\"U can't develop skills, and too much discrimination, and partiality. Job security is least, if you have any strong recommendation then only u will secure ur job in Bajaj\",\"No work in bajaj team\",\"It is very good thing making and it is name on all india.I am interested in bajaj electrical job.\",\"Worst ever experience in Bajajelectricals.\",\"Bajaj working culture very good,\",\"All working related electrical project line i like very excelent because i was allrady doing work in bajaj project.\",\"Bajaj is very good company for starting your career\",\"All electrical repairing and waring\",\"No your are good job experience for bajaj electricals\",\"Bajaj Electrical Limited provides opportunities to Candidates to take higher challenges and prove them selves irrespective of their work experiences but based on their performance.\",\"Yesh bajaj company electrical engg\",\"Work Culture at Bajaj is excellent\",\"ITI kiya hun electrician trade se kiya hun mera naam Akhilesh hai\",\"No words tell about bajaj electricals Ltd.\",\"Working ka koi time nahi hain\",\"Bajaj is good company. if your boss is good then everything is fine\",\"Bajaj electricals is best in design\",\"Bajaj appliances company is a fake brand and value of all market because every one know company just fake commitment not give a salary to employes my 2 month salary r not given i am very frusted\",\"No worked  bajaj electrical engg\",\"Rahul Dhokale\",\"Nothing to be disliked in Bajaj\",\"I have worked with Bajaj approx 3.5 years. Product quality is very poor, after sales service is very poor. My Customer is not satisfied with Bajaj. So I left Bajaj.\",\"All Bajaj staffs are good \\nSajid sir\\nSatish sir\\nBrijesh sir\",\"Good atmosphere bajaj group .\",\"Bajaj Electricals is reputed company but some people like RH and other level management is poor very politic .\",\"I have not any question to write about dislikes for bajaj electricals.\",\"Bajaj authorise Cfa not provide good selry\",\"Its a Very Good Experience About Sales officer of Bajaj Electricals Work at Sales of all Purulia Town Town and Distic\",\"Mera naam Akhilesh hai\",\"Bajaj electricals limited is a very good Company .\",\"It was good experience with Bajaj Electrical\",\"Culture at Bajaj is excellent.\",\"Heard that bajaj culture was good but same time few employees are not satisfied because of uper management keep on changing and they are applying their rules\",\"Prementive maintenance utility mpcb motor star delta\",\"All DSO work in ground level but there salary is very poor.this is the very dislike matter of Bajaj Electricals.\",\"Bajaj working policy is best\",\"Bajaj electricals Directly not given by Dso payment and incentives\",\"In the past year its not a company it's my home but from last 3-4 after changing the management of power distribution it only just a company nothing else.\",\"I like work culture of Bajaj electricals\",\"Working at Bajaj Electrical very good\",\"Yes I am like bajaj electricals ltd\",\"Nothing wrong in Bajaj Electricals\",\"Because im a electric technio\",\"Bajaj electricals Ltd a good company\",\"SM tarchar  Anil Guggila he is doing \\nUse and throw ...\",\"What attracts me the most that In Bajaj Electricals you can work here at any department if you are interested in changing the nature of you job, you can have transfer in marketing you can have transfer at any place in India suitable for you.\",\"Market value good and retailers demands all products by Bajaj electricals\",\"In Bajaj Electricals we learn more to more and work hard & get good apprisal.\",\"Bajaj Electricals is leader in market and work culture is very good.\",\"Bajaj Electrical Canteen Is Worse....\",\"Bajaj Electricals is good organisation in me and women candidates.\",\"Our distributor is so mean .he didn't give us our salary in time and didn't give food expense of our\",\"Excellent experience for Bajaj electrical\",\"Bajaj is best company hai\",\"I am not dislike Bajaj electricals Ltd\",\"Bajaj appliances is a cheter company they r never give a salary they have working simple mantra 2 or 3 month they r giving only assurity but not give a salary after 2 or 3 month again hire a new employe\",null],\"marker\":{\"opacity\":0.5,\"size\":5},\"mode\":\"markers+text\",\"name\":\"2_bajaj_electricals_electrical\",\"text\":[\"\",\"\",\"\",\"\",\"\",\"\",\"\",\"\",\"\",\"\",\"\",\"\",\"\",\"\",\"\",\"\",\"\",\"\",\"\",\"\",\"\",\"\",\"\",\"\",\"\",\"\",\"\",\"\",\"\",\"\",\"\",\"\",\"\",\"\",\"\",\"\",\"\",\"\",\"\",\"\",\"\",\"\",\"\",\"\",\"\",\"\",\"\",\"\",\"\",\"\",\"\",\"\",\"\",\"\",\"\",\"\",\"\",\"\",\"\",\"\",\"\",\"2_bajaj_electricals_electrical\"],\"textfont\":{\"size\":12},\"x\":[5.412045001983643,5.682065963745117,5.781589508056641,5.687475204467773,5.374918460845947,5.951775074005127,5.955857276916504,5.73590087890625,5.327834606170654,6.092230319976807,5.736186981201172,6.054666519165039,5.543532371520996,5.611386299133301,5.473569869995117,5.517843246459961,6.058441162109375,6.113339900970459,5.280059337615967,6.203578472137451,6.068798065185547,5.4356865882873535,5.978567123413086,5.699042797088623,6.148312091827393,5.2120490074157715,6.08320951461792,6.064524173736572,5.441344261169434,5.539629936218262,5.283623218536377,6.027575492858887,5.642276287078857,6.179140090942383,5.488701820373535,5.439686298370361,6.097286224365234,6.096487998962402,5.514883041381836,5.7209272384643555,6.0879435539245605,5.616809844970703,5.454824924468994,5.924468994140625,5.706589221954346,5.505579948425293,5.417166709899902,5.492213249206543,5.48087739944458,6.208463191986084,5.750707626342773,5.389071941375732,5.582401752471924,5.7008490562438965,5.246686935424805,5.647759914398193,6.131205081939697,5.4605607986450195,6.010340690612793,5.229890823364258,6.017588138580322,5.718328475952148],\"y\":[2.838505268096924,2.4780893325805664,2.581449508666992,2.5464465618133545,2.8605706691741943,2.362886667251587,2.457812786102295,2.481433391571045,2.90667462348938,2.1797683238983154,2.5903775691986084,2.3246665000915527,2.89713454246521,2.5947206020355225,2.74749493598938,2.533783197402954,2.226391315460205,1.635658860206604,2.6510214805603027,1.505797028541565,2.238431215286255,2.8371617794036865,2.4581918716430664,2.715322256088257,1.624322772026062,2.745985507965088,2.403318405151367,2.1881227493286133,2.457562208175659,2.5272815227508545,2.7808282375335693,2.297426223754883,2.5189998149871826,1.5647227764129639,2.546116828918457,2.840467929840088,2.1650142669677734,2.171867609024048,2.8341381549835205,2.668368339538574,2.3201169967651367,2.807241439819336,2.4033026695251465,2.27361798286438,2.6023428440093994,2.5372467041015625,2.8860087394714355,2.4151926040649414,2.4754912853240967,1.4967767000198364,2.439178466796875,2.370016574859619,2.6509602069854736,2.377883195877075,2.9970202445983887,2.4456534385681152,2.4265291690826416,2.7578561305999756,2.2200307846069336,2.6917271614074707,2.4786386489868164,2.459953784942627],\"type\":\"scattergl\"},{\"hoverinfo\":\"text\",\"hovertext\":[\"Salary credit on time ,and also company given good skill oppertunity for learning\",\"The salary may be negotiable if you are the favoured employee of your boss, otherwise, it may be wise to have a backup plan.\",\"Salary in time.\\nGrowth as per performance.\",\"Salary not increase for every year\",\"Best salary system\",\"Average increment per anual\",\"Good salary, work timing, working culture.\",\"Perks and benifit\",\"Nothing to be dislike but need to improve salary and makeup work lode divided\",\"HR policy and salary on time\",\"Salary time and other wise good\",\"Very Good salary on time\",\"Point settlement\",\"Salary and benefits\",\"Pay structure and benefits are not tax friendly to employees.\",\"Salary and Other Benefits on time .\",\"Like work culture ,salary and expense on time and other benefits\",\"Timely bounded salary and other expenses.\",\"Salary growth zero% for contractual staff\",\"Offrole employee not good salary and appriseal\",\"On time salary, easy approach, work life balance\",\"Apart from salary nothing good\",\"Timely Salary & Annual Appraisal, Supportive collegues.\",\"Salary and benifits.\",\"Only Salary on time.\",\"The system regarding salary and other activities through IT is well placed\",\"Only the salary part is good\",\"1) Salary is always on time\\n2) Good office infrastructure for working\",\"Salary Credited to Late Very Month\",\"Timing salary\",\"TA bill approved on time\",\"salary on time & policy transparent.\",\"Company not providing increment for last four years. There is no job security. Skill development and learning not available for off roll employees.\",\"Work timing not set and salary not in range and without information cutting exta amount in salaries so many resons\",\"Salary And Benefits\",\"off role employee not increment\",\"Salary structure\",\"Working in delhi regional branch.....cordial team......salary on time\",\"good but salary not increase and growth also not there  . and overoll normal\",\"Increment is not proper\",\"There is no salary increment for off roll employees.\",\"Salary increment low\",\"According to me \\nThere was not good salary and benefits \\nfor any employee\",\"Salary in time\",\"Salary On time\",\"Salary on time.\",\"Paid Timely salary\",\"Not getting increment in salary\",\"No Salary increment & No Promotion\",\"Good salary not miss every month incentive is good mangers all good\",\"Timely provide the salary.\",\"Timely salary\",\"Unfair pay\",\"Payroll\",\"salary and other facility good\",\"Every thing other than salary.\",\"Flexible working, good employee welfare, excellent benefits, perfect work life balance\",null],\"marker\":{\"opacity\":0.5,\"size\":5},\"mode\":\"markers+text\",\"name\":\"3_salary_time_increment\",\"text\":[\"\",\"\",\"\",\"\",\"\",\"\",\"\",\"\",\"\",\"\",\"\",\"\",\"\",\"\",\"\",\"\",\"\",\"\",\"\",\"\",\"\",\"\",\"\",\"\",\"\",\"\",\"\",\"\",\"\",\"\",\"\",\"\",\"\",\"\",\"\",\"\",\"\",\"\",\"\",\"\",\"\",\"\",\"\",\"\",\"\",\"\",\"\",\"\",\"\",\"\",\"\",\"\",\"\",\"\",\"\",\"\",\"\",\"3_salary_time_increment\"],\"textfont\":{\"size\":12},\"x\":[9.293120384216309,9.466601371765137,9.427129745483398,9.995932579040527,9.042736053466797,10.094731330871582,9.233342170715332,9.270586967468262,9.160937309265137,9.433981895446777,9.286125183105469,9.334834098815918,9.301190376281738,9.090205192565918,9.581693649291992,9.341678619384766,9.1264066696167,9.17892074584961,9.979076385498047,9.490111351013184,9.250577926635742,9.305929183959961,9.222620010375977,9.069543838500977,9.344576835632324,8.839874267578125,9.361898422241211,8.956465721130371,9.31135082244873,9.355332374572754,8.359536170959473,9.370301246643066,10.029146194458008,9.396125793457031,9.099580764770508,10.083547592163086,9.03222942352295,9.281908988952637,9.41347599029541,10.121631622314453,10.04935359954834,10.072402954101562,9.483439445495605,9.363643646240234,9.377232551574707,9.339426040649414,9.268040657043457,10.109489440917969,10.120532035827637,9.428802490234375,9.200884819030762,9.251063346862793,10.287493705749512,9.000815391540527,9.173704147338867,9.213308334350586,8.03251838684082,9.387845039367676],\"y\":[-0.9708443880081177,-1.6001052856445312,-1.0312657356262207,-1.6226799488067627,-1.3672206401824951,-1.716888189315796,-1.3605436086654663,-1.9199227094650269,-1.7519850730895996,-0.861922562122345,-1.1912881135940552,-0.8802617788314819,-1.932510495185852,-1.35398268699646,-1.7191193103790283,-0.8819345235824585,-1.277225375175476,-0.641917884349823,-1.6576520204544067,-1.7861788272857666,-0.9995630979537964,-1.4032832384109497,-0.6640703082084656,-1.3767306804656982,-0.8519061803817749,-1.302198886871338,-1.4662437438964844,-1.2618649005889893,-0.7077807784080505,-0.7375515699386597,-0.4083031415939331,-0.865741491317749,-1.791402816772461,-0.8826422095298767,-1.3208255767822266,-1.7245029211044312,-1.3406095504760742,-1.006676435470581,-1.4991059303283691,-1.701906681060791,-1.7160422801971436,-1.6661697626113892,-1.6191723346710205,-0.8506109714508057,-0.8347170352935791,-0.8845409750938416,-0.6917563080787659,-1.7122920751571655,-1.7422246932983398,-1.4522074460983276,-0.6501784920692444,-0.6526432037353516,-2.7813665866851807,-0.9093413949012756,-1.37169349193573,-1.3377742767333984,-2.368595600128174,-1.299643635749817],\"type\":\"scattergl\"},{\"hoverinfo\":\"text\",\"hovertext\":[\"Very ithical company and trust and customer satisfaction oriented.\",\"Company is good\",\"Great organisation to work with\",\"Very big brand, salary structure one of the best in industry.\",\"Product range is good.\",\"Good Company to work\",\"Everything is good , \\nTake care of their employee\\nAwesome experience I have got from it.\",\"Nothing to like there are much better companies\",\"Very good super exipirens very nice\\nI am also happy job\",\"Sometime U can face different issues bad experience with customers\",\"Product and services are good\",\"Loved to work in this company, excellent platform to excel your skills.\",\"Liketo Learn how to handle customer service and ther satisfaction.\",\"Best quality and Service proper\",\"Today every every company wants performence and if you are performing it is good for you\",\"Good company with brand name\",\"Over all it's good company.\",\"nice experience and gud organization\",\"Vendor based not good for R&D\",\"My dream working with good company\",\"Company is really Good\",\"Brand name\",\"Over price of product .\",\"Product and quality amazing\",\"Very good company \\ud83d\\udc4d\",\"Pvt company but good\",\"I want to be a part of this company.\",\"Well reputed brand with lots of opportunities and professional culture\",\"Good company\",\"Excellent  company and environment people\",\"Best company\",\"Product range\",\"Company is good to work\",\"Are you like this company menjment\",\"Quality of products development\",\"Very god company\",\"Brand presence in certain sectors of the country.\",\"It's having a good & supporting employees.\",\"Established Brands and Structured and organised working system.\\nMarket leader in most of the categories.\\nIf reporting boss is good, then company is a heaven to work.\",\"Good Product\",\"Company is very good, good and benefits\",\"Highly accepted Brand in India, most of senior and colleges are very friendly.\",\"overall good performance of company.\",\"Most popular branded company in India.\",\"Good brand value\",\"Company switched the cnf to lala company A one marketing that was very bad experience of my life\\nVinay jalan was the owner of the company of a one marketing and he is very rude person and always abuse to everyone\",\"BEL is an good company and also treating well\",\"Don't join this company because there have not good culture for logistics.\\nYou will have to work over there too much time but no holiday no weak off and if you have medical issues it's your problem no leave will provide you by company.\\nI had joined in this company it's my biggest mistake in my life.\",\"Yes very good job\",\"The Good thing for this company is that here work is limited.\",\"Good for customer response\",\"If you will not join this company. I so feel bedly\",\"Best company for working\",null],\"marker\":{\"opacity\":0.5,\"size\":5},\"mode\":\"markers+text\",\"name\":\"4_company_brand_good\",\"text\":[\"\",\"\",\"\",\"\",\"\",\"\",\"\",\"\",\"\",\"\",\"\",\"\",\"\",\"\",\"\",\"\",\"\",\"\",\"\",\"\",\"\",\"\",\"\",\"\",\"\",\"\",\"\",\"\",\"\",\"\",\"\",\"\",\"\",\"\",\"\",\"\",\"\",\"\",\"\",\"\",\"\",\"\",\"\",\"\",\"\",\"\",\"\",\"\",\"\",\"\",\"\",\"\",\"\",\"4_company_brand_good\"],\"textfont\":{\"size\":12},\"x\":[5.119058609008789,5.251848220825195,5.69040060043335,4.715660572052002,4.884087085723877,5.273651599884033,5.803532600402832,5.069016456604004,4.508790969848633,5.222991943359375,5.034845352172852,5.4149274826049805,5.219804286956787,4.997798919677734,5.354992866516113,4.670671463012695,5.1969733238220215,5.798850059509277,4.976620197296143,5.34810209274292,5.258884429931641,4.626863479614258,4.902758598327637,4.7052178382873535,5.007049083709717,5.205966472625732,5.445516586303711,4.6284637451171875,4.9931793212890625,5.31535530090332,5.039291858673096,4.881445407867432,5.5176568031311035,5.379387855529785,5.057646751403809,4.999767780303955,4.6233134269714355,5.452633857727051,5.2977681159973145,4.688286304473877,5.329981803894043,4.612271785736084,5.352935314178467,4.608847618103027,4.6892900466918945,5.241436004638672,5.320366382598877,8.298415184020996,4.3937201499938965,5.286243438720703,5.0662078857421875,5.4166259765625,5.228760242462158,5.158946990966797],\"y\":[-2.876857042312622,-3.2241525650024414,-3.5469138622283936,-3.235152006149292,-2.6297686100006104,-3.145742416381836,-3.1214864253997803,-3.3620431423187256,-2.5484251976013184,-2.4637672901153564,-2.706641435623169,-3.139442205429077,-2.4822208881378174,-2.7163140773773193,-3.1462595462799072,-3.2121527194976807,-3.1173295974731445,-3.4680490493774414,-2.7291431427001953,-3.1524620056152344,-3.1979775428771973,-3.2386374473571777,-2.6332075595855713,-2.7574005126953125,-2.9963507652282715,-3.158451795578003,-3.1274099349975586,-3.2307889461517334,-3.0395255088806152,-3.0311167240142822,-3.2064034938812256,-2.6076607704162598,-3.052990436553955,-3.092482566833496,-2.711160182952881,-3.146704912185669,-3.3044686317443848,-3.1640772819519043,-3.4557206630706787,-2.7859387397766113,-3.1057791709899902,-3.302093982696533,-3.034350633621216,-3.3035709857940674,-3.0383787155151367,-2.338855266571045,-3.210034132003784,-2.0637266635894775,-2.5531985759735107,-3.2791218757629395,-2.7035183906555176,-3.1620497703552246,-3.3528249263763428,-3.007741689682007],\"type\":\"scattergl\"},{\"hoverinfo\":\"text\",\"hovertext\":[\"Execution staff is helpful\",\"SUPPROTING ALL STAFF AND SENIOUR\",\"Supportive Boss and easy accessibility to Higher officials.\",\"Uper Management ..........\",\"Once upon a time it was very good & ethics oriented organization.but now policies has changed there is no future for the front line executive\\u002fassistant man.& deputy manager.\\nNext level position company removed from hierarchy.\\nFor career growth - negative \\nFor for Learning - Positive\\nOver all 5\\u002f10\",\"Portfolio management\",\"How to managing the employees\",\"No visions of top management.\",\"Utilization of Management tarinee\",\"No long term strategy, always panic.\",\"Wast management , my career spoiled\",\"Job satisfaction is low.....upper management is unaware of what's going on......a lot of long timers who seem to have zero accountability.....operates like a government organisation\",\"A lot of blame game keeps happening amongst departments and R&D is made the scapegoat\",\"staff of safety department is selfish, arrogant and disrespect supporting staff and employees\",\"Internal career growth opportunity is very low.\",\"Every verticals functions independently and senior managements behaves like top bureacrets with no connections.\",\"There is a lot of politics and the management dose not address our issue salary is decent but career  growth is slow there is a bond of  two years before which you cannot resing .on the job training is not given to new joinees\",\"Operational issues\",\"RM level not understand lower employee problems\",\"I like management and process\",\"Top Management not clear about his decision\",\"No uniform companies\",\"Everything is Bad no Professional system, top management is all poor experience guys. Give importance to sycophancy and hypocrisy.\",\"Doing changes without taking employees in confidence.\",\"Communication between department\",\"Managers need to understand the downline employee problem.\",\"Internal politics ,partialities with capable employees,present higher management are very bads\",\"Like but staff no like\",\"Management behaviour and helpfull\",\"Management  is not well\",\"There was no innovation and only office politics. The upper management is corrupt and only favours who treat the bosses well.\",\"There is lot to learn but labor is suffering due to old machinery. So the job Quality and cost of the job losing a lot.\",\"Everything. No way recommended to anyone. All corrupted people ans sinior management\",\"Taking care of employees\",\"There is a lot of politics and the management doesn't address our issues.\",\"Lots of opportunities on crises management\",\"There is. Lot of politics and the management doesn't address our issues. Salary is decent but career growth is alow.\",\"There has no growth in the career...poor management\",\"It's true that I don't like the management about everything.No facilities for workers.\",\"Non responsive and relaxed upper management .\",\"Compeny is good  staff not good\",\"Need realistic management\",\"Lot to change about people management.\",\"Company is doing fine at most of the fronts. Good potential and management is taking good risks to expand the business,\",\"Some of non supportive staff in management.\",\"Poor mgmt no clear communication\",\"Slow to responses . Management is unclear as far as long term strategy is concerned. Only focuses on short term gap fills.\",null],\"marker\":{\"opacity\":0.5,\"size\":5},\"mode\":\"markers+text\",\"name\":\"5_management_staff_lot\",\"text\":[\"\",\"\",\"\",\"\",\"\",\"\",\"\",\"\",\"\",\"\",\"\",\"\",\"\",\"\",\"\",\"\",\"\",\"\",\"\",\"\",\"\",\"\",\"\",\"\",\"\",\"\",\"\",\"\",\"\",\"\",\"\",\"\",\"\",\"\",\"\",\"\",\"\",\"\",\"\",\"\",\"\",\"\",\"\",\"\",\"\",\"\",\"\",\"5_management_staff_lot\"],\"textfont\":{\"size\":12},\"x\":[7.595099925994873,7.598222255706787,7.534737586975098,8.093783378601074,8.408447265625,8.118483543395996,7.7736077308654785,8.38361930847168,7.926187038421631,8.297770500183105,8.403250694274902,8.485888481140137,8.21212100982666,7.915884971618652,8.540889739990234,8.388486862182617,8.666133880615234,8.197525024414062,8.616523742675781,8.087935447692871,8.236556053161621,8.619754791259766,8.436254501342773,7.8732008934021,7.432459354400635,7.797522068023682,8.515926361083984,7.553198337554932,7.830717086791992,8.229044914245605,8.573235511779785,8.540658950805664,8.509438514709473,7.551336765289307,8.56009292602539,8.130006790161133,8.570533752441406,8.552350044250488,8.488805770874023,8.075520515441895,7.597654819488525,8.175651550292969,8.250090599060059,8.169657707214355,7.840301990509033,8.120380401611328,8.239151000976562,8.164130210876465],\"y\":[-4.391845703125,-4.377385139465332,-3.8664984703063965,-4.020676612854004,-3.5539703369140625,-4.019417762756348,-4.088655471801758,-3.886742115020752,-3.998446226119995,-3.811736822128296,-3.7008655071258545,-3.8539905548095703,-4.205852031707764,-4.3353166580200195,-3.147416591644287,-3.9713196754455566,-3.1334049701690674,-3.7661967277526855,-3.917788505554199,-3.994676113128662,-3.888409376144409,-4.429873943328857,-4.014768600463867,-4.052388668060303,-3.8672194480895996,-4.1283745765686035,-3.749938488006592,-4.408891201019287,-4.063703536987305,-3.9017581939697266,-3.736332893371582,-3.0734610557556152,-4.3280158042907715,-4.132587432861328,-3.8102030754089355,-3.985915184020996,-3.344374179840088,-3.301967144012451,-4.239454746246338,-3.9694623947143555,-4.382788181304932,-3.9875218868255615,-3.999579906463623,-3.5721077919006348,-4.139197826385498,-3.804090976715088,-3.69260835647583,-3.9158973693847656],\"type\":\"scattergl\"},{\"hoverinfo\":\"text\",\"hovertext\":[\"I have enjoyed with my best working activity.\",\"Good working hours\",\"Transparency, value system, excellent work environment\",\"Quite comfortable\",\"Highely Terrible Work place\",\"Good envoirment of working\",\"Good working environment\",\"None at all its good working atmosphere\",\"No I like my work there\",\"Good environment\\nGood collegue\\nBenifits\",\"Overall Good place to work.\",\"It has wide range of product which creates large band of exposure. Be it outdoor, indoor or architectural field.\",\"Good for working\",\"Descipline and Friendly Atmosphere\",\"Nice to work...\",\"Work Clutter is good\",\"Very good working environment\",\"Working atmosphere is very good.\",\"No I am Like Working\",\"Great place to work except the office location\",\"Working place is good and i learn more from this work place thank you\",\"Work environment\",\"Its good to work here...\",\"If environment atmosphere good\",\"i don't like to talk while working\",\"Good atmosphere\",\"Average place to work\",\"Very nice and helpful atmosphere in office.\",\"Infrastructure and workspace\",\"Good environment in past that should be continue I'm future also.\",\"Initially the work seems good\",\"Health Environment.\",\"Office environment is good and upper management support is good\",\"All is good. Work atmosphere is good\",\"Great place to work\",null],\"marker\":{\"opacity\":0.5,\"size\":5},\"mode\":\"markers+text\",\"name\":\"6_atmosphere_environment_place\",\"text\":[\"\",\"\",\"\",\"\",\"\",\"\",\"\",\"\",\"\",\"\",\"\",\"\",\"\",\"\",\"\",\"\",\"\",\"\",\"\",\"\",\"\",\"\",\"\",\"\",\"\",\"\",\"\",\"\",\"\",\"\",\"\",\"\",\"\",\"\",\"\",\"6_atmosphere_environment_place\"],\"textfont\":{\"size\":12},\"x\":[6.530248165130615,6.531269550323486,6.486860275268555,6.059953212738037,6.333118438720703,6.570746898651123,6.353306770324707,6.0183234214782715,6.149924278259277,6.181822299957275,6.028140544891357,6.148809909820557,6.5652875900268555,5.921522617340088,5.900087833404541,6.245673179626465,6.24353551864624,5.993943214416504,6.366892337799072,6.132916450500488,6.0605854988098145,6.616446495056152,5.909405708312988,5.9316205978393555,6.818723201751709,5.936919689178467,6.099661827087402,6.046170234680176,6.652629375457764,6.3231520652771,5.903313636779785,6.2521443367004395,6.331968784332275,5.963811874389648,6.108006000518799,6.220483303070068],\"y\":[-2.0242483615875244,-1.9417482614517212,-1.6034342050552368,-1.6467888355255127,-1.9711304903030396,-2.0195178985595703,-1.6375486850738525,-1.4216079711914062,-2.032423496246338,-1.6319986581802368,-1.9350647926330566,-1.6515361070632935,-2.028947114944458,-1.291426658630371,-1.8214246034622192,-1.4849625825881958,-1.5847312211990356,-1.3874186277389526,-2.0999109745025635,-1.909960389137268,-1.9123668670654297,-1.5174731016159058,-1.837930679321289,-1.2951229810714722,-2.103203773498535,-1.288182258605957,-1.9417704343795776,-1.4602330923080444,-1.4907816648483276,-1.6194984912872314,-1.8295663595199585,-1.6233123540878296,-1.6078474521636963,-1.4893065690994263,-1.9557461738586426,-1.7170907258987427],\"type\":\"scattergl\"},{\"hoverinfo\":\"text\",\"hovertext\":[\"Less Work , Less Tention . No Physical Stress\",\"Men power remove\",\"Pressure of working while a employee is on leave.\",\"Work balance\",\"Anytime you will fired\\nToo much work pressure\\nNo family or personal life\\nCompany expecting work even after official hour...\\nEvery person loded\\nJob starts at 7 am and no end till u sleep\\nSometimes 3 am or 4 \\nGodfather ranking\\nEvery person is equal judge... Apart of load distribution\\nAnytime asked to change your city\",\"None good company work life balance\",\"Nothing ....as time changes and work.pressure is same for all the companies.\",\"Full of presure and no work life balance\",\"no value for work oriented persons\",\"Salary\\nHeavy work pressure\",\"Less man power , more work load\",\"Due to covid situation most of the companies are fighting for survival so work pressure have increased here also which leads to lesser work life balance and job security as compared to pre covid era.\",\"Lot of pressure\",\"Poor work life balance and HR policies.\",\"Good growth opportunity\\nGreat leaders\\nScope for personal development\\nGood work life balance\",\"Fund system at site is dull\",\"Though work pressure is high but enjoy to work\",\"Good for worklife balance\",\"Stable job\",\"There is no value for talant and hard work.  If u have strong reference in higher management then u can survive without doing any work.\",\"Work life balance is poor at site\",\"Good work life balance\",\"Work Life balance\",\"Work cluture\",\"Work life balance\",\"Highly tense work atmosphere,Never get any growth\",\"No proper system to work. lot of bureaucracy. Too much work pressure . No work life balance\",\"Work pressure is very high & no work - life balance .\",\"No proper support from Marketing team\\nWork culture and work life balance is not in a good way\",null],\"marker\":{\"opacity\":0.5,\"size\":5},\"mode\":\"markers+text\",\"name\":\"7_balance_life_work\",\"text\":[\"\",\"\",\"\",\"\",\"\",\"\",\"\",\"\",\"\",\"\",\"\",\"\",\"\",\"\",\"\",\"\",\"\",\"\",\"\",\"\",\"\",\"\",\"\",\"\",\"\",\"\",\"\",\"\",\"\",\"7_balance_life_work\"],\"textfont\":{\"size\":12},\"x\":[7.767276287078857,8.222870826721191,7.87299919128418,7.738256454467773,7.897401809692383,7.807516574859619,7.925761699676514,7.755792617797852,8.079933166503906,7.846529483795166,7.796998023986816,7.858157157897949,7.757302761077881,7.952421188354492,7.723229885101318,7.987431049346924,7.749569892883301,7.7275309562683105,7.332360744476318,8.174346923828125,7.803792953491211,7.769833564758301,7.808358669281006,8.034468650817871,7.827425479888916,7.65778112411499,8.031559944152832,7.8190460205078125,7.8376994132995605,7.847021579742432],\"y\":[-1.9876642227172852,-2.287959337234497,-1.6600991487503052,-2.233656167984009,-1.6056886911392212,-2.4071414470672607,-1.6404478549957275,-2.1483235359191895,-2.5600340366363525,-1.6456063985824585,-1.9560314416885376,-1.8930916786193848,-1.637861728668213,-2.3515195846557617,-2.469365119934082,-2.088876962661743,-1.704769492149353,-2.296623468399048,-2.3592042922973633,-2.6010208129882812,-2.2284977436065674,-2.3438568115234375,-2.2901222705841064,-1.5012011528015137,-2.2950901985168457,-1.9482728242874146,-2.4417061805725098,-1.9252363443374634,-2.5479094982147217,-2.105409622192383],\"type\":\"scattergl\"},{\"hoverinfo\":\"text\",\"hovertext\":[\"Working on Weekend. (Saturday & Sunday is off.)\",\"AREA SYNCING AND MULTIPLE BU WORKING WITH SAME TIME..\",\"Time Schedule\",\"5 days working\",\"If you want to work they will load you will work\",\"Flexible hours, 5 days working & culture of organisation\",\"Flexible time of work.\",\"Processes not yet streamline\",\"all days working,no process\",\"Timing to time works\",\"Rite now, \\nSystem is not so synchronized.\",\"Manegment is week\",\"Work timeing\",\"System is not there\",\"Some time apprisal not fact according to emp. Work\",\"Flexible time for staff\",\"6 days working Not\",\"Office timing is flexible\",\"Quaterly meets in a year about new products launching & sharing details of the new products through online or offline mode.Weekend saturday meets sharing feedback and analyzing market to promote & growth our sales activity with company area sales manager and distributor manager. Weekly market visiting and taking orders from retailers.\",\"Sallary on time.\",\"No time limit for work\",\"Work time\",\"Lot of process to complete one task\",\"Over load work\",\"Flexible in time\",\"Flexi timing\\nCulture is not toxic\",null],\"marker\":{\"opacity\":0.5,\"size\":5},\"mode\":\"markers+text\",\"name\":\"8_flexible_time_days\",\"text\":[\"\",\"\",\"\",\"\",\"\",\"\",\"\",\"\",\"\",\"\",\"\",\"\",\"\",\"\",\"\",\"\",\"\",\"\",\"\",\"\",\"\",\"\",\"\",\"\",\"\",\"\",\"8_flexible_time_days\"],\"textfont\":{\"size\":12},\"x\":[7.645719528198242,7.360845565795898,7.887993335723877,7.592870235443115,7.201319217681885,7.701763153076172,7.737786293029785,7.409747123718262,7.450779438018799,7.9039435386657715,7.332791805267334,7.939888954162598,7.765355587005615,7.286398887634277,7.865463733673096,7.794198036193848,7.496633529663086,7.809076309204102,7.930305004119873,7.868356227874756,7.6689534187316895,7.699672698974609,7.302519798278809,7.282131195068359,7.814732551574707,7.955322742462158,7.642483234405518],\"y\":[-0.5802674889564514,-0.6245311498641968,-0.3610365688800812,-0.5936264991760254,-1.4381369352340698,-0.41977718472480774,-0.3591792583465576,-0.8251966238021851,-0.6713333129882812,-0.33177557587623596,-0.7241067886352539,-0.451975017786026,-0.35669660568237305,-0.7107319831848145,-0.30309662222862244,-0.3438204228878021,-0.6193801760673523,-0.31839197874069214,-0.487086683511734,-0.3198687434196472,-0.467369943857193,-0.4541145861148834,-0.886467695236206,-1.4443330764770508,-0.2924725115299225,-0.3821853697299957,-0.5679599046707153],\"type\":\"scattergl\"},{\"hoverinfo\":\"text\",\"hovertext\":[\"Working at environment health and safety proffession.\",\"Job security is not good.\",\"No job security if no projects in there hand.\",\"Job security poor\",\"I'm interested to only safety proffession.\",\"RELOCATE JOB\",\"senior behave wrongly type & job not secure\",\"No secured job\",\"less job security & low increment\",\"Work Target policy, Safety training, Good Behaviour to employee.\",\"Job security. Defensive business approach.\",\"Job safety\",\"Job security\",\"All is well but job security not wellm\",\"There is no future working security\",\"Job is not secure.\",\"No job certainty\",\"Team is good, Time to time training, Now a days no job security.\",\"It was great experience,but due to wrong company policy done by Execution head their is always threat of job security.\",null],\"marker\":{\"opacity\":0.5,\"size\":5},\"mode\":\"markers+text\",\"name\":\"9_job_security_safety\",\"text\":[\"\",\"\",\"\",\"\",\"\",\"\",\"\",\"\",\"\",\"\",\"\",\"\",\"\",\"\",\"\",\"\",\"\",\"\",\"\",\"9_job_security_safety\"],\"textfont\":{\"size\":12},\"x\":[9.189051628112793,9.024334907531738,9.026618957519531,9.043046951293945,9.189740180969238,9.155121803283691,8.999262809753418,9.081080436706543,9.06049633026123,9.207934379577637,9.048996925354004,9.155328750610352,9.060836791992188,8.951399803161621,9.054990768432617,9.059405326843262,9.091789245605469,8.991287231445312,9.032546043395996,9.074909210205078],\"y\":[-5.125424385070801,-5.476511478424072,-5.476179122924805,-5.4908623695373535,-5.145561695098877,-5.609935760498047,-5.470822811126709,-5.541447162628174,-5.516155242919922,-5.005903244018555,-5.473384857177734,-5.168143272399902,-5.474392890930176,-5.415572643280029,-5.530681133270264,-5.514072418212891,-5.533490180969238,-5.500518798828125,-5.477293491363525,-5.418229103088379],\"type\":\"scattergl\"},{\"hoverinfo\":\"text\",\"hovertext\":[\"Provides training from development of new skills as per markets required.\",\"Learnings new things and apply\",\"Team Work, learning skill\",\"Learning & growth opportunities\",\"Opportunities to learn new things\",\"Research\",\"Only skill development is good.\",\"Experience and collect knowledge\",\"Skills development and opportunities to work on new projects\",\"Not focusing on new categories\",\"Working Environment and Learning\\u2019s\",\"Since the management team + manager puts you on fire & expect smooth project delivery and due to high work pressure an individual can learn or upgrade skills on the job or can take as opportunity to upgrade skills but no special training or efforts would be their from organization\",\"I am enjoying my work and time to time seft updates learning.\",\"Good experience working with BEL, however more training & development programs  online & offline need to be conducted for enhance learning activity\",\"You can develop your work skill and communication with different people.... How to talk and how to deal.....\",\"Learnings\\nWork Freedom\",\"There has a lot of things to learn .\",\"Lot's of learning.\",null],\"marker\":{\"opacity\":0.5,\"size\":5},\"mode\":\"markers+text\",\"name\":\"10_learning_new_learnings\",\"text\":[\"\",\"\",\"\",\"\",\"\",\"\",\"\",\"\",\"\",\"\",\"\",\"\",\"\",\"\",\"\",\"\",\"\",\"\",\"10_learning_new_learnings\"],\"textfont\":{\"size\":12},\"x\":[6.713239669799805,6.77441930770874,6.7632012367248535,6.840062141418457,6.752976894378662,6.742764949798584,6.808945178985596,6.625741004943848,6.785305976867676,6.769952774047852,6.60982084274292,6.857834339141846,6.527327060699463,6.650864601135254,6.7953081130981445,7.018014907836914,6.7465362548828125,6.731442451477051,6.750764846801758],\"y\":[-3.050323724746704,-2.9157450199127197,-3.3837945461273193,-3.0049216747283936,-2.940156936645508,-3.3039815425872803,-3.0735201835632324,-2.956575632095337,-3.0164668560028076,-2.954747200012207,-2.771329641342163,-3.3138420581817627,-2.3937151432037354,-3.039903402328491,-2.3424224853515625,-2.9886298179626465,-2.951033353805542,-2.9175052642822266,-2.9621455669403076],\"type\":\"scattergl\"},{\"hoverinfo\":\"text\",\"hovertext\":[\"Appraisal should involve HR also. \\nHybrid working option. Saturday off.\",\"Timely appraisal but promotions issue\",\"Promotion in appraisal process is very bad.\",\"Appraisals and Promotion s\",\"Promotions or Appraisal process is not good\",\"Appraisal and promotions\",\"Reference basis appraisals done in current scenario. If any one links and likes available in effective management.\",\"Due to off roll employees appraisal is poor.\",\"opaque appraisals, poor HR communication and documentation\",\"Some of the legacy feature , appraisal process could be transparent\",\"Appraisal politics.  appraisal is only for who do bucketting.\",\"Personals Relation use for promotion or appraisal not for selected  as per Performance.\",\"Appraisal is required to be more transparent\",\"Appraisal process\",\"Lack of support of management\\nBias system on appraisals cycle\\nNo 360 degree feedback and poor HR mngt\\nLast but not least favouritism works well here\",\"Appraisals & Incentives\",\"No Work Life Balance \\nWorst HR experience in my 10 Year experience he never Responded \\nAppraisal purely Biased basis\",null],\"marker\":{\"opacity\":0.5,\"size\":5},\"mode\":\"markers+text\",\"name\":\"11_appraisal_appraisals_process\",\"text\":[\"\",\"\",\"\",\"\",\"\",\"\",\"\",\"\",\"\",\"\",\"\",\"\",\"\",\"\",\"\",\"\",\"\",\"11_appraisal_appraisals_process\"],\"textfont\":{\"size\":12},\"x\":[11.629661560058594,11.41555404663086,11.554221153259277,11.538942337036133,11.495304107666016,11.488455772399902,11.487128257751465,11.61100959777832,11.670296669006348,11.657880783081055,11.637712478637695,11.496072769165039,11.660795211791992,11.623641014099121,11.617542266845703,11.5620756149292,11.621845245361328,11.574596405029297],\"y\":[-2.9504973888397217,-2.6720428466796875,-2.814028024673462,-2.8070321083068848,-2.7535061836242676,-2.7602906227111816,-3.095297336578369,-2.9224181175231934,-2.9204771518707275,-2.8991568088531494,-2.8894777297973633,-2.7519233226776123,-2.890998363494873,-2.862272262573242,-2.9447503089904785,-2.8329293727874756,-2.958925247192383,-2.866236448287964],\"type\":\"scattergl\"},{\"hoverinfo\":\"text\",\"hovertext\":[\"False presentation and information passed on to company management by Execution, leads to wrong implementation of company policy.\",\"But policies are managed by Head of units\",\"Company Policies\",\"I think there is no any issues about the company policy .he gives all the training to employe\",\"Continious change in policy\",\"Company Best  policy for employer.\",\"Policies & benefits\",\"Warrenty card\",\"I have worked 4 year 8 months in the power sector but i didn't understand company policy like management, increment, apprisal. I will never join this organization in future.\",\"Company policies are reliable.\",\"All Policy.\",\"Company policy is very good in favor of employees\",\"Not much policies are changing frequently\",\"Organization policies very good\",\"Good policy\",\"Company policies\",null],\"marker\":{\"opacity\":0.5,\"size\":5},\"mode\":\"markers+text\",\"name\":\"12_policy_policies_company\",\"text\":[\"\",\"\",\"\",\"\",\"\",\"\",\"\",\"\",\"\",\"\",\"\",\"\",\"\",\"\",\"\",\"\",\"12_policy_policies_company\"],\"textfont\":{\"size\":12},\"x\":[9.937267303466797,9.895454406738281,9.981034278869629,9.762239456176758,9.838794708251953,9.811274528503418,9.949079513549805,10.1315336227417,9.9550142288208,9.948674201965332,9.885274887084961,9.822297096252441,9.861108779907227,9.907288551330566,9.88187026977539,9.99671745300293,9.910306930541992],\"y\":[-3.856009006500244,-3.9365475177764893,-3.8112568855285645,-3.8719289302825928,-4.015652656555176,-3.8733999729156494,-3.882636547088623,-3.4208922386169434,-3.825427532196045,-3.866255760192871,-3.931023359298706,-3.919856309890747,-3.997304916381836,-3.9212825298309326,-3.9380831718444824,-3.831303358078003,-3.868678569793701],\"type\":\"scattergl\"},{\"hoverinfo\":\"text\",\"hovertext\":[\"Not much scope for promotion and increment\",\"Timely promotion not done.\",\"No encouragement and acknowledgment of hard work. They won't promote you inhouse\",\"Rate problem for market\",\"No Sales Incentive\",\"Total working 11yrs but no promotion.\",\"Company promotion is so late\",\"Incentives plan\",\"Management and promotion policy\",\"Company based incentives & schemes for our target does not transfer by the end of the current month. It takes a lot of time  around 4 \\u002f5\\u002f6monthes  to be credit on our account.\",\"Promotion is delay\",\"Promotion policy\",\"Slow promotion\",\"Promotions not after long time.\",\"Promotion & increment is good.\",null],\"marker\":{\"opacity\":0.5,\"size\":5},\"mode\":\"markers+text\",\"name\":\"13_promotion_incentives_increment\",\"text\":[\"\",\"\",\"\",\"\",\"\",\"\",\"\",\"\",\"\",\"\",\"\",\"\",\"\",\"\",\"\",\"13_promotion_incentives_increment\"],\"textfont\":{\"size\":12},\"x\":[10.867161750793457,10.84519100189209,10.6785249710083,5.383114337921143,10.637972831726074,10.581216812133789,10.826879501342773,10.586545944213867,10.832098960876465,10.764044761657715,10.855835914611816,10.86343002319336,10.84076976776123,10.898031234741211,10.860649108886719,10.421431541442871],\"y\":[-2.389464855194092,-2.3447000980377197,-2.2221121788024902,2.068756580352783,-2.715913772583008,-2.149773359298706,-2.327981948852539,-2.73764705657959,-2.4659698009490967,-2.240171194076538,-2.3475873470306396,-2.454699993133545,-2.360921621322632,-2.3776590824127197,-2.412402391433716,-2.0985500812530518],\"type\":\"scattergl\"},{\"hoverinfo\":\"text\",\"hovertext\":[\"Lot to learn. CEO\\u2019s and COO\\u2019s vision.\",\"Politic and Face Promotion.\",\"Politics .\\nI worked under drinkers and useless fellows.\",\"Nepotism\",\"politician company only for politician\",\"Internal politics is there and little bit favourism present .\",\"Politics of the company\",\"For me frankly Today it's only a company, those who have a godfather in company they only survive or stay in company. Management involvement between employees is very poor. Those who have very good skills of chaplusi they can survive  for long time\\ud83d\\ude0a. I am a victim of this company. So use own your brain \\ud83e\\udde0.\\n Many peoples are still in the company of PD management, their thinking is how to take  own benefits and earn  money from the company. It a pure politics company. So be ready for the politician post. Happy journey....Read More\",\"Politics\",\"Corporate Politics\",\"A company of before independence\",\"Politics, partiality\",\"Nothing full of politics n oiling atmosphere\",\"Internal Politics\\nUnfair division of business units\\nAlmost 7 days weekly work\",null],\"marker\":{\"opacity\":0.5,\"size\":5},\"mode\":\"markers+text\",\"name\":\"14_politics_politician_company\",\"text\":[\"\",\"\",\"\",\"\",\"\",\"\",\"\",\"\",\"\",\"\",\"\",\"\",\"\",\"\",\"14_politics_politician_company\"],\"textfont\":{\"size\":12},\"x\":[8.008370399475098,10.830838203430176,7.831201076507568,7.834952354431152,7.951014518737793,7.983438968658447,7.943569660186768,8.015983581542969,7.903774261474609,7.90119743347168,7.772334575653076,7.978087425231934,7.9369683265686035,8.586689949035645,8.177030563354492],\"y\":[-4.840389251708984,-2.4983670711517334,-5.11316442489624,-5.175629138946533,-4.935187339782715,-5.122001647949219,-4.920555591583252,-4.8572258949279785,-5.134419918060303,-5.047511577606201,-4.882624626159668,-5.106101989746094,-5.106754779815674,-3.758075714111328,-4.7498579025268555],\"type\":\"scattergl\"},{\"hoverinfo\":\"text\",\"hovertext\":[\"Seniors  Management\",\"Teamates Never looses hope about anything,they give their 100%.\",\"For commercial and accounts dept. I had a great team with supporting seniors. I enjoyed work and learned a lot from this company. \\nBike with Fuel\\nInternet facility \\nCorporate Ola and Uber for all employees\",\"It's an friendly environment company with supported by seniors\",\"Nice place to work, good work environment and culture. Management is very good and supportive. All seniors are good , they are very helpful and supportive. One of the most systematic organization in this sector. Also its a good place to enhance your skills and knowledge.\",\"Wonderful organisation with great culture\\nSeniors are very supportive\\nManagement is responsive\",\"Seniors are good teammates are very supporting .\",\"Supporting from senior\",\"There is a lot of Support by senior manager and Team mates nothing to do any hesitation ...\",\"Old employee without information out of job.\",\"Good work culture, and Environment, Seniors are Suportive and Management is transparent .\",\"seniors are always help me\\nGood nice product\\n& After sales service are best for than others brand\",\"My all senior sir is Nature is to good he is always motivate\",\"80 year old company working as new startup\",null],\"marker\":{\"opacity\":0.5,\"size\":5},\"mode\":\"markers+text\",\"name\":\"15_seniors_supporting_senior\",\"text\":[\"\",\"\",\"\",\"\",\"\",\"\",\"\",\"\",\"\",\"\",\"\",\"\",\"\",\"\",\"15_seniors_supporting_senior\"],\"textfont\":{\"size\":12},\"x\":[6.154664039611816,6.468898773193359,6.103612422943115,6.1320977210998535,6.110562324523926,6.158431053161621,6.35281229019165,6.338356971740723,6.435659885406494,6.15335750579834,6.1888909339904785,6.127786636352539,6.296016693115234,6.117105484008789,6.224160671234131],\"y\":[-4.023078441619873,-3.9647622108459473,-4.018154144287109,-4.029865741729736,-4.03001594543457,-4.053590297698975,-3.94560170173645,-3.9372141361236572,-3.946117639541626,-4.007711410522461,-4.082908630371094,-4.02363395690918,-3.951724052429199,-3.941005229949951,-3.9968130588531494],\"type\":\"scattergl\"},{\"hoverinfo\":\"text\",\"hovertext\":[\"HR are least bothered for your concern\",\"HR roles - employee career path not any fixed path for growth.\",\"Hr policy is very clear and skill oriented . Need to directly associated with bottom line employee.\",\"Old company with stable growth good HR policies\",\"Hr policy is very good .time to time salary provide by company.\",\"Their HR policies\",\"Internal Politics , every day changing HR policies , compulsion of CSR, No Process & Documentation , No ,overall relocation to Navi Mumbai is costly\",\"HR is no more in system.\\nThere are no path for employee.\\nOnly sterio type working without future growth.\",\"HR policies and there is flat structure. Even after having experience of 18 years, company is offering Manager position.\",\"HR policies \\nOffice Politics\",\"Favouritism, no HR intervention. Hire and fire. No work ethics by people and still no action even when authorities know.\",\"HR policy and IT is good\",null],\"marker\":{\"opacity\":0.5,\"size\":5},\"mode\":\"markers+text\",\"name\":\"16_hr_path_policies\",\"text\":[\"\",\"\",\"\",\"\",\"\",\"\",\"\",\"\",\"\",\"\",\"\",\"\",\"16_hr_path_policies\"],\"textfont\":{\"size\":12},\"x\":[9.450971603393555,9.058302879333496,9.507248878479004,9.502605438232422,9.584331512451172,9.47587776184082,5.877626895904541,9.217081069946289,9.515804290771484,9.371869087219238,9.340860366821289,9.53126049041748,9.119486808776855],\"y\":[-3.4212992191314697,-3.231175184249878,-3.4606549739837646,-3.3608815670013428,-3.3189120292663574,-3.442147731781006,2.625906467437744,-3.2483139038085938,-3.370216131210327,-3.4394521713256836,-3.321981430053711,-3.4847395420074463,-2.8728220462799072],\"type\":\"scattergl\"}],                        {\"template\":{\"data\":{\"barpolar\":[{\"marker\":{\"line\":{\"color\":\"white\",\"width\":0.5},\"pattern\":{\"fillmode\":\"overlay\",\"size\":10,\"solidity\":0.2}},\"type\":\"barpolar\"}],\"bar\":[{\"error_x\":{\"color\":\"rgb(36,36,36)\"},\"error_y\":{\"color\":\"rgb(36,36,36)\"},\"marker\":{\"line\":{\"color\":\"white\",\"width\":0.5},\"pattern\":{\"fillmode\":\"overlay\",\"size\":10,\"solidity\":0.2}},\"type\":\"bar\"}],\"carpet\":[{\"aaxis\":{\"endlinecolor\":\"rgb(36,36,36)\",\"gridcolor\":\"white\",\"linecolor\":\"white\",\"minorgridcolor\":\"white\",\"startlinecolor\":\"rgb(36,36,36)\"},\"baxis\":{\"endlinecolor\":\"rgb(36,36,36)\",\"gridcolor\":\"white\",\"linecolor\":\"white\",\"minorgridcolor\":\"white\",\"startlinecolor\":\"rgb(36,36,36)\"},\"type\":\"carpet\"}],\"choropleth\":[{\"colorbar\":{\"outlinewidth\":1,\"tickcolor\":\"rgb(36,36,36)\",\"ticks\":\"outside\"},\"type\":\"choropleth\"}],\"contourcarpet\":[{\"colorbar\":{\"outlinewidth\":1,\"tickcolor\":\"rgb(36,36,36)\",\"ticks\":\"outside\"},\"type\":\"contourcarpet\"}],\"contour\":[{\"colorbar\":{\"outlinewidth\":1,\"tickcolor\":\"rgb(36,36,36)\",\"ticks\":\"outside\"},\"colorscale\":[[0.0,\"#440154\"],[0.1111111111111111,\"#482878\"],[0.2222222222222222,\"#3e4989\"],[0.3333333333333333,\"#31688e\"],[0.4444444444444444,\"#26828e\"],[0.5555555555555556,\"#1f9e89\"],[0.6666666666666666,\"#35b779\"],[0.7777777777777778,\"#6ece58\"],[0.8888888888888888,\"#b5de2b\"],[1.0,\"#fde725\"]],\"type\":\"contour\"}],\"heatmapgl\":[{\"colorbar\":{\"outlinewidth\":1,\"tickcolor\":\"rgb(36,36,36)\",\"ticks\":\"outside\"},\"colorscale\":[[0.0,\"#440154\"],[0.1111111111111111,\"#482878\"],[0.2222222222222222,\"#3e4989\"],[0.3333333333333333,\"#31688e\"],[0.4444444444444444,\"#26828e\"],[0.5555555555555556,\"#1f9e89\"],[0.6666666666666666,\"#35b779\"],[0.7777777777777778,\"#6ece58\"],[0.8888888888888888,\"#b5de2b\"],[1.0,\"#fde725\"]],\"type\":\"heatmapgl\"}],\"heatmap\":[{\"colorbar\":{\"outlinewidth\":1,\"tickcolor\":\"rgb(36,36,36)\",\"ticks\":\"outside\"},\"colorscale\":[[0.0,\"#440154\"],[0.1111111111111111,\"#482878\"],[0.2222222222222222,\"#3e4989\"],[0.3333333333333333,\"#31688e\"],[0.4444444444444444,\"#26828e\"],[0.5555555555555556,\"#1f9e89\"],[0.6666666666666666,\"#35b779\"],[0.7777777777777778,\"#6ece58\"],[0.8888888888888888,\"#b5de2b\"],[1.0,\"#fde725\"]],\"type\":\"heatmap\"}],\"histogram2dcontour\":[{\"colorbar\":{\"outlinewidth\":1,\"tickcolor\":\"rgb(36,36,36)\",\"ticks\":\"outside\"},\"colorscale\":[[0.0,\"#440154\"],[0.1111111111111111,\"#482878\"],[0.2222222222222222,\"#3e4989\"],[0.3333333333333333,\"#31688e\"],[0.4444444444444444,\"#26828e\"],[0.5555555555555556,\"#1f9e89\"],[0.6666666666666666,\"#35b779\"],[0.7777777777777778,\"#6ece58\"],[0.8888888888888888,\"#b5de2b\"],[1.0,\"#fde725\"]],\"type\":\"histogram2dcontour\"}],\"histogram2d\":[{\"colorbar\":{\"outlinewidth\":1,\"tickcolor\":\"rgb(36,36,36)\",\"ticks\":\"outside\"},\"colorscale\":[[0.0,\"#440154\"],[0.1111111111111111,\"#482878\"],[0.2222222222222222,\"#3e4989\"],[0.3333333333333333,\"#31688e\"],[0.4444444444444444,\"#26828e\"],[0.5555555555555556,\"#1f9e89\"],[0.6666666666666666,\"#35b779\"],[0.7777777777777778,\"#6ece58\"],[0.8888888888888888,\"#b5de2b\"],[1.0,\"#fde725\"]],\"type\":\"histogram2d\"}],\"histogram\":[{\"marker\":{\"line\":{\"color\":\"white\",\"width\":0.6}},\"type\":\"histogram\"}],\"mesh3d\":[{\"colorbar\":{\"outlinewidth\":1,\"tickcolor\":\"rgb(36,36,36)\",\"ticks\":\"outside\"},\"type\":\"mesh3d\"}],\"parcoords\":[{\"line\":{\"colorbar\":{\"outlinewidth\":1,\"tickcolor\":\"rgb(36,36,36)\",\"ticks\":\"outside\"}},\"type\":\"parcoords\"}],\"pie\":[{\"automargin\":true,\"type\":\"pie\"}],\"scatter3d\":[{\"line\":{\"colorbar\":{\"outlinewidth\":1,\"tickcolor\":\"rgb(36,36,36)\",\"ticks\":\"outside\"}},\"marker\":{\"colorbar\":{\"outlinewidth\":1,\"tickcolor\":\"rgb(36,36,36)\",\"ticks\":\"outside\"}},\"type\":\"scatter3d\"}],\"scattercarpet\":[{\"marker\":{\"colorbar\":{\"outlinewidth\":1,\"tickcolor\":\"rgb(36,36,36)\",\"ticks\":\"outside\"}},\"type\":\"scattercarpet\"}],\"scattergeo\":[{\"marker\":{\"colorbar\":{\"outlinewidth\":1,\"tickcolor\":\"rgb(36,36,36)\",\"ticks\":\"outside\"}},\"type\":\"scattergeo\"}],\"scattergl\":[{\"marker\":{\"colorbar\":{\"outlinewidth\":1,\"tickcolor\":\"rgb(36,36,36)\",\"ticks\":\"outside\"}},\"type\":\"scattergl\"}],\"scattermapbox\":[{\"marker\":{\"colorbar\":{\"outlinewidth\":1,\"tickcolor\":\"rgb(36,36,36)\",\"ticks\":\"outside\"}},\"type\":\"scattermapbox\"}],\"scatterpolargl\":[{\"marker\":{\"colorbar\":{\"outlinewidth\":1,\"tickcolor\":\"rgb(36,36,36)\",\"ticks\":\"outside\"}},\"type\":\"scatterpolargl\"}],\"scatterpolar\":[{\"marker\":{\"colorbar\":{\"outlinewidth\":1,\"tickcolor\":\"rgb(36,36,36)\",\"ticks\":\"outside\"}},\"type\":\"scatterpolar\"}],\"scatter\":[{\"fillpattern\":{\"fillmode\":\"overlay\",\"size\":10,\"solidity\":0.2},\"type\":\"scatter\"}],\"scatterternary\":[{\"marker\":{\"colorbar\":{\"outlinewidth\":1,\"tickcolor\":\"rgb(36,36,36)\",\"ticks\":\"outside\"}},\"type\":\"scatterternary\"}],\"surface\":[{\"colorbar\":{\"outlinewidth\":1,\"tickcolor\":\"rgb(36,36,36)\",\"ticks\":\"outside\"},\"colorscale\":[[0.0,\"#440154\"],[0.1111111111111111,\"#482878\"],[0.2222222222222222,\"#3e4989\"],[0.3333333333333333,\"#31688e\"],[0.4444444444444444,\"#26828e\"],[0.5555555555555556,\"#1f9e89\"],[0.6666666666666666,\"#35b779\"],[0.7777777777777778,\"#6ece58\"],[0.8888888888888888,\"#b5de2b\"],[1.0,\"#fde725\"]],\"type\":\"surface\"}],\"table\":[{\"cells\":{\"fill\":{\"color\":\"rgb(237,237,237)\"},\"line\":{\"color\":\"white\"}},\"header\":{\"fill\":{\"color\":\"rgb(217,217,217)\"},\"line\":{\"color\":\"white\"}},\"type\":\"table\"}]},\"layout\":{\"annotationdefaults\":{\"arrowhead\":0,\"arrowwidth\":1},\"autotypenumbers\":\"strict\",\"coloraxis\":{\"colorbar\":{\"outlinewidth\":1,\"tickcolor\":\"rgb(36,36,36)\",\"ticks\":\"outside\"}},\"colorscale\":{\"diverging\":[[0.0,\"rgb(103,0,31)\"],[0.1,\"rgb(178,24,43)\"],[0.2,\"rgb(214,96,77)\"],[0.3,\"rgb(244,165,130)\"],[0.4,\"rgb(253,219,199)\"],[0.5,\"rgb(247,247,247)\"],[0.6,\"rgb(209,229,240)\"],[0.7,\"rgb(146,197,222)\"],[0.8,\"rgb(67,147,195)\"],[0.9,\"rgb(33,102,172)\"],[1.0,\"rgb(5,48,97)\"]],\"sequential\":[[0.0,\"#440154\"],[0.1111111111111111,\"#482878\"],[0.2222222222222222,\"#3e4989\"],[0.3333333333333333,\"#31688e\"],[0.4444444444444444,\"#26828e\"],[0.5555555555555556,\"#1f9e89\"],[0.6666666666666666,\"#35b779\"],[0.7777777777777778,\"#6ece58\"],[0.8888888888888888,\"#b5de2b\"],[1.0,\"#fde725\"]],\"sequentialminus\":[[0.0,\"#440154\"],[0.1111111111111111,\"#482878\"],[0.2222222222222222,\"#3e4989\"],[0.3333333333333333,\"#31688e\"],[0.4444444444444444,\"#26828e\"],[0.5555555555555556,\"#1f9e89\"],[0.6666666666666666,\"#35b779\"],[0.7777777777777778,\"#6ece58\"],[0.8888888888888888,\"#b5de2b\"],[1.0,\"#fde725\"]]},\"colorway\":[\"#1F77B4\",\"#FF7F0E\",\"#2CA02C\",\"#D62728\",\"#9467BD\",\"#8C564B\",\"#E377C2\",\"#7F7F7F\",\"#BCBD22\",\"#17BECF\"],\"font\":{\"color\":\"rgb(36,36,36)\"},\"geo\":{\"bgcolor\":\"white\",\"lakecolor\":\"white\",\"landcolor\":\"white\",\"showlakes\":true,\"showland\":true,\"subunitcolor\":\"white\"},\"hoverlabel\":{\"align\":\"left\"},\"hovermode\":\"closest\",\"mapbox\":{\"style\":\"light\"},\"paper_bgcolor\":\"white\",\"plot_bgcolor\":\"white\",\"polar\":{\"angularaxis\":{\"gridcolor\":\"rgb(232,232,232)\",\"linecolor\":\"rgb(36,36,36)\",\"showgrid\":false,\"showline\":true,\"ticks\":\"outside\"},\"bgcolor\":\"white\",\"radialaxis\":{\"gridcolor\":\"rgb(232,232,232)\",\"linecolor\":\"rgb(36,36,36)\",\"showgrid\":false,\"showline\":true,\"ticks\":\"outside\"}},\"scene\":{\"xaxis\":{\"backgroundcolor\":\"white\",\"gridcolor\":\"rgb(232,232,232)\",\"gridwidth\":2,\"linecolor\":\"rgb(36,36,36)\",\"showbackground\":true,\"showgrid\":false,\"showline\":true,\"ticks\":\"outside\",\"zeroline\":false,\"zerolinecolor\":\"rgb(36,36,36)\"},\"yaxis\":{\"backgroundcolor\":\"white\",\"gridcolor\":\"rgb(232,232,232)\",\"gridwidth\":2,\"linecolor\":\"rgb(36,36,36)\",\"showbackground\":true,\"showgrid\":false,\"showline\":true,\"ticks\":\"outside\",\"zeroline\":false,\"zerolinecolor\":\"rgb(36,36,36)\"},\"zaxis\":{\"backgroundcolor\":\"white\",\"gridcolor\":\"rgb(232,232,232)\",\"gridwidth\":2,\"linecolor\":\"rgb(36,36,36)\",\"showbackground\":true,\"showgrid\":false,\"showline\":true,\"ticks\":\"outside\",\"zeroline\":false,\"zerolinecolor\":\"rgb(36,36,36)\"}},\"shapedefaults\":{\"fillcolor\":\"black\",\"line\":{\"width\":0},\"opacity\":0.3},\"ternary\":{\"aaxis\":{\"gridcolor\":\"rgb(232,232,232)\",\"linecolor\":\"rgb(36,36,36)\",\"showgrid\":false,\"showline\":true,\"ticks\":\"outside\"},\"baxis\":{\"gridcolor\":\"rgb(232,232,232)\",\"linecolor\":\"rgb(36,36,36)\",\"showgrid\":false,\"showline\":true,\"ticks\":\"outside\"},\"bgcolor\":\"white\",\"caxis\":{\"gridcolor\":\"rgb(232,232,232)\",\"linecolor\":\"rgb(36,36,36)\",\"showgrid\":false,\"showline\":true,\"ticks\":\"outside\"}},\"title\":{\"x\":0.05},\"xaxis\":{\"automargin\":true,\"gridcolor\":\"rgb(232,232,232)\",\"linecolor\":\"rgb(36,36,36)\",\"showgrid\":false,\"showline\":true,\"ticks\":\"outside\",\"title\":{\"standoff\":15},\"zeroline\":false,\"zerolinecolor\":\"rgb(36,36,36)\"},\"yaxis\":{\"automargin\":true,\"gridcolor\":\"rgb(232,232,232)\",\"linecolor\":\"rgb(36,36,36)\",\"showgrid\":false,\"showline\":true,\"ticks\":\"outside\",\"title\":{\"standoff\":15},\"zeroline\":false,\"zerolinecolor\":\"rgb(36,36,36)\"}}},\"shapes\":[{\"line\":{\"color\":\"#CFD8DC\",\"width\":2},\"type\":\"line\",\"x0\":7.371929621696472,\"x1\":7.371929621696472,\"y0\":-6.628431582450867,\"y1\":3.446573281288147},{\"line\":{\"color\":\"#9E9E9E\",\"width\":2},\"type\":\"line\",\"x0\":1.3230180740356445,\"x1\":13.420841169357299,\"y0\":-1.59092915058136,\"y1\":-1.59092915058136}],\"annotations\":[{\"showarrow\":false,\"text\":\"D1\",\"x\":1.3230180740356445,\"y\":-1.59092915058136,\"yshift\":10},{\"showarrow\":false,\"text\":\"D2\",\"x\":7.371929621696472,\"xshift\":10,\"y\":3.446573281288147}],\"title\":{\"font\":{\"size\":22,\"color\":\"Black\"},\"text\":\"\\u003cb\\u003eDocuments and Topics\\u003c\\u002fb\\u003e\",\"x\":0.5,\"xanchor\":\"center\",\"yanchor\":\"top\"},\"width\":1200,\"height\":750,\"xaxis\":{\"visible\":false},\"yaxis\":{\"visible\":false}},                        {\"responsive\": true}                    ).then(function(){\n",
       "                            \n",
       "var gd = document.getElementById('756f88e9-aaf2-4d23-9c44-be8dafc2efb7');\n",
       "var x = new MutationObserver(function (mutations, observer) {{\n",
       "        var display = window.getComputedStyle(gd).display;\n",
       "        if (!display || display === 'none') {{\n",
       "            console.log([gd, 'removed!']);\n",
       "            Plotly.purge(gd);\n",
       "            observer.disconnect();\n",
       "        }}\n",
       "}});\n",
       "\n",
       "// Listen for the removal of the full notebook cells\n",
       "var notebookContainer = gd.closest('#notebook-container');\n",
       "if (notebookContainer) {{\n",
       "    x.observe(notebookContainer, {childList: true});\n",
       "}}\n",
       "\n",
       "// Listen for the clearing of the current output cell\n",
       "var outputEl = gd.closest('.output');\n",
       "if (outputEl) {{\n",
       "    x.observe(outputEl, {childList: true});\n",
       "}}\n",
       "\n",
       "                        })                };                });            </script>        </div>"
      ]
     },
     "metadata": {},
     "output_type": "display_data"
    }
   ],
   "source": [
    "reduced_embeddings = UMAP(n_neighbors=10, n_components=2, min_dist=0.0, metric='cosine').fit_transform(corpus_embeddings)\n",
    "model.visualize_documents(docs, reduced_embeddings=reduced_embeddings)"
   ]
  },
  {
   "cell_type": "code",
   "execution_count": null,
   "metadata": {},
   "outputs": [],
   "source": []
  }
 ],
 "metadata": {
  "language_info": {
   "name": "python"
  }
 },
 "nbformat": 4,
 "nbformat_minor": 2
}
