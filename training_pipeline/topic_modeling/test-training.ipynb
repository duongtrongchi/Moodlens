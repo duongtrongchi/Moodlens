{
 "cells": [
  {
   "cell_type": "code",
   "execution_count": 23,
   "metadata": {},
   "outputs": [],
   "source": [
    "from bertopic import BERTopic\n",
    "\n",
    "# from topic_modeling.training_pipeline import run_training_pipeline\n",
    "from topic_modeling.pipeline import train_umap, get_embeddings\n",
    "from topic_modeling.processing.data_handling import read_data_from_file\n",
    "from topic_modeling.processing.data_processing import delete_none_docs\n",
    "from topic_modeling.config.core import config"
   ]
  },
  {
   "cell_type": "code",
   "execution_count": 48,
   "metadata": {},
   "outputs": [
    {
     "data": {
      "text/html": [
       "<div>\n",
       "<style scoped>\n",
       "    .dataframe tbody tr th:only-of-type {\n",
       "        vertical-align: middle;\n",
       "    }\n",
       "\n",
       "    .dataframe tbody tr th {\n",
       "        vertical-align: top;\n",
       "    }\n",
       "\n",
       "    .dataframe thead th {\n",
       "        text-align: right;\n",
       "    }\n",
       "</style>\n",
       "<table border=\"1\" class=\"dataframe\">\n",
       "  <thead>\n",
       "    <tr style=\"text-align: right;\">\n",
       "      <th></th>\n",
       "      <th>Topic</th>\n",
       "      <th>Count</th>\n",
       "      <th>Name</th>\n",
       "      <th>Representation</th>\n",
       "      <th>Representative_Docs</th>\n",
       "    </tr>\n",
       "  </thead>\n",
       "  <tbody>\n",
       "    <tr>\n",
       "      <th>0</th>\n",
       "      <td>-1</td>\n",
       "      <td>126</td>\n",
       "      <td>-1_growth_work_sales_good</td>\n",
       "      <td>[growth, work, sales, good, working, improveme...</td>\n",
       "      <td>[Without informing ealier. Company drive out c...</td>\n",
       "    </tr>\n",
       "    <tr>\n",
       "      <th>1</th>\n",
       "      <td>0</td>\n",
       "      <td>90</td>\n",
       "      <td>0_dislike_like_ok_na</td>\n",
       "      <td>[dislike, like, ok, na, say, problem, dont, ye...</td>\n",
       "      <td>[Nothing to dislike, Nothing to dislike..., No...</td>\n",
       "    </tr>\n",
       "    <tr>\n",
       "      <th>2</th>\n",
       "      <td>1</td>\n",
       "      <td>61</td>\n",
       "      <td>1_culture_good_company_working</td>\n",
       "      <td>[culture, good, company, working, work, owners...</td>\n",
       "      <td>[Good work culture, Over all good work culture...</td>\n",
       "    </tr>\n",
       "    <tr>\n",
       "      <th>3</th>\n",
       "      <td>2</td>\n",
       "      <td>61</td>\n",
       "      <td>2_bajaj_electricals_electrical_good</td>\n",
       "      <td>[bajaj, electricals, electrical, good, company...</td>\n",
       "      <td>[No your are good job experience for bajaj ele...</td>\n",
       "    </tr>\n",
       "    <tr>\n",
       "      <th>4</th>\n",
       "      <td>3</td>\n",
       "      <td>55</td>\n",
       "      <td>3_company_brand_good_product</td>\n",
       "      <td>[company, brand, good, product, experience, cu...</td>\n",
       "      <td>[Company is good, Over all it's good company.,...</td>\n",
       "    </tr>\n",
       "  </tbody>\n",
       "</table>\n",
       "</div>"
      ],
      "text/plain": [
       "   Topic  Count                                 Name  \\\n",
       "0     -1    126            -1_growth_work_sales_good   \n",
       "1      0     90                 0_dislike_like_ok_na   \n",
       "2      1     61       1_culture_good_company_working   \n",
       "3      2     61  2_bajaj_electricals_electrical_good   \n",
       "4      3     55         3_company_brand_good_product   \n",
       "\n",
       "                                      Representation  \\\n",
       "0  [growth, work, sales, good, working, improveme...   \n",
       "1  [dislike, like, ok, na, say, problem, dont, ye...   \n",
       "2  [culture, good, company, working, work, owners...   \n",
       "3  [bajaj, electricals, electrical, good, company...   \n",
       "4  [company, brand, good, product, experience, cu...   \n",
       "\n",
       "                                 Representative_Docs  \n",
       "0  [Without informing ealier. Company drive out c...  \n",
       "1  [Nothing to dislike, Nothing to dislike..., No...  \n",
       "2  [Good work culture, Over all good work culture...  \n",
       "3  [No your are good job experience for bajaj ele...  \n",
       "4  [Company is good, Over all it's good company.,...  "
      ]
     },
     "execution_count": 48,
     "metadata": {},
     "output_type": "execute_result"
    }
   ],
   "source": [
    "df = read_data_from_file(config.bert_topic_config.training_dataset_name)\n",
    "\n",
    "def predict(user_data):\n",
    "    docs = user_data.text.to_list()\n",
    "    docs = delete_none_docs(docs)\n",
    "\n",
    "    corpus_embeddings = get_embeddings(docs=docs)\n",
    "    reduced_embeddings = train_umap(corpus_embeddings)\n",
    "\n",
    "    model = BERTopic.load(\"/teamspace/studios/this_studio/nlp-hr-feedback/training_pipeline/topic_modeling/topic_modeling/trained_model/bert_topic_modeling_v0.0.0\")\n",
    "\n",
    "    model.fit_transform(docs)\n",
    "\n",
    "    df = model.get_topic_info()\n",
    "\n",
    "    return df\n",
    "\n",
    "\n",
    "result = predict(df)\n",
    "result.head()"
   ]
  },
  {
   "cell_type": "code",
   "execution_count": null,
   "metadata": {},
   "outputs": [],
   "source": []
  },
  {
   "cell_type": "code",
   "execution_count": null,
   "metadata": {},
   "outputs": [],
   "source": []
  },
  {
   "cell_type": "code",
   "execution_count": null,
   "metadata": {},
   "outputs": [],
   "source": []
  },
  {
   "cell_type": "code",
   "execution_count": null,
   "metadata": {},
   "outputs": [],
   "source": []
  },
  {
   "cell_type": "code",
   "execution_count": null,
   "metadata": {},
   "outputs": [],
   "source": []
  },
  {
   "cell_type": "code",
   "execution_count": 34,
   "metadata": {},
   "outputs": [
    {
     "data": {
      "text/plain": [
       "500"
      ]
     },
     "execution_count": 34,
     "metadata": {},
     "output_type": "execute_result"
    }
   ],
   "source": [
    "df = read_data_from_file(config.bert_topic_config.training_dataset_name)\n",
    "\n",
    "docs = df.text.to_list()\n",
    "docs = delete_none_docs(docs)[:500]\n",
    "len(docs)\n"
   ]
  },
  {
   "cell_type": "code",
   "execution_count": 35,
   "metadata": {},
   "outputs": [],
   "source": [
    "corpus_embeddings = get_embeddings(docs=docs)\n",
    "reduced_embeddings = train_umap(corpus_embeddings)"
   ]
  },
  {
   "cell_type": "code",
   "execution_count": 36,
   "metadata": {},
   "outputs": [],
   "source": [
    "from bertopic import BERTopic\n",
    "model = BERTopic.load(\"/teamspace/studios/this_studio/nlp-hr-feedback/training_pipeline/topic_modeling/topic_modeling/trained_model/bert_topic_modeling_v0.0.0\")"
   ]
  },
  {
   "cell_type": "code",
   "execution_count": 37,
   "metadata": {},
   "outputs": [],
   "source": [
    "\n",
    "# https://github.com/MaartenGr/BERTopic/issues/278\n",
    "topics, probabilities = model.fit_transform(docs)"
   ]
  },
  {
   "cell_type": "code",
   "execution_count": 40,
   "metadata": {},
   "outputs": [],
   "source": [
    "df = model.get_topic_info()"
   ]
  },
  {
   "cell_type": "code",
   "execution_count": 44,
   "metadata": {},
   "outputs": [
    {
     "data": {
      "text/html": [
       "<div>\n",
       "<style scoped>\n",
       "    .dataframe tbody tr th:only-of-type {\n",
       "        vertical-align: middle;\n",
       "    }\n",
       "\n",
       "    .dataframe tbody tr th {\n",
       "        vertical-align: top;\n",
       "    }\n",
       "\n",
       "    .dataframe thead th {\n",
       "        text-align: right;\n",
       "    }\n",
       "</style>\n",
       "<table border=\"1\" class=\"dataframe\">\n",
       "  <thead>\n",
       "    <tr style=\"text-align: right;\">\n",
       "      <th></th>\n",
       "      <th>Topic</th>\n",
       "      <th>Count</th>\n",
       "      <th>Name</th>\n",
       "      <th>Representation</th>\n",
       "      <th>Representative_Docs</th>\n",
       "    </tr>\n",
       "  </thead>\n",
       "  <tbody>\n",
       "    <tr>\n",
       "      <th>0</th>\n",
       "      <td>-1</td>\n",
       "      <td>100</td>\n",
       "      <td>-1_work_job_new_pressure</td>\n",
       "      <td>[work, job, new, pressure, company, life, time...</td>\n",
       "      <td>[No proper system to work. lot of bureaucracy....</td>\n",
       "    </tr>\n",
       "    <tr>\n",
       "      <th>1</th>\n",
       "      <td>0</td>\n",
       "      <td>133</td>\n",
       "      <td>0_culture_good_company_work</td>\n",
       "      <td>[culture, good, company, work, working, enviro...</td>\n",
       "      <td>[Work culture is not that good, Over all good ...</td>\n",
       "    </tr>\n",
       "    <tr>\n",
       "      <th>2</th>\n",
       "      <td>1</td>\n",
       "      <td>73</td>\n",
       "      <td>1_dislike_like_na_ok</td>\n",
       "      <td>[dislike, like, na, ok, say, yes, problem, goo...</td>\n",
       "      <td>[Nothing to dislike..., Nothing to dislike abo...</td>\n",
       "    </tr>\n",
       "    <tr>\n",
       "      <th>3</th>\n",
       "      <td>2</td>\n",
       "      <td>49</td>\n",
       "      <td>2_bajaj_electricals_electrical_good</td>\n",
       "      <td>[bajaj, electricals, electrical, good, company...</td>\n",
       "      <td>[Bajaj working culture very good,, No your are...</td>\n",
       "    </tr>\n",
       "    <tr>\n",
       "      <th>4</th>\n",
       "      <td>3</td>\n",
       "      <td>38</td>\n",
       "      <td>3_salary_benefits_time_timing</td>\n",
       "      <td>[salary, benefits, time, timing, timely, growt...</td>\n",
       "      <td>[Only Salary on time., Salary in time, Only th...</td>\n",
       "    </tr>\n",
       "  </tbody>\n",
       "</table>\n",
       "</div>"
      ],
      "text/plain": [
       "   Topic  Count                                 Name  \\\n",
       "0     -1    100             -1_work_job_new_pressure   \n",
       "1      0    133          0_culture_good_company_work   \n",
       "2      1     73                 1_dislike_like_na_ok   \n",
       "3      2     49  2_bajaj_electricals_electrical_good   \n",
       "4      3     38        3_salary_benefits_time_timing   \n",
       "\n",
       "                                      Representation  \\\n",
       "0  [work, job, new, pressure, company, life, time...   \n",
       "1  [culture, good, company, work, working, enviro...   \n",
       "2  [dislike, like, na, ok, say, yes, problem, goo...   \n",
       "3  [bajaj, electricals, electrical, good, company...   \n",
       "4  [salary, benefits, time, timing, timely, growt...   \n",
       "\n",
       "                                 Representative_Docs  \n",
       "0  [No proper system to work. lot of bureaucracy....  \n",
       "1  [Work culture is not that good, Over all good ...  \n",
       "2  [Nothing to dislike..., Nothing to dislike abo...  \n",
       "3  [Bajaj working culture very good,, No your are...  \n",
       "4  [Only Salary on time., Salary in time, Only th...  "
      ]
     },
     "execution_count": 44,
     "metadata": {},
     "output_type": "execute_result"
    }
   ],
   "source": [
    "df.head()"
   ]
  },
  {
   "cell_type": "code",
   "execution_count": 39,
   "metadata": {},
   "outputs": [
    {
     "data": {
      "application/vnd.plotly.v1+json": {
       "config": {
        "plotlyServerURL": "https://plot.ly"
       },
       "data": [
        {
         "hoverinfo": "text",
         "hovertext": [
          "RREP  CONCEPT",
          "Skills development and opportunities to work on new projects",
          "Company strategy not in current market",
          "Since the management team + manager puts you on fire & expect smooth project delivery and due to high work pressure an individual can learn or upgrade skills on the job or can take as opportunity to upgrade skills but no special training or efforts would be their from organization",
          "- Switching to modern culture from Lala - culture\n- Salaries are good and competitive\n- Work life balance is promoted",
          "Office and site work",
          "All is well but job security not wellm",
          "Working culture and no promotion and appreciation for offrole",
          "80 year old company working as new startup",
          "Not Proper Planning site Work.",
          "New improvement in plant infracture and in product also.",
          "Learning & growth opportunities",
          "Force fully taken resignation",
          "Presently its good time to work their...I got nice experience...there are good senior support...& well management.but appourtunity to make carrier in growth is very low....theirs incentive parameters are not well...& policy to pay incentives is very slow... Actually this policy harraze the dso",
          "Flexible in time",
          "Compeny is good  staff not good",
          "Cross functional meetings are required to understand and discuss each other which helps organisational growth",
          "Flexi timing\nCulture is not toxic",
          "i don't like to talk while working",
          "Anytime you will fired\nToo much work pressure\nNo family or personal life\nCompany expecting work even after official hour...\nEvery person loded\nJob starts at 7 am and no end till u sleep\nSometimes 3 am or 4 \nGodfather ranking\nEvery person is equal judge... Apart of load distribution\nAnytime asked to change your city",
          "Sometime U can face different issues bad experience with customers",
          "Provides training from development of new skills as per markets required.",
          "Don't join this company because there have not good culture for logistics.\nYou will have to work over there too much time but no holiday no weak off and if you have medical issues it's your problem no leave will provide you by company.\nI had joined in this company it's my biggest mistake in my life.",
          "Perks and benifit",
          "Food quality is not good at cafe",
          "Job security poor",
          "Transparency, leadership",
          "Work environment",
          "Holiday little bit lower than national holiday",
          "Seniors are good teammates are very supporting .",
          "This work is easy but not easy this filling upload",
          "display & Marchantdizing",
          "Experience and collect knowledge",
          "Transparency, value system, excellent work environment",
          "Salary\nHeavy work pressure",
          "Nothing to be dislike but need to improve salary and makeup work lode divided",
          "Company System/procedure from In to Out(material conversion)",
          "Wonderful organisation with great culture\nSeniors are very supportive\nManagement is responsive",
          "Job security",
          "Freedom to call anyone across organisation",
          "Job security is not good.",
          "Need to some more improvement",
          "Company is good but company owners are treating people like servants or slave.\nThey do casteism and specially owners wife she think everyone is chor. And she do humiliation with employees who are working with her. \nShe hate maharashtrian, Muslims and Christian. And always say pata nahi kaha se bhukhe nange AA jate hai mere yaha kaamkarne\nPlz don't join this company if you get job opportunity to work with owners specifically with owners wife....Read More",
          "This Rating for offroll candidates.\nBut,I personally don't like offroll jobs.",
          "Men power remove",
          "Fill like own faimaly.",
          "Like but staff no like",
          "There was no innovation and only office politics. The upper management is corrupt and only favours who treat the bosses well.",
          "Learnings\nWork Freedom",
          "Great Management Vision",
          "Community,food,no travel support",
          "Work culture, appraisal process, TA/DA, no work life balance",
          "Processes not yet streamline",
          "Lot of pressure",
          "There is no future working security",
          "smoking hard working",
          "Manual work still continue in some sector  .Required atomisation .",
          "No job certainty",
          "Lots of hierarchy, politics and work life balance is zero. Not paying vendors on time and no one to listen the problem. To avoid payment to vendors they made false accusation and employee will be at receiving end. No support from any one from the organization. The day you resign they create life and mental peace havoc. Avoid joining.",
          "My all senior sir is Nature is to good he is always motivate",
          "Each and every new project is urgent from the time it's started only for a specific department.\nUnrealistic time lines are given.\nPay dispersion is not fair.\nMarketing is never clear about what they exactly want. \nUnwanted pressure is created only on one department regardless of who is responsible for the delay in project.",
          "Communication between department",
          "Company switched the cnf to lala company A one marketing that was very bad experience of my life\nVinay jalan was the owner of the company of a one marketing and he is very rude person and always abuse to everyone",
          "Great & proud",
          "Partiality with employee.",
          "Supporting from senior",
          "Job safety",
          "Old employee without information out of job.",
          "Growth is not as desirable",
          "Because all criteria is good and company profile is good ,\nWork satification",
          "Without informing ealier. Company drive out confirmed employees within a month. Neither they are giving proper reason for termination nor consider the notice period of 3 months. Employees giving resignation are bound to complete 3 months notice period whenever they have jobs. But terminated employees are dropped out within a month without any proper reason. The employee who has completed all the assigned projects on time perfectly was rated as inadequate performance and terminated. Whenever the company has the performance improvement plan    (PIP) policy for under-rated performance, but they don't follow their own policy....disgusting.......Read More",
          "Not focusing on new categories",
          "Nothing ....as time changes and work.pressure is same for all the companies.",
          "Labour registration entry as a project working contractor.",
          "Pressure of working while a employee is on leave.",
          "Discuss in previous box",
          "For carrier growth only performance is not enough one should have very good terms with superiors apart from boss/ Client etc.",
          "No proper system to work. lot of bureaucracy. Too much work pressure . No work life balance",
          "Everything is dislike\n1 there is not a fix date of salary credentials of offrole employees.\n2 Your HR of your consultant are not responding when you have a query he just say as Bajaj said to him.\n3 No overtime or holidays will pay to you because you are offrole employee.\n4 There have no culture here Bajaj employee treats you like a labour.",
          "Freedom for any work you want to do .",
          "Culture\nWork life balance\nSalary and perks\nAnnual Increment\nGrowth Opportunities",
          "Flexible time for staff",
          "Supportive and coordination",
          "Only skill development is good.",
          "Increment is not proper",
          "Job is not secure.",
          "Proud",
          "Point settlement",
          "RREP PRODUCT SALES EACH PRIce",
          "Execution staff is helpful",
          "Research",
          "My reporting manager was so motivated that’s why I stayed 6 month",
          "Presence of Union at workplace.",
          "Supportive Boss and easy accessibility to Higher officials.",
          "1980 process , all hard paper work, No paperless work, SAP utilization is completely useless,  Huge difference between physical vs system data. \nNo recreation, excess manpower, Lack of leadership motivation, Mental harassment.\nDue to above all new joinee are leaving within 1-6 months",
          "Learnings new things and apply",
          "Office timing is flexible",
          "Food",
          "Low travelling allowance",
          "Freedom to implement new ideas , Encouragement if you have potential, Good salary Increment if you have potential",
          null
         ],
         "marker": {
          "color": "#CFD8DC",
          "opacity": 0.5,
          "size": 5
         },
         "mode": "markers+text",
         "name": "other",
         "showlegend": false,
         "type": "scattergl",
         "x": [
          9.444501876831055,
          8.253362655639648,
          8.625415802001953,
          8.37809944152832,
          7.352116107940674,
          7.232480049133301,
          11.46285629272461,
          9.624598503112793,
          10.372793197631836,
          8.53546142578125,
          7.2788310050964355,
          8.261749267578125,
          9.679237365722656,
          10.265059471130371,
          9.872955322265625,
          9.52772331237793,
          8.03356647491455,
          9.917447090148926,
          7.484408855438232,
          9.393448829650879,
          7.514132022857666,
          8.24975872039795,
          9.659667015075684,
          8.136722564697266,
          7.1560378074646,
          11.49152946472168,
          8.611023902893066,
          7.2706732749938965,
          7.355083465576172,
          7.6872758865356445,
          5.43587589263916,
          7.756435871124268,
          8.135796546936035,
          7.497446537017822,
          9.196081161499023,
          7.7250142097473145,
          9.622163772583008,
          7.668667316436768,
          11.459651947021484,
          8.807433128356934,
          11.474242210388184,
          7.647865295410156,
          6.006954193115234,
          9.857673645019531,
          9.683197975158691,
          5.408897399902344,
          9.523832321166992,
          9.034964561462402,
          8.650494575500488,
          8.674484252929688,
          7.429111003875732,
          8.78625774383545,
          8.085408210754395,
          9.072607040405273,
          11.46682071685791,
          8.621844291687012,
          9.629915237426758,
          11.492842674255371,
          9.685896873474121,
          7.730010509490967,
          9.2871675491333,
          8.73176097869873,
          7.5027008056640625,
          5.916075229644775,
          10.413166046142578,
          7.766901969909668,
          11.41799259185791,
          10.422255516052246,
          10.099376678466797,
          7.694489002227783,
          9.698500633239746,
          8.358595848083496,
          9.322604179382324,
          10.616944313049316,
          9.254121780395508,
          8.074124336242676,
          10.233381271362305,
          9.502030372619629,
          9.784429550170898,
          8.820028305053711,
          7.519725322723389,
          9.871779441833496,
          7.945873260498047,
          8.26049518585205,
          10.752115249633789,
          11.484000205993652,
          5.788095474243164,
          8.072620391845703,
          7.797318935394287,
          9.525359153747559,
          8.199520111083984,
          8.087654113769531,
          10.40900993347168,
          9.076434135437012,
          9.697131156921387,
          8.148619651794434,
          9.914129257202148,
          7.173793792724609,
          7.47723913192749,
          8.846138000488281,
          8.803595542907715
         ],
         "y": [
          -3.5955917835235596,
          -3.213743209838867,
          -3.828822135925293,
          -3.3659729957580566,
          -4.722327709197998,
          -2.846768617630005,
          -3.619922637939453,
          -2.316575050354004,
          -3.947840929031372,
          -2.9866943359375,
          -1.521905541419983,
          -3.053154468536377,
          -2.090839385986328,
          -2.882899761199951,
          -1.3391202688217163,
          -3.29734468460083,
          -3.305492401123047,
          -1.3243809938430786,
          -2.216207504272461,
          -1.6425654888153076,
          -0.5407349467277527,
          -3.188875675201416,
          -2.1822497844696045,
          -2.4794921875,
          -3.920464277267456,
          -3.59378719329834,
          -3.6984219551086426,
          -3.055572509765625,
          -4.510071277618408,
          -3.702597141265869,
          -1.9260320663452148,
          -2.2492775917053223,
          -3.102290391921997,
          -3.0446290969848633,
          -1.6459940671920776,
          -2.2426557540893555,
          -2.944812059402466,
          -3.769138813018799,
          -3.617866277694702,
          -3.1897144317626953,
          -3.6199159622192383,
          -2.126352071762085,
          -4.425019264221191,
          0.3260156214237213,
          -2.9838621616363525,
          -1.9663366079330444,
          -3.322129964828491,
          -4.406569004058838,
          -2.9500370025634766,
          -4.175537109375,
          -4.149064540863037,
          -2.649576425552368,
          -1.5554312467575073,
          -1.5918781757354736,
          -3.613351345062256,
          -1.7214053869247437,
          -2.860262155532837,
          -3.588894844055176,
          -2.116328001022339,
          -3.73225998878479,
          -1.2948983907699585,
          -3.5111308097839355,
          -0.4565470218658447,
          -1.821411371231079,
          -4.08931303024292,
          -3.69465970993042,
          -3.6610360145568848,
          -3.9636147022247314,
          -2.4342637062072754,
          -1.8815994262695312,
          -2.0092551708221436,
          -3.4018282890319824,
          -1.5578129291534424,
          -2.4324324131011963,
          -1.6478708982467651,
          -3.149409770965576,
          -2.8835153579711914,
          -2.7513601779937744,
          -2.195983409881592,
          -2.9707489013671875,
          -4.651050090789795,
          -1.3346772193908691,
          -3.639993906021118,
          -3.2249813079833984,
          -1.4288380146026611,
          -3.63425874710083,
          -1.806079387664795,
          -2.6079771518707275,
          -0.5453677177429199,
          -3.3683178424835205,
          -3.0150325298309326,
          -4.029999732971191,
          -4.0521721839904785,
          -3.5397415161132812,
          -3.141757011413574,
          -3.1658849716186523,
          -1.3191349506378174,
          -3.973383665084839,
          -4.276639461517334,
          -2.8462283611297607,
          -2.8436124324798584
         ]
        },
        {
         "hoverinfo": "text",
         "hovertext": [
          "Very good working environment",
          "Very nice and helpful atmosphere in office.",
          "Good for working",
          "Company culture is good. Aggressively working in gender diversity",
          "I've been working a lot here, the employees make a lot of effort in learning, the culture here is supportive, I love this company",
          "Quaterly meets in a year about new products launching & sharing details of the new products through online or offline mode.Weekend saturday meets sharing feedback and analyzing market to promote & growth our sales activity with company area sales manager and distributor manager. Weekly market visiting and taking orders from retailers.",
          "Culture and management",
          "The Culture of company.",
          "6 days working Not",
          "Working Culture",
          "Good culture in company",
          "Job responsibilities and working Culture",
          "Best company",
          "Great place to work",
          "working culture,behavior, work life balance,job security,Promotion in every life is terrible.",
          "Quality of products development",
          "No uniform companies",
          "Good and excellent work",
          "Very good super exipirens very nice\nI am also happy job",
          "I am enjoying my work and time to time seft updates learning.",
          "Working culture",
          "Because i am unemployed",
          "Working place is good and i learn more from this work place thank you",
          "Over all good work culture",
          "Best quality and Service proper",
          "nice experience and gud organization",
          "Hight management Discrimination culture.",
          "Descipline and Friendly Atmosphere",
          "Company culture i like",
          "overall good performance of company.",
          "Most popular branded company in India.",
          "The company culture is toxic. Not progressive (even though they show they are). Petty managers, narrow minded approach, micromanagement. No scope for growth.",
          "Best company for working",
          "Good environment in past that should be continue I'm future also.",
          "Company Culture is too Good.Peoples in Company too good.",
          "Brand name",
          "Work culture is very good",
          "Good company ,good work culture",
          "To do culture in worst time",
          "Lot of process to complete one task",
          "SOP follow",
          "Good Experience",
          "Good communication and work is good",
          "Company Culture .........",
          "Well reputed brand with lots of opportunities and professional culture",
          "Over all it's good company.",
          "Good traditional culture oriented company.",
          "Good work culture",
          "Highely Terrible Work place",
          "Our th is so coprative",
          "Team Work is appreciable and fine.",
          "First name culture",
          "Average place to work",
          "Work culture\nTeam management\nEqual opportunity",
          "Company culture",
          "Task  is well defined in system .\nExcellent company to work .",
          "Company is good",
          "all days working,no process",
          "Are you like this company menjment",
          "Liketo Learn how to handle customer service and ther satisfaction.",
          "My dream working with good company",
          "Work culture",
          "Vendor based not good for R&D",
          "Good environment and culture",
          "Good Working Culture",
          "This work is easy",
          "Company is good to work",
          "The work culture create by reporting managers.",
          "Initially the work seems good",
          "Work Culture",
          "Great organisation to work with",
          "Culture is team dependent, owing to weak HR",
          "Office environment is good and upper management support is good",
          "Quite comfortable",
          "Culture, Not employee focused",
          "Great work culture",
          "Good team culture, working environment is good",
          "Distibuter behaviour and language is very bad",
          "Good but culture is changing",
          "The infrastructure and inclusive culture",
          "Really good for high performers. Culture is good in R&D.",
          "Office long distance",
          "Everything is Fantastic. overall great experience…",
          "Very big brand, salary structure one of the best in industry.",
          "Culture, environment and policies are not condusive",
          "BEL is an good company and also treating well",
          "Working culture is good",
          "Health Environment.",
          "Company is very good, good and benefits",
          "Its good to work here...",
          "No I am Like Working",
          "Yes very good job",
          "Client Billing\nOffice liabilities for all Documents/paper Mainy& Expenses,as office work.\nI have provided service as a Control of third party stoff,Suport, Arrangment,Parking, environmental problems etc.",
          "Work culture. Office setup",
          "Excellent organisation in terms of skill development learning,process orientation\nWorking with Sop",
          "Work culture & professional growth",
          "Good working  with enjoy & suportable team",
          "Location of plant",
          "Good work environment and culture.teammates are supportive and management is transparent.thereis a huge cafeteria anad gaming arcade for chilling.compamy policies are good assraisals are fair the good salary hike and bonus every year",
          "Very good company 👍",
          "Good communication skills I have learned from CRM",
          "You can develop your work skill and communication with different people.... How to talk and how to deal.....",
          "Support me at the time of maternity",
          "Company culture,work satisfaction skills development",
          "Any good doing",
          "None at all its good working atmosphere",
          "Good culture",
          "Nothing to like there are much better companies",
          "Culture is good here. People care for each other",
          "All type sales to service",
          "- No tech-innovative approach in products\n- lagging behind other competitors",
          "Great Working Culture and Supporting staff",
          "Great place to work except the office location",
          "Work culture is not that good",
          "Good Product",
          "System is not there",
          "Work Clutter is good",
          "Company Culture is good.",
          "Loved to work in this company, excellent platform to excel your skills.",
          "If you want to work they will load you will work",
          "Product and services are good",
          "5 days working",
          "Product range is good.",
          "Established Brands and Structured and organised working system.\nMarket leader in most of the categories.\nIf reporting boss is good, then company is a heaven to work.",
          "If environment atmosphere good",
          "Nice to work...",
          "Product range",
          "Very god company",
          "Too much professionalism",
          "Good Company to work",
          "Working on Weekend. (Saturday & Sunday is off.)",
          "Highly accepted Brand in India, most of senior and colleges are very friendly.",
          "Overall Good place to work.",
          null
         ],
         "marker": {
          "opacity": 0.5,
          "size": 5
         },
         "mode": "markers+text",
         "name": "0_culture_good_company",
         "text": [
          "",
          "",
          "",
          "",
          "",
          "",
          "",
          "",
          "",
          "",
          "",
          "",
          "",
          "",
          "",
          "",
          "",
          "",
          "",
          "",
          "",
          "",
          "",
          "",
          "",
          "",
          "",
          "",
          "",
          "",
          "",
          "",
          "",
          "",
          "",
          "",
          "",
          "",
          "",
          "",
          "",
          "",
          "",
          "",
          "",
          "",
          "",
          "",
          "",
          "",
          "",
          "",
          "",
          "",
          "",
          "",
          "",
          "",
          "",
          "",
          "",
          "",
          "",
          "",
          "",
          "",
          "",
          "",
          "",
          "",
          "",
          "",
          "",
          "",
          "",
          "",
          "",
          "",
          "",
          "",
          "",
          "",
          "",
          "",
          "",
          "",
          "",
          "",
          "",
          "",
          "",
          "",
          "",
          "",
          "",
          "",
          "",
          "",
          "",
          "",
          "",
          "",
          "",
          "",
          "",
          "",
          "",
          "",
          "",
          "",
          "",
          "",
          "",
          "",
          "",
          "",
          "",
          "",
          "",
          "",
          "",
          "",
          "",
          "",
          "",
          "",
          "",
          "",
          "",
          "",
          "",
          "",
          "",
          "0_culture_good_company"
         ],
         "textfont": {
          "size": 12
         },
         "type": "scattergl",
         "x": [
          6.893060207366943,
          6.842896461486816,
          6.998382091522217,
          6.179282188415527,
          6.726554870605469,
          8.053364753723145,
          6.49746036529541,
          6.270472049713135,
          8.07470989227295,
          7.044740676879883,
          6.245207786560059,
          7.082728862762451,
          6.742791175842285,
          6.657682418823242,
          9.041382789611816,
          7.217843532562256,
          6.753236293792725,
          5.9226484298706055,
          6.097442626953125,
          7.610073566436768,
          7.123754024505615,
          7.6747145652771,
          6.705363750457764,
          6.909207344055176,
          7.173192024230957,
          6.55405330657959,
          6.843721389770508,
          6.837256908416748,
          6.207825660705566,
          6.912815093994141,
          6.836511135101318,
          6.16827917098999,
          6.914101600646973,
          6.773935317993164,
          6.129718780517578,
          6.812591075897217,
          6.792083740234375,
          6.694544792175293,
          6.396407127380371,
          7.978854656219482,
          6.920563220977783,
          6.29160213470459,
          7.18571662902832,
          6.213397979736328,
          6.894268035888672,
          6.899282455444336,
          6.161107063293457,
          6.835701942443848,
          6.645557880401611,
          6.763756275177002,
          7.060813903808594,
          6.244710922241211,
          6.677367210388184,
          6.881270408630371,
          6.231535911560059,
          7.231766223907471,
          6.912601947784424,
          8.061478614807129,
          6.90679407119751,
          7.4607954025268555,
          6.987229824066162,
          7.088237762451172,
          7.203344345092773,
          6.661129474639893,
          6.756974697113037,
          5.583334922790527,
          7.044137954711914,
          7.189568042755127,
          6.531883239746094,
          7.138952255249023,
          6.8381547927856445,
          6.841454982757568,
          7.188436508178711,
          6.785458087921143,
          6.942431926727295,
          6.8799004554748535,
          6.861337184906006,
          6.463209629058838,
          6.5037760734558105,
          7.0804266929626465,
          6.595175266265869,
          7.0814337730407715,
          6.164468765258789,
          6.889816761016846,
          6.643492698669434,
          6.895395278930664,
          6.804945945739746,
          6.997454643249512,
          6.884223461151123,
          6.537264823913574,
          7.361586570739746,
          5.940435409545898,
          7.419427871704102,
          7.171480178833008,
          6.854186058044434,
          7.238397121429443,
          7.0648417472839355,
          6.719173431396484,
          6.863494873046875,
          6.637560844421387,
          7.400929927825928,
          7.52321720123291,
          8.609419822692871,
          7.128035068511963,
          5.859376430511475,
          6.863570690155029,
          6.547931671142578,
          6.766625881195068,
          6.569904327392578,
          7.357258319854736,
          7.639172077178955,
          6.94888973236084,
          6.7147016525268555,
          6.988887310028076,
          6.157018184661865,
          8.085205078125,
          7.066745281219482,
          6.198527812957764,
          6.755154132843018,
          7.666452407836914,
          7.238266468048096,
          8.097671508789062,
          7.294229984283447,
          6.886335849761963,
          6.820330619812012,
          6.389930725097656,
          7.358709335327148,
          6.685981273651123,
          7.083884239196777,
          6.8178629875183105,
          8.130789756774902,
          6.843364238739014,
          6.700068473815918,
          6.9052557945251465
         ],
         "y": [
          -3.0755796432495117,
          -3.0604588985443115,
          -2.237490653991699,
          -4.745283603668213,
          -3.8475406169891357,
          -1.0816056728363037,
          -4.910934925079346,
          -4.831979751586914,
          -1.521531343460083,
          -5.044108867645264,
          -4.644067287445068,
          -5.017980575561523,
          -1.475176215171814,
          -2.5069029331207275,
          -2.827479124069214,
          -0.8431487679481506,
          -1.5944074392318726,
          -1.8102397918701172,
          -1.7408344745635986,
          -3.1409759521484375,
          -4.962100505828857,
          -1.8826913833618164,
          -2.5723979473114014,
          -4.527204990386963,
          -0.8675802946090698,
          -1.9866420030593872,
          -5.000941276550293,
          -3.2657878398895264,
          -4.748405933380127,
          -1.4966983795166016,
          -0.9287305474281311,
          -4.781210422515869,
          -1.5451228618621826,
          -3.498342514038086,
          -4.713339328765869,
          -0.9553096294403076,
          -4.389738082885742,
          -3.9234488010406494,
          -4.499086856842041,
          -1.5844168663024902,
          -2.0200772285461426,
          -1.9483784437179565,
          -3.5373966693878174,
          -4.830258846282959,
          -0.9174099564552307,
          -1.4877586364746094,
          -4.687065601348877,
          -4.399020195007324,
          -2.522306442260742,
          -4.39232063293457,
          -3.67113995552063,
          -4.593072891235352,
          -2.5114965438842773,
          -4.90672492980957,
          -4.7737884521484375,
          -1.8862261772155762,
          -1.5317939519882202,
          -1.5418590307235718,
          -1.590680718421936,
          -0.6057896614074707,
          -1.7256381511688232,
          -4.949460506439209,
          -0.8078919649124146,
          -3.756200075149536,
          -4.387714385986328,
          -2.0153846740722656,
          -1.867145299911499,
          -4.8789472579956055,
          -2.3116395473480225,
          -4.912583827972412,
          -1.8844950199127197,
          -4.890359878540039,
          -3.085705280303955,
          -3.021923542022705,
          -4.953688621520996,
          -4.436756610870361,
          -3.9261410236358643,
          -4.215493202209473,
          -4.312145709991455,
          -4.964503765106201,
          -4.438353538513184,
          -2.7335333824157715,
          -1.8250688314437866,
          -1.017332673072815,
          -4.690982818603516,
          -1.499419093132019,
          -4.336410999298096,
          -3.2915427684783936,
          -1.5545684099197388,
          -2.311213970184326,
          -2.0762178897857666,
          -1.810422658920288,
          -0.7572809457778931,
          -4.854334831237793,
          -1.965685248374939,
          -4.887151718139648,
          -3.645678758621216,
          -2.4948623180389404,
          -3.9016289710998535,
          -1.568912386894226,
          -3.414848566055298,
          -3.2438390254974365,
          -1.9872833490371704,
          -5.05553674697876,
          -1.925947666168213,
          -3.1611318588256836,
          -4.381053447723389,
          -1.5528696775436401,
          -4.430617332458496,
          -0.7514400482177734,
          -0.700452446937561,
          -4.2433905601501465,
          -2.5455284118652344,
          -4.800343036651611,
          -1.6872718334197998,
          -1.5792186260223389,
          -2.3964829444885254,
          -4.708181381225586,
          -1.7181288003921509,
          -1.7243741750717163,
          -0.829146683216095,
          -1.4943791627883911,
          -0.7493059635162354,
          -1.3360674381256104,
          -3.275167226791382,
          -2.311373233795166,
          -0.6776242852210999,
          -1.5285052061080933,
          -4.702583312988281,
          -1.6847022771835327,
          -1.404170036315918,
          -0.9182969927787781,
          -2.517627716064453,
          -2.908592700958252
         ]
        },
        {
         "hoverinfo": "text",
         "hovertext": [
          "Very impacts full",
          "No comment",
          "Everything",
          "NA NA NA NA NA",
          "Nothing much",
          "i didnt like any thing in this organization",
          "Everything likes",
          "gfsvfsegre",
          "Nothing specifically to say here",
          "No reason",
          "No dislikes",
          "I like  my name is oriyomi omonla",
          "NO",
          "No more",
          "Yas",
          "Yes like, I am interested",
          "Super",
          "Nothings all is good Ok",
          "I don't like TVs",
          "All best",
          "No reason all best",
          "All Is Good",
          "Like But Not Good",
          "Nothing to dislike...",
          "Perfectly ok this working",
          "Not good for you to come",
          "No issue",
          "No problem",
          "All ok only investment required",
          "Nothing to say anything",
          "Nothing to like",
          "No dislike",
          "Nothing to feel bad about",
          "Worst",
          "Not any problem",
          "Nothing specificly bad to share",
          "Heartache",
          "All correct",
          "No anything",
          "Nothing specificly great to share",
          "Nothing to dislike in the organization",
          "All good",
          "No anything dislike",
          "no problem at all the best",
          "No specific dis like at this",
          "Good",
          "Yes",
          "Nothing to dislike",
          "Not applicable",
          "No 3fg\nOnly side",
          "Nothing as such",
          "No",
          "Nothing much to say",
          "Nothing to say",
          "None None None None None",
          "Nothing like",
          "Nothing for Dislike",
          "I feel there is Nothing as such currently",
          "Nothing to dislike ke",
          "No Issue",
          "Not at all",
          "Nothing good to say",
          "All",
          "Yes I like . good behavior",
          "there is nothing to dislike",
          "Nothing to dislike about",
          "No, all ok and at good place",
          "Ok",
          "I am interested",
          "Nothing as of now",
          "No Comments",
          "Nothing is dislike",
          "Nothing",
          null
         ],
         "marker": {
          "opacity": 0.5,
          "size": 5
         },
         "mode": "markers+text",
         "name": "1_dislike_like_na",
         "text": [
          "",
          "",
          "",
          "",
          "",
          "",
          "",
          "",
          "",
          "",
          "",
          "",
          "",
          "",
          "",
          "",
          "",
          "",
          "",
          "",
          "",
          "",
          "",
          "",
          "",
          "",
          "",
          "",
          "",
          "",
          "",
          "",
          "",
          "",
          "",
          "",
          "",
          "",
          "",
          "",
          "",
          "",
          "",
          "",
          "",
          "",
          "",
          "",
          "",
          "",
          "",
          "",
          "",
          "",
          "",
          "",
          "",
          "",
          "",
          "",
          "",
          "",
          "",
          "",
          "",
          "",
          "",
          "",
          "",
          "",
          "",
          "",
          "",
          "1_dislike_like_na"
         ],
         "textfont": {
          "size": 12
         },
         "type": "scattergl",
         "x": [
          3.3371152877807617,
          3.1613316535949707,
          3.3058218955993652,
          3.087775945663452,
          3.2819418907165527,
          2.1533255577087402,
          2.718207359313965,
          4.216556549072266,
          2.838550090789795,
          3.2196507453918457,
          2.193932056427002,
          5.763565540313721,
          3.4910058975219727,
          3.169576644897461,
          3.699824571609497,
          3.4411962032318115,
          3.8176772594451904,
          3.7024848461151123,
          2.1640570163726807,
          3.928424596786499,
          3.2274162769317627,
          4.104295253753662,
          2.839348077774048,
          2.2112298011779785,
          4.1579999923706055,
          3.6270782947540283,
          4.167079925537109,
          4.146700382232666,
          3.9270918369293213,
          2.944627523422241,
          2.7363874912261963,
          2.221144437789917,
          2.5465610027313232,
          3.7891297340393066,
          4.172733783721924,
          2.785414218902588,
          2.9418418407440186,
          4.056234359741211,
          3.2665138244628906,
          2.8929011821746826,
          2.137324333190918,
          4.090872287750244,
          2.2383358478546143,
          4.167537212371826,
          2.8026931285858154,
          3.8528294563293457,
          3.527165412902832,
          2.2076916694641113,
          9.192691802978516,
          3.6242499351501465,
          3.1678268909454346,
          3.4414703845977783,
          2.9267120361328125,
          2.952528476715088,
          3.2094333171844482,
          2.9100966453552246,
          2.24558687210083,
          3.318025827407837,
          2.209345579147339,
          4.185939311981201,
          3.571209669113159,
          2.9725489616394043,
          3.808943510055542,
          2.563544750213623,
          2.178542375564575,
          2.2285993099212646,
          3.6663639545440674,
          3.8035621643066406,
          3.5184326171875,
          3.2321627140045166,
          3.029167652130127,
          2.1962199211120605,
          3.203484535217285,
          3.3128068447113037
         ],
         "y": [
          -2.0174994468688965,
          -1.8893402814865112,
          -1.91981840133667,
          -1.7170168161392212,
          -1.9880801439285278,
          -1.9765750169754028,
          -1.8708977699279785,
          -1.4348804950714111,
          -2.0350823402404785,
          -1.4886970520019531,
          -1.9619964361190796,
          -4.378049850463867,
          -1.1950769424438477,
          -1.716052770614624,
          -1.2498269081115723,
          -1.0716509819030762,
          -1.4037890434265137,
          -1.6532102823257446,
          -1.9529829025268555,
          -1.331150770187378,
          -1.479284644126892,
          -1.3509820699691772,
          -1.6315891742706299,
          -1.9603341817855835,
          -1.2723718881607056,
          -1.345275640487671,
          -1.1010833978652954,
          -1.1236457824707031,
          -1.5855814218521118,
          -2.0997767448425293,
          -1.8729740381240845,
          -1.9507886171340942,
          -1.8195528984069824,
          -1.3826210498809814,
          -1.1027477979660034,
          -1.9351081848144531,
          -1.7472081184387207,
          -1.1679916381835938,
          -1.848427653312683,
          -1.9503318071365356,
          -2.016674041748047,
          -1.166633129119873,
          -1.9249955415725708,
          -1.0946593284606934,
          -1.9574599266052246,
          -1.199263095855713,
          -1.1218152046203613,
          -1.9438477754592896,
          0.35449516773223877,
          -1.7284152507781982,
          -1.9070796966552734,
          -1.1663761138916016,
          -2.113212823867798,
          -2.089946985244751,
          -1.8292158842086792,
          -1.9016319513320923,
          -2.0282418727874756,
          -1.799758791923523,
          -1.964208722114563,
          -1.085943579673767,
          -1.5149425268173218,
          -2.1126108169555664,
          -1.3981260061264038,
          -1.5880049467086792,
          -1.9590681791305542,
          -1.9500011205673218,
          -1.5314383506774902,
          -1.1538281440734863,
          -1.1378657817840576,
          -1.8863248825073242,
          -2.0299417972564697,
          -1.9775822162628174,
          -1.9332475662231445,
          -1.6690030097961426
         ]
        },
        {
         "hoverinfo": "text",
         "hovertext": [
          "Bajaj appliances company is a fake brand and value of all market because every one know company just fake commitment not give a salary to employes my 2 month salary r not given i am very frusted",
          "Bajaj appliances is a cheter company they r never give a salary they have working simple mantra 2 or 3 month they r giving only assurity but not give a salary after 2 or 3 month again hire a new employe",
          "Good experience i  think I'm good working any chance I'm come back Bajaj Electricals and finance",
          "Bajaj Electrical Canteen Is Worse....",
          "Good atmosphere bajaj group .",
          "Heard that bajaj culture was good but same time few employees are not satisfied because of uper management keep on changing and they are applying their rules",
          "Market value good and retailers demands all products by Bajaj electricals",
          "Bajaj working culture very good,",
          "Working ka koi time nahi hain",
          "No words tell about bajaj electricals Ltd.",
          "Bajaj electricals Directly not given by Dso payment and incentives",
          "SM tarchar  Anil Guggila he is doing \nUse and throw ...",
          "All Bajaj staffs are good \nSajid sir\nSatish sir\nBrijesh sir",
          "Bajaj is good company. if your boss is good then everything is fine",
          "Internal Politics , every day changing HR policies , compulsion of CSR, No Process & Documentation , No ,overall relocation to Navi Mumbai is costly",
          "In Bajaj Electricals we learn more to more and work hard & get good apprisal.",
          "Because im a electric technio",
          "Rahul Dhokale",
          "Bajaj electricals limited is a very good Company .",
          "Our distributor is so mean .he didn't give us our salary in time and didn't give food expense of our",
          "Bajaj working policy is best",
          "Excellent experience for Bajaj electrical",
          "All electrical repairing and waring",
          "Nothing wrong in Bajaj Electricals",
          "Bajaj Electricals is leader in market and work culture is very good.",
          "All DSO work in ground level but there salary is very poor.this is the very dislike matter of Bajaj Electricals.",
          "I have worked with Bajaj approx 3.5 years. Product quality is very poor, after sales service is very poor. My Customer is not satisfied with Bajaj. So I left Bajaj.",
          "Nothing to be disliked in Bajaj",
          "Bajaj Electrical Limited provides opportunities to Candidates to take higher challenges and prove them selves irrespective of their work experiences but based on their performance.",
          "Worst ever experience in Bajajelectricals.",
          "As a company is very good.but I am not a company person.I am in Bajaj in 4 years.I have so many target achieved.But company r not allow me by direct pay roll .I think I will perfect & I hope achieve the promotion as a pay roll of Bajaj Electricals.",
          "Bajaj Electricals is reputed company but some people like RH and other level management is poor very politic .",
          "Bajaj Electricals is good organisation in me and women candidates.",
          "ITI kiya hun electrician trade se kiya hun mera naam Akhilesh hai",
          "Working at Bajaj Electrical very good",
          "Culture at Bajaj is excellent.",
          "Bajaj electricals is best in design",
          "I have not any question to write about dislikes for bajaj electricals.",
          "It is very good thing making and it is name on all india.I am interested in bajaj electrical job.",
          "Work Culture at Bajaj is excellent",
          "All working related electrical project line i like very excelent because i was allrady doing work in bajaj project.",
          "No your are good job experience for bajaj electricals",
          "Mera naam Akhilesh hai",
          "Nothing to say negative about bajaj electricals",
          "U can't develop skills, and too much discrimination, and partiality. Job security is least, if you have any strong recommendation then only u will secure ur job in Bajaj",
          "Prementive maintenance utility mpcb motor star delta",
          "Bajaj is very good company for starting your career",
          "I like work culture of Bajaj electricals",
          "What attracts me the most that In Bajaj Electricals you can work here at any department if you are interested in changing the nature of you job, you can have transfer in marketing you can have transfer at any place in India suitable for you.",
          null
         ],
         "marker": {
          "opacity": 0.5,
          "size": 5
         },
         "mode": "markers+text",
         "name": "2_bajaj_electricals_electrical",
         "text": [
          "",
          "",
          "",
          "",
          "",
          "",
          "",
          "",
          "",
          "",
          "",
          "",
          "",
          "",
          "",
          "",
          "",
          "",
          "",
          "",
          "",
          "",
          "",
          "",
          "",
          "",
          "",
          "",
          "",
          "",
          "",
          "",
          "",
          "",
          "",
          "",
          "",
          "",
          "",
          "",
          "",
          "",
          "",
          "",
          "",
          "",
          "",
          "",
          "",
          "2_bajaj_electricals_electrical"
         ],
         "textfont": {
          "size": 12
         },
         "type": "scattergl",
         "x": [
          7.069095611572266,
          7.049323558807373,
          6.832907199859619,
          6.376476764678955,
          6.824613094329834,
          7.1247992515563965,
          6.556180000305176,
          7.0976152420043945,
          6.439873218536377,
          6.446415901184082,
          6.464263439178467,
          6.410965442657471,
          7.1240458488464355,
          7.110229969024658,
          9.917238235473633,
          6.761226654052734,
          6.861116409301758,
          6.435704231262207,
          6.661099910736084,
          7.1128997802734375,
          7.064464569091797,
          6.60866641998291,
          6.664980411529541,
          6.397594451904297,
          6.980903148651123,
          6.730083465576172,
          7.0466766357421875,
          6.196213245391846,
          6.709271430969238,
          6.285835266113281,
          6.928959846496582,
          6.595078945159912,
          6.891916275024414,
          6.4782304763793945,
          6.781799793243408,
          7.106431484222412,
          6.505691051483154,
          6.351641654968262,
          6.8563714027404785,
          7.15491247177124,
          6.805182933807373,
          6.734196662902832,
          6.408492088317871,
          6.365138530731201,
          7.047293663024902,
          6.627195358276367,
          7.09707498550415,
          6.9536004066467285,
          6.904974460601807,
          6.8154072761535645
         ],
         "y": [
          2.491834878921509,
          2.504286527633667,
          2.4663314819335938,
          2.6721980571746826,
          3.1128904819488525,
          3.0414342880249023,
          2.442020893096924,
          3.0049374103546143,
          1.540409803390503,
          2.7657740116119385,
          2.7776217460632324,
          1.5060443878173828,
          3.043135404586792,
          3.0809311866760254,
          -3.9646613597869873,
          2.556304454803467,
          2.5216007232666016,
          1.5786595344543457,
          2.6873691082000732,
          2.4156389236450195,
          3.054090976715088,
          2.753727912902832,
          2.5545966625213623,
          2.7391836643218994,
          2.7334747314453125,
          2.5755252838134766,
          2.9024484157562256,
          2.801556348800659,
          2.6163182258605957,
          2.618396520614624,
          2.633450746536255,
          2.6035780906677246,
          2.7089359760284424,
          1.660813808441162,
          2.6803932189941406,
          3.0375730991363525,
          2.688673734664917,
          2.722270965576172,
          2.558549165725708,
          3.0101757049560547,
          2.6304492950439453,
          2.44877552986145,
          1.559993863105774,
          2.7742233276367188,
          2.7942280769348145,
          2.7469024658203125,
          2.985142946243286,
          2.669856309890747,
          2.516016960144043,
          2.469879388809204
         ]
        },
        {
         "hoverinfo": "text",
         "hovertext": [
          "Salary Credited to Late Very Month",
          "Not getting increment in salary",
          "Salary and benifits.",
          "Salary increment low",
          "The system regarding salary and other activities through IT is well placed",
          "Like work culture ,salary and expense on time and other benefits",
          "Apart from salary nothing good",
          "Flexible working, good employee welfare, excellent benefits, perfect work life balance",
          "There is a lot of politics and the management dose not address our issue salary is decent but career  growth is slow there is a bond of  two years before which you cannot resing .on the job training is not given to new joinees",
          "Best salary system",
          "Salary structure",
          "Some time apprisal not fact according to emp. Work",
          "good but salary not increase and growth also not there  . and overoll normal",
          "Timing salary",
          "Working in delhi regional branch.....cordial team......salary on time",
          "Salary in time",
          "Good salary, work timing, working culture.",
          "Salary and Other Benefits on time .",
          "Salary and benefits",
          "Salary in time.\nGrowth as per performance.",
          "Timely salary",
          "On time salary, easy approach, work life balance",
          "Offrole employee not good salary and appriseal",
          "Pay structure and benefits are not tax friendly to employees.",
          "Work timeing",
          "Average increment per anual",
          "Very Good salary on time",
          "Work timing not set and salary not in range and without information cutting exta amount in salaries so many resons",
          "Salary growth zero% for contractual staff",
          "The salary may be negotiable if you are the favoured employee of your boss, otherwise, it may be wise to have a backup plan.",
          "Timely Salary & Annual Appraisal, Supportive collegues.",
          "Salary And Benefits",
          "Only the salary part is good",
          "Only Salary on time.",
          "Timely bounded salary and other expenses.",
          "According to me \nThere was not good salary and benefits \nfor any employee",
          "Payroll",
          "Every thing other than salary.",
          null
         ],
         "marker": {
          "opacity": 0.5,
          "size": 5
         },
         "mode": "markers+text",
         "name": "3_salary_benefits_time",
         "text": [
          "",
          "",
          "",
          "",
          "",
          "",
          "",
          "",
          "",
          "",
          "",
          "",
          "",
          "",
          "",
          "",
          "",
          "",
          "",
          "",
          "",
          "",
          "",
          "",
          "",
          "",
          "",
          "",
          "",
          "",
          "",
          "",
          "",
          "",
          "",
          "",
          "",
          "",
          "3_salary_benefits_time"
         ],
         "textfont": {
          "size": 12
         },
         "type": "scattergl",
         "x": [
          10.498985290527344,
          10.790864944458008,
          10.809962272644043,
          10.741676330566406,
          10.78779411315918,
          10.678780555725098,
          10.489398002624512,
          9.607532501220703,
          10.425457954406738,
          10.8148832321167,
          10.830245971679688,
          9.881159782409668,
          10.448453903198242,
          10.374305725097656,
          10.412374496459961,
          10.526177406311035,
          10.46847152709961,
          10.419644355773926,
          10.754012107849121,
          10.568641662597656,
          10.41100025177002,
          10.10207748413086,
          10.111122131347656,
          10.243526458740234,
          9.718914985656738,
          10.792336463928223,
          10.422560691833496,
          10.562082290649414,
          10.691650390625,
          10.373611450195312,
          10.261022567749023,
          10.778839111328125,
          10.445897102355957,
          10.403182029724121,
          10.303255081176758,
          10.417610168457031,
          10.773140907287598,
          10.669720649719238,
          10.4686918258667
         ],
         "y": [
          -1.2709475755691528,
          -1.4566479921340942,
          -2.162508726119995,
          -1.5320712327957153,
          -2.1219136714935303,
          -2.0430760383605957,
          -1.9409059286117554,
          -2.5577445030212402,
          -2.097064256668091,
          -2.081768035888672,
          -2.0258560180664062,
          -1.4095147848129272,
          -2.0137643814086914,
          -1.4075301885604858,
          -1.6066302061080933,
          -1.5503758192062378,
          -1.997746467590332,
          -1.567184567451477,
          -2.1199207305908203,
          -1.6814773082733154,
          -1.2916055917739868,
          -1.6652592420578003,
          -2.176072597503662,
          -2.2140793800354004,
          -1.4552894830703735,
          -1.377426028251648,
          -1.5339436531066895,
          -1.6090039014816284,
          -1.7417187690734863,
          -2.128218173980713,
          -1.3745765686035156,
          -2.145658016204834,
          -2.062506675720215,
          -1.4766439199447632,
          -1.410341739654541,
          -2.102786064147949,
          -2.346189022064209,
          -1.9225280284881592,
          -1.8073290586471558
         ]
        },
        {
         "hoverinfo": "text",
         "hovertext": [
          "Company sales and new product  lunch and help full by achive sales rarget and incentives.",
          "Incentives plan",
          "Reference basis appraisals done in current scenario. If any one links and likes available in effective management.",
          "Promotions not after long time.",
          "Company based incentives & schemes for our target does not transfer by the end of the current month. It takes a lot of time  around 4 /5/6monthes  to be credit on our account.",
          "Personals Relation use for promotion or appraisal not for selected  as per Performance.",
          "Rate problem for market",
          "Not much scope for promotion and increment",
          "Due to off roll employees appraisal is poor.",
          "Promotion in appraisal process is very bad.",
          "Slow promotion",
          "Timely promotion not done.",
          "Timely appraisal but promotions issue",
          "Appraisal is required to be more transparent",
          "No encouragement and acknowledgment of hard work. They won't promote you inhouse",
          "Appraisals & Incentives",
          "Lack of support of management\nBias system on appraisals cycle\nNo 360 degree feedback and poor HR mngt\nLast but not least favouritism works well here",
          "Promotion & increment is good.",
          "No Sales Incentive",
          "Appraisal process",
          "Appraisal politics.  appraisal is only for who do bucketting.",
          "Some of the legacy feature , appraisal process could be transparent",
          "Appraisal should involve HR also. \nHybrid working option. Saturday off.",
          "Company promotion is so late",
          "opaque appraisals, poor HR communication and documentation",
          "No Work Life Balance \nWorst HR experience in my 10 Year experience he never Responded \nAppraisal purely Biased basis",
          "Promotions or Appraisal process is not good",
          null
         ],
         "marker": {
          "opacity": 0.5,
          "size": 5
         },
         "mode": "markers+text",
         "name": "4_appraisal_promotion_appraisals",
         "text": [
          "",
          "",
          "",
          "",
          "",
          "",
          "",
          "",
          "",
          "",
          "",
          "",
          "",
          "",
          "",
          "",
          "",
          "",
          "",
          "",
          "",
          "",
          "",
          "",
          "",
          "",
          "",
          "4_appraisal_promotion_appraisals"
         ],
         "textfont": {
          "size": 12
         },
         "type": "scattergl",
         "x": [
          7.9792304039001465,
          8.22360897064209,
          9.83823299407959,
          9.249582290649414,
          9.241605758666992,
          9.614892959594727,
          8.855337142944336,
          9.265800476074219,
          9.718436241149902,
          9.683409690856934,
          9.187134742736816,
          9.234874725341797,
          9.527891159057617,
          9.93162727355957,
          9.129836082458496,
          9.749765396118164,
          9.810478210449219,
          9.258810997009277,
          8.157325744628906,
          9.835038185119629,
          9.781447410583496,
          9.829314231872559,
          9.856472969055176,
          9.227767944335938,
          9.887909889221191,
          9.847044944763184,
          9.6469144821167,
          9.391473770141602
         ],
         "y": [
          -0.6558566689491272,
          -0.6056424975395203,
          0.5396890044212341,
          0.2316756695508957,
          0.13688763976097107,
          0.5608882904052734,
          0.30205264687538147,
          0.20685648918151855,
          0.44222110509872437,
          0.5281714797019958,
          0.2981226146221161,
          0.2412324994802475,
          0.4619075655937195,
          0.7523941993713379,
          0.034141309559345245,
          0.5847994685173035,
          0.621358335018158,
          0.19393883645534515,
          -0.5580264329910278,
          0.6362573504447937,
          0.6211776733398438,
          0.638001024723053,
          0.6003969311714172,
          0.2511805593967438,
          0.7062879800796509,
          0.6352620124816895,
          0.5249979496002197,
          0.33075451850891113
         ]
        },
        {
         "hoverinfo": "text",
         "hovertext": [
          "Operational issues",
          "Lot to change about people management.",
          "Everything. No way recommended to anyone. All corrupted people ans sinior management",
          "Wast management , my career spoiled",
          "RM level not understand lower employee problems",
          "Lots of opportunities on crises management",
          "A lot of blame game keeps happening amongst departments and R&D is made the scapegoat",
          "Everything is Bad no Professional system, top management is all poor experience guys. Give importance to sycophancy and hypocrisy.",
          "staff of safety department is selfish, arrogant and disrespect supporting staff and employees",
          "Utilization of Management tarinee",
          "Portfolio management",
          "Company is doing fine at most of the fronts. Good potential and management is taking good risks to expand the business,",
          "No long term strategy, always panic.",
          "Uper Management ..........",
          "Poor mgmt no clear communication",
          "Taking care of employees",
          "Internal politics ,partialities with capable employees,present higher management are very bads",
          "Job satisfaction is low.....upper management is unaware of what's going on......a lot of long timers who seem to have zero accountability.....operates like a government organisation",
          "Managers need to understand the downline employee problem.",
          "Management  is not well",
          "Need realistic management",
          "Non responsive and relaxed upper management .",
          "Slow to responses . Management is unclear as far as long term strategy is concerned. Only focuses on short term gap fills.",
          "Some of non supportive staff in management.",
          "How to managing the employees",
          null
         ],
         "marker": {
          "opacity": 0.5,
          "size": 5
         },
         "mode": "markers+text",
         "name": "5_management_term_long",
         "text": [
          "",
          "",
          "",
          "",
          "",
          "",
          "",
          "",
          "",
          "",
          "",
          "",
          "",
          "",
          "",
          "",
          "",
          "",
          "",
          "",
          "",
          "",
          "",
          "",
          "",
          "5_management_term_long"
         ],
         "textfont": {
          "size": 12
         },
         "type": "scattergl",
         "x": [
          9.142182350158691,
          9.155705451965332,
          9.363906860351562,
          9.010841369628906,
          9.393074035644531,
          8.981066703796387,
          9.367770195007324,
          9.316752433776855,
          9.342126846313477,
          9.392526626586914,
          8.987739562988281,
          8.663744926452637,
          8.694478034973145,
          9.100050926208496,
          8.859833717346191,
          9.559310913085938,
          9.018936157226562,
          9.316821098327637,
          9.398180961608887,
          9.056949615478516,
          9.015708923339844,
          9.160158157348633,
          8.668465614318848,
          9.211040496826172,
          9.327936172485352,
          9.140213012695312
         ],
         "y": [
          -4.123581409454346,
          -4.138494491577148,
          -4.189180850982666,
          -3.962012529373169,
          -3.8881893157958984,
          -4.055203914642334,
          -3.837117910385132,
          -4.097838401794434,
          -3.7656521797180176,
          -4.070773124694824,
          -4.0692138671875,
          -3.8827998638153076,
          -3.8556246757507324,
          -4.00785493850708,
          -3.85644793510437,
          -3.8317413330078125,
          -4.3269524574279785,
          -3.812441349029541,
          -4.010506629943848,
          -3.9315173625946045,
          -4.093944549560547,
          -3.8768157958984375,
          -3.8327796459198,
          -3.7576417922973633,
          -4.0250773429870605,
          -3.9719760417938232
         ]
        },
        {
         "hoverinfo": "text",
         "hovertext": [
          "Work life\nNo business ethics \nNot career oriented \nNo future \nNo promotions\nPoor Managers",
          "Work Life balance",
          "Work cluture",
          "Good for worklife balance",
          "Work life balance is poor at site",
          "Ethical and straight forward",
          "Work pressure is very high & no work - life balance .",
          "Senior employees never listen abt the market condition ,never work in market with team.",
          "Not clarity about work most of time and layoff of not performer and not achieving",
          "Fund system at site is dull",
          "Less Opportunities to get other roles",
          "no value for work oriented persons",
          "Stable job",
          "Less Work , Less Tention . No Physical Stress",
          "No proper support from Marketing team\nWork culture and work life balance is not in a good way",
          "Work life balance",
          "None good company work life balance",
          "Good growth opportunity\nGreat leaders\nScope for personal development\nGood work life balance",
          "Work balance",
          "Less man power , more work load",
          "Good work life balance",
          "Less job security & work life balance, No Transperency in promotion.",
          null
         ],
         "marker": {
          "opacity": 0.5,
          "size": 5
         },
         "mode": "markers+text",
         "name": "6_balance_life_work",
         "text": [
          "",
          "",
          "",
          "",
          "",
          "",
          "",
          "",
          "",
          "",
          "",
          "",
          "",
          "",
          "",
          "",
          "",
          "",
          "",
          "",
          "",
          "",
          "6_balance_life_work"
         ],
         "textfont": {
          "size": 12
         },
         "type": "scattergl",
         "x": [
          8.939919471740723,
          8.912073135375977,
          8.855740547180176,
          8.889174461364746,
          8.986576080322266,
          8.885910987854004,
          9.092650413513184,
          9.087532997131348,
          9.726548194885254,
          9.206002235412598,
          9.120296478271484,
          8.921686172485352,
          8.839479446411133,
          9.136394500732422,
          8.849023818969727,
          8.929535865783691,
          8.875652313232422,
          8.754874229431152,
          8.955808639526367,
          9.127657890319824,
          8.831766128540039,
          9.338960647583008,
          9.011966705322266
         ],
         "y": [
          -2.660991668701172,
          -2.184282064437866,
          -1.882083535194397,
          -2.226525068283081,
          -2.188483953475952,
          -3.0065550804138184,
          -1.9413042068481445,
          -2.723790168762207,
          -1.7205411195755005,
          -2.2187182903289795,
          -3.018597364425659,
          -2.450284242630005,
          -2.3468618392944336,
          -2.2785840034484863,
          -2.438101291656494,
          -2.238781452178955,
          -2.3253543376922607,
          -2.541494846343994,
          -2.182828664779663,
          -2.3129987716674805,
          -2.270012140274048,
          -2.6742165088653564,
          -2.3559722900390625
         ]
        },
        {
         "hoverinfo": "text",
         "hovertext": [
          "Continious change in policy",
          "Hr policy is very clear and skill oriented . Need to directly associated with bottom line employee.",
          "Good policy",
          "Policies & benefits",
          "Hr policy is very good .time to time salary provide by company.",
          "Their HR policies",
          "Work Target policy, Safety training, Good Behaviour to employee.",
          "HR policies \nOffice Politics",
          "Too many changes in decisions",
          "Not much policies are changing frequently",
          "Company Policies",
          "HR policy and IT is good",
          "Company policy is very good in favor of employees",
          "Company Best  policy for employer.",
          "HR policies and there is flat structure. Even after having experience of 18 years, company is offering Manager position.",
          "Favouritism, no HR intervention. Hire and fire. No work ethics by people and still no action even when authorities know.",
          "You feel valued and that's the most important thing. The management constantly thrives to improve your working environment. The HR also reviews its policies to make it employee friendly. Most importantly the top management is easily accessible.",
          "Office politics is very much involved in the work culture, Some times you have to report in the same designation. Organisation structure is less effective. Your appraisal is completely depend that how much you can do buttering. You can be fired any time without any proper reason/investigation. No job security at all",
          "Old company with stable growth good HR policies",
          "HR are least bothered for your concern",
          "I have worked 4 year 8 months in the power sector but i didn't understand company policy like management, increment, apprisal. I will never join this organization in future.",
          null
         ],
         "marker": {
          "opacity": 0.5,
          "size": 5
         },
         "mode": "markers+text",
         "name": "7_hr_policy_policies",
         "text": [
          "",
          "",
          "",
          "",
          "",
          "",
          "",
          "",
          "",
          "",
          "",
          "",
          "",
          "",
          "",
          "",
          "",
          "",
          "",
          "",
          "",
          "7_hr_policy_policies"
         ],
         "textfont": {
          "size": 12
         },
         "type": "scattergl",
         "x": [
          10.340271949768066,
          10.349699974060059,
          10.409245491027832,
          10.460822105407715,
          10.364778518676758,
          10.336307525634766,
          10.700920104980469,
          10.132741928100586,
          10.108339309692383,
          10.341094970703125,
          10.48707103729248,
          10.416329383850098,
          10.503135681152344,
          10.462911605834961,
          10.37509822845459,
          10.107844352722168,
          10.132522583007812,
          9.89673900604248,
          10.39590072631836,
          10.204437255859375,
          10.453173637390137,
          10.332351684570312
         ],
         "y": [
          -4.7182111740112305,
          -4.387017250061035,
          -4.6970062255859375,
          -4.623803615570068,
          -4.369544982910156,
          -4.354054927825928,
          -4.387443542480469,
          -4.362232685089111,
          -4.747430801391602,
          -4.699977874755859,
          -4.578495502471924,
          -4.446822166442871,
          -4.467466831207275,
          -4.453114986419678,
          -4.375525951385498,
          -4.209399223327637,
          -4.310585975646973,
          -4.339999198913574,
          -4.2674880027771,
          -4.333519458770752,
          -4.497976779937744,
          -4.458434104919434
         ]
        },
        {
         "hoverinfo": "text",
         "hovertext": [
          "Politic and Face Promotion.",
          "Nepotism",
          "Politics",
          "Nothing full of politics n oiling atmosphere",
          "Internal politics is there and little bit favourism present .",
          "Politics, partiality",
          "Internal Politics\nUnfair division of business units\nAlmost 7 days weekly work",
          "Lot to learn. CEO’s and COO’s vision.",
          "A company of before independence",
          "Corporate Politics",
          "Politics .\nI worked under drinkers and useless fellows.",
          "Politics of the company",
          null
         ],
         "marker": {
          "opacity": 0.5,
          "size": 5
         },
         "mode": "markers+text",
         "name": "8_politics_internal_favourism",
         "text": [
          "",
          "",
          "",
          "",
          "",
          "",
          "",
          "",
          "",
          "",
          "",
          "",
          "8_politics_internal_favourism"
         ],
         "textfont": {
          "size": 12
         },
         "type": "scattergl",
         "x": [
          8.356874465942383,
          8.136247634887695,
          8.303302764892578,
          8.231436729431152,
          8.337708473205566,
          8.336527824401855,
          8.772481918334961,
          8.5834321975708,
          8.51572036743164,
          8.481980323791504,
          8.284990310668945,
          8.493276596069336,
          8.402831077575684
         ],
         "y": [
          -4.827515125274658,
          -4.772817611694336,
          -4.842753887176514,
          -4.915231227874756,
          -4.846999168395996,
          -4.856337070465088,
          -4.577153205871582,
          -4.352644443511963,
          -4.697317600250244,
          -4.715100288391113,
          -4.833246231079102,
          -4.7029314041137695,
          -4.745004177093506
         ]
        }
       ],
       "layout": {
        "annotations": [
         {
          "showarrow": false,
          "text": "D1",
          "x": 1.8167256832122802,
          "y": -1.1170216023921966,
          "yshift": 10
         },
         {
          "showarrow": false,
          "text": "D2",
          "x": 7.516747379302978,
          "xshift": 10,
          "y": 3.5798240542411803
         }
        ],
        "height": 750,
        "shapes": [
         {
          "line": {
           "color": "#CFD8DC",
           "width": 2
          },
          "type": "line",
          "x0": 7.516747379302978,
          "x1": 7.516747379302978,
          "y0": -5.8138672590255736,
          "y1": 3.5798240542411803
         },
         {
          "line": {
           "color": "#9E9E9E",
           "width": 2
          },
          "type": "line",
          "x0": 1.8167256832122802,
          "x1": 13.216769075393676,
          "y0": -1.1170216023921966,
          "y1": -1.1170216023921966
         }
        ],
        "template": {
         "data": {
          "bar": [
           {
            "error_x": {
             "color": "rgb(36,36,36)"
            },
            "error_y": {
             "color": "rgb(36,36,36)"
            },
            "marker": {
             "line": {
              "color": "white",
              "width": 0.5
             },
             "pattern": {
              "fillmode": "overlay",
              "size": 10,
              "solidity": 0.2
             }
            },
            "type": "bar"
           }
          ],
          "barpolar": [
           {
            "marker": {
             "line": {
              "color": "white",
              "width": 0.5
             },
             "pattern": {
              "fillmode": "overlay",
              "size": 10,
              "solidity": 0.2
             }
            },
            "type": "barpolar"
           }
          ],
          "carpet": [
           {
            "aaxis": {
             "endlinecolor": "rgb(36,36,36)",
             "gridcolor": "white",
             "linecolor": "white",
             "minorgridcolor": "white",
             "startlinecolor": "rgb(36,36,36)"
            },
            "baxis": {
             "endlinecolor": "rgb(36,36,36)",
             "gridcolor": "white",
             "linecolor": "white",
             "minorgridcolor": "white",
             "startlinecolor": "rgb(36,36,36)"
            },
            "type": "carpet"
           }
          ],
          "choropleth": [
           {
            "colorbar": {
             "outlinewidth": 1,
             "tickcolor": "rgb(36,36,36)",
             "ticks": "outside"
            },
            "type": "choropleth"
           }
          ],
          "contour": [
           {
            "colorbar": {
             "outlinewidth": 1,
             "tickcolor": "rgb(36,36,36)",
             "ticks": "outside"
            },
            "colorscale": [
             [
              0,
              "#440154"
             ],
             [
              0.1111111111111111,
              "#482878"
             ],
             [
              0.2222222222222222,
              "#3e4989"
             ],
             [
              0.3333333333333333,
              "#31688e"
             ],
             [
              0.4444444444444444,
              "#26828e"
             ],
             [
              0.5555555555555556,
              "#1f9e89"
             ],
             [
              0.6666666666666666,
              "#35b779"
             ],
             [
              0.7777777777777778,
              "#6ece58"
             ],
             [
              0.8888888888888888,
              "#b5de2b"
             ],
             [
              1,
              "#fde725"
             ]
            ],
            "type": "contour"
           }
          ],
          "contourcarpet": [
           {
            "colorbar": {
             "outlinewidth": 1,
             "tickcolor": "rgb(36,36,36)",
             "ticks": "outside"
            },
            "type": "contourcarpet"
           }
          ],
          "heatmap": [
           {
            "colorbar": {
             "outlinewidth": 1,
             "tickcolor": "rgb(36,36,36)",
             "ticks": "outside"
            },
            "colorscale": [
             [
              0,
              "#440154"
             ],
             [
              0.1111111111111111,
              "#482878"
             ],
             [
              0.2222222222222222,
              "#3e4989"
             ],
             [
              0.3333333333333333,
              "#31688e"
             ],
             [
              0.4444444444444444,
              "#26828e"
             ],
             [
              0.5555555555555556,
              "#1f9e89"
             ],
             [
              0.6666666666666666,
              "#35b779"
             ],
             [
              0.7777777777777778,
              "#6ece58"
             ],
             [
              0.8888888888888888,
              "#b5de2b"
             ],
             [
              1,
              "#fde725"
             ]
            ],
            "type": "heatmap"
           }
          ],
          "heatmapgl": [
           {
            "colorbar": {
             "outlinewidth": 1,
             "tickcolor": "rgb(36,36,36)",
             "ticks": "outside"
            },
            "colorscale": [
             [
              0,
              "#440154"
             ],
             [
              0.1111111111111111,
              "#482878"
             ],
             [
              0.2222222222222222,
              "#3e4989"
             ],
             [
              0.3333333333333333,
              "#31688e"
             ],
             [
              0.4444444444444444,
              "#26828e"
             ],
             [
              0.5555555555555556,
              "#1f9e89"
             ],
             [
              0.6666666666666666,
              "#35b779"
             ],
             [
              0.7777777777777778,
              "#6ece58"
             ],
             [
              0.8888888888888888,
              "#b5de2b"
             ],
             [
              1,
              "#fde725"
             ]
            ],
            "type": "heatmapgl"
           }
          ],
          "histogram": [
           {
            "marker": {
             "line": {
              "color": "white",
              "width": 0.6
             }
            },
            "type": "histogram"
           }
          ],
          "histogram2d": [
           {
            "colorbar": {
             "outlinewidth": 1,
             "tickcolor": "rgb(36,36,36)",
             "ticks": "outside"
            },
            "colorscale": [
             [
              0,
              "#440154"
             ],
             [
              0.1111111111111111,
              "#482878"
             ],
             [
              0.2222222222222222,
              "#3e4989"
             ],
             [
              0.3333333333333333,
              "#31688e"
             ],
             [
              0.4444444444444444,
              "#26828e"
             ],
             [
              0.5555555555555556,
              "#1f9e89"
             ],
             [
              0.6666666666666666,
              "#35b779"
             ],
             [
              0.7777777777777778,
              "#6ece58"
             ],
             [
              0.8888888888888888,
              "#b5de2b"
             ],
             [
              1,
              "#fde725"
             ]
            ],
            "type": "histogram2d"
           }
          ],
          "histogram2dcontour": [
           {
            "colorbar": {
             "outlinewidth": 1,
             "tickcolor": "rgb(36,36,36)",
             "ticks": "outside"
            },
            "colorscale": [
             [
              0,
              "#440154"
             ],
             [
              0.1111111111111111,
              "#482878"
             ],
             [
              0.2222222222222222,
              "#3e4989"
             ],
             [
              0.3333333333333333,
              "#31688e"
             ],
             [
              0.4444444444444444,
              "#26828e"
             ],
             [
              0.5555555555555556,
              "#1f9e89"
             ],
             [
              0.6666666666666666,
              "#35b779"
             ],
             [
              0.7777777777777778,
              "#6ece58"
             ],
             [
              0.8888888888888888,
              "#b5de2b"
             ],
             [
              1,
              "#fde725"
             ]
            ],
            "type": "histogram2dcontour"
           }
          ],
          "mesh3d": [
           {
            "colorbar": {
             "outlinewidth": 1,
             "tickcolor": "rgb(36,36,36)",
             "ticks": "outside"
            },
            "type": "mesh3d"
           }
          ],
          "parcoords": [
           {
            "line": {
             "colorbar": {
              "outlinewidth": 1,
              "tickcolor": "rgb(36,36,36)",
              "ticks": "outside"
             }
            },
            "type": "parcoords"
           }
          ],
          "pie": [
           {
            "automargin": true,
            "type": "pie"
           }
          ],
          "scatter": [
           {
            "fillpattern": {
             "fillmode": "overlay",
             "size": 10,
             "solidity": 0.2
            },
            "type": "scatter"
           }
          ],
          "scatter3d": [
           {
            "line": {
             "colorbar": {
              "outlinewidth": 1,
              "tickcolor": "rgb(36,36,36)",
              "ticks": "outside"
             }
            },
            "marker": {
             "colorbar": {
              "outlinewidth": 1,
              "tickcolor": "rgb(36,36,36)",
              "ticks": "outside"
             }
            },
            "type": "scatter3d"
           }
          ],
          "scattercarpet": [
           {
            "marker": {
             "colorbar": {
              "outlinewidth": 1,
              "tickcolor": "rgb(36,36,36)",
              "ticks": "outside"
             }
            },
            "type": "scattercarpet"
           }
          ],
          "scattergeo": [
           {
            "marker": {
             "colorbar": {
              "outlinewidth": 1,
              "tickcolor": "rgb(36,36,36)",
              "ticks": "outside"
             }
            },
            "type": "scattergeo"
           }
          ],
          "scattergl": [
           {
            "marker": {
             "colorbar": {
              "outlinewidth": 1,
              "tickcolor": "rgb(36,36,36)",
              "ticks": "outside"
             }
            },
            "type": "scattergl"
           }
          ],
          "scattermapbox": [
           {
            "marker": {
             "colorbar": {
              "outlinewidth": 1,
              "tickcolor": "rgb(36,36,36)",
              "ticks": "outside"
             }
            },
            "type": "scattermapbox"
           }
          ],
          "scatterpolar": [
           {
            "marker": {
             "colorbar": {
              "outlinewidth": 1,
              "tickcolor": "rgb(36,36,36)",
              "ticks": "outside"
             }
            },
            "type": "scatterpolar"
           }
          ],
          "scatterpolargl": [
           {
            "marker": {
             "colorbar": {
              "outlinewidth": 1,
              "tickcolor": "rgb(36,36,36)",
              "ticks": "outside"
             }
            },
            "type": "scatterpolargl"
           }
          ],
          "scatterternary": [
           {
            "marker": {
             "colorbar": {
              "outlinewidth": 1,
              "tickcolor": "rgb(36,36,36)",
              "ticks": "outside"
             }
            },
            "type": "scatterternary"
           }
          ],
          "surface": [
           {
            "colorbar": {
             "outlinewidth": 1,
             "tickcolor": "rgb(36,36,36)",
             "ticks": "outside"
            },
            "colorscale": [
             [
              0,
              "#440154"
             ],
             [
              0.1111111111111111,
              "#482878"
             ],
             [
              0.2222222222222222,
              "#3e4989"
             ],
             [
              0.3333333333333333,
              "#31688e"
             ],
             [
              0.4444444444444444,
              "#26828e"
             ],
             [
              0.5555555555555556,
              "#1f9e89"
             ],
             [
              0.6666666666666666,
              "#35b779"
             ],
             [
              0.7777777777777778,
              "#6ece58"
             ],
             [
              0.8888888888888888,
              "#b5de2b"
             ],
             [
              1,
              "#fde725"
             ]
            ],
            "type": "surface"
           }
          ],
          "table": [
           {
            "cells": {
             "fill": {
              "color": "rgb(237,237,237)"
             },
             "line": {
              "color": "white"
             }
            },
            "header": {
             "fill": {
              "color": "rgb(217,217,217)"
             },
             "line": {
              "color": "white"
             }
            },
            "type": "table"
           }
          ]
         },
         "layout": {
          "annotationdefaults": {
           "arrowhead": 0,
           "arrowwidth": 1
          },
          "autotypenumbers": "strict",
          "coloraxis": {
           "colorbar": {
            "outlinewidth": 1,
            "tickcolor": "rgb(36,36,36)",
            "ticks": "outside"
           }
          },
          "colorscale": {
           "diverging": [
            [
             0,
             "rgb(103,0,31)"
            ],
            [
             0.1,
             "rgb(178,24,43)"
            ],
            [
             0.2,
             "rgb(214,96,77)"
            ],
            [
             0.3,
             "rgb(244,165,130)"
            ],
            [
             0.4,
             "rgb(253,219,199)"
            ],
            [
             0.5,
             "rgb(247,247,247)"
            ],
            [
             0.6,
             "rgb(209,229,240)"
            ],
            [
             0.7,
             "rgb(146,197,222)"
            ],
            [
             0.8,
             "rgb(67,147,195)"
            ],
            [
             0.9,
             "rgb(33,102,172)"
            ],
            [
             1,
             "rgb(5,48,97)"
            ]
           ],
           "sequential": [
            [
             0,
             "#440154"
            ],
            [
             0.1111111111111111,
             "#482878"
            ],
            [
             0.2222222222222222,
             "#3e4989"
            ],
            [
             0.3333333333333333,
             "#31688e"
            ],
            [
             0.4444444444444444,
             "#26828e"
            ],
            [
             0.5555555555555556,
             "#1f9e89"
            ],
            [
             0.6666666666666666,
             "#35b779"
            ],
            [
             0.7777777777777778,
             "#6ece58"
            ],
            [
             0.8888888888888888,
             "#b5de2b"
            ],
            [
             1,
             "#fde725"
            ]
           ],
           "sequentialminus": [
            [
             0,
             "#440154"
            ],
            [
             0.1111111111111111,
             "#482878"
            ],
            [
             0.2222222222222222,
             "#3e4989"
            ],
            [
             0.3333333333333333,
             "#31688e"
            ],
            [
             0.4444444444444444,
             "#26828e"
            ],
            [
             0.5555555555555556,
             "#1f9e89"
            ],
            [
             0.6666666666666666,
             "#35b779"
            ],
            [
             0.7777777777777778,
             "#6ece58"
            ],
            [
             0.8888888888888888,
             "#b5de2b"
            ],
            [
             1,
             "#fde725"
            ]
           ]
          },
          "colorway": [
           "#1F77B4",
           "#FF7F0E",
           "#2CA02C",
           "#D62728",
           "#9467BD",
           "#8C564B",
           "#E377C2",
           "#7F7F7F",
           "#BCBD22",
           "#17BECF"
          ],
          "font": {
           "color": "rgb(36,36,36)"
          },
          "geo": {
           "bgcolor": "white",
           "lakecolor": "white",
           "landcolor": "white",
           "showlakes": true,
           "showland": true,
           "subunitcolor": "white"
          },
          "hoverlabel": {
           "align": "left"
          },
          "hovermode": "closest",
          "mapbox": {
           "style": "light"
          },
          "paper_bgcolor": "white",
          "plot_bgcolor": "white",
          "polar": {
           "angularaxis": {
            "gridcolor": "rgb(232,232,232)",
            "linecolor": "rgb(36,36,36)",
            "showgrid": false,
            "showline": true,
            "ticks": "outside"
           },
           "bgcolor": "white",
           "radialaxis": {
            "gridcolor": "rgb(232,232,232)",
            "linecolor": "rgb(36,36,36)",
            "showgrid": false,
            "showline": true,
            "ticks": "outside"
           }
          },
          "scene": {
           "xaxis": {
            "backgroundcolor": "white",
            "gridcolor": "rgb(232,232,232)",
            "gridwidth": 2,
            "linecolor": "rgb(36,36,36)",
            "showbackground": true,
            "showgrid": false,
            "showline": true,
            "ticks": "outside",
            "zeroline": false,
            "zerolinecolor": "rgb(36,36,36)"
           },
           "yaxis": {
            "backgroundcolor": "white",
            "gridcolor": "rgb(232,232,232)",
            "gridwidth": 2,
            "linecolor": "rgb(36,36,36)",
            "showbackground": true,
            "showgrid": false,
            "showline": true,
            "ticks": "outside",
            "zeroline": false,
            "zerolinecolor": "rgb(36,36,36)"
           },
           "zaxis": {
            "backgroundcolor": "white",
            "gridcolor": "rgb(232,232,232)",
            "gridwidth": 2,
            "linecolor": "rgb(36,36,36)",
            "showbackground": true,
            "showgrid": false,
            "showline": true,
            "ticks": "outside",
            "zeroline": false,
            "zerolinecolor": "rgb(36,36,36)"
           }
          },
          "shapedefaults": {
           "fillcolor": "black",
           "line": {
            "width": 0
           },
           "opacity": 0.3
          },
          "ternary": {
           "aaxis": {
            "gridcolor": "rgb(232,232,232)",
            "linecolor": "rgb(36,36,36)",
            "showgrid": false,
            "showline": true,
            "ticks": "outside"
           },
           "baxis": {
            "gridcolor": "rgb(232,232,232)",
            "linecolor": "rgb(36,36,36)",
            "showgrid": false,
            "showline": true,
            "ticks": "outside"
           },
           "bgcolor": "white",
           "caxis": {
            "gridcolor": "rgb(232,232,232)",
            "linecolor": "rgb(36,36,36)",
            "showgrid": false,
            "showline": true,
            "ticks": "outside"
           }
          },
          "title": {
           "x": 0.05
          },
          "xaxis": {
           "automargin": true,
           "gridcolor": "rgb(232,232,232)",
           "linecolor": "rgb(36,36,36)",
           "showgrid": false,
           "showline": true,
           "ticks": "outside",
           "title": {
            "standoff": 15
           },
           "zeroline": false,
           "zerolinecolor": "rgb(36,36,36)"
          },
          "yaxis": {
           "automargin": true,
           "gridcolor": "rgb(232,232,232)",
           "linecolor": "rgb(36,36,36)",
           "showgrid": false,
           "showline": true,
           "ticks": "outside",
           "title": {
            "standoff": 15
           },
           "zeroline": false,
           "zerolinecolor": "rgb(36,36,36)"
          }
         }
        },
        "title": {
         "font": {
          "color": "Black",
          "size": 22
         },
         "text": "<b>Documents and Topics</b>",
         "x": 0.5,
         "xanchor": "center",
         "yanchor": "top"
        },
        "width": 1200,
        "xaxis": {
         "visible": false
        },
        "yaxis": {
         "visible": false
        }
       }
      },
      "text/html": [
       "<div>                            <div id=\"b33e38a7-f273-45fe-833e-5781134a709d\" class=\"plotly-graph-div\" style=\"height:750px; width:1200px;\"></div>            <script type=\"text/javascript\">                require([\"plotly\"], function(Plotly) {                    window.PLOTLYENV=window.PLOTLYENV || {};                                    if (document.getElementById(\"b33e38a7-f273-45fe-833e-5781134a709d\")) {                    Plotly.newPlot(                        \"b33e38a7-f273-45fe-833e-5781134a709d\",                        [{\"hoverinfo\":\"text\",\"hovertext\":[\"RREP  CONCEPT\",\"Skills development and opportunities to work on new projects\",\"Company strategy not in current market\",\"Since the management team + manager puts you on fire & expect smooth project delivery and due to high work pressure an individual can learn or upgrade skills on the job or can take as opportunity to upgrade skills but no special training or efforts would be their from organization\",\"- Switching to modern culture from Lala - culture\\n- Salaries are good and competitive\\n- Work life balance is promoted\",\"Office and site work\",\"All is well but job security not wellm\",\"Working culture and no promotion and appreciation for offrole\",\"80 year old company working as new startup\",\"Not Proper Planning site Work.\",\"New improvement in plant infracture and in product also.\",\"Learning & growth opportunities\",\"Force fully taken resignation\",\"Presently its good time to work their...I got nice experience...there are good senior support...& well management.but appourtunity to make carrier in growth is very low....theirs incentive parameters are not well...& policy to pay incentives is very slow... Actually this policy harraze the dso\",\"Flexible in time\",\"Compeny is good  staff not good\",\"Cross functional meetings are required to understand and discuss each other which helps organisational growth\",\"Flexi timing\\nCulture is not toxic\",\"i don't like to talk while working\",\"Anytime you will fired\\nToo much work pressure\\nNo family or personal life\\nCompany expecting work even after official hour...\\nEvery person loded\\nJob starts at 7 am and no end till u sleep\\nSometimes 3 am or 4 \\nGodfather ranking\\nEvery person is equal judge... Apart of load distribution\\nAnytime asked to change your city\",\"Sometime U can face different issues bad experience with customers\",\"Provides training from development of new skills as per markets required.\",\"Don't join this company because there have not good culture for logistics.\\nYou will have to work over there too much time but no holiday no weak off and if you have medical issues it's your problem no leave will provide you by company.\\nI had joined in this company it's my biggest mistake in my life.\",\"Perks and benifit\",\"Food quality is not good at cafe\",\"Job security poor\",\"Transparency, leadership\",\"Work environment\",\"Holiday little bit lower than national holiday\",\"Seniors are good teammates are very supporting .\",\"This work is easy but not easy this filling upload\",\"display & Marchantdizing\",\"Experience and collect knowledge\",\"Transparency, value system, excellent work environment\",\"Salary\\nHeavy work pressure\",\"Nothing to be dislike but need to improve salary and makeup work lode divided\",\"Company System\\u002fprocedure from In to Out(material conversion)\",\"Wonderful organisation with great culture\\nSeniors are very supportive\\nManagement is responsive\",\"Job security\",\"Freedom to call anyone across organisation\",\"Job security is not good.\",\"Need to some more improvement\",\"Company is good but company owners are treating people like servants or slave.\\nThey do casteism and specially owners wife she think everyone is chor. And she do humiliation with employees who are working with her. \\nShe hate maharashtrian, Muslims and Christian. And always say pata nahi kaha se bhukhe nange AA jate hai mere yaha kaamkarne\\nPlz don't join this company if you get job opportunity to work with owners specifically with owners wife....Read More\",\"This Rating for offroll candidates.\\nBut,I personally don't like offroll jobs.\",\"Men power remove\",\"Fill like own faimaly.\",\"Like but staff no like\",\"There was no innovation and only office politics. The upper management is corrupt and only favours who treat the bosses well.\",\"Learnings\\nWork Freedom\",\"Great Management Vision\",\"Community,food,no travel support\",\"Work culture, appraisal process, TA\\u002fDA, no work life balance\",\"Processes not yet streamline\",\"Lot of pressure\",\"There is no future working security\",\"smoking hard working\",\"Manual work still continue in some sector  .Required atomisation .\",\"No job certainty\",\"Lots of hierarchy, politics and work life balance is zero. Not paying vendors on time and no one to listen the problem. To avoid payment to vendors they made false accusation and employee will be at receiving end. No support from any one from the organization. The day you resign they create life and mental peace havoc. Avoid joining.\",\"My all senior sir is Nature is to good he is always motivate\",\"Each and every new project is urgent from the time it's started only for a specific department.\\nUnrealistic time lines are given.\\nPay dispersion is not fair.\\nMarketing is never clear about what they exactly want. \\nUnwanted pressure is created only on one department regardless of who is responsible for the delay in project.\",\"Communication between department\",\"Company switched the cnf to lala company A one marketing that was very bad experience of my life\\nVinay jalan was the owner of the company of a one marketing and he is very rude person and always abuse to everyone\",\"Great & proud\",\"Partiality with employee.\",\"Supporting from senior\",\"Job safety\",\"Old employee without information out of job.\",\"Growth is not as desirable\",\"Because all criteria is good and company profile is good ,\\nWork satification\",\"Without informing ealier. Company drive out confirmed employees within a month. Neither they are giving proper reason for termination nor consider the notice period of 3 months. Employees giving resignation are bound to complete 3 months notice period whenever they have jobs. But terminated employees are dropped out within a month without any proper reason. The employee who has completed all the assigned projects on time perfectly was rated as inadequate performance and terminated. Whenever the company has the performance improvement plan    (PIP) policy for under-rated performance, but they don't follow their own policy....disgusting.......Read More\",\"Not focusing on new categories\",\"Nothing ....as time changes and work.pressure is same for all the companies.\",\"Labour registration entry as a project working contractor.\",\"Pressure of working while a employee is on leave.\",\"Discuss in previous box\",\"For carrier growth only performance is not enough one should have very good terms with superiors apart from boss\\u002f Client etc.\",\"No proper system to work. lot of bureaucracy. Too much work pressure . No work life balance\",\"Everything is dislike\\n1 there is not a fix date of salary credentials of offrole employees.\\n2 Your HR of your consultant are not responding when you have a query he just say as Bajaj said to him.\\n3 No overtime or holidays will pay to you because you are offrole employee.\\n4 There have no culture here Bajaj employee treats you like a labour.\",\"Freedom for any work you want to do .\",\"Culture\\nWork life balance\\nSalary and perks\\nAnnual Increment\\nGrowth Opportunities\",\"Flexible time for staff\",\"Supportive and coordination\",\"Only skill development is good.\",\"Increment is not proper\",\"Job is not secure.\",\"Proud\",\"Point settlement\",\"RREP PRODUCT SALES EACH PRIce\",\"Execution staff is helpful\",\"Research\",\"My reporting manager was so motivated that\\u2019s why I stayed 6 month\",\"Presence of Union at workplace.\",\"Supportive Boss and easy accessibility to Higher officials.\",\"1980 process , all hard paper work, No paperless work, SAP utilization is completely useless,  Huge difference between physical vs system data. \\nNo recreation, excess manpower, Lack of leadership motivation, Mental harassment.\\nDue to above all new joinee are leaving within 1-6 months\",\"Learnings new things and apply\",\"Office timing is flexible\",\"Food\",\"Low travelling allowance\",\"Freedom to implement new ideas , Encouragement if you have potential, Good salary Increment if you have potential\",null],\"marker\":{\"color\":\"#CFD8DC\",\"opacity\":0.5,\"size\":5},\"mode\":\"markers+text\",\"name\":\"other\",\"showlegend\":false,\"x\":[9.444501876831055,8.253362655639648,8.625415802001953,8.37809944152832,7.352116107940674,7.232480049133301,11.46285629272461,9.624598503112793,10.372793197631836,8.53546142578125,7.2788310050964355,8.261749267578125,9.679237365722656,10.265059471130371,9.872955322265625,9.52772331237793,8.03356647491455,9.917447090148926,7.484408855438232,9.393448829650879,7.514132022857666,8.24975872039795,9.659667015075684,8.136722564697266,7.1560378074646,11.49152946472168,8.611023902893066,7.2706732749938965,7.355083465576172,7.6872758865356445,5.43587589263916,7.756435871124268,8.135796546936035,7.497446537017822,9.196081161499023,7.7250142097473145,9.622163772583008,7.668667316436768,11.459651947021484,8.807433128356934,11.474242210388184,7.647865295410156,6.006954193115234,9.857673645019531,9.683197975158691,5.408897399902344,9.523832321166992,9.034964561462402,8.650494575500488,8.674484252929688,7.429111003875732,8.78625774383545,8.085408210754395,9.072607040405273,11.46682071685791,8.621844291687012,9.629915237426758,11.492842674255371,9.685896873474121,7.730010509490967,9.2871675491333,8.73176097869873,7.5027008056640625,5.916075229644775,10.413166046142578,7.766901969909668,11.41799259185791,10.422255516052246,10.099376678466797,7.694489002227783,9.698500633239746,8.358595848083496,9.322604179382324,10.616944313049316,9.254121780395508,8.074124336242676,10.233381271362305,9.502030372619629,9.784429550170898,8.820028305053711,7.519725322723389,9.871779441833496,7.945873260498047,8.26049518585205,10.752115249633789,11.484000205993652,5.788095474243164,8.072620391845703,7.797318935394287,9.525359153747559,8.199520111083984,8.087654113769531,10.40900993347168,9.076434135437012,9.697131156921387,8.148619651794434,9.914129257202148,7.173793792724609,7.47723913192749,8.846138000488281,8.803595542907715],\"y\":[-3.5955917835235596,-3.213743209838867,-3.828822135925293,-3.3659729957580566,-4.722327709197998,-2.846768617630005,-3.619922637939453,-2.316575050354004,-3.947840929031372,-2.9866943359375,-1.521905541419983,-3.053154468536377,-2.090839385986328,-2.882899761199951,-1.3391202688217163,-3.29734468460083,-3.305492401123047,-1.3243809938430786,-2.216207504272461,-1.6425654888153076,-0.5407349467277527,-3.188875675201416,-2.1822497844696045,-2.4794921875,-3.920464277267456,-3.59378719329834,-3.6984219551086426,-3.055572509765625,-4.510071277618408,-3.702597141265869,-1.9260320663452148,-2.2492775917053223,-3.102290391921997,-3.0446290969848633,-1.6459940671920776,-2.2426557540893555,-2.944812059402466,-3.769138813018799,-3.617866277694702,-3.1897144317626953,-3.6199159622192383,-2.126352071762085,-4.425019264221191,0.3260156214237213,-2.9838621616363525,-1.9663366079330444,-3.322129964828491,-4.406569004058838,-2.9500370025634766,-4.175537109375,-4.149064540863037,-2.649576425552368,-1.5554312467575073,-1.5918781757354736,-3.613351345062256,-1.7214053869247437,-2.860262155532837,-3.588894844055176,-2.116328001022339,-3.73225998878479,-1.2948983907699585,-3.5111308097839355,-0.4565470218658447,-1.821411371231079,-4.08931303024292,-3.69465970993042,-3.6610360145568848,-3.9636147022247314,-2.4342637062072754,-1.8815994262695312,-2.0092551708221436,-3.4018282890319824,-1.5578129291534424,-2.4324324131011963,-1.6478708982467651,-3.149409770965576,-2.8835153579711914,-2.7513601779937744,-2.195983409881592,-2.9707489013671875,-4.651050090789795,-1.3346772193908691,-3.639993906021118,-3.2249813079833984,-1.4288380146026611,-3.63425874710083,-1.806079387664795,-2.6079771518707275,-0.5453677177429199,-3.3683178424835205,-3.0150325298309326,-4.029999732971191,-4.0521721839904785,-3.5397415161132812,-3.141757011413574,-3.1658849716186523,-1.3191349506378174,-3.973383665084839,-4.276639461517334,-2.8462283611297607,-2.8436124324798584],\"type\":\"scattergl\"},{\"hoverinfo\":\"text\",\"hovertext\":[\"Very good working environment\",\"Very nice and helpful atmosphere in office.\",\"Good for working\",\"Company culture is good. Aggressively working in gender diversity\",\"I've been working a lot here, the employees make a lot of effort in learning, the culture here is supportive, I love this company\",\"Quaterly meets in a year about new products launching & sharing details of the new products through online or offline mode.Weekend saturday meets sharing feedback and analyzing market to promote & growth our sales activity with company area sales manager and distributor manager. Weekly market visiting and taking orders from retailers.\",\"Culture and management\",\"The Culture of company.\",\"6 days working Not\",\"Working Culture\",\"Good culture in company\",\"Job responsibilities and working Culture\",\"Best company\",\"Great place to work\",\"working culture,behavior, work life balance,job security,Promotion in every life is terrible.\",\"Quality of products development\",\"No uniform companies\",\"Good and excellent work\",\"Very good super exipirens very nice\\nI am also happy job\",\"I am enjoying my work and time to time seft updates learning.\",\"Working culture\",\"Because i am unemployed\",\"Working place is good and i learn more from this work place thank you\",\"Over all good work culture\",\"Best quality and Service proper\",\"nice experience and gud organization\",\"Hight management Discrimination culture.\",\"Descipline and Friendly Atmosphere\",\"Company culture i like\",\"overall good performance of company.\",\"Most popular branded company in India.\",\"The company culture is toxic. Not progressive (even though they show they are). Petty managers, narrow minded approach, micromanagement. No scope for growth.\",\"Best company for working\",\"Good environment in past that should be continue I'm future also.\",\"Company Culture is too Good.Peoples in Company too good.\",\"Brand name\",\"Work culture is very good\",\"Good company ,good work culture\",\"To do culture in worst time\",\"Lot of process to complete one task\",\"SOP follow\",\"Good Experience\",\"Good communication and work is good\",\"Company Culture .........\",\"Well reputed brand with lots of opportunities and professional culture\",\"Over all it's good company.\",\"Good traditional culture oriented company.\",\"Good work culture\",\"Highely Terrible Work place\",\"Our th is so coprative\",\"Team Work is appreciable and fine.\",\"First name culture\",\"Average place to work\",\"Work culture\\nTeam management\\nEqual opportunity\",\"Company culture\",\"Task  is well defined in system .\\nExcellent company to work .\",\"Company is good\",\"all days working,no process\",\"Are you like this company menjment\",\"Liketo Learn how to handle customer service and ther satisfaction.\",\"My dream working with good company\",\"Work culture\",\"Vendor based not good for R&D\",\"Good environment and culture\",\"Good Working Culture\",\"This work is easy\",\"Company is good to work\",\"The work culture create by reporting managers.\",\"Initially the work seems good\",\"Work Culture\",\"Great organisation to work with\",\"Culture is team dependent, owing to weak HR\",\"Office environment is good and upper management support is good\",\"Quite comfortable\",\"Culture, Not employee focused\",\"Great work culture\",\"Good team culture, working environment is good\",\"Distibuter behaviour and language is very bad\",\"Good but culture is changing\",\"The infrastructure and inclusive culture\",\"Really good for high performers. Culture is good in R&D.\",\"Office long distance\",\"Everything is Fantastic. overall great experience\\u2026\",\"Very big brand, salary structure one of the best in industry.\",\"Culture, environment and policies are not condusive\",\"BEL is an good company and also treating well\",\"Working culture is good\",\"Health Environment.\",\"Company is very good, good and benefits\",\"Its good to work here...\",\"No I am Like Working\",\"Yes very good job\",\"Client Billing\\nOffice liabilities for all Documents\\u002fpaper Mainy& Expenses,as office work.\\nI have provided service as a Control of third party stoff,Suport, Arrangment,Parking, environmental problems etc.\",\"Work culture. Office setup\",\"Excellent organisation in terms of skill development learning,process orientation\\nWorking with Sop\",\"Work culture & professional growth\",\"Good working  with enjoy & suportable team\",\"Location of plant\",\"Good work environment and culture.teammates are supportive and management is transparent.thereis a huge cafeteria anad gaming arcade for chilling.compamy policies are good assraisals are fair the good salary hike and bonus every year\",\"Very good company \\ud83d\\udc4d\",\"Good communication skills I have learned from CRM\",\"You can develop your work skill and communication with different people.... How to talk and how to deal.....\",\"Support me at the time of maternity\",\"Company culture,work satisfaction skills development\",\"Any good doing\",\"None at all its good working atmosphere\",\"Good culture\",\"Nothing to like there are much better companies\",\"Culture is good here. People care for each other\",\"All type sales to service\",\"- No tech-innovative approach in products\\n- lagging behind other competitors\",\"Great Working Culture and Supporting staff\",\"Great place to work except the office location\",\"Work culture is not that good\",\"Good Product\",\"System is not there\",\"Work Clutter is good\",\"Company Culture is good.\",\"Loved to work in this company, excellent platform to excel your skills.\",\"If you want to work they will load you will work\",\"Product and services are good\",\"5 days working\",\"Product range is good.\",\"Established Brands and Structured and organised working system.\\nMarket leader in most of the categories.\\nIf reporting boss is good, then company is a heaven to work.\",\"If environment atmosphere good\",\"Nice to work...\",\"Product range\",\"Very god company\",\"Too much professionalism\",\"Good Company to work\",\"Working on Weekend. (Saturday & Sunday is off.)\",\"Highly accepted Brand in India, most of senior and colleges are very friendly.\",\"Overall Good place to work.\",null],\"marker\":{\"opacity\":0.5,\"size\":5},\"mode\":\"markers+text\",\"name\":\"0_culture_good_company\",\"text\":[\"\",\"\",\"\",\"\",\"\",\"\",\"\",\"\",\"\",\"\",\"\",\"\",\"\",\"\",\"\",\"\",\"\",\"\",\"\",\"\",\"\",\"\",\"\",\"\",\"\",\"\",\"\",\"\",\"\",\"\",\"\",\"\",\"\",\"\",\"\",\"\",\"\",\"\",\"\",\"\",\"\",\"\",\"\",\"\",\"\",\"\",\"\",\"\",\"\",\"\",\"\",\"\",\"\",\"\",\"\",\"\",\"\",\"\",\"\",\"\",\"\",\"\",\"\",\"\",\"\",\"\",\"\",\"\",\"\",\"\",\"\",\"\",\"\",\"\",\"\",\"\",\"\",\"\",\"\",\"\",\"\",\"\",\"\",\"\",\"\",\"\",\"\",\"\",\"\",\"\",\"\",\"\",\"\",\"\",\"\",\"\",\"\",\"\",\"\",\"\",\"\",\"\",\"\",\"\",\"\",\"\",\"\",\"\",\"\",\"\",\"\",\"\",\"\",\"\",\"\",\"\",\"\",\"\",\"\",\"\",\"\",\"\",\"\",\"\",\"\",\"\",\"\",\"\",\"\",\"\",\"\",\"\",\"\",\"0_culture_good_company\"],\"textfont\":{\"size\":12},\"x\":[6.893060207366943,6.842896461486816,6.998382091522217,6.179282188415527,6.726554870605469,8.053364753723145,6.49746036529541,6.270472049713135,8.07470989227295,7.044740676879883,6.245207786560059,7.082728862762451,6.742791175842285,6.657682418823242,9.041382789611816,7.217843532562256,6.753236293792725,5.9226484298706055,6.097442626953125,7.610073566436768,7.123754024505615,7.6747145652771,6.705363750457764,6.909207344055176,7.173192024230957,6.55405330657959,6.843721389770508,6.837256908416748,6.207825660705566,6.912815093994141,6.836511135101318,6.16827917098999,6.914101600646973,6.773935317993164,6.129718780517578,6.812591075897217,6.792083740234375,6.694544792175293,6.396407127380371,7.978854656219482,6.920563220977783,6.29160213470459,7.18571662902832,6.213397979736328,6.894268035888672,6.899282455444336,6.161107063293457,6.835701942443848,6.645557880401611,6.763756275177002,7.060813903808594,6.244710922241211,6.677367210388184,6.881270408630371,6.231535911560059,7.231766223907471,6.912601947784424,8.061478614807129,6.90679407119751,7.4607954025268555,6.987229824066162,7.088237762451172,7.203344345092773,6.661129474639893,6.756974697113037,5.583334922790527,7.044137954711914,7.189568042755127,6.531883239746094,7.138952255249023,6.8381547927856445,6.841454982757568,7.188436508178711,6.785458087921143,6.942431926727295,6.8799004554748535,6.861337184906006,6.463209629058838,6.5037760734558105,7.0804266929626465,6.595175266265869,7.0814337730407715,6.164468765258789,6.889816761016846,6.643492698669434,6.895395278930664,6.804945945739746,6.997454643249512,6.884223461151123,6.537264823913574,7.361586570739746,5.940435409545898,7.419427871704102,7.171480178833008,6.854186058044434,7.238397121429443,7.0648417472839355,6.719173431396484,6.863494873046875,6.637560844421387,7.400929927825928,7.52321720123291,8.609419822692871,7.128035068511963,5.859376430511475,6.863570690155029,6.547931671142578,6.766625881195068,6.569904327392578,7.357258319854736,7.639172077178955,6.94888973236084,6.7147016525268555,6.988887310028076,6.157018184661865,8.085205078125,7.066745281219482,6.198527812957764,6.755154132843018,7.666452407836914,7.238266468048096,8.097671508789062,7.294229984283447,6.886335849761963,6.820330619812012,6.389930725097656,7.358709335327148,6.685981273651123,7.083884239196777,6.8178629875183105,8.130789756774902,6.843364238739014,6.700068473815918,6.9052557945251465],\"y\":[-3.0755796432495117,-3.0604588985443115,-2.237490653991699,-4.745283603668213,-3.8475406169891357,-1.0816056728363037,-4.910934925079346,-4.831979751586914,-1.521531343460083,-5.044108867645264,-4.644067287445068,-5.017980575561523,-1.475176215171814,-2.5069029331207275,-2.827479124069214,-0.8431487679481506,-1.5944074392318726,-1.8102397918701172,-1.7408344745635986,-3.1409759521484375,-4.962100505828857,-1.8826913833618164,-2.5723979473114014,-4.527204990386963,-0.8675802946090698,-1.9866420030593872,-5.000941276550293,-3.2657878398895264,-4.748405933380127,-1.4966983795166016,-0.9287305474281311,-4.781210422515869,-1.5451228618621826,-3.498342514038086,-4.713339328765869,-0.9553096294403076,-4.389738082885742,-3.9234488010406494,-4.499086856842041,-1.5844168663024902,-2.0200772285461426,-1.9483784437179565,-3.5373966693878174,-4.830258846282959,-0.9174099564552307,-1.4877586364746094,-4.687065601348877,-4.399020195007324,-2.522306442260742,-4.39232063293457,-3.67113995552063,-4.593072891235352,-2.5114965438842773,-4.90672492980957,-4.7737884521484375,-1.8862261772155762,-1.5317939519882202,-1.5418590307235718,-1.590680718421936,-0.6057896614074707,-1.7256381511688232,-4.949460506439209,-0.8078919649124146,-3.756200075149536,-4.387714385986328,-2.0153846740722656,-1.867145299911499,-4.8789472579956055,-2.3116395473480225,-4.912583827972412,-1.8844950199127197,-4.890359878540039,-3.085705280303955,-3.021923542022705,-4.953688621520996,-4.436756610870361,-3.9261410236358643,-4.215493202209473,-4.312145709991455,-4.964503765106201,-4.438353538513184,-2.7335333824157715,-1.8250688314437866,-1.017332673072815,-4.690982818603516,-1.499419093132019,-4.336410999298096,-3.2915427684783936,-1.5545684099197388,-2.311213970184326,-2.0762178897857666,-1.810422658920288,-0.7572809457778931,-4.854334831237793,-1.965685248374939,-4.887151718139648,-3.645678758621216,-2.4948623180389404,-3.9016289710998535,-1.568912386894226,-3.414848566055298,-3.2438390254974365,-1.9872833490371704,-5.05553674697876,-1.925947666168213,-3.1611318588256836,-4.381053447723389,-1.5528696775436401,-4.430617332458496,-0.7514400482177734,-0.700452446937561,-4.2433905601501465,-2.5455284118652344,-4.800343036651611,-1.6872718334197998,-1.5792186260223389,-2.3964829444885254,-4.708181381225586,-1.7181288003921509,-1.7243741750717163,-0.829146683216095,-1.4943791627883911,-0.7493059635162354,-1.3360674381256104,-3.275167226791382,-2.311373233795166,-0.6776242852210999,-1.5285052061080933,-4.702583312988281,-1.6847022771835327,-1.404170036315918,-0.9182969927787781,-2.517627716064453,-2.908592700958252],\"type\":\"scattergl\"},{\"hoverinfo\":\"text\",\"hovertext\":[\"Very impacts full\",\"No comment\",\"Everything\",\"NA NA NA NA NA\",\"Nothing much\",\"i didnt like any thing in this organization\",\"Everything likes\",\"gfsvfsegre\",\"Nothing specifically to say here\",\"No reason\",\"No dislikes\",\"I like  my name is oriyomi omonla\",\"NO\",\"No more\",\"Yas\",\"Yes like, I am interested\",\"Super\",\"Nothings all is good Ok\",\"I don't like TVs\",\"All best\",\"No reason all best\",\"All Is Good\",\"Like But Not Good\",\"Nothing to dislike...\",\"Perfectly ok this working\",\"Not good for you to come\",\"No issue\",\"No problem\",\"All ok only investment required\",\"Nothing to say anything\",\"Nothing to like\",\"No dislike\",\"Nothing to feel bad about\",\"Worst\",\"Not any problem\",\"Nothing specificly bad to share\",\"Heartache\",\"All correct\",\"No anything\",\"Nothing specificly great to share\",\"Nothing to dislike in the organization\",\"All good\",\"No anything dislike\",\"no problem at all the best\",\"No specific dis like at this\",\"Good\",\"Yes\",\"Nothing to dislike\",\"Not applicable\",\"No 3fg\\nOnly side\",\"Nothing as such\",\"No\",\"Nothing much to say\",\"Nothing to say\",\"None None None None None\",\"Nothing like\",\"Nothing for Dislike\",\"I feel there is Nothing as such currently\",\"Nothing to dislike ke\",\"No Issue\",\"Not at all\",\"Nothing good to say\",\"All\",\"Yes I like . good behavior\",\"there is nothing to dislike\",\"Nothing to dislike about\",\"No, all ok and at good place\",\"Ok\",\"I am interested\",\"Nothing as of now\",\"No Comments\",\"Nothing is dislike\",\"Nothing\",null],\"marker\":{\"opacity\":0.5,\"size\":5},\"mode\":\"markers+text\",\"name\":\"1_dislike_like_na\",\"text\":[\"\",\"\",\"\",\"\",\"\",\"\",\"\",\"\",\"\",\"\",\"\",\"\",\"\",\"\",\"\",\"\",\"\",\"\",\"\",\"\",\"\",\"\",\"\",\"\",\"\",\"\",\"\",\"\",\"\",\"\",\"\",\"\",\"\",\"\",\"\",\"\",\"\",\"\",\"\",\"\",\"\",\"\",\"\",\"\",\"\",\"\",\"\",\"\",\"\",\"\",\"\",\"\",\"\",\"\",\"\",\"\",\"\",\"\",\"\",\"\",\"\",\"\",\"\",\"\",\"\",\"\",\"\",\"\",\"\",\"\",\"\",\"\",\"\",\"1_dislike_like_na\"],\"textfont\":{\"size\":12},\"x\":[3.3371152877807617,3.1613316535949707,3.3058218955993652,3.087775945663452,3.2819418907165527,2.1533255577087402,2.718207359313965,4.216556549072266,2.838550090789795,3.2196507453918457,2.193932056427002,5.763565540313721,3.4910058975219727,3.169576644897461,3.699824571609497,3.4411962032318115,3.8176772594451904,3.7024848461151123,2.1640570163726807,3.928424596786499,3.2274162769317627,4.104295253753662,2.839348077774048,2.2112298011779785,4.1579999923706055,3.6270782947540283,4.167079925537109,4.146700382232666,3.9270918369293213,2.944627523422241,2.7363874912261963,2.221144437789917,2.5465610027313232,3.7891297340393066,4.172733783721924,2.785414218902588,2.9418418407440186,4.056234359741211,3.2665138244628906,2.8929011821746826,2.137324333190918,4.090872287750244,2.2383358478546143,4.167537212371826,2.8026931285858154,3.8528294563293457,3.527165412902832,2.2076916694641113,9.192691802978516,3.6242499351501465,3.1678268909454346,3.4414703845977783,2.9267120361328125,2.952528476715088,3.2094333171844482,2.9100966453552246,2.24558687210083,3.318025827407837,2.209345579147339,4.185939311981201,3.571209669113159,2.9725489616394043,3.808943510055542,2.563544750213623,2.178542375564575,2.2285993099212646,3.6663639545440674,3.8035621643066406,3.5184326171875,3.2321627140045166,3.029167652130127,2.1962199211120605,3.203484535217285,3.3128068447113037],\"y\":[-2.0174994468688965,-1.8893402814865112,-1.91981840133667,-1.7170168161392212,-1.9880801439285278,-1.9765750169754028,-1.8708977699279785,-1.4348804950714111,-2.0350823402404785,-1.4886970520019531,-1.9619964361190796,-4.378049850463867,-1.1950769424438477,-1.716052770614624,-1.2498269081115723,-1.0716509819030762,-1.4037890434265137,-1.6532102823257446,-1.9529829025268555,-1.331150770187378,-1.479284644126892,-1.3509820699691772,-1.6315891742706299,-1.9603341817855835,-1.2723718881607056,-1.345275640487671,-1.1010833978652954,-1.1236457824707031,-1.5855814218521118,-2.0997767448425293,-1.8729740381240845,-1.9507886171340942,-1.8195528984069824,-1.3826210498809814,-1.1027477979660034,-1.9351081848144531,-1.7472081184387207,-1.1679916381835938,-1.848427653312683,-1.9503318071365356,-2.016674041748047,-1.166633129119873,-1.9249955415725708,-1.0946593284606934,-1.9574599266052246,-1.199263095855713,-1.1218152046203613,-1.9438477754592896,0.35449516773223877,-1.7284152507781982,-1.9070796966552734,-1.1663761138916016,-2.113212823867798,-2.089946985244751,-1.8292158842086792,-1.9016319513320923,-2.0282418727874756,-1.799758791923523,-1.964208722114563,-1.085943579673767,-1.5149425268173218,-2.1126108169555664,-1.3981260061264038,-1.5880049467086792,-1.9590681791305542,-1.9500011205673218,-1.5314383506774902,-1.1538281440734863,-1.1378657817840576,-1.8863248825073242,-2.0299417972564697,-1.9775822162628174,-1.9332475662231445,-1.6690030097961426],\"type\":\"scattergl\"},{\"hoverinfo\":\"text\",\"hovertext\":[\"Bajaj appliances company is a fake brand and value of all market because every one know company just fake commitment not give a salary to employes my 2 month salary r not given i am very frusted\",\"Bajaj appliances is a cheter company they r never give a salary they have working simple mantra 2 or 3 month they r giving only assurity but not give a salary after 2 or 3 month again hire a new employe\",\"Good experience i  think I'm good working any chance I'm come back Bajaj Electricals and finance\",\"Bajaj Electrical Canteen Is Worse....\",\"Good atmosphere bajaj group .\",\"Heard that bajaj culture was good but same time few employees are not satisfied because of uper management keep on changing and they are applying their rules\",\"Market value good and retailers demands all products by Bajaj electricals\",\"Bajaj working culture very good,\",\"Working ka koi time nahi hain\",\"No words tell about bajaj electricals Ltd.\",\"Bajaj electricals Directly not given by Dso payment and incentives\",\"SM tarchar  Anil Guggila he is doing \\nUse and throw ...\",\"All Bajaj staffs are good \\nSajid sir\\nSatish sir\\nBrijesh sir\",\"Bajaj is good company. if your boss is good then everything is fine\",\"Internal Politics , every day changing HR policies , compulsion of CSR, No Process & Documentation , No ,overall relocation to Navi Mumbai is costly\",\"In Bajaj Electricals we learn more to more and work hard & get good apprisal.\",\"Because im a electric technio\",\"Rahul Dhokale\",\"Bajaj electricals limited is a very good Company .\",\"Our distributor is so mean .he didn't give us our salary in time and didn't give food expense of our\",\"Bajaj working policy is best\",\"Excellent experience for Bajaj electrical\",\"All electrical repairing and waring\",\"Nothing wrong in Bajaj Electricals\",\"Bajaj Electricals is leader in market and work culture is very good.\",\"All DSO work in ground level but there salary is very poor.this is the very dislike matter of Bajaj Electricals.\",\"I have worked with Bajaj approx 3.5 years. Product quality is very poor, after sales service is very poor. My Customer is not satisfied with Bajaj. So I left Bajaj.\",\"Nothing to be disliked in Bajaj\",\"Bajaj Electrical Limited provides opportunities to Candidates to take higher challenges and prove them selves irrespective of their work experiences but based on their performance.\",\"Worst ever experience in Bajajelectricals.\",\"As a company is very good.but I am not a company person.I am in Bajaj in 4 years.I have so many target achieved.But company r not allow me by direct pay roll .I think I will perfect & I hope achieve the promotion as a pay roll of Bajaj Electricals.\",\"Bajaj Electricals is reputed company but some people like RH and other level management is poor very politic .\",\"Bajaj Electricals is good organisation in me and women candidates.\",\"ITI kiya hun electrician trade se kiya hun mera naam Akhilesh hai\",\"Working at Bajaj Electrical very good\",\"Culture at Bajaj is excellent.\",\"Bajaj electricals is best in design\",\"I have not any question to write about dislikes for bajaj electricals.\",\"It is very good thing making and it is name on all india.I am interested in bajaj electrical job.\",\"Work Culture at Bajaj is excellent\",\"All working related electrical project line i like very excelent because i was allrady doing work in bajaj project.\",\"No your are good job experience for bajaj electricals\",\"Mera naam Akhilesh hai\",\"Nothing to say negative about bajaj electricals\",\"U can't develop skills, and too much discrimination, and partiality. Job security is least, if you have any strong recommendation then only u will secure ur job in Bajaj\",\"Prementive maintenance utility mpcb motor star delta\",\"Bajaj is very good company for starting your career\",\"I like work culture of Bajaj electricals\",\"What attracts me the most that In Bajaj Electricals you can work here at any department if you are interested in changing the nature of you job, you can have transfer in marketing you can have transfer at any place in India suitable for you.\",null],\"marker\":{\"opacity\":0.5,\"size\":5},\"mode\":\"markers+text\",\"name\":\"2_bajaj_electricals_electrical\",\"text\":[\"\",\"\",\"\",\"\",\"\",\"\",\"\",\"\",\"\",\"\",\"\",\"\",\"\",\"\",\"\",\"\",\"\",\"\",\"\",\"\",\"\",\"\",\"\",\"\",\"\",\"\",\"\",\"\",\"\",\"\",\"\",\"\",\"\",\"\",\"\",\"\",\"\",\"\",\"\",\"\",\"\",\"\",\"\",\"\",\"\",\"\",\"\",\"\",\"\",\"2_bajaj_electricals_electrical\"],\"textfont\":{\"size\":12},\"x\":[7.069095611572266,7.049323558807373,6.832907199859619,6.376476764678955,6.824613094329834,7.1247992515563965,6.556180000305176,7.0976152420043945,6.439873218536377,6.446415901184082,6.464263439178467,6.410965442657471,7.1240458488464355,7.110229969024658,9.917238235473633,6.761226654052734,6.861116409301758,6.435704231262207,6.661099910736084,7.1128997802734375,7.064464569091797,6.60866641998291,6.664980411529541,6.397594451904297,6.980903148651123,6.730083465576172,7.0466766357421875,6.196213245391846,6.709271430969238,6.285835266113281,6.928959846496582,6.595078945159912,6.891916275024414,6.4782304763793945,6.781799793243408,7.106431484222412,6.505691051483154,6.351641654968262,6.8563714027404785,7.15491247177124,6.805182933807373,6.734196662902832,6.408492088317871,6.365138530731201,7.047293663024902,6.627195358276367,7.09707498550415,6.9536004066467285,6.904974460601807,6.8154072761535645],\"y\":[2.491834878921509,2.504286527633667,2.4663314819335938,2.6721980571746826,3.1128904819488525,3.0414342880249023,2.442020893096924,3.0049374103546143,1.540409803390503,2.7657740116119385,2.7776217460632324,1.5060443878173828,3.043135404586792,3.0809311866760254,-3.9646613597869873,2.556304454803467,2.5216007232666016,1.5786595344543457,2.6873691082000732,2.4156389236450195,3.054090976715088,2.753727912902832,2.5545966625213623,2.7391836643218994,2.7334747314453125,2.5755252838134766,2.9024484157562256,2.801556348800659,2.6163182258605957,2.618396520614624,2.633450746536255,2.6035780906677246,2.7089359760284424,1.660813808441162,2.6803932189941406,3.0375730991363525,2.688673734664917,2.722270965576172,2.558549165725708,3.0101757049560547,2.6304492950439453,2.44877552986145,1.559993863105774,2.7742233276367188,2.7942280769348145,2.7469024658203125,2.985142946243286,2.669856309890747,2.516016960144043,2.469879388809204],\"type\":\"scattergl\"},{\"hoverinfo\":\"text\",\"hovertext\":[\"Salary Credited to Late Very Month\",\"Not getting increment in salary\",\"Salary and benifits.\",\"Salary increment low\",\"The system regarding salary and other activities through IT is well placed\",\"Like work culture ,salary and expense on time and other benefits\",\"Apart from salary nothing good\",\"Flexible working, good employee welfare, excellent benefits, perfect work life balance\",\"There is a lot of politics and the management dose not address our issue salary is decent but career  growth is slow there is a bond of  two years before which you cannot resing .on the job training is not given to new joinees\",\"Best salary system\",\"Salary structure\",\"Some time apprisal not fact according to emp. Work\",\"good but salary not increase and growth also not there  . and overoll normal\",\"Timing salary\",\"Working in delhi regional branch.....cordial team......salary on time\",\"Salary in time\",\"Good salary, work timing, working culture.\",\"Salary and Other Benefits on time .\",\"Salary and benefits\",\"Salary in time.\\nGrowth as per performance.\",\"Timely salary\",\"On time salary, easy approach, work life balance\",\"Offrole employee not good salary and appriseal\",\"Pay structure and benefits are not tax friendly to employees.\",\"Work timeing\",\"Average increment per anual\",\"Very Good salary on time\",\"Work timing not set and salary not in range and without information cutting exta amount in salaries so many resons\",\"Salary growth zero% for contractual staff\",\"The salary may be negotiable if you are the favoured employee of your boss, otherwise, it may be wise to have a backup plan.\",\"Timely Salary & Annual Appraisal, Supportive collegues.\",\"Salary And Benefits\",\"Only the salary part is good\",\"Only Salary on time.\",\"Timely bounded salary and other expenses.\",\"According to me \\nThere was not good salary and benefits \\nfor any employee\",\"Payroll\",\"Every thing other than salary.\",null],\"marker\":{\"opacity\":0.5,\"size\":5},\"mode\":\"markers+text\",\"name\":\"3_salary_benefits_time\",\"text\":[\"\",\"\",\"\",\"\",\"\",\"\",\"\",\"\",\"\",\"\",\"\",\"\",\"\",\"\",\"\",\"\",\"\",\"\",\"\",\"\",\"\",\"\",\"\",\"\",\"\",\"\",\"\",\"\",\"\",\"\",\"\",\"\",\"\",\"\",\"\",\"\",\"\",\"\",\"3_salary_benefits_time\"],\"textfont\":{\"size\":12},\"x\":[10.498985290527344,10.790864944458008,10.809962272644043,10.741676330566406,10.78779411315918,10.678780555725098,10.489398002624512,9.607532501220703,10.425457954406738,10.8148832321167,10.830245971679688,9.881159782409668,10.448453903198242,10.374305725097656,10.412374496459961,10.526177406311035,10.46847152709961,10.419644355773926,10.754012107849121,10.568641662597656,10.41100025177002,10.10207748413086,10.111122131347656,10.243526458740234,9.718914985656738,10.792336463928223,10.422560691833496,10.562082290649414,10.691650390625,10.373611450195312,10.261022567749023,10.778839111328125,10.445897102355957,10.403182029724121,10.303255081176758,10.417610168457031,10.773140907287598,10.669720649719238,10.4686918258667],\"y\":[-1.2709475755691528,-1.4566479921340942,-2.162508726119995,-1.5320712327957153,-2.1219136714935303,-2.0430760383605957,-1.9409059286117554,-2.5577445030212402,-2.097064256668091,-2.081768035888672,-2.0258560180664062,-1.4095147848129272,-2.0137643814086914,-1.4075301885604858,-1.6066302061080933,-1.5503758192062378,-1.997746467590332,-1.567184567451477,-2.1199207305908203,-1.6814773082733154,-1.2916055917739868,-1.6652592420578003,-2.176072597503662,-2.2140793800354004,-1.4552894830703735,-1.377426028251648,-1.5339436531066895,-1.6090039014816284,-1.7417187690734863,-2.128218173980713,-1.3745765686035156,-2.145658016204834,-2.062506675720215,-1.4766439199447632,-1.410341739654541,-2.102786064147949,-2.346189022064209,-1.9225280284881592,-1.8073290586471558],\"type\":\"scattergl\"},{\"hoverinfo\":\"text\",\"hovertext\":[\"Company sales and new product  lunch and help full by achive sales rarget and incentives.\",\"Incentives plan\",\"Reference basis appraisals done in current scenario. If any one links and likes available in effective management.\",\"Promotions not after long time.\",\"Company based incentives & schemes for our target does not transfer by the end of the current month. It takes a lot of time  around 4 \\u002f5\\u002f6monthes  to be credit on our account.\",\"Personals Relation use for promotion or appraisal not for selected  as per Performance.\",\"Rate problem for market\",\"Not much scope for promotion and increment\",\"Due to off roll employees appraisal is poor.\",\"Promotion in appraisal process is very bad.\",\"Slow promotion\",\"Timely promotion not done.\",\"Timely appraisal but promotions issue\",\"Appraisal is required to be more transparent\",\"No encouragement and acknowledgment of hard work. They won't promote you inhouse\",\"Appraisals & Incentives\",\"Lack of support of management\\nBias system on appraisals cycle\\nNo 360 degree feedback and poor HR mngt\\nLast but not least favouritism works well here\",\"Promotion & increment is good.\",\"No Sales Incentive\",\"Appraisal process\",\"Appraisal politics.  appraisal is only for who do bucketting.\",\"Some of the legacy feature , appraisal process could be transparent\",\"Appraisal should involve HR also. \\nHybrid working option. Saturday off.\",\"Company promotion is so late\",\"opaque appraisals, poor HR communication and documentation\",\"No Work Life Balance \\nWorst HR experience in my 10 Year experience he never Responded \\nAppraisal purely Biased basis\",\"Promotions or Appraisal process is not good\",null],\"marker\":{\"opacity\":0.5,\"size\":5},\"mode\":\"markers+text\",\"name\":\"4_appraisal_promotion_appraisals\",\"text\":[\"\",\"\",\"\",\"\",\"\",\"\",\"\",\"\",\"\",\"\",\"\",\"\",\"\",\"\",\"\",\"\",\"\",\"\",\"\",\"\",\"\",\"\",\"\",\"\",\"\",\"\",\"\",\"4_appraisal_promotion_appraisals\"],\"textfont\":{\"size\":12},\"x\":[7.9792304039001465,8.22360897064209,9.83823299407959,9.249582290649414,9.241605758666992,9.614892959594727,8.855337142944336,9.265800476074219,9.718436241149902,9.683409690856934,9.187134742736816,9.234874725341797,9.527891159057617,9.93162727355957,9.129836082458496,9.749765396118164,9.810478210449219,9.258810997009277,8.157325744628906,9.835038185119629,9.781447410583496,9.829314231872559,9.856472969055176,9.227767944335938,9.887909889221191,9.847044944763184,9.6469144821167,9.391473770141602],\"y\":[-0.6558566689491272,-0.6056424975395203,0.5396890044212341,0.2316756695508957,0.13688763976097107,0.5608882904052734,0.30205264687538147,0.20685648918151855,0.44222110509872437,0.5281714797019958,0.2981226146221161,0.2412324994802475,0.4619075655937195,0.7523941993713379,0.034141309559345245,0.5847994685173035,0.621358335018158,0.19393883645534515,-0.5580264329910278,0.6362573504447937,0.6211776733398438,0.638001024723053,0.6003969311714172,0.2511805593967438,0.7062879800796509,0.6352620124816895,0.5249979496002197,0.33075451850891113],\"type\":\"scattergl\"},{\"hoverinfo\":\"text\",\"hovertext\":[\"Operational issues\",\"Lot to change about people management.\",\"Everything. No way recommended to anyone. All corrupted people ans sinior management\",\"Wast management , my career spoiled\",\"RM level not understand lower employee problems\",\"Lots of opportunities on crises management\",\"A lot of blame game keeps happening amongst departments and R&D is made the scapegoat\",\"Everything is Bad no Professional system, top management is all poor experience guys. Give importance to sycophancy and hypocrisy.\",\"staff of safety department is selfish, arrogant and disrespect supporting staff and employees\",\"Utilization of Management tarinee\",\"Portfolio management\",\"Company is doing fine at most of the fronts. Good potential and management is taking good risks to expand the business,\",\"No long term strategy, always panic.\",\"Uper Management ..........\",\"Poor mgmt no clear communication\",\"Taking care of employees\",\"Internal politics ,partialities with capable employees,present higher management are very bads\",\"Job satisfaction is low.....upper management is unaware of what's going on......a lot of long timers who seem to have zero accountability.....operates like a government organisation\",\"Managers need to understand the downline employee problem.\",\"Management  is not well\",\"Need realistic management\",\"Non responsive and relaxed upper management .\",\"Slow to responses . Management is unclear as far as long term strategy is concerned. Only focuses on short term gap fills.\",\"Some of non supportive staff in management.\",\"How to managing the employees\",null],\"marker\":{\"opacity\":0.5,\"size\":5},\"mode\":\"markers+text\",\"name\":\"5_management_term_long\",\"text\":[\"\",\"\",\"\",\"\",\"\",\"\",\"\",\"\",\"\",\"\",\"\",\"\",\"\",\"\",\"\",\"\",\"\",\"\",\"\",\"\",\"\",\"\",\"\",\"\",\"\",\"5_management_term_long\"],\"textfont\":{\"size\":12},\"x\":[9.142182350158691,9.155705451965332,9.363906860351562,9.010841369628906,9.393074035644531,8.981066703796387,9.367770195007324,9.316752433776855,9.342126846313477,9.392526626586914,8.987739562988281,8.663744926452637,8.694478034973145,9.100050926208496,8.859833717346191,9.559310913085938,9.018936157226562,9.316821098327637,9.398180961608887,9.056949615478516,9.015708923339844,9.160158157348633,8.668465614318848,9.211040496826172,9.327936172485352,9.140213012695312],\"y\":[-4.123581409454346,-4.138494491577148,-4.189180850982666,-3.962012529373169,-3.8881893157958984,-4.055203914642334,-3.837117910385132,-4.097838401794434,-3.7656521797180176,-4.070773124694824,-4.0692138671875,-3.8827998638153076,-3.8556246757507324,-4.00785493850708,-3.85644793510437,-3.8317413330078125,-4.3269524574279785,-3.812441349029541,-4.010506629943848,-3.9315173625946045,-4.093944549560547,-3.8768157958984375,-3.8327796459198,-3.7576417922973633,-4.0250773429870605,-3.9719760417938232],\"type\":\"scattergl\"},{\"hoverinfo\":\"text\",\"hovertext\":[\"Work life\\nNo business ethics \\nNot career oriented \\nNo future \\nNo promotions\\nPoor Managers\",\"Work Life balance\",\"Work cluture\",\"Good for worklife balance\",\"Work life balance is poor at site\",\"Ethical and straight forward\",\"Work pressure is very high & no work - life balance .\",\"Senior employees never listen abt the market condition ,never work in market with team.\",\"Not clarity about work most of time and layoff of not performer and not achieving\",\"Fund system at site is dull\",\"Less Opportunities to get other roles\",\"no value for work oriented persons\",\"Stable job\",\"Less Work , Less Tention . No Physical Stress\",\"No proper support from Marketing team\\nWork culture and work life balance is not in a good way\",\"Work life balance\",\"None good company work life balance\",\"Good growth opportunity\\nGreat leaders\\nScope for personal development\\nGood work life balance\",\"Work balance\",\"Less man power , more work load\",\"Good work life balance\",\"Less job security & work life balance, No Transperency in promotion.\",null],\"marker\":{\"opacity\":0.5,\"size\":5},\"mode\":\"markers+text\",\"name\":\"6_balance_life_work\",\"text\":[\"\",\"\",\"\",\"\",\"\",\"\",\"\",\"\",\"\",\"\",\"\",\"\",\"\",\"\",\"\",\"\",\"\",\"\",\"\",\"\",\"\",\"\",\"6_balance_life_work\"],\"textfont\":{\"size\":12},\"x\":[8.939919471740723,8.912073135375977,8.855740547180176,8.889174461364746,8.986576080322266,8.885910987854004,9.092650413513184,9.087532997131348,9.726548194885254,9.206002235412598,9.120296478271484,8.921686172485352,8.839479446411133,9.136394500732422,8.849023818969727,8.929535865783691,8.875652313232422,8.754874229431152,8.955808639526367,9.127657890319824,8.831766128540039,9.338960647583008,9.011966705322266],\"y\":[-2.660991668701172,-2.184282064437866,-1.882083535194397,-2.226525068283081,-2.188483953475952,-3.0065550804138184,-1.9413042068481445,-2.723790168762207,-1.7205411195755005,-2.2187182903289795,-3.018597364425659,-2.450284242630005,-2.3468618392944336,-2.2785840034484863,-2.438101291656494,-2.238781452178955,-2.3253543376922607,-2.541494846343994,-2.182828664779663,-2.3129987716674805,-2.270012140274048,-2.6742165088653564,-2.3559722900390625],\"type\":\"scattergl\"},{\"hoverinfo\":\"text\",\"hovertext\":[\"Continious change in policy\",\"Hr policy is very clear and skill oriented . Need to directly associated with bottom line employee.\",\"Good policy\",\"Policies & benefits\",\"Hr policy is very good .time to time salary provide by company.\",\"Their HR policies\",\"Work Target policy, Safety training, Good Behaviour to employee.\",\"HR policies \\nOffice Politics\",\"Too many changes in decisions\",\"Not much policies are changing frequently\",\"Company Policies\",\"HR policy and IT is good\",\"Company policy is very good in favor of employees\",\"Company Best  policy for employer.\",\"HR policies and there is flat structure. Even after having experience of 18 years, company is offering Manager position.\",\"Favouritism, no HR intervention. Hire and fire. No work ethics by people and still no action even when authorities know.\",\"You feel valued and that's the most important thing. The management constantly thrives to improve your working environment. The HR also reviews its policies to make it employee friendly. Most importantly the top management is easily accessible.\",\"Office politics is very much involved in the work culture, Some times you have to report in the same designation. Organisation structure is less effective. Your appraisal is completely depend that how much you can do buttering. You can be fired any time without any proper reason\\u002finvestigation. No job security at all\",\"Old company with stable growth good HR policies\",\"HR are least bothered for your concern\",\"I have worked 4 year 8 months in the power sector but i didn't understand company policy like management, increment, apprisal. I will never join this organization in future.\",null],\"marker\":{\"opacity\":0.5,\"size\":5},\"mode\":\"markers+text\",\"name\":\"7_hr_policy_policies\",\"text\":[\"\",\"\",\"\",\"\",\"\",\"\",\"\",\"\",\"\",\"\",\"\",\"\",\"\",\"\",\"\",\"\",\"\",\"\",\"\",\"\",\"\",\"7_hr_policy_policies\"],\"textfont\":{\"size\":12},\"x\":[10.340271949768066,10.349699974060059,10.409245491027832,10.460822105407715,10.364778518676758,10.336307525634766,10.700920104980469,10.132741928100586,10.108339309692383,10.341094970703125,10.48707103729248,10.416329383850098,10.503135681152344,10.462911605834961,10.37509822845459,10.107844352722168,10.132522583007812,9.89673900604248,10.39590072631836,10.204437255859375,10.453173637390137,10.332351684570312],\"y\":[-4.7182111740112305,-4.387017250061035,-4.6970062255859375,-4.623803615570068,-4.369544982910156,-4.354054927825928,-4.387443542480469,-4.362232685089111,-4.747430801391602,-4.699977874755859,-4.578495502471924,-4.446822166442871,-4.467466831207275,-4.453114986419678,-4.375525951385498,-4.209399223327637,-4.310585975646973,-4.339999198913574,-4.2674880027771,-4.333519458770752,-4.497976779937744,-4.458434104919434],\"type\":\"scattergl\"},{\"hoverinfo\":\"text\",\"hovertext\":[\"Politic and Face Promotion.\",\"Nepotism\",\"Politics\",\"Nothing full of politics n oiling atmosphere\",\"Internal politics is there and little bit favourism present .\",\"Politics, partiality\",\"Internal Politics\\nUnfair division of business units\\nAlmost 7 days weekly work\",\"Lot to learn. CEO\\u2019s and COO\\u2019s vision.\",\"A company of before independence\",\"Corporate Politics\",\"Politics .\\nI worked under drinkers and useless fellows.\",\"Politics of the company\",null],\"marker\":{\"opacity\":0.5,\"size\":5},\"mode\":\"markers+text\",\"name\":\"8_politics_internal_favourism\",\"text\":[\"\",\"\",\"\",\"\",\"\",\"\",\"\",\"\",\"\",\"\",\"\",\"\",\"8_politics_internal_favourism\"],\"textfont\":{\"size\":12},\"x\":[8.356874465942383,8.136247634887695,8.303302764892578,8.231436729431152,8.337708473205566,8.336527824401855,8.772481918334961,8.5834321975708,8.51572036743164,8.481980323791504,8.284990310668945,8.493276596069336,8.402831077575684],\"y\":[-4.827515125274658,-4.772817611694336,-4.842753887176514,-4.915231227874756,-4.846999168395996,-4.856337070465088,-4.577153205871582,-4.352644443511963,-4.697317600250244,-4.715100288391113,-4.833246231079102,-4.7029314041137695,-4.745004177093506],\"type\":\"scattergl\"}],                        {\"template\":{\"data\":{\"barpolar\":[{\"marker\":{\"line\":{\"color\":\"white\",\"width\":0.5},\"pattern\":{\"fillmode\":\"overlay\",\"size\":10,\"solidity\":0.2}},\"type\":\"barpolar\"}],\"bar\":[{\"error_x\":{\"color\":\"rgb(36,36,36)\"},\"error_y\":{\"color\":\"rgb(36,36,36)\"},\"marker\":{\"line\":{\"color\":\"white\",\"width\":0.5},\"pattern\":{\"fillmode\":\"overlay\",\"size\":10,\"solidity\":0.2}},\"type\":\"bar\"}],\"carpet\":[{\"aaxis\":{\"endlinecolor\":\"rgb(36,36,36)\",\"gridcolor\":\"white\",\"linecolor\":\"white\",\"minorgridcolor\":\"white\",\"startlinecolor\":\"rgb(36,36,36)\"},\"baxis\":{\"endlinecolor\":\"rgb(36,36,36)\",\"gridcolor\":\"white\",\"linecolor\":\"white\",\"minorgridcolor\":\"white\",\"startlinecolor\":\"rgb(36,36,36)\"},\"type\":\"carpet\"}],\"choropleth\":[{\"colorbar\":{\"outlinewidth\":1,\"tickcolor\":\"rgb(36,36,36)\",\"ticks\":\"outside\"},\"type\":\"choropleth\"}],\"contourcarpet\":[{\"colorbar\":{\"outlinewidth\":1,\"tickcolor\":\"rgb(36,36,36)\",\"ticks\":\"outside\"},\"type\":\"contourcarpet\"}],\"contour\":[{\"colorbar\":{\"outlinewidth\":1,\"tickcolor\":\"rgb(36,36,36)\",\"ticks\":\"outside\"},\"colorscale\":[[0.0,\"#440154\"],[0.1111111111111111,\"#482878\"],[0.2222222222222222,\"#3e4989\"],[0.3333333333333333,\"#31688e\"],[0.4444444444444444,\"#26828e\"],[0.5555555555555556,\"#1f9e89\"],[0.6666666666666666,\"#35b779\"],[0.7777777777777778,\"#6ece58\"],[0.8888888888888888,\"#b5de2b\"],[1.0,\"#fde725\"]],\"type\":\"contour\"}],\"heatmapgl\":[{\"colorbar\":{\"outlinewidth\":1,\"tickcolor\":\"rgb(36,36,36)\",\"ticks\":\"outside\"},\"colorscale\":[[0.0,\"#440154\"],[0.1111111111111111,\"#482878\"],[0.2222222222222222,\"#3e4989\"],[0.3333333333333333,\"#31688e\"],[0.4444444444444444,\"#26828e\"],[0.5555555555555556,\"#1f9e89\"],[0.6666666666666666,\"#35b779\"],[0.7777777777777778,\"#6ece58\"],[0.8888888888888888,\"#b5de2b\"],[1.0,\"#fde725\"]],\"type\":\"heatmapgl\"}],\"heatmap\":[{\"colorbar\":{\"outlinewidth\":1,\"tickcolor\":\"rgb(36,36,36)\",\"ticks\":\"outside\"},\"colorscale\":[[0.0,\"#440154\"],[0.1111111111111111,\"#482878\"],[0.2222222222222222,\"#3e4989\"],[0.3333333333333333,\"#31688e\"],[0.4444444444444444,\"#26828e\"],[0.5555555555555556,\"#1f9e89\"],[0.6666666666666666,\"#35b779\"],[0.7777777777777778,\"#6ece58\"],[0.8888888888888888,\"#b5de2b\"],[1.0,\"#fde725\"]],\"type\":\"heatmap\"}],\"histogram2dcontour\":[{\"colorbar\":{\"outlinewidth\":1,\"tickcolor\":\"rgb(36,36,36)\",\"ticks\":\"outside\"},\"colorscale\":[[0.0,\"#440154\"],[0.1111111111111111,\"#482878\"],[0.2222222222222222,\"#3e4989\"],[0.3333333333333333,\"#31688e\"],[0.4444444444444444,\"#26828e\"],[0.5555555555555556,\"#1f9e89\"],[0.6666666666666666,\"#35b779\"],[0.7777777777777778,\"#6ece58\"],[0.8888888888888888,\"#b5de2b\"],[1.0,\"#fde725\"]],\"type\":\"histogram2dcontour\"}],\"histogram2d\":[{\"colorbar\":{\"outlinewidth\":1,\"tickcolor\":\"rgb(36,36,36)\",\"ticks\":\"outside\"},\"colorscale\":[[0.0,\"#440154\"],[0.1111111111111111,\"#482878\"],[0.2222222222222222,\"#3e4989\"],[0.3333333333333333,\"#31688e\"],[0.4444444444444444,\"#26828e\"],[0.5555555555555556,\"#1f9e89\"],[0.6666666666666666,\"#35b779\"],[0.7777777777777778,\"#6ece58\"],[0.8888888888888888,\"#b5de2b\"],[1.0,\"#fde725\"]],\"type\":\"histogram2d\"}],\"histogram\":[{\"marker\":{\"line\":{\"color\":\"white\",\"width\":0.6}},\"type\":\"histogram\"}],\"mesh3d\":[{\"colorbar\":{\"outlinewidth\":1,\"tickcolor\":\"rgb(36,36,36)\",\"ticks\":\"outside\"},\"type\":\"mesh3d\"}],\"parcoords\":[{\"line\":{\"colorbar\":{\"outlinewidth\":1,\"tickcolor\":\"rgb(36,36,36)\",\"ticks\":\"outside\"}},\"type\":\"parcoords\"}],\"pie\":[{\"automargin\":true,\"type\":\"pie\"}],\"scatter3d\":[{\"line\":{\"colorbar\":{\"outlinewidth\":1,\"tickcolor\":\"rgb(36,36,36)\",\"ticks\":\"outside\"}},\"marker\":{\"colorbar\":{\"outlinewidth\":1,\"tickcolor\":\"rgb(36,36,36)\",\"ticks\":\"outside\"}},\"type\":\"scatter3d\"}],\"scattercarpet\":[{\"marker\":{\"colorbar\":{\"outlinewidth\":1,\"tickcolor\":\"rgb(36,36,36)\",\"ticks\":\"outside\"}},\"type\":\"scattercarpet\"}],\"scattergeo\":[{\"marker\":{\"colorbar\":{\"outlinewidth\":1,\"tickcolor\":\"rgb(36,36,36)\",\"ticks\":\"outside\"}},\"type\":\"scattergeo\"}],\"scattergl\":[{\"marker\":{\"colorbar\":{\"outlinewidth\":1,\"tickcolor\":\"rgb(36,36,36)\",\"ticks\":\"outside\"}},\"type\":\"scattergl\"}],\"scattermapbox\":[{\"marker\":{\"colorbar\":{\"outlinewidth\":1,\"tickcolor\":\"rgb(36,36,36)\",\"ticks\":\"outside\"}},\"type\":\"scattermapbox\"}],\"scatterpolargl\":[{\"marker\":{\"colorbar\":{\"outlinewidth\":1,\"tickcolor\":\"rgb(36,36,36)\",\"ticks\":\"outside\"}},\"type\":\"scatterpolargl\"}],\"scatterpolar\":[{\"marker\":{\"colorbar\":{\"outlinewidth\":1,\"tickcolor\":\"rgb(36,36,36)\",\"ticks\":\"outside\"}},\"type\":\"scatterpolar\"}],\"scatter\":[{\"fillpattern\":{\"fillmode\":\"overlay\",\"size\":10,\"solidity\":0.2},\"type\":\"scatter\"}],\"scatterternary\":[{\"marker\":{\"colorbar\":{\"outlinewidth\":1,\"tickcolor\":\"rgb(36,36,36)\",\"ticks\":\"outside\"}},\"type\":\"scatterternary\"}],\"surface\":[{\"colorbar\":{\"outlinewidth\":1,\"tickcolor\":\"rgb(36,36,36)\",\"ticks\":\"outside\"},\"colorscale\":[[0.0,\"#440154\"],[0.1111111111111111,\"#482878\"],[0.2222222222222222,\"#3e4989\"],[0.3333333333333333,\"#31688e\"],[0.4444444444444444,\"#26828e\"],[0.5555555555555556,\"#1f9e89\"],[0.6666666666666666,\"#35b779\"],[0.7777777777777778,\"#6ece58\"],[0.8888888888888888,\"#b5de2b\"],[1.0,\"#fde725\"]],\"type\":\"surface\"}],\"table\":[{\"cells\":{\"fill\":{\"color\":\"rgb(237,237,237)\"},\"line\":{\"color\":\"white\"}},\"header\":{\"fill\":{\"color\":\"rgb(217,217,217)\"},\"line\":{\"color\":\"white\"}},\"type\":\"table\"}]},\"layout\":{\"annotationdefaults\":{\"arrowhead\":0,\"arrowwidth\":1},\"autotypenumbers\":\"strict\",\"coloraxis\":{\"colorbar\":{\"outlinewidth\":1,\"tickcolor\":\"rgb(36,36,36)\",\"ticks\":\"outside\"}},\"colorscale\":{\"diverging\":[[0.0,\"rgb(103,0,31)\"],[0.1,\"rgb(178,24,43)\"],[0.2,\"rgb(214,96,77)\"],[0.3,\"rgb(244,165,130)\"],[0.4,\"rgb(253,219,199)\"],[0.5,\"rgb(247,247,247)\"],[0.6,\"rgb(209,229,240)\"],[0.7,\"rgb(146,197,222)\"],[0.8,\"rgb(67,147,195)\"],[0.9,\"rgb(33,102,172)\"],[1.0,\"rgb(5,48,97)\"]],\"sequential\":[[0.0,\"#440154\"],[0.1111111111111111,\"#482878\"],[0.2222222222222222,\"#3e4989\"],[0.3333333333333333,\"#31688e\"],[0.4444444444444444,\"#26828e\"],[0.5555555555555556,\"#1f9e89\"],[0.6666666666666666,\"#35b779\"],[0.7777777777777778,\"#6ece58\"],[0.8888888888888888,\"#b5de2b\"],[1.0,\"#fde725\"]],\"sequentialminus\":[[0.0,\"#440154\"],[0.1111111111111111,\"#482878\"],[0.2222222222222222,\"#3e4989\"],[0.3333333333333333,\"#31688e\"],[0.4444444444444444,\"#26828e\"],[0.5555555555555556,\"#1f9e89\"],[0.6666666666666666,\"#35b779\"],[0.7777777777777778,\"#6ece58\"],[0.8888888888888888,\"#b5de2b\"],[1.0,\"#fde725\"]]},\"colorway\":[\"#1F77B4\",\"#FF7F0E\",\"#2CA02C\",\"#D62728\",\"#9467BD\",\"#8C564B\",\"#E377C2\",\"#7F7F7F\",\"#BCBD22\",\"#17BECF\"],\"font\":{\"color\":\"rgb(36,36,36)\"},\"geo\":{\"bgcolor\":\"white\",\"lakecolor\":\"white\",\"landcolor\":\"white\",\"showlakes\":true,\"showland\":true,\"subunitcolor\":\"white\"},\"hoverlabel\":{\"align\":\"left\"},\"hovermode\":\"closest\",\"mapbox\":{\"style\":\"light\"},\"paper_bgcolor\":\"white\",\"plot_bgcolor\":\"white\",\"polar\":{\"angularaxis\":{\"gridcolor\":\"rgb(232,232,232)\",\"linecolor\":\"rgb(36,36,36)\",\"showgrid\":false,\"showline\":true,\"ticks\":\"outside\"},\"bgcolor\":\"white\",\"radialaxis\":{\"gridcolor\":\"rgb(232,232,232)\",\"linecolor\":\"rgb(36,36,36)\",\"showgrid\":false,\"showline\":true,\"ticks\":\"outside\"}},\"scene\":{\"xaxis\":{\"backgroundcolor\":\"white\",\"gridcolor\":\"rgb(232,232,232)\",\"gridwidth\":2,\"linecolor\":\"rgb(36,36,36)\",\"showbackground\":true,\"showgrid\":false,\"showline\":true,\"ticks\":\"outside\",\"zeroline\":false,\"zerolinecolor\":\"rgb(36,36,36)\"},\"yaxis\":{\"backgroundcolor\":\"white\",\"gridcolor\":\"rgb(232,232,232)\",\"gridwidth\":2,\"linecolor\":\"rgb(36,36,36)\",\"showbackground\":true,\"showgrid\":false,\"showline\":true,\"ticks\":\"outside\",\"zeroline\":false,\"zerolinecolor\":\"rgb(36,36,36)\"},\"zaxis\":{\"backgroundcolor\":\"white\",\"gridcolor\":\"rgb(232,232,232)\",\"gridwidth\":2,\"linecolor\":\"rgb(36,36,36)\",\"showbackground\":true,\"showgrid\":false,\"showline\":true,\"ticks\":\"outside\",\"zeroline\":false,\"zerolinecolor\":\"rgb(36,36,36)\"}},\"shapedefaults\":{\"fillcolor\":\"black\",\"line\":{\"width\":0},\"opacity\":0.3},\"ternary\":{\"aaxis\":{\"gridcolor\":\"rgb(232,232,232)\",\"linecolor\":\"rgb(36,36,36)\",\"showgrid\":false,\"showline\":true,\"ticks\":\"outside\"},\"baxis\":{\"gridcolor\":\"rgb(232,232,232)\",\"linecolor\":\"rgb(36,36,36)\",\"showgrid\":false,\"showline\":true,\"ticks\":\"outside\"},\"bgcolor\":\"white\",\"caxis\":{\"gridcolor\":\"rgb(232,232,232)\",\"linecolor\":\"rgb(36,36,36)\",\"showgrid\":false,\"showline\":true,\"ticks\":\"outside\"}},\"title\":{\"x\":0.05},\"xaxis\":{\"automargin\":true,\"gridcolor\":\"rgb(232,232,232)\",\"linecolor\":\"rgb(36,36,36)\",\"showgrid\":false,\"showline\":true,\"ticks\":\"outside\",\"title\":{\"standoff\":15},\"zeroline\":false,\"zerolinecolor\":\"rgb(36,36,36)\"},\"yaxis\":{\"automargin\":true,\"gridcolor\":\"rgb(232,232,232)\",\"linecolor\":\"rgb(36,36,36)\",\"showgrid\":false,\"showline\":true,\"ticks\":\"outside\",\"title\":{\"standoff\":15},\"zeroline\":false,\"zerolinecolor\":\"rgb(36,36,36)\"}}},\"shapes\":[{\"line\":{\"color\":\"#CFD8DC\",\"width\":2},\"type\":\"line\",\"x0\":7.516747379302978,\"x1\":7.516747379302978,\"y0\":-5.8138672590255736,\"y1\":3.5798240542411803},{\"line\":{\"color\":\"#9E9E9E\",\"width\":2},\"type\":\"line\",\"x0\":1.8167256832122802,\"x1\":13.216769075393676,\"y0\":-1.1170216023921966,\"y1\":-1.1170216023921966}],\"annotations\":[{\"showarrow\":false,\"text\":\"D1\",\"x\":1.8167256832122802,\"y\":-1.1170216023921966,\"yshift\":10},{\"showarrow\":false,\"text\":\"D2\",\"x\":7.516747379302978,\"xshift\":10,\"y\":3.5798240542411803}],\"title\":{\"font\":{\"size\":22,\"color\":\"Black\"},\"text\":\"\\u003cb\\u003eDocuments and Topics\\u003c\\u002fb\\u003e\",\"x\":0.5,\"xanchor\":\"center\",\"yanchor\":\"top\"},\"width\":1200,\"height\":750,\"xaxis\":{\"visible\":false},\"yaxis\":{\"visible\":false}},                        {\"responsive\": true}                    ).then(function(){\n",
       "                            \n",
       "var gd = document.getElementById('b33e38a7-f273-45fe-833e-5781134a709d');\n",
       "var x = new MutationObserver(function (mutations, observer) {{\n",
       "        var display = window.getComputedStyle(gd).display;\n",
       "        if (!display || display === 'none') {{\n",
       "            console.log([gd, 'removed!']);\n",
       "            Plotly.purge(gd);\n",
       "            observer.disconnect();\n",
       "        }}\n",
       "}});\n",
       "\n",
       "// Listen for the removal of the full notebook cells\n",
       "var notebookContainer = gd.closest('#notebook-container');\n",
       "if (notebookContainer) {{\n",
       "    x.observe(notebookContainer, {childList: true});\n",
       "}}\n",
       "\n",
       "// Listen for the clearing of the current output cell\n",
       "var outputEl = gd.closest('.output');\n",
       "if (outputEl) {{\n",
       "    x.observe(outputEl, {childList: true});\n",
       "}}\n",
       "\n",
       "                        })                };                });            </script>        </div>"
      ]
     },
     "metadata": {},
     "output_type": "display_data"
    }
   ],
   "source": [
    "model.visualize_documents(docs, reduced_embeddings=reduced_embeddings)"
   ]
  },
  {
   "cell_type": "code",
   "execution_count": 7,
   "metadata": {},
   "outputs": [],
   "source": [
    "fig = model.visualize_documents(docs, reduced_embeddings=reduced_embeddings)"
   ]
  },
  {
   "cell_type": "code",
   "execution_count": 8,
   "metadata": {},
   "outputs": [],
   "source": [
    "import plotly.io as pio\n",
    "file_path = \"/teamspace/studios/this_studio/nlp-hr-feedback/training_pipeline/topic_modeling/topic_modeling/datasets/img.png\"\n",
    "pio.write_image(fig, file_path, format='png')"
   ]
  }
 ],
 "metadata": {
  "language_info": {
   "name": "python"
  }
 },
 "nbformat": 4,
 "nbformat_minor": 2
}
